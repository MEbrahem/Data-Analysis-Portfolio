{
 "cells": [
  {
   "cell_type": "markdown",
   "id": "cad4b60c",
   "metadata": {},
   "source": [
    "The rows in the dataset represent patients and the columns represent information like body measurements, results from various blood tests, and lifestyle choices. You will use the dataset to explore the relationship between cardiac disease, body measurements, blood markers, and lifestyle choices.\n",
    "\n",
    "File name: medical_examination.csv"
   ]
  },
  {
   "cell_type": "code",
   "execution_count": 1,
   "id": "6017cc4c",
   "metadata": {},
   "outputs": [],
   "source": [
    "import numpy as np\n",
    "import pandas as pd\n",
    "import matplotlib.pyplot as plt"
   ]
  },
  {
   "cell_type": "code",
   "execution_count": 2,
   "id": "b8e105e7",
   "metadata": {},
   "outputs": [],
   "source": [
    "medical_df=pd.read_csv('medical_examination.csv',\n",
    "                      index_col=[0])"
   ]
  },
  {
   "cell_type": "code",
   "execution_count": 3,
   "id": "946f37f2",
   "metadata": {},
   "outputs": [
    {
     "data": {
      "text/html": [
       "<div>\n",
       "<style scoped>\n",
       "    .dataframe tbody tr th:only-of-type {\n",
       "        vertical-align: middle;\n",
       "    }\n",
       "\n",
       "    .dataframe tbody tr th {\n",
       "        vertical-align: top;\n",
       "    }\n",
       "\n",
       "    .dataframe thead th {\n",
       "        text-align: right;\n",
       "    }\n",
       "</style>\n",
       "<table border=\"1\" class=\"dataframe\">\n",
       "  <thead>\n",
       "    <tr style=\"text-align: right;\">\n",
       "      <th></th>\n",
       "      <th>age</th>\n",
       "      <th>sex</th>\n",
       "      <th>height</th>\n",
       "      <th>weight</th>\n",
       "      <th>ap_hi</th>\n",
       "      <th>ap_lo</th>\n",
       "      <th>cholesterol</th>\n",
       "      <th>gluc</th>\n",
       "      <th>smoke</th>\n",
       "      <th>alco</th>\n",
       "      <th>active</th>\n",
       "      <th>cardio</th>\n",
       "    </tr>\n",
       "    <tr>\n",
       "      <th>id</th>\n",
       "      <th></th>\n",
       "      <th></th>\n",
       "      <th></th>\n",
       "      <th></th>\n",
       "      <th></th>\n",
       "      <th></th>\n",
       "      <th></th>\n",
       "      <th></th>\n",
       "      <th></th>\n",
       "      <th></th>\n",
       "      <th></th>\n",
       "      <th></th>\n",
       "    </tr>\n",
       "  </thead>\n",
       "  <tbody>\n",
       "    <tr>\n",
       "      <th>0</th>\n",
       "      <td>18393</td>\n",
       "      <td>2</td>\n",
       "      <td>168</td>\n",
       "      <td>62.0</td>\n",
       "      <td>110</td>\n",
       "      <td>80</td>\n",
       "      <td>1</td>\n",
       "      <td>1</td>\n",
       "      <td>0</td>\n",
       "      <td>0</td>\n",
       "      <td>1</td>\n",
       "      <td>0</td>\n",
       "    </tr>\n",
       "    <tr>\n",
       "      <th>1</th>\n",
       "      <td>20228</td>\n",
       "      <td>1</td>\n",
       "      <td>156</td>\n",
       "      <td>85.0</td>\n",
       "      <td>140</td>\n",
       "      <td>90</td>\n",
       "      <td>3</td>\n",
       "      <td>1</td>\n",
       "      <td>0</td>\n",
       "      <td>0</td>\n",
       "      <td>1</td>\n",
       "      <td>1</td>\n",
       "    </tr>\n",
       "    <tr>\n",
       "      <th>2</th>\n",
       "      <td>18857</td>\n",
       "      <td>1</td>\n",
       "      <td>165</td>\n",
       "      <td>64.0</td>\n",
       "      <td>130</td>\n",
       "      <td>70</td>\n",
       "      <td>3</td>\n",
       "      <td>1</td>\n",
       "      <td>0</td>\n",
       "      <td>0</td>\n",
       "      <td>0</td>\n",
       "      <td>1</td>\n",
       "    </tr>\n",
       "    <tr>\n",
       "      <th>3</th>\n",
       "      <td>17623</td>\n",
       "      <td>2</td>\n",
       "      <td>169</td>\n",
       "      <td>82.0</td>\n",
       "      <td>150</td>\n",
       "      <td>100</td>\n",
       "      <td>1</td>\n",
       "      <td>1</td>\n",
       "      <td>0</td>\n",
       "      <td>0</td>\n",
       "      <td>1</td>\n",
       "      <td>1</td>\n",
       "    </tr>\n",
       "    <tr>\n",
       "      <th>4</th>\n",
       "      <td>17474</td>\n",
       "      <td>1</td>\n",
       "      <td>156</td>\n",
       "      <td>56.0</td>\n",
       "      <td>100</td>\n",
       "      <td>60</td>\n",
       "      <td>1</td>\n",
       "      <td>1</td>\n",
       "      <td>0</td>\n",
       "      <td>0</td>\n",
       "      <td>0</td>\n",
       "      <td>0</td>\n",
       "    </tr>\n",
       "  </tbody>\n",
       "</table>\n",
       "</div>"
      ],
      "text/plain": [
       "      age  sex  height  weight  ap_hi  ap_lo  cholesterol  gluc  smoke  alco  \\\n",
       "id                                                                             \n",
       "0   18393    2     168    62.0    110     80            1     1      0     0   \n",
       "1   20228    1     156    85.0    140     90            3     1      0     0   \n",
       "2   18857    1     165    64.0    130     70            3     1      0     0   \n",
       "3   17623    2     169    82.0    150    100            1     1      0     0   \n",
       "4   17474    1     156    56.0    100     60            1     1      0     0   \n",
       "\n",
       "    active  cardio  \n",
       "id                  \n",
       "0        1       0  \n",
       "1        1       1  \n",
       "2        0       1  \n",
       "3        1       1  \n",
       "4        0       0  "
      ]
     },
     "execution_count": 3,
     "metadata": {},
     "output_type": "execute_result"
    }
   ],
   "source": [
    "medical_df.head()"
   ]
  },
  {
   "cell_type": "markdown",
   "id": "019fbb90",
   "metadata": {},
   "source": [
    "### Create a chart similar to where we show the counts of good and bad outcomes for the cholesterol, gluc, alco, active, and smoke variables for patients with cardio=1 and cardio=0 in different panels."
   ]
  },
  {
   "cell_type": "markdown",
   "id": "69a1a5be",
   "metadata": {},
   "source": [
    "###### 1- Add an overweight column to the data. To determine if a person is overweight, first calculate their BMI by dividing their weight in kilograms by the square of their height in meters. If that value is > 25 then the person is overweight. Use the value 0 for NOT overweight and the value 1 for overweight."
   ]
  },
  {
   "cell_type": "code",
   "execution_count": 4,
   "id": "552e9b03",
   "metadata": {},
   "outputs": [],
   "source": [
    "medical_df['Overweight']=medical_df['weight']/(pow(medical_df['height']/100,2))>25\n",
    "medical_df['Overweight']=medical_df[\"Overweight\"].replace([False,True],[0,1])"
   ]
  },
  {
   "cell_type": "code",
   "execution_count": 5,
   "id": "ffcec4de",
   "metadata": {},
   "outputs": [
    {
     "data": {
      "text/html": [
       "<div>\n",
       "<style scoped>\n",
       "    .dataframe tbody tr th:only-of-type {\n",
       "        vertical-align: middle;\n",
       "    }\n",
       "\n",
       "    .dataframe tbody tr th {\n",
       "        vertical-align: top;\n",
       "    }\n",
       "\n",
       "    .dataframe thead th {\n",
       "        text-align: right;\n",
       "    }\n",
       "</style>\n",
       "<table border=\"1\" class=\"dataframe\">\n",
       "  <thead>\n",
       "    <tr style=\"text-align: right;\">\n",
       "      <th></th>\n",
       "      <th>age</th>\n",
       "      <th>sex</th>\n",
       "      <th>height</th>\n",
       "      <th>weight</th>\n",
       "      <th>ap_hi</th>\n",
       "      <th>ap_lo</th>\n",
       "      <th>cholesterol</th>\n",
       "      <th>gluc</th>\n",
       "      <th>smoke</th>\n",
       "      <th>alco</th>\n",
       "      <th>active</th>\n",
       "      <th>cardio</th>\n",
       "      <th>Overweight</th>\n",
       "    </tr>\n",
       "    <tr>\n",
       "      <th>id</th>\n",
       "      <th></th>\n",
       "      <th></th>\n",
       "      <th></th>\n",
       "      <th></th>\n",
       "      <th></th>\n",
       "      <th></th>\n",
       "      <th></th>\n",
       "      <th></th>\n",
       "      <th></th>\n",
       "      <th></th>\n",
       "      <th></th>\n",
       "      <th></th>\n",
       "      <th></th>\n",
       "    </tr>\n",
       "  </thead>\n",
       "  <tbody>\n",
       "    <tr>\n",
       "      <th>0</th>\n",
       "      <td>18393</td>\n",
       "      <td>2</td>\n",
       "      <td>168</td>\n",
       "      <td>62.0</td>\n",
       "      <td>110</td>\n",
       "      <td>80</td>\n",
       "      <td>1</td>\n",
       "      <td>1</td>\n",
       "      <td>0</td>\n",
       "      <td>0</td>\n",
       "      <td>1</td>\n",
       "      <td>0</td>\n",
       "      <td>0</td>\n",
       "    </tr>\n",
       "    <tr>\n",
       "      <th>1</th>\n",
       "      <td>20228</td>\n",
       "      <td>1</td>\n",
       "      <td>156</td>\n",
       "      <td>85.0</td>\n",
       "      <td>140</td>\n",
       "      <td>90</td>\n",
       "      <td>3</td>\n",
       "      <td>1</td>\n",
       "      <td>0</td>\n",
       "      <td>0</td>\n",
       "      <td>1</td>\n",
       "      <td>1</td>\n",
       "      <td>1</td>\n",
       "    </tr>\n",
       "    <tr>\n",
       "      <th>2</th>\n",
       "      <td>18857</td>\n",
       "      <td>1</td>\n",
       "      <td>165</td>\n",
       "      <td>64.0</td>\n",
       "      <td>130</td>\n",
       "      <td>70</td>\n",
       "      <td>3</td>\n",
       "      <td>1</td>\n",
       "      <td>0</td>\n",
       "      <td>0</td>\n",
       "      <td>0</td>\n",
       "      <td>1</td>\n",
       "      <td>0</td>\n",
       "    </tr>\n",
       "    <tr>\n",
       "      <th>3</th>\n",
       "      <td>17623</td>\n",
       "      <td>2</td>\n",
       "      <td>169</td>\n",
       "      <td>82.0</td>\n",
       "      <td>150</td>\n",
       "      <td>100</td>\n",
       "      <td>1</td>\n",
       "      <td>1</td>\n",
       "      <td>0</td>\n",
       "      <td>0</td>\n",
       "      <td>1</td>\n",
       "      <td>1</td>\n",
       "      <td>1</td>\n",
       "    </tr>\n",
       "    <tr>\n",
       "      <th>4</th>\n",
       "      <td>17474</td>\n",
       "      <td>1</td>\n",
       "      <td>156</td>\n",
       "      <td>56.0</td>\n",
       "      <td>100</td>\n",
       "      <td>60</td>\n",
       "      <td>1</td>\n",
       "      <td>1</td>\n",
       "      <td>0</td>\n",
       "      <td>0</td>\n",
       "      <td>0</td>\n",
       "      <td>0</td>\n",
       "      <td>0</td>\n",
       "    </tr>\n",
       "  </tbody>\n",
       "</table>\n",
       "</div>"
      ],
      "text/plain": [
       "      age  sex  height  weight  ap_hi  ap_lo  cholesterol  gluc  smoke  alco  \\\n",
       "id                                                                             \n",
       "0   18393    2     168    62.0    110     80            1     1      0     0   \n",
       "1   20228    1     156    85.0    140     90            3     1      0     0   \n",
       "2   18857    1     165    64.0    130     70            3     1      0     0   \n",
       "3   17623    2     169    82.0    150    100            1     1      0     0   \n",
       "4   17474    1     156    56.0    100     60            1     1      0     0   \n",
       "\n",
       "    active  cardio  Overweight  \n",
       "id                              \n",
       "0        1       0           0  \n",
       "1        1       1           1  \n",
       "2        0       1           0  \n",
       "3        1       1           1  \n",
       "4        0       0           0  "
      ]
     },
     "execution_count": 5,
     "metadata": {},
     "output_type": "execute_result"
    }
   ],
   "source": [
    "medical_df.head()"
   ]
  },
  {
   "cell_type": "markdown",
   "id": "7812df60",
   "metadata": {},
   "source": [
    "###### 2- Normalize the data by making 0 always good and 1 always bad. If the value of cholesterol or gluc is 1, make the value 0. If the value is more than 1, make the value 1."
   ]
  },
  {
   "cell_type": "code",
   "execution_count": 6,
   "id": "ca400769",
   "metadata": {},
   "outputs": [],
   "source": [
    "medical_df[['cholesterol','gluc']]=medical_df[['cholesterol','gluc']].replace(1,0)\n",
    "medical_df[['cholesterol','gluc']]=medical_df[['cholesterol','gluc']].replace([2,3],1)"
   ]
  },
  {
   "cell_type": "code",
   "execution_count": 7,
   "id": "b4ae2095",
   "metadata": {},
   "outputs": [
    {
     "data": {
      "text/html": [
       "<div>\n",
       "<style scoped>\n",
       "    .dataframe tbody tr th:only-of-type {\n",
       "        vertical-align: middle;\n",
       "    }\n",
       "\n",
       "    .dataframe tbody tr th {\n",
       "        vertical-align: top;\n",
       "    }\n",
       "\n",
       "    .dataframe thead th {\n",
       "        text-align: right;\n",
       "    }\n",
       "</style>\n",
       "<table border=\"1\" class=\"dataframe\">\n",
       "  <thead>\n",
       "    <tr style=\"text-align: right;\">\n",
       "      <th></th>\n",
       "      <th>age</th>\n",
       "      <th>sex</th>\n",
       "      <th>height</th>\n",
       "      <th>weight</th>\n",
       "      <th>ap_hi</th>\n",
       "      <th>ap_lo</th>\n",
       "      <th>cholesterol</th>\n",
       "      <th>gluc</th>\n",
       "      <th>smoke</th>\n",
       "      <th>alco</th>\n",
       "      <th>active</th>\n",
       "      <th>cardio</th>\n",
       "      <th>Overweight</th>\n",
       "    </tr>\n",
       "    <tr>\n",
       "      <th>id</th>\n",
       "      <th></th>\n",
       "      <th></th>\n",
       "      <th></th>\n",
       "      <th></th>\n",
       "      <th></th>\n",
       "      <th></th>\n",
       "      <th></th>\n",
       "      <th></th>\n",
       "      <th></th>\n",
       "      <th></th>\n",
       "      <th></th>\n",
       "      <th></th>\n",
       "      <th></th>\n",
       "    </tr>\n",
       "  </thead>\n",
       "  <tbody>\n",
       "    <tr>\n",
       "      <th>0</th>\n",
       "      <td>18393</td>\n",
       "      <td>2</td>\n",
       "      <td>168</td>\n",
       "      <td>62.0</td>\n",
       "      <td>110</td>\n",
       "      <td>80</td>\n",
       "      <td>0</td>\n",
       "      <td>0</td>\n",
       "      <td>0</td>\n",
       "      <td>0</td>\n",
       "      <td>1</td>\n",
       "      <td>0</td>\n",
       "      <td>0</td>\n",
       "    </tr>\n",
       "    <tr>\n",
       "      <th>1</th>\n",
       "      <td>20228</td>\n",
       "      <td>1</td>\n",
       "      <td>156</td>\n",
       "      <td>85.0</td>\n",
       "      <td>140</td>\n",
       "      <td>90</td>\n",
       "      <td>1</td>\n",
       "      <td>0</td>\n",
       "      <td>0</td>\n",
       "      <td>0</td>\n",
       "      <td>1</td>\n",
       "      <td>1</td>\n",
       "      <td>1</td>\n",
       "    </tr>\n",
       "    <tr>\n",
       "      <th>2</th>\n",
       "      <td>18857</td>\n",
       "      <td>1</td>\n",
       "      <td>165</td>\n",
       "      <td>64.0</td>\n",
       "      <td>130</td>\n",
       "      <td>70</td>\n",
       "      <td>1</td>\n",
       "      <td>0</td>\n",
       "      <td>0</td>\n",
       "      <td>0</td>\n",
       "      <td>0</td>\n",
       "      <td>1</td>\n",
       "      <td>0</td>\n",
       "    </tr>\n",
       "    <tr>\n",
       "      <th>3</th>\n",
       "      <td>17623</td>\n",
       "      <td>2</td>\n",
       "      <td>169</td>\n",
       "      <td>82.0</td>\n",
       "      <td>150</td>\n",
       "      <td>100</td>\n",
       "      <td>0</td>\n",
       "      <td>0</td>\n",
       "      <td>0</td>\n",
       "      <td>0</td>\n",
       "      <td>1</td>\n",
       "      <td>1</td>\n",
       "      <td>1</td>\n",
       "    </tr>\n",
       "    <tr>\n",
       "      <th>4</th>\n",
       "      <td>17474</td>\n",
       "      <td>1</td>\n",
       "      <td>156</td>\n",
       "      <td>56.0</td>\n",
       "      <td>100</td>\n",
       "      <td>60</td>\n",
       "      <td>0</td>\n",
       "      <td>0</td>\n",
       "      <td>0</td>\n",
       "      <td>0</td>\n",
       "      <td>0</td>\n",
       "      <td>0</td>\n",
       "      <td>0</td>\n",
       "    </tr>\n",
       "  </tbody>\n",
       "</table>\n",
       "</div>"
      ],
      "text/plain": [
       "      age  sex  height  weight  ap_hi  ap_lo  cholesterol  gluc  smoke  alco  \\\n",
       "id                                                                             \n",
       "0   18393    2     168    62.0    110     80            0     0      0     0   \n",
       "1   20228    1     156    85.0    140     90            1     0      0     0   \n",
       "2   18857    1     165    64.0    130     70            1     0      0     0   \n",
       "3   17623    2     169    82.0    150    100            0     0      0     0   \n",
       "4   17474    1     156    56.0    100     60            0     0      0     0   \n",
       "\n",
       "    active  cardio  Overweight  \n",
       "id                              \n",
       "0        1       0           0  \n",
       "1        1       1           1  \n",
       "2        0       1           0  \n",
       "3        1       1           1  \n",
       "4        0       0           0  "
      ]
     },
     "execution_count": 7,
     "metadata": {},
     "output_type": "execute_result"
    }
   ],
   "source": [
    "medical_df.head()"
   ]
  },
  {
   "cell_type": "markdown",
   "id": "2c685d24",
   "metadata": {},
   "source": [
    "### When Cardio Equal 0"
   ]
  },
  {
   "cell_type": "code",
   "execution_count": 8,
   "id": "f4ca9f5b",
   "metadata": {},
   "outputs": [],
   "source": [
    "ch0=medical_df[medical_df['cardio']==0]['cholesterol'].value_counts()\n",
    "al0=medical_df[medical_df['cardio']==0]['alco'].value_counts()\n",
    "ac0=medical_df[medical_df['cardio']==0]['active'].value_counts()\n",
    "gl0=medical_df[medical_df['cardio']==0]['gluc'].value_counts()\n",
    "sm0=medical_df[medical_df['cardio']==0]['smoke'].value_counts()"
   ]
  },
  {
   "cell_type": "code",
   "execution_count": 9,
   "id": "e64aa0a8",
   "metadata": {},
   "outputs": [],
   "source": [
    "dict0={\n",
    "    'cholesterol':\"\",\n",
    "    'alco':\"\",\n",
    "    'active':'',\n",
    "    'gluc':'',\n",
    "    'smoke':''\n",
    "}"
   ]
  },
  {
   "cell_type": "code",
   "execution_count": 10,
   "id": "e9e995fd",
   "metadata": {},
   "outputs": [],
   "source": [
    "dict0['cholesterol']=dict(ch0)\n",
    "dict0['alco']=dict(al0)\n",
    "dict0['active']=dict(ac0)\n",
    "dict0['gluc']=dict(gl0)\n",
    "dict0['smoke']=dict(sm0)"
   ]
  },
  {
   "cell_type": "code",
   "execution_count": 11,
   "id": "4aeecf80",
   "metadata": {},
   "outputs": [],
   "source": [
    "pd_new0=pd.DataFrame.from_dict(dict0,orient='index')\n"
   ]
  },
  {
   "cell_type": "code",
   "execution_count": 12,
   "id": "27235dbf",
   "metadata": {},
   "outputs": [
    {
     "data": {
      "text/plain": [
       "<matplotlib.legend.Legend at 0x18085288e80>"
      ]
     },
     "execution_count": 12,
     "metadata": {},
     "output_type": "execute_result"
    },
    {
     "data": {
      "image/png": "[encoded data removed]",
      "text/plain": [
       "<Figure size 1440x720 with 1 Axes>"
      ]
     },
     "metadata": {
      "needs_background": "light"
     },
     "output_type": "display_data"
    }
   ],
   "source": [
    "pd_new0.plot(figsize=(20,10),kind='bar')\n",
    "plt.title('Cardio = 0',size=30)\n",
    "plt.xlabel('Names',size=20)\n",
    "plt.ylabel('Count',size=20)\n",
    "plt.legend(prop={'size':20})"
   ]
  },
  {
   "cell_type": "markdown",
   "id": "7ef3d6b3",
   "metadata": {},
   "source": [
    "### when cardio = 1"
   ]
  },
  {
   "cell_type": "code",
   "execution_count": 13,
   "id": "8b21dcac",
   "metadata": {},
   "outputs": [],
   "source": [
    "ch1=medical_df[medical_df['cardio']==1]['cholesterol'].value_counts()\n",
    "al1=medical_df[medical_df['cardio']==1]['alco'].value_counts()\n",
    "ac1=medical_df[medical_df['cardio']==1]['active'].value_counts()\n",
    "gl1=medical_df[medical_df['cardio']==1]['gluc'].value_counts()\n",
    "sm1=medical_df[medical_df['cardio']==1]['smoke'].value_counts()"
   ]
  },
  {
   "cell_type": "code",
   "execution_count": 14,
   "id": "c86c0541",
   "metadata": {},
   "outputs": [],
   "source": [
    "dict1={\n",
    "    'cholesterol':\"\",\n",
    "    'alco':\"\",\n",
    "    'active':'',\n",
    "    'gluc':'',\n",
    "    'smoke':''\n",
    "}"
   ]
  },
  {
   "cell_type": "code",
   "execution_count": 15,
   "id": "1fe25908",
   "metadata": {},
   "outputs": [],
   "source": [
    "dict1['cholesterol']=dict(ch1)\n",
    "dict1['alco']=dict(al1)\n",
    "dict1['active']=dict(ac1)\n",
    "dict1['gluc']=dict(gl1)\n",
    "dict1['smoke']=dict(sm1)"
   ]
  },
  {
   "cell_type": "code",
   "execution_count": 16,
   "id": "321c4fd0",
   "metadata": {},
   "outputs": [],
   "source": [
    "pd_new1=pd.DataFrame.from_dict(dict1,orient='index')"
   ]
  },
  {
   "cell_type": "code",
   "execution_count": 17,
   "id": "60eb7521",
   "metadata": {},
   "outputs": [
    {
     "data": {
      "text/plain": [
       "<matplotlib.legend.Legend at 0x18085560e50>"
      ]
     },
     "execution_count": 17,
     "metadata": {},
     "output_type": "execute_result"
    },
    {
     "data": {
      "image/png": "[encoded data removed]",
      "text/plain": [
       "<Figure size 1440x720 with 1 Axes>"
      ]
     },
     "metadata": {
      "needs_background": "light"
     },
     "output_type": "display_data"
    }
   ],
   "source": [
    "pd_new1.plot(figsize=(20,10),kind='bar')\n",
    "plt.title('Cardio = 1',size=30)\n",
    "plt.xlabel('Names',size=20)\n",
    "plt.ylabel('Count',size=20)\n",
    "plt.legend(prop={'size':20})"
   ]
  },
  {
   "cell_type": "markdown",
   "id": "ae4a56bc",
   "metadata": {},
   "source": [
    "Clean the data. Filter out the following patient segments that represent incorrect data:\n",
    "- diastolic pressure is higher than systolic (Keep the correct data with (df['ap_lo'] <= df['ap_hi']))"
   ]
  },
  {
   "cell_type": "code",
   "execution_count": 18,
   "id": "6a64f9e0",
   "metadata": {},
   "outputs": [],
   "source": [
    "data_incorrect=medical_df[medical_df['ap_lo']> medical_df['ap_hi']].index"
   ]
  },
  {
   "cell_type": "code",
   "execution_count": 19,
   "id": "c0fe332e",
   "metadata": {},
   "outputs": [
    {
     "data": {
      "text/plain": [
       "Int64Index([  314,   334,   357,   458,   482,   680,   681,   805,   815,\n",
       "              886,\n",
       "            ...\n",
       "            99235, 99305, 99328, 99334, 99454, 99659, 99798, 99807, 99816,\n",
       "            99955],\n",
       "           dtype='int64', name='id', length=1234)"
      ]
     },
     "execution_count": 19,
     "metadata": {},
     "output_type": "execute_result"
    }
   ],
   "source": [
    "data_incorrect"
   ]
  },
  {
   "cell_type": "code",
   "execution_count": 20,
   "id": "5680070e",
   "metadata": {},
   "outputs": [
    {
     "data": {
      "text/plain": [
       "1234"
      ]
     },
     "execution_count": 20,
     "metadata": {},
     "output_type": "execute_result"
    }
   ],
   "source": [
    "len(data_incorrect)"
   ]
  },
  {
   "cell_type": "code",
   "execution_count": 21,
   "id": "ed13f268",
   "metadata": {},
   "outputs": [],
   "source": [
    "medical_df.drop(data_incorrect,inplace=True)"
   ]
  },
  {
   "cell_type": "code",
   "execution_count": 22,
   "id": "94c8d3ce",
   "metadata": {},
   "outputs": [
    {
     "data": {
      "text/plain": [
       "68766"
      ]
     },
     "execution_count": 22,
     "metadata": {},
     "output_type": "execute_result"
    }
   ],
   "source": [
    "len(medical_df)"
   ]
  },
  {
   "cell_type": "markdown",
   "id": "eddf50be",
   "metadata": {},
   "source": [
    "- height is less than the 2.5th percentile (Keep the correct data with   (df['height'] >= df['height'].quantile(0.025)))"
   ]
  },
  {
   "cell_type": "code",
   "execution_count": 23,
   "id": "5546f80e",
   "metadata": {},
   "outputs": [],
   "source": [
    "data_height_incorrect=medical_df[medical_df['height']<medical_df['height'].quantile(0.025)].index"
   ]
  },
  {
   "cell_type": "code",
   "execution_count": 24,
   "id": "830ec0a7",
   "metadata": {},
   "outputs": [
    {
     "data": {
      "text/plain": [
       "1506"
      ]
     },
     "execution_count": 24,
     "metadata": {},
     "output_type": "execute_result"
    }
   ],
   "source": [
    "len(data_height_incorrect)"
   ]
  },
  {
   "cell_type": "code",
   "execution_count": 25,
   "id": "989625ba",
   "metadata": {},
   "outputs": [],
   "source": [
    "medical_df.drop(data_height_incorrect,inplace=True)"
   ]
  },
  {
   "cell_type": "code",
   "execution_count": 26,
   "id": "6f98728c",
   "metadata": {},
   "outputs": [
    {
     "data": {
      "text/plain": [
       "165    5759\n",
       "160    4937\n",
       "170    4610\n",
       "168    4330\n",
       "164    3344\n",
       "158    3254\n",
       "162    3203\n",
       "169    2754\n",
       "156    2708\n",
       "167    2497\n",
       "163    2486\n",
       "172    1976\n",
       "159    1964\n",
       "166    1943\n",
       "157    1785\n",
       "175    1776\n",
       "155    1741\n",
       "161    1675\n",
       "174    1535\n",
       "154    1415\n",
       "171    1284\n",
       "178    1203\n",
       "152    1129\n",
       "176    1112\n",
       "173    1055\n",
       "153    1039\n",
       "150    1027\n",
       "180     859\n",
       "151     600\n",
       "177     448\n",
       "179     411\n",
       "182     322\n",
       "185     225\n",
       "181     188\n",
       "183     155\n",
       "184     150\n",
       "186     102\n",
       "187      75\n",
       "188      45\n",
       "190      40\n",
       "189      36\n",
       "198      14\n",
       "192      12\n",
       "191      11\n",
       "193       6\n",
       "196       6\n",
       "195       6\n",
       "197       4\n",
       "194       2\n",
       "207       1\n",
       "250       1\n",
       "Name: height, dtype: int64"
      ]
     },
     "execution_count": 26,
     "metadata": {},
     "output_type": "execute_result"
    }
   ],
   "source": [
    "medical_df['height'].value_counts()"
   ]
  },
  {
   "cell_type": "markdown",
   "id": "d515ccf4",
   "metadata": {},
   "source": [
    "- height is more than the 97.5th percentile"
   ]
  },
  {
   "cell_type": "code",
   "execution_count": 27,
   "id": "59eea579",
   "metadata": {},
   "outputs": [
    {
     "data": {
      "text/plain": [
       "180.0"
      ]
     },
     "execution_count": 27,
     "metadata": {},
     "output_type": "execute_result"
    }
   ],
   "source": [
    "medical_df['height'].quantile(0.975)"
   ]
  },
  {
   "cell_type": "code",
   "execution_count": 28,
   "id": "275c136c",
   "metadata": {},
   "outputs": [],
   "source": [
    "data_height2_incorrect=medical_df[medical_df['height']>medical_df['height'].quantile(0.975)]['height'].index"
   ]
  },
  {
   "cell_type": "code",
   "execution_count": 29,
   "id": "73dc7482",
   "metadata": {},
   "outputs": [],
   "source": [
    "medical_df.drop(data_height2_incorrect,inplace=True)"
   ]
  },
  {
   "cell_type": "code",
   "execution_count": 30,
   "id": "28e79f8d",
   "metadata": {},
   "outputs": [
    {
     "data": {
      "text/plain": [
       "65859"
      ]
     },
     "execution_count": 30,
     "metadata": {},
     "output_type": "execute_result"
    }
   ],
   "source": [
    "len(medical_df)"
   ]
  },
  {
   "cell_type": "markdown",
   "id": "08bf2832",
   "metadata": {},
   "source": [
    "- weight is less than the 2.5th percentile\n",
    "- weight is more than the 97.5th percentile"
   ]
  },
  {
   "cell_type": "code",
   "execution_count": 31,
   "id": "eaa629b2",
   "metadata": {},
   "outputs": [
    {
     "name": "stdout",
     "output_type": "stream",
     "text": [
      "52.0\n",
      "106.0\n"
     ]
    }
   ],
   "source": [
    "print(medical_df['weight'].quantile(0.025))\n",
    "print(medical_df['weight'].quantile(0.975))"
   ]
  },
  {
   "cell_type": "code",
   "execution_count": 32,
   "id": "4cd11b85",
   "metadata": {},
   "outputs": [
    {
     "data": {
      "text/plain": [
       "1475"
      ]
     },
     "execution_count": 32,
     "metadata": {},
     "output_type": "execute_result"
    }
   ],
   "source": [
    "data_weight_incorrect=medical_df[medical_df['weight']<medical_df['weight'].quantile(0.025)]['weight'].index\n",
    "len(data_weight_incorrect)"
   ]
  },
  {
   "cell_type": "code",
   "execution_count": 33,
   "id": "9d4ed95d",
   "metadata": {},
   "outputs": [],
   "source": [
    "medical_df.drop(data_weight_incorrect,inplace=True)"
   ]
  },
  {
   "cell_type": "markdown",
   "id": "a9d8fd6b",
   "metadata": {},
   "source": [
    "########"
   ]
  },
  {
   "cell_type": "code",
   "execution_count": 34,
   "id": "2e8f9f3b",
   "metadata": {},
   "outputs": [],
   "source": [
    "data_weight2_incorrect=medical_df[medical_df['weight']>medical_df['weight'].quantile(0.975)]['weight'].index"
   ]
  },
  {
   "cell_type": "code",
   "execution_count": 35,
   "id": "e90a6246",
   "metadata": {},
   "outputs": [
    {
     "data": {
      "text/plain": [
       "1600"
      ]
     },
     "execution_count": 35,
     "metadata": {},
     "output_type": "execute_result"
    }
   ],
   "source": [
    "len(data_weight2_incorrect)"
   ]
  },
  {
   "cell_type": "code",
   "execution_count": 36,
   "id": "0c807a04",
   "metadata": {},
   "outputs": [],
   "source": [
    "medical_df.drop(data_weight2_incorrect,inplace=True)"
   ]
  },
  {
   "cell_type": "code",
   "execution_count": 37,
   "id": "3a5260de",
   "metadata": {},
   "outputs": [
    {
     "data": {
      "text/plain": [
       "62784"
      ]
     },
     "execution_count": 37,
     "metadata": {},
     "output_type": "execute_result"
    }
   ],
   "source": [
    "len(medical_df)"
   ]
  },
  {
   "cell_type": "code",
   "execution_count": 38,
   "id": "0d8e9c5b",
   "metadata": {},
   "outputs": [
    {
     "data": {
      "text/html": [
       "<div>\n",
       "<style scoped>\n",
       "    .dataframe tbody tr th:only-of-type {\n",
       "        vertical-align: middle;\n",
       "    }\n",
       "\n",
       "    .dataframe tbody tr th {\n",
       "        vertical-align: top;\n",
       "    }\n",
       "\n",
       "    .dataframe thead th {\n",
       "        text-align: right;\n",
       "    }\n",
       "</style>\n",
       "<table border=\"1\" class=\"dataframe\">\n",
       "  <thead>\n",
       "    <tr style=\"text-align: right;\">\n",
       "      <th></th>\n",
       "      <th>age</th>\n",
       "      <th>sex</th>\n",
       "      <th>height</th>\n",
       "      <th>weight</th>\n",
       "      <th>ap_hi</th>\n",
       "      <th>ap_lo</th>\n",
       "      <th>cholesterol</th>\n",
       "      <th>gluc</th>\n",
       "      <th>smoke</th>\n",
       "      <th>alco</th>\n",
       "      <th>active</th>\n",
       "      <th>cardio</th>\n",
       "      <th>Overweight</th>\n",
       "    </tr>\n",
       "    <tr>\n",
       "      <th>id</th>\n",
       "      <th></th>\n",
       "      <th></th>\n",
       "      <th></th>\n",
       "      <th></th>\n",
       "      <th></th>\n",
       "      <th></th>\n",
       "      <th></th>\n",
       "      <th></th>\n",
       "      <th></th>\n",
       "      <th></th>\n",
       "      <th></th>\n",
       "      <th></th>\n",
       "      <th></th>\n",
       "    </tr>\n",
       "  </thead>\n",
       "  <tbody>\n",
       "    <tr>\n",
       "      <th>0</th>\n",
       "      <td>18393</td>\n",
       "      <td>2</td>\n",
       "      <td>168</td>\n",
       "      <td>62.0</td>\n",
       "      <td>110</td>\n",
       "      <td>80</td>\n",
       "      <td>0</td>\n",
       "      <td>0</td>\n",
       "      <td>0</td>\n",
       "      <td>0</td>\n",
       "      <td>1</td>\n",
       "      <td>0</td>\n",
       "      <td>0</td>\n",
       "    </tr>\n",
       "    <tr>\n",
       "      <th>1</th>\n",
       "      <td>20228</td>\n",
       "      <td>1</td>\n",
       "      <td>156</td>\n",
       "      <td>85.0</td>\n",
       "      <td>140</td>\n",
       "      <td>90</td>\n",
       "      <td>1</td>\n",
       "      <td>0</td>\n",
       "      <td>0</td>\n",
       "      <td>0</td>\n",
       "      <td>1</td>\n",
       "      <td>1</td>\n",
       "      <td>1</td>\n",
       "    </tr>\n",
       "    <tr>\n",
       "      <th>2</th>\n",
       "      <td>18857</td>\n",
       "      <td>1</td>\n",
       "      <td>165</td>\n",
       "      <td>64.0</td>\n",
       "      <td>130</td>\n",
       "      <td>70</td>\n",
       "      <td>1</td>\n",
       "      <td>0</td>\n",
       "      <td>0</td>\n",
       "      <td>0</td>\n",
       "      <td>0</td>\n",
       "      <td>1</td>\n",
       "      <td>0</td>\n",
       "    </tr>\n",
       "    <tr>\n",
       "      <th>3</th>\n",
       "      <td>17623</td>\n",
       "      <td>2</td>\n",
       "      <td>169</td>\n",
       "      <td>82.0</td>\n",
       "      <td>150</td>\n",
       "      <td>100</td>\n",
       "      <td>0</td>\n",
       "      <td>0</td>\n",
       "      <td>0</td>\n",
       "      <td>0</td>\n",
       "      <td>1</td>\n",
       "      <td>1</td>\n",
       "      <td>1</td>\n",
       "    </tr>\n",
       "    <tr>\n",
       "      <th>4</th>\n",
       "      <td>17474</td>\n",
       "      <td>1</td>\n",
       "      <td>156</td>\n",
       "      <td>56.0</td>\n",
       "      <td>100</td>\n",
       "      <td>60</td>\n",
       "      <td>0</td>\n",
       "      <td>0</td>\n",
       "      <td>0</td>\n",
       "      <td>0</td>\n",
       "      <td>0</td>\n",
       "      <td>0</td>\n",
       "      <td>0</td>\n",
       "    </tr>\n",
       "  </tbody>\n",
       "</table>\n",
       "</div>"
      ],
      "text/plain": [
       "      age  sex  height  weight  ap_hi  ap_lo  cholesterol  gluc  smoke  alco  \\\n",
       "id                                                                             \n",
       "0   18393    2     168    62.0    110     80            0     0      0     0   \n",
       "1   20228    1     156    85.0    140     90            1     0      0     0   \n",
       "2   18857    1     165    64.0    130     70            1     0      0     0   \n",
       "3   17623    2     169    82.0    150    100            0     0      0     0   \n",
       "4   17474    1     156    56.0    100     60            0     0      0     0   \n",
       "\n",
       "    active  cardio  Overweight  \n",
       "id                              \n",
       "0        1       0           0  \n",
       "1        1       1           1  \n",
       "2        0       1           0  \n",
       "3        1       1           1  \n",
       "4        0       0           0  "
      ]
     },
     "execution_count": 38,
     "metadata": {},
     "output_type": "execute_result"
    }
   ],
   "source": [
    "medical_df.head()"
   ]
  },
  {
   "cell_type": "markdown",
   "id": "da74065a",
   "metadata": {},
   "source": [
    "Create a correlation matrix using the dataset. Plot the correlation matrix using seaborn's heatmap() to explain correlation between all variables at DataFrame columns"
   ]
  },
  {
   "cell_type": "code",
   "execution_count": 39,
   "id": "31e0262a",
   "metadata": {},
   "outputs": [],
   "source": [
    "import seaborn as sns"
   ]
  },
  {
   "cell_type": "code",
   "execution_count": 60,
   "id": "02b3531f",
   "metadata": {},
   "outputs": [],
   "source": [
    "medical_df_correlation=medical_df.corr()"
   ]
  },
  {
   "cell_type": "code",
   "execution_count": 61,
   "id": "c291c5bb",
   "metadata": {},
   "outputs": [
    {
     "data": {
      "text/plain": [
       "<AxesSubplot:>"
      ]
     },
     "execution_count": 61,
     "metadata": {},
     "output_type": "execute_result"
    },
    {
     "data": {
      "image/png": "[encoded data removed]",
      "text/plain": [
       "<Figure size 1440x720 with 2 Axes>"
      ]
     },
     "metadata": {
      "needs_background": "light"
     },
     "output_type": "display_data"
    }
   ],
   "source": [
    "plt.figure(figsize=(20,10))\n",
    "mask=np.triu(np.ones_like(medical_df_correlation,dtype=bool))\n",
    "sns.heatmap(medical_df_correlation,annot=True,mask=mask)"
   ]
  }
 ],
 "metadata": {
  "kernelspec": {
   "display_name": "Python 3",
   "language": "python",
   "name": "python3"
  },
  "language_info": {
   "codemirror_mode": {
    "name": "ipython",
    "version": 3
   },
   "file_extension": ".py",
   "mimetype": "text/x-python",
   "name": "python",
   "nbconvert_exporter": "python",
   "pygments_lexer": "ipython3",
   "version": "3.8.8"
  }
 },
 "nbformat": 4,
 "nbformat_minor": 5
}
