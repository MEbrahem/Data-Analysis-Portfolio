{
 "cells": [
  {
   "cell_type": "markdown",
   "id": "5801283b",
   "metadata": {},
   "source": [
    "# Project: Hotel Reservations"
   ]
  },
  {
   "cell_type": "markdown",
   "id": "3f30484b",
   "metadata": {},
   "source": [
    "## Table of Contents\n",
    "<ul>\n",
    "<li><a href=\"#intro\">Introduction</a></li>\n",
    "<li><a href=\"#wrangling\">Data Wrangling</a></li>\n",
    "<li><a href=\"#eda\">Exploratory Data Analysis</a></li>\n",
    "<li><a href='#split'>Split Data</a></li>\n",
    "<li><a href='#model'>Train Model</a></li>\n",
    "<li><a href=\"#con\">Conclusions</a></li>\n",
    "</ul>"
   ]
  },
  {
   "cell_type": "markdown",
   "id": "8f4ced5c",
   "metadata": {},
   "source": [
    "<a id='intro'></a>\n",
    "## Introduction"
   ]
  },
  {
   "cell_type": "markdown",
   "id": "de95de03",
   "metadata": {},
   "source": [
    "### Dataset Description "
   ]
  },
  {
   "cell_type": "markdown",
   "id": "22e54e7d",
   "metadata": {},
   "source": [
    "The online hotel reservation channels have dramatically changed booking possibilities and customers’ behavior. A significant number of hotel reservations are called-off due to cancellations or no-shows. The typical reasons for cancellations include change of plans, scheduling conflicts, etc. This is often made easier by the option to do so free of charge or preferably at a low cost which is beneficial to hotel guests but it is a less desirable and possibly revenue-diminishing factor for hotels to deal with.\n",
    "`Can you predict if the customer is going to honor the reservation or cancel it ?`"
   ]
  },
  {
   "cell_type": "markdown",
   "id": "c447207e",
   "metadata": {},
   "source": [
    "### Columns Description"
   ]
  },
  {
   "cell_type": "markdown",
   "id": "8bae8c18",
   "metadata": {},
   "source": [
    "##### Attribute of database:"
   ]
  },
  {
   "cell_type": "markdown",
   "id": "bfc5dba5",
   "metadata": {},
   "source": [
    "01- `Booking_ID`: unique identifier of each booking\n",
    "<br>02- `no_of_adults`: Number of adults\n",
    "<br>03- `no_of_children`: Number of Children\n",
    "<br>04- `no_of_weekend_nights`: Number of weekend nights (Saturday or Sunday) the guest stayed or booked to stay at the hotel\n",
    "<br>05- `no_of_week_nights`: Number of week nights (Monday to Friday) the guest stayed or booked to stay at the hotel\n",
    "<br>06- `type_of_meal_plan`: Type of meal plan booked by the customer:\n",
    "<br>07- `required_car_parking_space`: Does the customer require a car parking space? (0 - No, 1- Yes)\n",
    "<br>08- `room_type_reserved`: Type of room reserved by the customer. The values are ciphered (encoded) by INN Hotels.\n",
    "<br>08- `lead_time`: Number of days between the date of booking and the arrival date\n",
    "<br>09- `arrival_year`: Year of arrival date\n",
    "<br>10- `arrival_month`: Month of arrival date\n",
    "<br>11- `arrival_date`: Date of the month\n",
    "<br>12- `market_segment_type`: Market segment designation.\n",
    "<br>13- `repeated_guest`: Is the customer a repeated guest? (0 - No, 1- Yes)\n",
    "<br>14- `no_of_previous_cancellations`: Number of previous bookings that were canceled by the customer prior to the current booking\n",
    "<br>15- `no_of_previous_bookings_not_canceled`: Number of previous bookings not canceled by the customer prior to the current booking\n",
    "<br>16- `avg_price_per_room`: Average price per day of the reservation; prices of the rooms are dynamic. (in euros)\n",
    "<br>17- `no_of_special_requests`: Total number of special requests made by the customer (e.g. high floor, view from the room, etc)\n",
    "<br>18- `booking_status`: Flag indicating if the booking was canceled or not."
   ]
  },
  {
   "cell_type": "markdown",
   "id": "8829092d",
   "metadata": {},
   "source": [
    "<a id='wrangling'></a>\n",
    "## Data Wrangling"
   ]
  },
  {
   "cell_type": "markdown",
   "id": "c4cde7f9",
   "metadata": {},
   "source": [
    "#### Libraries used"
   ]
  },
  {
   "cell_type": "code",
   "execution_count": 1,
   "id": "46616725",
   "metadata": {},
   "outputs": [],
   "source": [
    "import numpy as np\n",
    "import pandas as pd\n",
    "from matplotlib import pyplot as plt\n",
    "import seaborn as sns\n",
    "import warnings\n",
    "warnings.filterwarnings(\"ignore\")"
   ]
  },
  {
   "cell_type": "markdown",
   "id": "36b59663",
   "metadata": {},
   "source": [
    "#### Read data from csv Hotel Reservations Dataset"
   ]
  },
  {
   "cell_type": "code",
   "execution_count": 2,
   "id": "fc45eb21",
   "metadata": {},
   "outputs": [],
   "source": [
    "data=pd.read_csv('hotel Reservations.csv')"
   ]
  },
  {
   "cell_type": "markdown",
   "id": "d76c4005",
   "metadata": {},
   "source": [
    "#### Show Dataset"
   ]
  },
  {
   "cell_type": "code",
   "execution_count": 3,
   "id": "f03a72e1",
   "metadata": {},
   "outputs": [
    {
     "data": {
      "text/html": [
       "<div>\n",
       "<style scoped>\n",
       "    .dataframe tbody tr th:only-of-type {\n",
       "        vertical-align: middle;\n",
       "    }\n",
       "\n",
       "    .dataframe tbody tr th {\n",
       "        vertical-align: top;\n",
       "    }\n",
       "\n",
       "    .dataframe thead th {\n",
       "        text-align: right;\n",
       "    }\n",
       "</style>\n",
       "<table border=\"1\" class=\"dataframe\">\n",
       "  <thead>\n",
       "    <tr style=\"text-align: right;\">\n",
       "      <th></th>\n",
       "      <th>Booking_ID</th>\n",
       "      <th>no_of_adults</th>\n",
       "      <th>no_of_children</th>\n",
       "      <th>no_of_weekend_nights</th>\n",
       "      <th>no_of_week_nights</th>\n",
       "      <th>type_of_meal_plan</th>\n",
       "      <th>required_car_parking_space</th>\n",
       "      <th>room_type_reserved</th>\n",
       "      <th>lead_time</th>\n",
       "      <th>arrival_year</th>\n",
       "      <th>arrival_month</th>\n",
       "      <th>arrival_date</th>\n",
       "      <th>market_segment_type</th>\n",
       "      <th>repeated_guest</th>\n",
       "      <th>no_of_previous_cancellations</th>\n",
       "      <th>no_of_previous_bookings_not_canceled</th>\n",
       "      <th>avg_price_per_room</th>\n",
       "      <th>no_of_special_requests</th>\n",
       "      <th>booking_status</th>\n",
       "    </tr>\n",
       "  </thead>\n",
       "  <tbody>\n",
       "    <tr>\n",
       "      <th>0</th>\n",
       "      <td>INN00001</td>\n",
       "      <td>2</td>\n",
       "      <td>0</td>\n",
       "      <td>1</td>\n",
       "      <td>2</td>\n",
       "      <td>Meal Plan 1</td>\n",
       "      <td>0</td>\n",
       "      <td>Room_Type 1</td>\n",
       "      <td>224</td>\n",
       "      <td>2017</td>\n",
       "      <td>10</td>\n",
       "      <td>2</td>\n",
       "      <td>Offline</td>\n",
       "      <td>0</td>\n",
       "      <td>0</td>\n",
       "      <td>0</td>\n",
       "      <td>65.00</td>\n",
       "      <td>0</td>\n",
       "      <td>Not_Canceled</td>\n",
       "    </tr>\n",
       "    <tr>\n",
       "      <th>1</th>\n",
       "      <td>INN00002</td>\n",
       "      <td>2</td>\n",
       "      <td>0</td>\n",
       "      <td>2</td>\n",
       "      <td>3</td>\n",
       "      <td>Not Selected</td>\n",
       "      <td>0</td>\n",
       "      <td>Room_Type 1</td>\n",
       "      <td>5</td>\n",
       "      <td>2018</td>\n",
       "      <td>11</td>\n",
       "      <td>6</td>\n",
       "      <td>Online</td>\n",
       "      <td>0</td>\n",
       "      <td>0</td>\n",
       "      <td>0</td>\n",
       "      <td>106.68</td>\n",
       "      <td>1</td>\n",
       "      <td>Not_Canceled</td>\n",
       "    </tr>\n",
       "    <tr>\n",
       "      <th>2</th>\n",
       "      <td>INN00003</td>\n",
       "      <td>1</td>\n",
       "      <td>0</td>\n",
       "      <td>2</td>\n",
       "      <td>1</td>\n",
       "      <td>Meal Plan 1</td>\n",
       "      <td>0</td>\n",
       "      <td>Room_Type 1</td>\n",
       "      <td>1</td>\n",
       "      <td>2018</td>\n",
       "      <td>2</td>\n",
       "      <td>28</td>\n",
       "      <td>Online</td>\n",
       "      <td>0</td>\n",
       "      <td>0</td>\n",
       "      <td>0</td>\n",
       "      <td>60.00</td>\n",
       "      <td>0</td>\n",
       "      <td>Canceled</td>\n",
       "    </tr>\n",
       "    <tr>\n",
       "      <th>3</th>\n",
       "      <td>INN00004</td>\n",
       "      <td>2</td>\n",
       "      <td>0</td>\n",
       "      <td>0</td>\n",
       "      <td>2</td>\n",
       "      <td>Meal Plan 1</td>\n",
       "      <td>0</td>\n",
       "      <td>Room_Type 1</td>\n",
       "      <td>211</td>\n",
       "      <td>2018</td>\n",
       "      <td>5</td>\n",
       "      <td>20</td>\n",
       "      <td>Online</td>\n",
       "      <td>0</td>\n",
       "      <td>0</td>\n",
       "      <td>0</td>\n",
       "      <td>100.00</td>\n",
       "      <td>0</td>\n",
       "      <td>Canceled</td>\n",
       "    </tr>\n",
       "    <tr>\n",
       "      <th>4</th>\n",
       "      <td>INN00005</td>\n",
       "      <td>2</td>\n",
       "      <td>0</td>\n",
       "      <td>1</td>\n",
       "      <td>1</td>\n",
       "      <td>Not Selected</td>\n",
       "      <td>0</td>\n",
       "      <td>Room_Type 1</td>\n",
       "      <td>48</td>\n",
       "      <td>2018</td>\n",
       "      <td>4</td>\n",
       "      <td>11</td>\n",
       "      <td>Online</td>\n",
       "      <td>0</td>\n",
       "      <td>0</td>\n",
       "      <td>0</td>\n",
       "      <td>94.50</td>\n",
       "      <td>0</td>\n",
       "      <td>Canceled</td>\n",
       "    </tr>\n",
       "  </tbody>\n",
       "</table>\n",
       "</div>"
      ],
      "text/plain": [
       "  Booking_ID  no_of_adults  no_of_children  no_of_weekend_nights  \\\n",
       "0   INN00001             2               0                     1   \n",
       "1   INN00002             2               0                     2   \n",
       "2   INN00003             1               0                     2   \n",
       "3   INN00004             2               0                     0   \n",
       "4   INN00005             2               0                     1   \n",
       "\n",
       "   no_of_week_nights type_of_meal_plan  required_car_parking_space  \\\n",
       "0                  2       Meal Plan 1                           0   \n",
       "1                  3      Not Selected                           0   \n",
       "2                  1       Meal Plan 1                           0   \n",
       "3                  2       Meal Plan 1                           0   \n",
       "4                  1      Not Selected                           0   \n",
       "\n",
       "  room_type_reserved  lead_time  arrival_year  arrival_month  arrival_date  \\\n",
       "0        Room_Type 1        224          2017             10             2   \n",
       "1        Room_Type 1          5          2018             11             6   \n",
       "2        Room_Type 1          1          2018              2            28   \n",
       "3        Room_Type 1        211          2018              5            20   \n",
       "4        Room_Type 1         48          2018              4            11   \n",
       "\n",
       "  market_segment_type  repeated_guest  no_of_previous_cancellations  \\\n",
       "0             Offline               0                             0   \n",
       "1              Online               0                             0   \n",
       "2              Online               0                             0   \n",
       "3              Online               0                             0   \n",
       "4              Online               0                             0   \n",
       "\n",
       "   no_of_previous_bookings_not_canceled  avg_price_per_room  \\\n",
       "0                                     0               65.00   \n",
       "1                                     0              106.68   \n",
       "2                                     0               60.00   \n",
       "3                                     0              100.00   \n",
       "4                                     0               94.50   \n",
       "\n",
       "   no_of_special_requests booking_status  \n",
       "0                       0   Not_Canceled  \n",
       "1                       1   Not_Canceled  \n",
       "2                       0       Canceled  \n",
       "3                       0       Canceled  \n",
       "4                       0       Canceled  "
      ]
     },
     "execution_count": 3,
     "metadata": {},
     "output_type": "execute_result"
    }
   ],
   "source": [
    "data.head()"
   ]
  },
  {
   "cell_type": "markdown",
   "id": "3c36d39d",
   "metadata": {},
   "source": [
    "#### Size of data"
   ]
  },
  {
   "cell_type": "code",
   "execution_count": 4,
   "id": "180db05c",
   "metadata": {},
   "outputs": [
    {
     "data": {
      "text/plain": [
       "(36275, 19)"
      ]
     },
     "execution_count": 4,
     "metadata": {},
     "output_type": "execute_result"
    }
   ],
   "source": [
    "data.shape"
   ]
  },
  {
   "cell_type": "markdown",
   "id": "0c8a77c9",
   "metadata": {},
   "source": [
    "### Data Cleaning"
   ]
  },
  {
   "cell_type": "markdown",
   "id": "dd1b6921",
   "metadata": {},
   "source": [
    ">01- Display columns names and check correct\n",
    "<br>02- Display dataset info, datatypes, entries count\n",
    "<br>03- Exploring nulls and remove it \n",
    "<br>04- Exploring duplicates and remove it\n",
    "<br>05- Delete Booking_ID"
   ]
  },
  {
   "cell_type": "markdown",
   "id": "79e083a0",
   "metadata": {},
   "source": [
    "#### 1- Display columns names"
   ]
  },
  {
   "cell_type": "code",
   "execution_count": 5,
   "id": "f4b6a653",
   "metadata": {},
   "outputs": [
    {
     "name": "stdout",
     "output_type": "stream",
     "text": [
      "0 Booking_ID\n",
      "1 no_of_adults\n",
      "2 no_of_children\n",
      "3 no_of_weekend_nights\n",
      "4 no_of_week_nights\n",
      "5 type_of_meal_plan\n",
      "6 required_car_parking_space\n",
      "7 room_type_reserved\n",
      "8 lead_time\n",
      "9 arrival_year\n",
      "10 arrival_month\n",
      "11 arrival_date\n",
      "12 market_segment_type\n",
      "13 repeated_guest\n",
      "14 no_of_previous_cancellations\n",
      "15 no_of_previous_bookings_not_canceled\n",
      "16 avg_price_per_room\n",
      "17 no_of_special_requests\n",
      "18 booking_status\n"
     ]
    }
   ],
   "source": [
    "def show_columns():\n",
    "    for i in range(len(data.columns)):\n",
    "        print(i,data.columns[i])\n",
    "show_columns()"
   ]
  },
  {
   "cell_type": "markdown",
   "id": "f4716754",
   "metadata": {},
   "source": [
    "#### 2- Display dataset info, datatypes, entries count"
   ]
  },
  {
   "cell_type": "code",
   "execution_count": 6,
   "id": "f740d3d9",
   "metadata": {},
   "outputs": [
    {
     "name": "stdout",
     "output_type": "stream",
     "text": [
      "<class 'pandas.core.frame.DataFrame'>\n",
      "RangeIndex: 36275 entries, 0 to 36274\n",
      "Data columns (total 19 columns):\n",
      " #   Column                                Non-Null Count  Dtype  \n",
      "---  ------                                --------------  -----  \n",
      " 0   Booking_ID                            36275 non-null  object \n",
      " 1   no_of_adults                          36275 non-null  int64  \n",
      " 2   no_of_children                        36275 non-null  int64  \n",
      " 3   no_of_weekend_nights                  36275 non-null  int64  \n",
      " 4   no_of_week_nights                     36275 non-null  int64  \n",
      " 5   type_of_meal_plan                     36275 non-null  object \n",
      " 6   required_car_parking_space            36275 non-null  int64  \n",
      " 7   room_type_reserved                    36275 non-null  object \n",
      " 8   lead_time                             36275 non-null  int64  \n",
      " 9   arrival_year                          36275 non-null  int64  \n",
      " 10  arrival_month                         36275 non-null  int64  \n",
      " 11  arrival_date                          36275 non-null  int64  \n",
      " 12  market_segment_type                   36275 non-null  object \n",
      " 13  repeated_guest                        36275 non-null  int64  \n",
      " 14  no_of_previous_cancellations          36275 non-null  int64  \n",
      " 15  no_of_previous_bookings_not_canceled  36275 non-null  int64  \n",
      " 16  avg_price_per_room                    36275 non-null  float64\n",
      " 17  no_of_special_requests                36275 non-null  int64  \n",
      " 18  booking_status                        36275 non-null  object \n",
      "dtypes: float64(1), int64(13), object(5)\n",
      "memory usage: 5.3+ MB\n"
     ]
    }
   ],
   "source": [
    "data.info()"
   ]
  },
  {
   "cell_type": "markdown",
   "id": "a75f52c7",
   "metadata": {},
   "source": [
    "#### 3- Exploring nulls"
   ]
  },
  {
   "cell_type": "code",
   "execution_count": 7,
   "id": "0d9bdb6d",
   "metadata": {},
   "outputs": [
    {
     "data": {
      "text/plain": [
       "Booking_ID                              0\n",
       "no_of_adults                            0\n",
       "no_of_children                          0\n",
       "no_of_weekend_nights                    0\n",
       "no_of_week_nights                       0\n",
       "type_of_meal_plan                       0\n",
       "required_car_parking_space              0\n",
       "room_type_reserved                      0\n",
       "lead_time                               0\n",
       "arrival_year                            0\n",
       "arrival_month                           0\n",
       "arrival_date                            0\n",
       "market_segment_type                     0\n",
       "repeated_guest                          0\n",
       "no_of_previous_cancellations            0\n",
       "no_of_previous_bookings_not_canceled    0\n",
       "avg_price_per_room                      0\n",
       "no_of_special_requests                  0\n",
       "booking_status                          0\n",
       "dtype: int64"
      ]
     },
     "execution_count": 7,
     "metadata": {},
     "output_type": "execute_result"
    }
   ],
   "source": [
    "data.isnull().sum()"
   ]
  },
  {
   "cell_type": "markdown",
   "id": "f41e8d42",
   "metadata": {},
   "source": [
    "#### 4- Exploring duplicates"
   ]
  },
  {
   "cell_type": "code",
   "execution_count": 8,
   "id": "1f44e3b5",
   "metadata": {},
   "outputs": [
    {
     "name": "stdout",
     "output_type": "stream",
     "text": [
      "No duplicated data\n"
     ]
    }
   ],
   "source": [
    "dup=data.duplicated().sum()\n",
    "\n",
    "if dup ==0:\n",
    "    print(\"No duplicated data\")"
   ]
  },
  {
   "cell_type": "markdown",
   "id": "98cb1722",
   "metadata": {},
   "source": [
    "#### 5- Booking_ID is unique for every row and will not add anything up to the model, but can also decrease its effieciency, so lets remove it."
   ]
  },
  {
   "cell_type": "code",
   "execution_count": 9,
   "id": "6ba0b310",
   "metadata": {},
   "outputs": [],
   "source": [
    "data.drop(columns=['Booking_ID'],inplace=True)"
   ]
  },
  {
   "cell_type": "markdown",
   "id": "040f423b",
   "metadata": {},
   "source": [
    "_______"
   ]
  },
  {
   "cell_type": "markdown",
   "id": "3a9a1b9d",
   "metadata": {},
   "source": [
    "<a id='eda'></a>\n",
    "## Exploratory Data Analysis"
   ]
  },
  {
   "cell_type": "markdown",
   "id": "485e72db",
   "metadata": {},
   "source": [
    "#### we have two types of data there are numerical and categorical first we will show my numerical data and modify it if we need to this"
   ]
  },
  {
   "cell_type": "markdown",
   "id": "2bdc4085",
   "metadata": {},
   "source": [
    "Numerical Columns"
   ]
  },
  {
   "cell_type": "code",
   "execution_count": 10,
   "id": "395f84a1",
   "metadata": {},
   "outputs": [
    {
     "name": "stdout",
     "output_type": "stream",
     "text": [
      "Numerical Columns:\n",
      "____________________\n",
      "1 no_of_adults\n",
      "2 no_of_children\n",
      "3 no_of_weekend_nights\n",
      "4 no_of_week_nights\n",
      "5 required_car_parking_space\n",
      "6 lead_time\n",
      "7 arrival_year\n",
      "8 arrival_month\n",
      "9 arrival_date\n",
      "10 repeated_guest\n",
      "11 no_of_previous_cancellations\n",
      "12 no_of_previous_bookings_not_canceled\n",
      "13 avg_price_per_room\n",
      "14 no_of_special_requests\n"
     ]
    }
   ],
   "source": [
    "num=data.select_dtypes(['int64','float64']).columns\n",
    "print(\"Numerical Columns:\")\n",
    "print(\"_\"*20)\n",
    "for i,name in enumerate(num):\n",
    "    print(i+1,name)"
   ]
  },
  {
   "cell_type": "markdown",
   "id": "8f204f05",
   "metadata": {},
   "source": [
    "we will describe all rows in columns by Statistical Visualization"
   ]
  },
  {
   "cell_type": "code",
   "execution_count": 11,
   "id": "37e38cb8",
   "metadata": {},
   "outputs": [
    {
     "data": {
      "image/png": "[encoded data removed]",
      "text/plain": [
       "<Figure size 1440x1440 with 4 Axes>"
      ]
     },
     "metadata": {
      "needs_background": "light"
     },
     "output_type": "display_data"
    }
   ],
   "source": [
    "plt.figure(figsize=(20,20))\n",
    "plt.suptitle(\"Normal Distribution For All Cols in Data\",size=20)\n",
    "\n",
    "plt.subplot(2,2,1)\n",
    "plt.title('Normal Distribution for No_of_adults',size=15)\n",
    "plt.hist(data['no_of_adults'])\n",
    "    \n",
    "    \n",
    "#########################################################################\n",
    "plt.subplot(2,2,2)\n",
    "plt.title('Normal Distribution for No_of_children',size=15)\n",
    "plt.hist(data['no_of_children'])\n",
    "\n",
    "    \n",
    "#########################################################################\n",
    "plt.subplot(2,2,3)\n",
    "plt.title('Normal Distribution for no_of_weekend_nights',size=15)\n",
    "plt.hist(data['no_of_weekend_nights'])\n",
    "    \n",
    "    \n",
    "#########################################################################\n",
    "plt.subplot(2,2,4)\n",
    "plt.title('Normal Distribution for no_of_week_nights',size=15)\n",
    "plt.hist(data['no_of_week_nights'])\n",
    "\n",
    "    \n",
    "\n",
    "plt.show()"
   ]
  },
  {
   "cell_type": "code",
   "execution_count": 12,
   "id": "a1ea4b30",
   "metadata": {},
   "outputs": [
    {
     "data": {
      "image/png": "[encoded data removed]",
      "text/plain": [
       "<Figure size 1440x1440 with 4 Axes>"
      ]
     },
     "metadata": {
      "needs_background": "light"
     },
     "output_type": "display_data"
    }
   ],
   "source": [
    "plt.figure(figsize=(20,20))\n",
    "plt.suptitle(\"Normal Distribution For All Cols in Data\",size=20)\n",
    "\n",
    "plt.subplot(2,2,1)\n",
    "plt.title('Normal Distribution for required_car_parking_space',size=15)\n",
    "plt.hist(data['required_car_parking_space'])\n",
    "    \n",
    "    \n",
    "#########################################################################\n",
    "plt.subplot(2,2,2)\n",
    "plt.title('Normal Distribution for lead_time',size=15)\n",
    "plt.hist(data['lead_time'])\n",
    "\n",
    "    \n",
    "#########################################################################\n",
    "plt.subplot(2,2,3)\n",
    "plt.title('Normal Distribution for arrival_year',size=15)\n",
    "plt.hist(data['arrival_year'])\n",
    "    \n",
    "    \n",
    "#########################################################################\n",
    "plt.subplot(2,2,4)\n",
    "plt.title('Normal Distribution for arrival_month',size=15)\n",
    "plt.hist(data['arrival_month'])\n",
    "    \n",
    "\n",
    "plt.show()"
   ]
  },
  {
   "cell_type": "code",
   "execution_count": 13,
   "id": "66623e4d",
   "metadata": {},
   "outputs": [
    {
     "data": {
      "image/png": "[encoded data removed]",
      "text/plain": [
       "<Figure size 1440x1440 with 4 Axes>"
      ]
     },
     "metadata": {
      "needs_background": "light"
     },
     "output_type": "display_data"
    }
   ],
   "source": [
    "plt.figure(figsize=(20,20))\n",
    "plt.suptitle(\"Normal Distribution For All Cols in Data\",size=20)\n",
    "\n",
    "plt.subplot(2,2,1)\n",
    "plt.title('Normal Distribution for arrival_date',size=15)\n",
    "plt.hist(data['arrival_date'],bins=45)\n",
    "    \n",
    "    \n",
    "#########################################################################\n",
    "plt.subplot(2,2,2)\n",
    "plt.title('Normal Distribution for repeated_guest',size=15)\n",
    "plt.hist(data['repeated_guest'])\n",
    "\n",
    "    \n",
    "#########################################################################\n",
    "plt.subplot(2,2,3)\n",
    "plt.title('Normal Distribution for no_of_previous_cancellations',size=15)\n",
    "plt.hist(data['no_of_previous_cancellations'])\n",
    "    \n",
    "    \n",
    "#########################################################################\n",
    "plt.subplot(2,2,4)\n",
    "plt.title('Normal Distribution for no_of_previous_bookings_not_canceled',size=15)\n",
    "plt.hist(data['no_of_previous_bookings_not_canceled'])\n",
    "    \n",
    "\n",
    "plt.show()"
   ]
  },
  {
   "cell_type": "code",
   "execution_count": 14,
   "id": "942d3291",
   "metadata": {},
   "outputs": [
    {
     "data": {
      "image/png": "[encoded data removed]",
      "text/plain": [
       "<Figure size 1440x720 with 2 Axes>"
      ]
     },
     "metadata": {
      "needs_background": "light"
     },
     "output_type": "display_data"
    }
   ],
   "source": [
    "plt.figure(figsize=(20,10))\n",
    "plt.suptitle(\"Normal Distribution For All Cols in Data\",size=20)\n",
    "\n",
    "plt.subplot(1,2,1)\n",
    "plt.title('Normal Distribution for avg_price_per_room',size=15)\n",
    "plt.hist(data['avg_price_per_room'],bins=45)\n",
    "    \n",
    "    \n",
    "#########################################################################\n",
    "plt.subplot(1,2,2)\n",
    "plt.title('Normal Distribution for no_of_special_requests',size=15)\n",
    "plt.hist(data['no_of_special_requests'])\n",
    "\n",
    "    \n",
    "\n",
    "plt.show()"
   ]
  },
  {
   "cell_type": "markdown",
   "id": "e9e05cf7",
   "metadata": {},
   "source": [
    "As we can see many of the columns are skewed towards the right, if we transform them a little bit, it may affect our accuracy, so lets give it a try. For right skwed data it is good to use Log Transformer. I used the major transformers in the backend, and found the best reuslts came out with Log Transformer. So we will be going with it"
   ]
  },
  {
   "cell_type": "code",
   "execution_count": 15,
   "id": "cdd903fc",
   "metadata": {},
   "outputs": [],
   "source": [
    "from sklearn.preprocessing import FunctionTransformer"
   ]
  },
  {
   "cell_type": "markdown",
   "id": "584e6d6d",
   "metadata": {},
   "source": [
    "Add `Log Transformer` Func"
   ]
  },
  {
   "cell_type": "code",
   "execution_count": 16,
   "id": "23859787",
   "metadata": {},
   "outputs": [],
   "source": [
    "FT=FunctionTransformer(func=np.log1p)"
   ]
  },
  {
   "cell_type": "code",
   "execution_count": 17,
   "id": "03af8cba",
   "metadata": {},
   "outputs": [],
   "source": [
    "data[num]=FT.fit_transform(data[num])"
   ]
  },
  {
   "cell_type": "code",
   "execution_count": 18,
   "id": "1fb2f8b6",
   "metadata": {},
   "outputs": [
    {
     "data": {
      "text/html": [
       "<div>\n",
       "<style scoped>\n",
       "    .dataframe tbody tr th:only-of-type {\n",
       "        vertical-align: middle;\n",
       "    }\n",
       "\n",
       "    .dataframe tbody tr th {\n",
       "        vertical-align: top;\n",
       "    }\n",
       "\n",
       "    .dataframe thead th {\n",
       "        text-align: right;\n",
       "    }\n",
       "</style>\n",
       "<table border=\"1\" class=\"dataframe\">\n",
       "  <thead>\n",
       "    <tr style=\"text-align: right;\">\n",
       "      <th></th>\n",
       "      <th>no_of_adults</th>\n",
       "      <th>no_of_children</th>\n",
       "      <th>no_of_weekend_nights</th>\n",
       "      <th>no_of_week_nights</th>\n",
       "      <th>type_of_meal_plan</th>\n",
       "      <th>required_car_parking_space</th>\n",
       "      <th>room_type_reserved</th>\n",
       "      <th>lead_time</th>\n",
       "      <th>arrival_year</th>\n",
       "      <th>arrival_month</th>\n",
       "      <th>arrival_date</th>\n",
       "      <th>market_segment_type</th>\n",
       "      <th>repeated_guest</th>\n",
       "      <th>no_of_previous_cancellations</th>\n",
       "      <th>no_of_previous_bookings_not_canceled</th>\n",
       "      <th>avg_price_per_room</th>\n",
       "      <th>no_of_special_requests</th>\n",
       "      <th>booking_status</th>\n",
       "    </tr>\n",
       "  </thead>\n",
       "  <tbody>\n",
       "    <tr>\n",
       "      <th>0</th>\n",
       "      <td>1.098612</td>\n",
       "      <td>0.0</td>\n",
       "      <td>0.693147</td>\n",
       "      <td>1.098612</td>\n",
       "      <td>Meal Plan 1</td>\n",
       "      <td>0.0</td>\n",
       "      <td>Room_Type 1</td>\n",
       "      <td>5.416100</td>\n",
       "      <td>7.609862</td>\n",
       "      <td>2.397895</td>\n",
       "      <td>1.098612</td>\n",
       "      <td>Offline</td>\n",
       "      <td>0.0</td>\n",
       "      <td>0.0</td>\n",
       "      <td>0.0</td>\n",
       "      <td>4.189655</td>\n",
       "      <td>0.000000</td>\n",
       "      <td>Not_Canceled</td>\n",
       "    </tr>\n",
       "    <tr>\n",
       "      <th>1</th>\n",
       "      <td>1.098612</td>\n",
       "      <td>0.0</td>\n",
       "      <td>1.098612</td>\n",
       "      <td>1.386294</td>\n",
       "      <td>Not Selected</td>\n",
       "      <td>0.0</td>\n",
       "      <td>Room_Type 1</td>\n",
       "      <td>1.791759</td>\n",
       "      <td>7.610358</td>\n",
       "      <td>2.484907</td>\n",
       "      <td>1.945910</td>\n",
       "      <td>Online</td>\n",
       "      <td>0.0</td>\n",
       "      <td>0.0</td>\n",
       "      <td>0.0</td>\n",
       "      <td>4.679164</td>\n",
       "      <td>0.693147</td>\n",
       "      <td>Not_Canceled</td>\n",
       "    </tr>\n",
       "    <tr>\n",
       "      <th>2</th>\n",
       "      <td>0.693147</td>\n",
       "      <td>0.0</td>\n",
       "      <td>1.098612</td>\n",
       "      <td>0.693147</td>\n",
       "      <td>Meal Plan 1</td>\n",
       "      <td>0.0</td>\n",
       "      <td>Room_Type 1</td>\n",
       "      <td>0.693147</td>\n",
       "      <td>7.610358</td>\n",
       "      <td>1.098612</td>\n",
       "      <td>3.367296</td>\n",
       "      <td>Online</td>\n",
       "      <td>0.0</td>\n",
       "      <td>0.0</td>\n",
       "      <td>0.0</td>\n",
       "      <td>4.110874</td>\n",
       "      <td>0.000000</td>\n",
       "      <td>Canceled</td>\n",
       "    </tr>\n",
       "    <tr>\n",
       "      <th>3</th>\n",
       "      <td>1.098612</td>\n",
       "      <td>0.0</td>\n",
       "      <td>0.000000</td>\n",
       "      <td>1.098612</td>\n",
       "      <td>Meal Plan 1</td>\n",
       "      <td>0.0</td>\n",
       "      <td>Room_Type 1</td>\n",
       "      <td>5.356586</td>\n",
       "      <td>7.610358</td>\n",
       "      <td>1.791759</td>\n",
       "      <td>3.044522</td>\n",
       "      <td>Online</td>\n",
       "      <td>0.0</td>\n",
       "      <td>0.0</td>\n",
       "      <td>0.0</td>\n",
       "      <td>4.615121</td>\n",
       "      <td>0.000000</td>\n",
       "      <td>Canceled</td>\n",
       "    </tr>\n",
       "    <tr>\n",
       "      <th>4</th>\n",
       "      <td>1.098612</td>\n",
       "      <td>0.0</td>\n",
       "      <td>0.693147</td>\n",
       "      <td>0.693147</td>\n",
       "      <td>Not Selected</td>\n",
       "      <td>0.0</td>\n",
       "      <td>Room_Type 1</td>\n",
       "      <td>3.891820</td>\n",
       "      <td>7.610358</td>\n",
       "      <td>1.609438</td>\n",
       "      <td>2.484907</td>\n",
       "      <td>Online</td>\n",
       "      <td>0.0</td>\n",
       "      <td>0.0</td>\n",
       "      <td>0.0</td>\n",
       "      <td>4.559126</td>\n",
       "      <td>0.000000</td>\n",
       "      <td>Canceled</td>\n",
       "    </tr>\n",
       "  </tbody>\n",
       "</table>\n",
       "</div>"
      ],
      "text/plain": [
       "   no_of_adults  no_of_children  no_of_weekend_nights  no_of_week_nights  \\\n",
       "0      1.098612             0.0              0.693147           1.098612   \n",
       "1      1.098612             0.0              1.098612           1.386294   \n",
       "2      0.693147             0.0              1.098612           0.693147   \n",
       "3      1.098612             0.0              0.000000           1.098612   \n",
       "4      1.098612             0.0              0.693147           0.693147   \n",
       "\n",
       "  type_of_meal_plan  required_car_parking_space room_type_reserved  lead_time  \\\n",
       "0       Meal Plan 1                         0.0        Room_Type 1   5.416100   \n",
       "1      Not Selected                         0.0        Room_Type 1   1.791759   \n",
       "2       Meal Plan 1                         0.0        Room_Type 1   0.693147   \n",
       "3       Meal Plan 1                         0.0        Room_Type 1   5.356586   \n",
       "4      Not Selected                         0.0        Room_Type 1   3.891820   \n",
       "\n",
       "   arrival_year  arrival_month  arrival_date market_segment_type  \\\n",
       "0      7.609862       2.397895      1.098612             Offline   \n",
       "1      7.610358       2.484907      1.945910              Online   \n",
       "2      7.610358       1.098612      3.367296              Online   \n",
       "3      7.610358       1.791759      3.044522              Online   \n",
       "4      7.610358       1.609438      2.484907              Online   \n",
       "\n",
       "   repeated_guest  no_of_previous_cancellations  \\\n",
       "0             0.0                           0.0   \n",
       "1             0.0                           0.0   \n",
       "2             0.0                           0.0   \n",
       "3             0.0                           0.0   \n",
       "4             0.0                           0.0   \n",
       "\n",
       "   no_of_previous_bookings_not_canceled  avg_price_per_room  \\\n",
       "0                                   0.0            4.189655   \n",
       "1                                   0.0            4.679164   \n",
       "2                                   0.0            4.110874   \n",
       "3                                   0.0            4.615121   \n",
       "4                                   0.0            4.559126   \n",
       "\n",
       "   no_of_special_requests booking_status  \n",
       "0                0.000000   Not_Canceled  \n",
       "1                0.693147   Not_Canceled  \n",
       "2                0.000000       Canceled  \n",
       "3                0.000000       Canceled  \n",
       "4                0.000000       Canceled  "
      ]
     },
     "execution_count": 18,
     "metadata": {},
     "output_type": "execute_result"
    }
   ],
   "source": [
    "data.head()"
   ]
  },
  {
   "cell_type": "markdown",
   "id": "2c2cc803",
   "metadata": {},
   "source": [
    "#### Convert Catigorical Columns To Numerical Type"
   ]
  },
  {
   "cell_type": "markdown",
   "id": "9dcc2586",
   "metadata": {},
   "source": [
    "Categroical Columns"
   ]
  },
  {
   "cell_type": "code",
   "execution_count": 19,
   "id": "7dcc38de",
   "metadata": {},
   "outputs": [
    {
     "name": "stdout",
     "output_type": "stream",
     "text": [
      "Categorical Columns:\n",
      "____________________\n",
      "1 type_of_meal_plan\n",
      "2 room_type_reserved\n",
      "3 market_segment_type\n",
      "4 booking_status\n"
     ]
    }
   ],
   "source": [
    "cat=data.select_dtypes('object').columns\n",
    "print(\"Categorical Columns:\")\n",
    "print(\"_\"*20)\n",
    "for i,name in enumerate(cat):\n",
    "    print(i+1,name)"
   ]
  },
  {
   "cell_type": "markdown",
   "id": "67546ad2",
   "metadata": {},
   "source": [
    "show values inside every categorical columns"
   ]
  },
  {
   "cell_type": "code",
   "execution_count": 20,
   "id": "ad8236b4",
   "metadata": {},
   "outputs": [],
   "source": [
    "Meal_count=data['type_of_meal_plan'].value_counts()\n",
    "Room_count=data['room_type_reserved'].value_counts()\n",
    "market_count=data['market_segment_type'].value_counts()\n",
    "BS_count=data['booking_status'].value_counts()"
   ]
  },
  {
   "cell_type": "code",
   "execution_count": 21,
   "id": "fcc1cb41",
   "metadata": {},
   "outputs": [
    {
     "data": {
      "image/png": "[encoded data removed]",
      "text/plain": [
       "<Figure size 1440x1440 with 4 Axes>"
      ]
     },
     "metadata": {},
     "output_type": "display_data"
    }
   ],
   "source": [
    "plt.figure(figsize=(20,20))\n",
    "plt.suptitle(\"Describe Counts For Categorical Columns\",size=20)\n",
    "\n",
    "plt.subplot(2,2,1)\n",
    "plt.title('Count For type_of_meal_plan',size=15)\n",
    "plt.pie(Meal_count,\n",
    "        labels=Meal_count.index,\n",
    "        autopct='%.1f%%')\n",
    "    \n",
    "plt.legend()    \n",
    "#########################################################################\n",
    "plt.subplot(2,2,2)\n",
    "plt.title('Count For room_type_reserved',size=15)\n",
    "plt.pie(Room_count,\n",
    "        labels=Room_count.index,\n",
    "        autopct='%.1f%%')\n",
    "plt.legend()    \n",
    "#########################################################################\n",
    "plt.subplot(2,2,3)\n",
    "plt.title('Count For market_segment_type',size=15)\n",
    "plt.pie(market_count,\n",
    "        labels=market_count.index,\n",
    "        autopct='%.1f%%')    \n",
    "plt.legend()   \n",
    "#########################################################################\n",
    "plt.subplot(2,2,4)\n",
    "plt.title('Count For Booking_status',size=15)\n",
    "plt.pie(BS_count,\n",
    "        labels=BS_count.index,\n",
    "        autopct='%.1f%%')    \n",
    "plt.legend()\n",
    "plt.show()"
   ]
  },
  {
   "cell_type": "markdown",
   "id": "3c7db0ab",
   "metadata": {},
   "source": [
    "As we can see there are several values in the market_segment_type and room_type_reserved that have several values which comprises of only a small portion in the value, these may decrease the efficiency of the model, lets encode the major ones, and put the minor ones into another columns"
   ]
  },
  {
   "cell_type": "markdown",
   "id": "f3ca458a",
   "metadata": {},
   "source": [
    "- Convert room type 5 ,7,3 to room_Type_other because have small count "
   ]
  },
  {
   "cell_type": "code",
   "execution_count": 22,
   "id": "c687c644",
   "metadata": {},
   "outputs": [],
   "source": [
    "cons=690\n",
    "indx_rtr = data[\"room_type_reserved\"].value_counts()[data[\"room_type_reserved\"].value_counts() <= cons].index\n",
    "rtr=pd.get_dummies(data['room_type_reserved'].replace(indx_rtr,'room_type_other'))"
   ]
  },
  {
   "cell_type": "markdown",
   "id": "842b874c",
   "metadata": {},
   "source": [
    "- Convert market_segment_type Complementary,Aviation to market_type_other because have small count"
   ]
  },
  {
   "cell_type": "code",
   "execution_count": 23,
   "id": "08ae4458",
   "metadata": {},
   "outputs": [],
   "source": [
    "cons=2000\n",
    "indx_mst = data[\"market_segment_type\"].value_counts()[data[\"market_segment_type\"].value_counts() <= cons].index\n",
    "mst=pd.get_dummies(data['market_segment_type'].replace(indx_mst,'market_type_other'))"
   ]
  },
  {
   "cell_type": "markdown",
   "id": "c45603e7",
   "metadata": {},
   "source": [
    "- Convert column type_of_meal_plan to numerical multicolumns "
   ]
  },
  {
   "cell_type": "code",
   "execution_count": 24,
   "id": "2f925495",
   "metadata": {},
   "outputs": [],
   "source": [
    "tomp=pd.get_dummies(data['type_of_meal_plan'])"
   ]
  },
  {
   "cell_type": "markdown",
   "id": "2419958e",
   "metadata": {},
   "source": [
    "Now we don't need columns `market_segment_type`, `room_type_reserved` and\n",
    "`type_of_meal_plan` we will replace them by `rtr`, `mst` and `tomp` "
   ]
  },
  {
   "cell_type": "code",
   "execution_count": 25,
   "id": "3260071e",
   "metadata": {},
   "outputs": [],
   "source": [
    "data.drop(columns=['market_segment_type','room_type_reserved','type_of_meal_plan'],inplace=True)"
   ]
  },
  {
   "cell_type": "code",
   "execution_count": 27,
   "id": "dc04504a",
   "metadata": {},
   "outputs": [],
   "source": [
    "new_data=pd.concat([rtr,mst,tomp,data],axis=1,join='inner')"
   ]
  },
  {
   "cell_type": "markdown",
   "id": "15acbd05",
   "metadata": {},
   "source": [
    "- Convert Values Of Booking_status From [Not_Canceled - Canceled] To [1 - 0] "
   ]
  },
  {
   "cell_type": "code",
   "execution_count": 28,
   "id": "10248f04",
   "metadata": {},
   "outputs": [],
   "source": [
    "new_data['booking_status'].replace({'Not_Canceled':1,\n",
    "                                'Canceled':0},inplace=True)"
   ]
  },
  {
   "cell_type": "code",
   "execution_count": 29,
   "id": "f0100a77",
   "metadata": {},
   "outputs": [
    {
     "data": {
      "text/html": [
       "<div>\n",
       "<style scoped>\n",
       "    .dataframe tbody tr th:only-of-type {\n",
       "        vertical-align: middle;\n",
       "    }\n",
       "\n",
       "    .dataframe tbody tr th {\n",
       "        vertical-align: top;\n",
       "    }\n",
       "\n",
       "    .dataframe thead th {\n",
       "        text-align: right;\n",
       "    }\n",
       "</style>\n",
       "<table border=\"1\" class=\"dataframe\">\n",
       "  <thead>\n",
       "    <tr style=\"text-align: right;\">\n",
       "      <th></th>\n",
       "      <th>Room_Type 1</th>\n",
       "      <th>Room_Type 2</th>\n",
       "      <th>Room_Type 4</th>\n",
       "      <th>Room_Type 6</th>\n",
       "      <th>room_type_other</th>\n",
       "      <th>Corporate</th>\n",
       "      <th>Offline</th>\n",
       "      <th>Online</th>\n",
       "      <th>market_type_other</th>\n",
       "      <th>Meal Plan 1</th>\n",
       "      <th>...</th>\n",
       "      <th>lead_time</th>\n",
       "      <th>arrival_year</th>\n",
       "      <th>arrival_month</th>\n",
       "      <th>arrival_date</th>\n",
       "      <th>repeated_guest</th>\n",
       "      <th>no_of_previous_cancellations</th>\n",
       "      <th>no_of_previous_bookings_not_canceled</th>\n",
       "      <th>avg_price_per_room</th>\n",
       "      <th>no_of_special_requests</th>\n",
       "      <th>booking_status</th>\n",
       "    </tr>\n",
       "  </thead>\n",
       "  <tbody>\n",
       "    <tr>\n",
       "      <th>0</th>\n",
       "      <td>1</td>\n",
       "      <td>0</td>\n",
       "      <td>0</td>\n",
       "      <td>0</td>\n",
       "      <td>0</td>\n",
       "      <td>0</td>\n",
       "      <td>1</td>\n",
       "      <td>0</td>\n",
       "      <td>0</td>\n",
       "      <td>1</td>\n",
       "      <td>...</td>\n",
       "      <td>5.416100</td>\n",
       "      <td>7.609862</td>\n",
       "      <td>2.397895</td>\n",
       "      <td>1.098612</td>\n",
       "      <td>0.0</td>\n",
       "      <td>0.0</td>\n",
       "      <td>0.0</td>\n",
       "      <td>4.189655</td>\n",
       "      <td>0.000000</td>\n",
       "      <td>1</td>\n",
       "    </tr>\n",
       "    <tr>\n",
       "      <th>1</th>\n",
       "      <td>1</td>\n",
       "      <td>0</td>\n",
       "      <td>0</td>\n",
       "      <td>0</td>\n",
       "      <td>0</td>\n",
       "      <td>0</td>\n",
       "      <td>0</td>\n",
       "      <td>1</td>\n",
       "      <td>0</td>\n",
       "      <td>0</td>\n",
       "      <td>...</td>\n",
       "      <td>1.791759</td>\n",
       "      <td>7.610358</td>\n",
       "      <td>2.484907</td>\n",
       "      <td>1.945910</td>\n",
       "      <td>0.0</td>\n",
       "      <td>0.0</td>\n",
       "      <td>0.0</td>\n",
       "      <td>4.679164</td>\n",
       "      <td>0.693147</td>\n",
       "      <td>1</td>\n",
       "    </tr>\n",
       "    <tr>\n",
       "      <th>2</th>\n",
       "      <td>1</td>\n",
       "      <td>0</td>\n",
       "      <td>0</td>\n",
       "      <td>0</td>\n",
       "      <td>0</td>\n",
       "      <td>0</td>\n",
       "      <td>0</td>\n",
       "      <td>1</td>\n",
       "      <td>0</td>\n",
       "      <td>1</td>\n",
       "      <td>...</td>\n",
       "      <td>0.693147</td>\n",
       "      <td>7.610358</td>\n",
       "      <td>1.098612</td>\n",
       "      <td>3.367296</td>\n",
       "      <td>0.0</td>\n",
       "      <td>0.0</td>\n",
       "      <td>0.0</td>\n",
       "      <td>4.110874</td>\n",
       "      <td>0.000000</td>\n",
       "      <td>0</td>\n",
       "    </tr>\n",
       "    <tr>\n",
       "      <th>3</th>\n",
       "      <td>1</td>\n",
       "      <td>0</td>\n",
       "      <td>0</td>\n",
       "      <td>0</td>\n",
       "      <td>0</td>\n",
       "      <td>0</td>\n",
       "      <td>0</td>\n",
       "      <td>1</td>\n",
       "      <td>0</td>\n",
       "      <td>1</td>\n",
       "      <td>...</td>\n",
       "      <td>5.356586</td>\n",
       "      <td>7.610358</td>\n",
       "      <td>1.791759</td>\n",
       "      <td>3.044522</td>\n",
       "      <td>0.0</td>\n",
       "      <td>0.0</td>\n",
       "      <td>0.0</td>\n",
       "      <td>4.615121</td>\n",
       "      <td>0.000000</td>\n",
       "      <td>0</td>\n",
       "    </tr>\n",
       "    <tr>\n",
       "      <th>4</th>\n",
       "      <td>1</td>\n",
       "      <td>0</td>\n",
       "      <td>0</td>\n",
       "      <td>0</td>\n",
       "      <td>0</td>\n",
       "      <td>0</td>\n",
       "      <td>0</td>\n",
       "      <td>1</td>\n",
       "      <td>0</td>\n",
       "      <td>0</td>\n",
       "      <td>...</td>\n",
       "      <td>3.891820</td>\n",
       "      <td>7.610358</td>\n",
       "      <td>1.609438</td>\n",
       "      <td>2.484907</td>\n",
       "      <td>0.0</td>\n",
       "      <td>0.0</td>\n",
       "      <td>0.0</td>\n",
       "      <td>4.559126</td>\n",
       "      <td>0.000000</td>\n",
       "      <td>0</td>\n",
       "    </tr>\n",
       "  </tbody>\n",
       "</table>\n",
       "<p>5 rows × 28 columns</p>\n",
       "</div>"
      ],
      "text/plain": [
       "   Room_Type 1  Room_Type 2  Room_Type 4  Room_Type 6  room_type_other  \\\n",
       "0            1            0            0            0                0   \n",
       "1            1            0            0            0                0   \n",
       "2            1            0            0            0                0   \n",
       "3            1            0            0            0                0   \n",
       "4            1            0            0            0                0   \n",
       "\n",
       "   Corporate  Offline  Online  market_type_other  Meal Plan 1  ...  lead_time  \\\n",
       "0          0        1       0                  0            1  ...   5.416100   \n",
       "1          0        0       1                  0            0  ...   1.791759   \n",
       "2          0        0       1                  0            1  ...   0.693147   \n",
       "3          0        0       1                  0            1  ...   5.356586   \n",
       "4          0        0       1                  0            0  ...   3.891820   \n",
       "\n",
       "   arrival_year  arrival_month  arrival_date  repeated_guest  \\\n",
       "0      7.609862       2.397895      1.098612             0.0   \n",
       "1      7.610358       2.484907      1.945910             0.0   \n",
       "2      7.610358       1.098612      3.367296             0.0   \n",
       "3      7.610358       1.791759      3.044522             0.0   \n",
       "4      7.610358       1.609438      2.484907             0.0   \n",
       "\n",
       "   no_of_previous_cancellations  no_of_previous_bookings_not_canceled  \\\n",
       "0                           0.0                                   0.0   \n",
       "1                           0.0                                   0.0   \n",
       "2                           0.0                                   0.0   \n",
       "3                           0.0                                   0.0   \n",
       "4                           0.0                                   0.0   \n",
       "\n",
       "   avg_price_per_room  no_of_special_requests  booking_status  \n",
       "0            4.189655                0.000000               1  \n",
       "1            4.679164                0.693147               1  \n",
       "2            4.110874                0.000000               0  \n",
       "3            4.615121                0.000000               0  \n",
       "4            4.559126                0.000000               0  \n",
       "\n",
       "[5 rows x 28 columns]"
      ]
     },
     "execution_count": 29,
     "metadata": {},
     "output_type": "execute_result"
    }
   ],
   "source": [
    "new_data.head()"
   ]
  },
  {
   "cell_type": "markdown",
   "id": "99ae1310",
   "metadata": {},
   "source": [
    "#### We need To Know Correlation Between Booking_Status with every columns"
   ]
  },
  {
   "cell_type": "code",
   "execution_count": 30,
   "id": "51791de2",
   "metadata": {},
   "outputs": [
    {
     "data": {
      "text/plain": [
       "<AxesSubplot:>"
      ]
     },
     "execution_count": 30,
     "metadata": {},
     "output_type": "execute_result"
    },
    {
     "data": {
      "image/png": "[encoded data removed]",
      "text/plain": [
       "<Figure size 1080x1080 with 2 Axes>"
      ]
     },
     "metadata": {
      "needs_background": "light"
     },
     "output_type": "display_data"
    }
   ],
   "source": [
    "plt.figure(figsize=(15,15))\n",
    "sns.heatmap(new_data.corr())"
   ]
  },
  {
   "cell_type": "code",
   "execution_count": 31,
   "id": "3ed69fae",
   "metadata": {},
   "outputs": [
    {
     "data": {
      "text/plain": [
       "lead_time                              -0.380871\n",
       "arrival_year                           -0.179529\n",
       "avg_price_per_room                     -0.138485\n",
       "Online                                 -0.106362\n",
       "no_of_adults                           -0.088393\n",
       "Meal Plan 2                            -0.086370\n",
       "no_of_week_nights                      -0.082837\n",
       "no_of_weekend_nights                   -0.057137\n",
       "Room_Type 6                            -0.032652\n",
       "arrival_month                          -0.031963\n",
       "no_of_children                         -0.031947\n",
       "Room_Type 4                            -0.013309\n",
       "arrival_date                           -0.004949\n",
       "Not Selected                           -0.003072\n",
       "Room_Type 2                            -0.000548\n",
       "Meal Plan 3                             0.003193\n",
       "room_type_other                         0.016760\n",
       "Room_Type 1                             0.020326\n",
       "Offline                                 0.038351\n",
       "no_of_previous_cancellations            0.050026\n",
       "Meal Plan 1                             0.061267\n",
       "market_type_other                       0.065502\n",
       "required_car_parking_space              0.086185\n",
       "no_of_previous_bookings_not_canceled    0.090965\n",
       "repeated_guest                          0.107287\n",
       "Corporate                               0.112993\n",
       "no_of_special_requests                  0.257632\n",
       "booking_status                          1.000000\n",
       "Name: booking_status, dtype: float64"
      ]
     },
     "execution_count": 31,
     "metadata": {},
     "output_type": "execute_result"
    }
   ],
   "source": [
    "new_data.corr()['booking_status'].sort_values()"
   ]
  },
  {
   "cell_type": "code",
   "execution_count": 32,
   "id": "435ac429",
   "metadata": {},
   "outputs": [
    {
     "name": "stdout",
     "output_type": "stream",
     "text": [
      "<class 'pandas.core.frame.DataFrame'>\n",
      "RangeIndex: 36275 entries, 0 to 36274\n",
      "Data columns (total 28 columns):\n",
      " #   Column                                Non-Null Count  Dtype  \n",
      "---  ------                                --------------  -----  \n",
      " 0   Room_Type 1                           36275 non-null  uint8  \n",
      " 1   Room_Type 2                           36275 non-null  uint8  \n",
      " 2   Room_Type 4                           36275 non-null  uint8  \n",
      " 3   Room_Type 6                           36275 non-null  uint8  \n",
      " 4   room_type_other                       36275 non-null  uint8  \n",
      " 5   Corporate                             36275 non-null  uint8  \n",
      " 6   Offline                               36275 non-null  uint8  \n",
      " 7   Online                                36275 non-null  uint8  \n",
      " 8   market_type_other                     36275 non-null  uint8  \n",
      " 9   Meal Plan 1                           36275 non-null  uint8  \n",
      " 10  Meal Plan 2                           36275 non-null  uint8  \n",
      " 11  Meal Plan 3                           36275 non-null  uint8  \n",
      " 12  Not Selected                          36275 non-null  uint8  \n",
      " 13  no_of_adults                          36275 non-null  float64\n",
      " 14  no_of_children                        36275 non-null  float64\n",
      " 15  no_of_weekend_nights                  36275 non-null  float64\n",
      " 16  no_of_week_nights                     36275 non-null  float64\n",
      " 17  required_car_parking_space            36275 non-null  float64\n",
      " 18  lead_time                             36275 non-null  float64\n",
      " 19  arrival_year                          36275 non-null  float64\n",
      " 20  arrival_month                         36275 non-null  float64\n",
      " 21  arrival_date                          36275 non-null  float64\n",
      " 22  repeated_guest                        36275 non-null  float64\n",
      " 23  no_of_previous_cancellations          36275 non-null  float64\n",
      " 24  no_of_previous_bookings_not_canceled  36275 non-null  float64\n",
      " 25  avg_price_per_room                    36275 non-null  float64\n",
      " 26  no_of_special_requests                36275 non-null  float64\n",
      " 27  booking_status                        36275 non-null  int64  \n",
      "dtypes: float64(14), int64(1), uint8(13)\n",
      "memory usage: 4.6 MB\n"
     ]
    }
   ],
   "source": [
    "new_data.info()"
   ]
  },
  {
   "cell_type": "markdown",
   "id": "5a80d805",
   "metadata": {},
   "source": [
    "my data is ready for training model we will split to X for input, y for output"
   ]
  },
  {
   "cell_type": "code",
   "execution_count": 33,
   "id": "50d2f07d",
   "metadata": {},
   "outputs": [],
   "source": [
    "X=new_data.drop(columns='booking_status')\n",
    "y=new_data['booking_status']"
   ]
  },
  {
   "cell_type": "markdown",
   "id": "e4fc408b",
   "metadata": {},
   "source": [
    "_____"
   ]
  },
  {
   "cell_type": "markdown",
   "id": "3df70947",
   "metadata": {},
   "source": [
    "<a id='split'></a>\n",
    "# Split data into train and test sets for model"
   ]
  },
  {
   "cell_type": "code",
   "execution_count": 34,
   "id": "c4ad5379",
   "metadata": {},
   "outputs": [],
   "source": [
    "from sklearn.model_selection import train_test_split"
   ]
  },
  {
   "cell_type": "code",
   "execution_count": 35,
   "id": "f6b9e684",
   "metadata": {},
   "outputs": [],
   "source": [
    "X_train,X_test,y_train,y_test=train_test_split(X,y,test_size=0.3,random_state=42)"
   ]
  },
  {
   "cell_type": "code",
   "execution_count": 36,
   "id": "88b015a1",
   "metadata": {},
   "outputs": [
    {
     "name": "stdout",
     "output_type": "stream",
     "text": [
      "Train set Size : 25392\n",
      "Test set Size : 10883\n"
     ]
    }
   ],
   "source": [
    "print(f\"Train set Size : {len(X_train)}\")\n",
    "print(f\"Test set Size : {len(X_test)}\")"
   ]
  },
  {
   "cell_type": "markdown",
   "id": "eee88c56",
   "metadata": {},
   "source": [
    "we will convert values for X to make it values in equal range "
   ]
  },
  {
   "cell_type": "code",
   "execution_count": 37,
   "id": "567a2aad",
   "metadata": {},
   "outputs": [],
   "source": [
    "from sklearn.preprocessing import StandardScaler"
   ]
  },
  {
   "cell_type": "code",
   "execution_count": 38,
   "id": "ecc2f2d1",
   "metadata": {},
   "outputs": [],
   "source": [
    "sc = StandardScaler()\n",
    "X_train = sc.fit_transform(X_train)\n",
    "X_test = sc.transform(X_test)"
   ]
  },
  {
   "cell_type": "markdown",
   "id": "76c350bd",
   "metadata": {},
   "source": [
    "________"
   ]
  },
  {
   "cell_type": "markdown",
   "id": "d1f311d9",
   "metadata": {},
   "source": [
    "<a id='model'></a>\n",
    "# Choose & Train the Model"
   ]
  },
  {
   "cell_type": "code",
   "execution_count": 145,
   "id": "8dc2bd50",
   "metadata": {},
   "outputs": [],
   "source": [
    "from sklearn.metrics import accuracy_score,f1_score, classification_report, confusion_matrix, plot_roc_curve,roc_curve,precision_score,recall_score\n",
    "from sklearn.linear_model import LogisticRegression\n",
    "from sklearn.ensemble import BaggingClassifier\n",
    "from sklearn.ensemble import VotingClassifier\n",
    "from sklearn.tree import DecisionTreeClassifier\n",
    "from sklearn.svm import SVC"
   ]
  },
  {
   "cell_type": "markdown",
   "id": "f4a09ec1",
   "metadata": {},
   "source": [
    "Model_No1: LogisticRegression\n",
    "<br>Model_No2: DecisionTree\n",
    "<br>Model_No3: Support Vector Machine"
   ]
  },
  {
   "cell_type": "markdown",
   "id": "290dcdb9",
   "metadata": {},
   "source": [
    "### Model_No1:LogisticRegression"
   ]
  },
  {
   "cell_type": "code",
   "execution_count": 146,
   "id": "93fbc0eb",
   "metadata": {},
   "outputs": [],
   "source": [
    "LR=LogisticRegression()\n",
    "DTC=DecisionTreeClassifier()\n",
    "SVC=SVC()"
   ]
  },
  {
   "cell_type": "code",
   "execution_count": 147,
   "id": "1f4bc038",
   "metadata": {},
   "outputs": [
    {
     "data": {
      "text/plain": [
       "SVC()"
      ]
     },
     "execution_count": 147,
     "metadata": {},
     "output_type": "execute_result"
    }
   ],
   "source": [
    "LR.fit(X_train,y_train)\n",
    "DTC.fit(X_train,y_train)\n",
    "SVC.fit(X_train,y_train)"
   ]
  },
  {
   "cell_type": "markdown",
   "id": "83f61663",
   "metadata": {},
   "source": [
    "#### Model Predict"
   ]
  },
  {
   "cell_type": "code",
   "execution_count": 148,
   "id": "cd1cda25",
   "metadata": {},
   "outputs": [],
   "source": [
    "y_pred1=LR.predict(X_test)\n",
    "y_pred2=DTC.predict(X_test)\n",
    "y_pred3=SVC.predict(X_test)"
   ]
  },
  {
   "cell_type": "code",
   "execution_count": 149,
   "id": "c4c4c34e",
   "metadata": {},
   "outputs": [
    {
     "name": "stdout",
     "output_type": "stream",
     "text": [
      "Original output\t:[1 1 1 ... 1 0 0]\n",
      "________________________________________\n",
      "LR predict output\t:[1 1 1 ... 1 0 0]\n",
      "DTC predict output\t:[1 1 1 ... 1 0 0]\n",
      "SVC predict output\t:[1 1 1 ... 1 0 0]\n"
     ]
    }
   ],
   "source": [
    "print(f\"Original output\\t:{y_test.values}\")\n",
    "print(\"_\"*40)\n",
    "print(f\"LR predict output\\t:{y_pred1}\")\n",
    "print(f\"DTC predict output\\t:{y_pred2}\")\n",
    "print(f\"SVC predict output\\t:{y_pred3}\")"
   ]
  },
  {
   "cell_type": "markdown",
   "id": "d4b08bd5",
   "metadata": {},
   "source": [
    "#### Model Evaluation\n",
    "accuracy_score \n",
    "<br>f1_score \n",
    "<br>precision_score \n",
    "<br>recall_score\n",
    "<br>classification_report \n",
    "<br>confusion_matrix \n",
    "<br>ROC CURVE"
   ]
  },
  {
   "cell_type": "code",
   "execution_count": 176,
   "id": "2c940f7a",
   "metadata": {},
   "outputs": [
    {
     "data": {
      "text/html": [
       "<div>\n",
       "<style scoped>\n",
       "    .dataframe tbody tr th:only-of-type {\n",
       "        vertical-align: middle;\n",
       "    }\n",
       "\n",
       "    .dataframe tbody tr th {\n",
       "        vertical-align: top;\n",
       "    }\n",
       "\n",
       "    .dataframe thead th {\n",
       "        text-align: right;\n",
       "    }\n",
       "</style>\n",
       "<table border=\"1\" class=\"dataframe\">\n",
       "  <thead>\n",
       "    <tr style=\"text-align: right;\">\n",
       "      <th></th>\n",
       "      <th>Model</th>\n",
       "      <th>Train_Accuracy</th>\n",
       "      <th>Test_Accuracy</th>\n",
       "      <th>F1 score</th>\n",
       "      <th>Precision</th>\n",
       "      <th>Recall</th>\n",
       "    </tr>\n",
       "  </thead>\n",
       "  <tbody>\n",
       "    <tr>\n",
       "      <th>0</th>\n",
       "      <td>Logistic Regression</td>\n",
       "      <td>80.0 %</td>\n",
       "      <td>80.0 %</td>\n",
       "      <td>86.0 %</td>\n",
       "      <td>82.0 %</td>\n",
       "      <td>90.0 %</td>\n",
       "    </tr>\n",
       "    <tr>\n",
       "      <th>1</th>\n",
       "      <td>Decision Tree</td>\n",
       "      <td>99.0 %</td>\n",
       "      <td>87.0 %</td>\n",
       "      <td>90.0 %</td>\n",
       "      <td>90.0 %</td>\n",
       "      <td>89.0 %</td>\n",
       "    </tr>\n",
       "    <tr>\n",
       "      <th>2</th>\n",
       "      <td>SVC</td>\n",
       "      <td>84.0 %</td>\n",
       "      <td>83.0 %</td>\n",
       "      <td>88.0 %</td>\n",
       "      <td>84.0 %</td>\n",
       "      <td>92.0 %</td>\n",
       "    </tr>\n",
       "  </tbody>\n",
       "</table>\n",
       "</div>"
      ],
      "text/plain": [
       "                 Model Train_Accuracy Test_Accuracy F1 score Precision  Recall\n",
       "0  Logistic Regression         80.0 %        80.0 %   86.0 %    82.0 %  90.0 %\n",
       "1        Decision Tree         99.0 %        87.0 %   90.0 %    90.0 %  89.0 %\n",
       "2                  SVC         84.0 %        83.0 %   88.0 %    84.0 %  92.0 %"
      ]
     },
     "execution_count": 176,
     "metadata": {},
     "output_type": "execute_result"
    }
   ],
   "source": [
    "train_acc=f\"{round(LR.score(X_train,y_train),2)*100} %\"\n",
    "acc = f\"{round(accuracy_score(y_test,y_pred1),2)*100} %\"\n",
    "f1 = f\"{round(f1_score(y_test,y_pred1),2)*100} %\"\n",
    "prec = f\"{round(precision_score(y_test,y_pred1),2)*100} %\"\n",
    "rec =  f\"{round(recall_score(y_test,y_pred1),2)*100} %\"\n",
    "\n",
    "#________________________________________________________________________\n",
    "\n",
    "train_acc2=f\"{round(DTC.score(X_train,y_train),2)*100} %\"\n",
    "acc2 = f\"{round(accuracy_score(y_test,y_pred2),2)*100} %\"\n",
    "f12 = f\"{round(f1_score(y_test,y_pred2),2)*100} %\"\n",
    "prec2 = f\"{round(precision_score(y_test,y_pred2),2)*100} %\"\n",
    "rec2 =  f\"{round(recall_score(y_test,y_pred2),2)*100} %\"\n",
    "\n",
    "#________________________________________________________________________\n",
    "train_acc3=f\"{round(SVC.score(X_train,y_train),2)*100} %\"\n",
    "acc3 = f\"{round(accuracy_score(y_test,y_pred3),2)*100} %\"\n",
    "f13 = f\"{round(f1_score(y_test,y_pred3),2)*100} %\"\n",
    "prec3 = f\"{round(precision_score(y_test,y_pred3),2)*100} %\"\n",
    "rec3 =  f\"{round(recall_score(y_test,y_pred3),2)*100} %\"\n",
    "\n",
    "\n",
    "results = pd.DataFrame([['Logistic Regression',train_acc, acc, f1, prec, rec],\n",
    "                        ['Decision Tree',train_acc2, acc2, f12, prec2, rec2],\n",
    "                        ['SVC',train_acc3, acc3, f13, prec3, rec3]],\n",
    "                     columns =  ['Model','Train_Accuracy','Test_Accuracy','F1 score','Precision','Recall'])\n",
    "results"
   ]
  },
  {
   "cell_type": "code",
   "execution_count": 60,
   "id": "08eecad8",
   "metadata": {},
   "outputs": [
    {
     "name": "stdout",
     "output_type": "stream",
     "text": [
      "Report for LR:\n",
      "               precision    recall  f1-score   support\n",
      "\n",
      "           0       0.75      0.60      0.67      3607\n",
      "           1       0.82      0.90      0.86      7276\n",
      "\n",
      "    accuracy                           0.80     10883\n",
      "   macro avg       0.78      0.75      0.76     10883\n",
      "weighted avg       0.80      0.80      0.79     10883\n",
      "\n",
      "__________________________________________________\n",
      "Report for DTC:\n",
      "               precision    recall  f1-score   support\n",
      "\n",
      "           0       0.79      0.81      0.80      3607\n",
      "           1       0.90      0.90      0.90      7276\n",
      "\n",
      "    accuracy                           0.87     10883\n",
      "   macro avg       0.85      0.85      0.85     10883\n",
      "weighted avg       0.87      0.87      0.87     10883\n",
      "\n",
      "__________________________________________________\n",
      "Report for SVC:\n",
      "               precision    recall  f1-score   support\n",
      "\n",
      "           0       0.80      0.66      0.72      3607\n",
      "           1       0.84      0.92      0.88      7276\n",
      "\n",
      "    accuracy                           0.83     10883\n",
      "   macro avg       0.82      0.79      0.80     10883\n",
      "weighted avg       0.83      0.83      0.83     10883\n",
      "\n"
     ]
    }
   ],
   "source": [
    "print(\"Report for LR:\\n\",classification_report(y_test,y_pred1))\n",
    "print(\"_\"*50)\n",
    "print(\"Report for DTC:\\n\",classification_report(y_test,y_pred2))\n",
    "print(\"_\"*50)\n",
    "print(\"Report for SVC:\\n\",classification_report(y_test,y_pred3))"
   ]
  },
  {
   "cell_type": "code",
   "execution_count": 70,
   "id": "afb1511c",
   "metadata": {},
   "outputs": [
    {
     "name": "stdout",
     "output_type": "stream",
     "text": [
      "_______________________________Model LR_______________________________\n",
      "Correct Predict :\n",
      "______________________________\n",
      "number of True Positive : 2182\n",
      "number of True Negative : 6530\n",
      "\n",
      "Incorrect Predict :\n",
      "______________________________\n",
      "number of False Positive : 1425\n",
      "number of False Negative : 746\n",
      "\n",
      "************************************************************\n",
      "______________________________Model DTC_______________________________\n",
      "Correct Predict :\n",
      "______________________________\n",
      "number of True Positive : 2908\n",
      "number of True Negative : 6518\n",
      "\n",
      "Incorrect Predict :\n",
      "______________________________\n",
      "number of False Positive : 699\n",
      "number of False Negative : 758\n",
      "\n",
      "************************************************************\n",
      "______________________________Model SVC_______________________________\n",
      "Correct Predict :\n",
      "______________________________\n",
      "number of True Positive : 2364\n",
      "number of True Negative : 6673\n",
      "\n",
      "Incorrect Predict :\n",
      "______________________________\n",
      "number of False Positive : 1243\n",
      "number of False Negative : 603\n"
     ]
    }
   ],
   "source": [
    "con=confusion_matrix(y_test,y_pred1)\n",
    "con2=confusion_matrix(y_test,y_pred2)\n",
    "con3=confusion_matrix(y_test,y_pred3)\n",
    "\n",
    "print('Model LR'.center(70,'_'))\n",
    "print(\"Correct Predict :\")\n",
    "print(\"_\"*30)\n",
    "print(f\"number of True Positive : {con[0][0]}\")\n",
    "print(f\"number of True Negative : {con[1][1]}\")\n",
    "print(\"\\nIncorrect Predict :\")\n",
    "print(\"_\"*30)\n",
    "print(f\"number of False Positive : {con[0][1]}\")\n",
    "print(f\"number of False Negative : {con[1][0]}\\n\")\n",
    "\n",
    "print(\"*\"*60)\n",
    "\n",
    "print('Model DTC'.center(70,'_'))\n",
    "print(\"Correct Predict :\")\n",
    "print(\"_\"*30)\n",
    "print(f\"number of True Positive : {con2[0][0]}\")\n",
    "print(f\"number of True Negative : {con2[1][1]}\")\n",
    "print(\"\\nIncorrect Predict :\")\n",
    "print(\"_\"*30)\n",
    "print(f\"number of False Positive : {con2[0][1]}\")\n",
    "print(f\"number of False Negative : {con2[1][0]}\\n\")\n",
    "\n",
    "print(\"*\"*60)\n",
    "\n",
    "print('Model SVC'.center(70,'_'))\n",
    "print(\"Correct Predict :\")\n",
    "print(\"_\"*30)\n",
    "print(f\"number of True Positive : {con3[0][0]}\")\n",
    "print(f\"number of True Negative : {con3[1][1]}\")\n",
    "print(\"\\nIncorrect Predict :\")\n",
    "print(\"_\"*30)\n",
    "print(f\"number of False Positive : {con3[0][1]}\")\n",
    "print(f\"number of False Negative : {con3[1][0]}\")"
   ]
  },
  {
   "cell_type": "markdown",
   "id": "4bd26741",
   "metadata": {},
   "source": [
    "show `ROC CURVE` to explain strength of models"
   ]
  },
  {
   "cell_type": "code",
   "execution_count": 79,
   "id": "2aafd956",
   "metadata": {},
   "outputs": [],
   "source": [
    "fper1,tper1,th1=roc_curve(y_test,y_pred1)\n",
    "fper2,tper2,th2=roc_curve(y_test,y_pred2)\n",
    "fper3,tper3,th3=roc_curve(y_test,y_pred3)"
   ]
  },
  {
   "cell_type": "code",
   "execution_count": 90,
   "id": "28eeb70e",
   "metadata": {},
   "outputs": [
    {
     "data": {
      "image/png": "[encoded data removed]",
      "text/plain": [
       "<Figure size 1440x720 with 1 Axes>"
      ]
     },
     "metadata": {
      "needs_background": "light"
     },
     "output_type": "display_data"
    }
   ],
   "source": [
    "plt.figure(figsize=(20,10))\n",
    "plt.title(\"ROC Curve For Three Models\",size=20)\n",
    "plt.plot(fper1,tper1,label='LR')\n",
    "plt.plot(fper2,tper2,Label='DTC')\n",
    "plt.plot(fper3,tper3,label='SVC')\n",
    "plt.legend(prop={'size':20})\n",
    "plt.show()"
   ]
  },
  {
   "cell_type": "code",
   "execution_count": 91,
   "id": "69109eca",
   "metadata": {},
   "outputs": [
    {
     "data": {
      "text/html": [
       "<div>\n",
       "<style scoped>\n",
       "    .dataframe tbody tr th:only-of-type {\n",
       "        vertical-align: middle;\n",
       "    }\n",
       "\n",
       "    .dataframe tbody tr th {\n",
       "        vertical-align: top;\n",
       "    }\n",
       "\n",
       "    .dataframe thead th {\n",
       "        text-align: right;\n",
       "    }\n",
       "</style>\n",
       "<table border=\"1\" class=\"dataframe\">\n",
       "  <thead>\n",
       "    <tr style=\"text-align: right;\">\n",
       "      <th></th>\n",
       "      <th>Model</th>\n",
       "      <th>Train_Accuracy</th>\n",
       "      <th>Test_Accuracy</th>\n",
       "      <th>F1 score</th>\n",
       "      <th>Precision</th>\n",
       "      <th>Recall</th>\n",
       "    </tr>\n",
       "  </thead>\n",
       "  <tbody>\n",
       "    <tr>\n",
       "      <th>0</th>\n",
       "      <td>Logistic Regression</td>\n",
       "      <td>80.0 %</td>\n",
       "      <td>80.0 %</td>\n",
       "      <td>86.0 %</td>\n",
       "      <td>82.0 %</td>\n",
       "      <td>90.0 %</td>\n",
       "    </tr>\n",
       "    <tr>\n",
       "      <th>1</th>\n",
       "      <td>Decision Tree</td>\n",
       "      <td>99.0 %</td>\n",
       "      <td>87.0 %</td>\n",
       "      <td>90.0 %</td>\n",
       "      <td>90.0 %</td>\n",
       "      <td>90.0 %</td>\n",
       "    </tr>\n",
       "    <tr>\n",
       "      <th>2</th>\n",
       "      <td>SVC</td>\n",
       "      <td>84.0 %</td>\n",
       "      <td>83.0 %</td>\n",
       "      <td>88.0 %</td>\n",
       "      <td>84.0 %</td>\n",
       "      <td>92.0 %</td>\n",
       "    </tr>\n",
       "  </tbody>\n",
       "</table>\n",
       "</div>"
      ],
      "text/plain": [
       "                 Model Train_Accuracy Test_Accuracy F1 score Precision  Recall\n",
       "0  Logistic Regression         80.0 %        80.0 %   86.0 %    82.0 %  90.0 %\n",
       "1        Decision Tree         99.0 %        87.0 %   90.0 %    90.0 %  90.0 %\n",
       "2                  SVC         84.0 %        83.0 %   88.0 %    84.0 %  92.0 %"
      ]
     },
     "execution_count": 91,
     "metadata": {},
     "output_type": "execute_result"
    }
   ],
   "source": [
    "results"
   ]
  },
  {
   "cell_type": "markdown",
   "id": "fbb48789",
   "metadata": {},
   "source": [
    "_____"
   ]
  },
  {
   "cell_type": "markdown",
   "id": "86f62ab0",
   "metadata": {},
   "source": [
    "From above we see that all model work will put maybe work best if we use any way from ensembling methods so we will develop my models by two ways.\n",
    "lets do it"
   ]
  },
  {
   "cell_type": "markdown",
   "id": "59f91221",
   "metadata": {},
   "source": [
    "use bagging with Decision Tree that have some overfit"
   ]
  },
  {
   "cell_type": "markdown",
   "id": "2082a014",
   "metadata": {},
   "source": [
    "### First Way To Develop Three model with Bagging Method"
   ]
  },
  {
   "cell_type": "code",
   "execution_count": 169,
   "id": "6c216c7d",
   "metadata": {},
   "outputs": [
    {
     "data": {
      "text/plain": [
       "BaggingClassifier(base_estimator=LogisticRegression(), n_estimators=100,\n",
       "                  random_state=42)"
      ]
     },
     "execution_count": 169,
     "metadata": {},
     "output_type": "execute_result"
    }
   ],
   "source": [
    "bagging_clf1 = BaggingClassifier(base_estimator=LR, n_estimators=100, random_state=42)\n",
    "bagging_clf1.fit(X_train, y_train)"
   ]
  },
  {
   "cell_type": "code",
   "execution_count": 170,
   "id": "ed54e0e6",
   "metadata": {},
   "outputs": [
    {
     "data": {
      "text/plain": [
       "BaggingClassifier(base_estimator=DecisionTreeClassifier(), n_estimators=100,\n",
       "                  random_state=42)"
      ]
     },
     "execution_count": 170,
     "metadata": {},
     "output_type": "execute_result"
    }
   ],
   "source": [
    "bagging_clf2 = BaggingClassifier(base_estimator=DTC, n_estimators=100, random_state=42)\n",
    "bagging_clf2.fit(X_train, y_train)"
   ]
  },
  {
   "cell_type": "code",
   "execution_count": 172,
   "id": "dd229b22",
   "metadata": {},
   "outputs": [
    {
     "data": {
      "text/plain": [
       "BaggingClassifier(base_estimator=SVC(), n_estimators=15, random_state=42)"
      ]
     },
     "execution_count": 172,
     "metadata": {},
     "output_type": "execute_result"
    }
   ],
   "source": [
    "bagging_clf3= BaggingClassifier(base_estimator=SVC, n_estimators=15, random_state=42)\n",
    "bagging_clf3.fit(X_train, y_train)"
   ]
  },
  {
   "cell_type": "markdown",
   "id": "fcadd1bc",
   "metadata": {},
   "source": [
    "#### Model Predict"
   ]
  },
  {
   "cell_type": "code",
   "execution_count": 173,
   "id": "69f2e819",
   "metadata": {},
   "outputs": [],
   "source": [
    "y_pred4=bagging_clf1.predict(X_test)\n",
    "y_pred5=bagging_clf2.predict(X_test)\n",
    "y_pred6=bagging_clf3.predict(X_test)"
   ]
  },
  {
   "cell_type": "code",
   "execution_count": 174,
   "id": "7ce5d7f1",
   "metadata": {},
   "outputs": [
    {
     "name": "stdout",
     "output_type": "stream",
     "text": [
      "Original output\t:[1 1 1 ... 1 0 0]\n",
      "________________________________________\n",
      "bagging_clf1 predict output\t:[1 1 1 ... 1 0 0]\n",
      "bagging_clf2 predict output\t:[1 1 1 ... 1 0 0]\n",
      "bagging_clf3 predict output\t:[1 1 1 ... 1 0 0]\n"
     ]
    }
   ],
   "source": [
    "print(f\"Original output\\t:{y_test.values}\")\n",
    "print(\"_\"*40)\n",
    "print(f\"bagging_clf1 predict output\\t:{y_pred4}\")\n",
    "print(f\"bagging_clf2 predict output\\t:{y_pred5}\")\n",
    "print(f\"bagging_clf3 predict output\\t:{y_pred6}\")"
   ]
  },
  {
   "cell_type": "markdown",
   "id": "35f64eef",
   "metadata": {},
   "source": [
    "#### Model Evaluation"
   ]
  },
  {
   "cell_type": "code",
   "execution_count": 177,
   "id": "28f31c4d",
   "metadata": {},
   "outputs": [
    {
     "data": {
      "text/html": [
       "<div>\n",
       "<style scoped>\n",
       "    .dataframe tbody tr th:only-of-type {\n",
       "        vertical-align: middle;\n",
       "    }\n",
       "\n",
       "    .dataframe tbody tr th {\n",
       "        vertical-align: top;\n",
       "    }\n",
       "\n",
       "    .dataframe thead th {\n",
       "        text-align: right;\n",
       "    }\n",
       "</style>\n",
       "<table border=\"1\" class=\"dataframe\">\n",
       "  <thead>\n",
       "    <tr style=\"text-align: right;\">\n",
       "      <th></th>\n",
       "      <th>Model</th>\n",
       "      <th>Train_Accuracy</th>\n",
       "      <th>Test_Accuracy</th>\n",
       "      <th>F1 score</th>\n",
       "      <th>Precision</th>\n",
       "      <th>Recall</th>\n",
       "    </tr>\n",
       "  </thead>\n",
       "  <tbody>\n",
       "    <tr>\n",
       "      <th>0</th>\n",
       "      <td>Bagged Logistic Regression</td>\n",
       "      <td>80.0 %</td>\n",
       "      <td>80.0 %</td>\n",
       "      <td>86.0 %</td>\n",
       "      <td>82.09 %</td>\n",
       "      <td>90.0 %</td>\n",
       "    </tr>\n",
       "    <tr>\n",
       "      <th>1</th>\n",
       "      <td>Bagged Decision Tree</td>\n",
       "      <td>99.0 %</td>\n",
       "      <td>90.0 %</td>\n",
       "      <td>93.0 %</td>\n",
       "      <td>91.0 %</td>\n",
       "      <td>94.0 %</td>\n",
       "    </tr>\n",
       "    <tr>\n",
       "      <th>2</th>\n",
       "      <td>Bagged SVC</td>\n",
       "      <td>84.0 %</td>\n",
       "      <td>83.0 %</td>\n",
       "      <td>88.0 %</td>\n",
       "      <td>84.0 %</td>\n",
       "      <td>92.0 %</td>\n",
       "    </tr>\n",
       "  </tbody>\n",
       "</table>\n",
       "</div>"
      ],
      "text/plain": [
       "                        Model Train_Accuracy Test_Accuracy F1 score Precision  \\\n",
       "0  Bagged Logistic Regression         80.0 %        80.0 %   86.0 %   82.09 %   \n",
       "1        Bagged Decision Tree         99.0 %        90.0 %   93.0 %    91.0 %   \n",
       "2                  Bagged SVC         84.0 %        83.0 %   88.0 %    84.0 %   \n",
       "\n",
       "   Recall  \n",
       "0  90.0 %  \n",
       "1  94.0 %  \n",
       "2  92.0 %  "
      ]
     },
     "execution_count": 177,
     "metadata": {},
     "output_type": "execute_result"
    }
   ],
   "source": [
    "train_acc4=f\"{round(bagging_clf1.score(X_train,y_train),2)*100} %\"\n",
    "acc4 = f\"{round(accuracy_score(y_test,y_pred4),2)*100} %\"\n",
    "f14 = f\"{round(f1_score(y_test,y_pred4),2)*100} %\"\n",
    "prec4 = f\"{round(precision_score(y_test,y_pred1),4)*100} %\"\n",
    "rec4 =  f\"{round(recall_score(y_test,y_pred4),2)*100} %\"\n",
    "\n",
    "#________________________________________________________________________\n",
    "\n",
    "train_acc5=f\"{round(bagging_clf2.score(X_train,y_train),2)*100} %\"\n",
    "acc5 = f\"{round(accuracy_score(y_test,y_pred5),2)*100} %\"\n",
    "f15= f\"{round(f1_score(y_test,y_pred5),2)*100} %\"\n",
    "prec5 = f\"{round(precision_score(y_test,y_pred5),2)*100} %\"\n",
    "rec5=  f\"{round(recall_score(y_test,y_pred5),2)*100} %\"\n",
    "\n",
    "#________________________________________________________________________\n",
    "train_acc6=f\"{round(bagging_clf3.score(X_train,y_train),2)*100} %\"\n",
    "acc6 = f\"{round(accuracy_score(y_test,y_pred6),2)*100} %\"\n",
    "f16= f\"{round(f1_score(y_test,y_pred6),2)*100} %\"\n",
    "prec6 = f\"{round(precision_score(y_test,y_pred6),2)*100} %\"\n",
    "rec6=  f\"{round(recall_score(y_test,y_pred6),2)*100} %\"\n",
    "\n",
    "\n",
    "results2 = pd.DataFrame([['Bagged Logistic Regression',train_acc4, acc4, f14, prec4, rec4],\n",
    "                        ['Bagged Decision Tree',train_acc5, acc5, f15, prec5, rec5],\n",
    "                        ['Bagged SVC',train_acc6, acc6, f16, prec6, rec6]],\n",
    "                     columns =  ['Model','Train_Accuracy','Test_Accuracy','F1 score','Precision','Recall'])\n",
    "results2"
   ]
  },
  {
   "cell_type": "code",
   "execution_count": 178,
   "id": "8ed31484",
   "metadata": {},
   "outputs": [
    {
     "name": "stdout",
     "output_type": "stream",
     "text": [
      "Report for bagging_clf1:\n",
      "               precision    recall  f1-score   support\n",
      "\n",
      "           0       0.75      0.61      0.67      3607\n",
      "           1       0.82      0.90      0.86      7276\n",
      "\n",
      "    accuracy                           0.80     10883\n",
      "   macro avg       0.78      0.75      0.76     10883\n",
      "weighted avg       0.80      0.80      0.79     10883\n",
      "\n",
      "__________________________________________________\n",
      "Report for bagging_clf2:\n",
      "               precision    recall  f1-score   support\n",
      "\n",
      "           0       0.87      0.82      0.85      3607\n",
      "           1       0.91      0.94      0.93      7276\n",
      "\n",
      "    accuracy                           0.90     10883\n",
      "   macro avg       0.89      0.88      0.89     10883\n",
      "weighted avg       0.90      0.90      0.90     10883\n",
      "\n",
      "__________________________________________________\n",
      "Report for bagging_clf3:\n",
      "               precision    recall  f1-score   support\n",
      "\n",
      "           0       0.80      0.66      0.72      3607\n",
      "           1       0.84      0.92      0.88      7276\n",
      "\n",
      "    accuracy                           0.83     10883\n",
      "   macro avg       0.82      0.79      0.80     10883\n",
      "weighted avg       0.83      0.83      0.83     10883\n",
      "\n"
     ]
    }
   ],
   "source": [
    "print(\"Report for bagging_clf1:\\n\",classification_report(y_test,y_pred4))\n",
    "print(\"_\"*50)\n",
    "print(\"Report for bagging_clf2:\\n\",classification_report(y_test,y_pred5))\n",
    "print(\"_\"*50)\n",
    "print(\"Report for bagging_clf3:\\n\",classification_report(y_test,y_pred6))"
   ]
  },
  {
   "cell_type": "code",
   "execution_count": 179,
   "id": "2961daa2",
   "metadata": {},
   "outputs": [
    {
     "name": "stdout",
     "output_type": "stream",
     "text": [
      "__________________________Model bagging_clf1__________________________\n",
      "Correct Predict :\n",
      "______________________________\n",
      "number of True Positive : 2185\n",
      "number of True Negative : 6531\n",
      "\n",
      "Incorrect Predict :\n",
      "______________________________\n",
      "number of False Positive : 1422\n",
      "number of False Negative : 745\n",
      "\n",
      "************************************************************\n",
      "__________________________Model bagging_clf2__________________________\n",
      "Correct Predict :\n",
      "______________________________\n",
      "number of True Positive : 2967\n",
      "number of True Negative : 6828\n",
      "\n",
      "Incorrect Predict :\n",
      "______________________________\n",
      "number of False Positive : 640\n",
      "number of False Negative : 448\n",
      "\n",
      "************************************************************\n",
      "__________________________Model bagging_clf3__________________________\n",
      "Correct Predict :\n",
      "______________________________\n",
      "number of True Positive : 2376\n",
      "number of True Negative : 6666\n",
      "\n",
      "Incorrect Predict :\n",
      "______________________________\n",
      "number of False Positive : 1231\n",
      "number of False Negative : 610\n"
     ]
    }
   ],
   "source": [
    "con4=confusion_matrix(y_test,y_pred4)\n",
    "con5=confusion_matrix(y_test,y_pred5)\n",
    "con6=confusion_matrix(y_test,y_pred6)\n",
    "\n",
    "print('Model bagging_clf1'.center(70,'_'))\n",
    "print(\"Correct Predict :\")\n",
    "print(\"_\"*30)\n",
    "print(f\"number of True Positive : {con4[0][0]}\")\n",
    "print(f\"number of True Negative : {con4[1][1]}\")\n",
    "print(\"\\nIncorrect Predict :\")\n",
    "print(\"_\"*30)\n",
    "print(f\"number of False Positive : {con4[0][1]}\")\n",
    "print(f\"number of False Negative : {con4[1][0]}\\n\")\n",
    "\n",
    "print(\"*\"*60)\n",
    "\n",
    "print('Model bagging_clf2'.center(70,'_'))\n",
    "print(\"Correct Predict :\")\n",
    "print(\"_\"*30)\n",
    "print(f\"number of True Positive : {con5[0][0]}\")\n",
    "print(f\"number of True Negative : {con5[1][1]}\")\n",
    "print(\"\\nIncorrect Predict :\")\n",
    "print(\"_\"*30)\n",
    "print(f\"number of False Positive : {con5[0][1]}\")\n",
    "print(f\"number of False Negative : {con5[1][0]}\\n\")\n",
    "\n",
    "print(\"*\"*60)\n",
    "\n",
    "print('Model bagging_clf3'.center(70,'_'))\n",
    "print(\"Correct Predict :\")\n",
    "print(\"_\"*30)\n",
    "print(f\"number of True Positive : {con6[0][0]}\")\n",
    "print(f\"number of True Negative : {con6[1][1]}\")\n",
    "print(\"\\nIncorrect Predict :\")\n",
    "print(\"_\"*30)\n",
    "print(f\"number of False Positive : {con6[0][1]}\")\n",
    "print(f\"number of False Negative : {con6[1][0]}\")"
   ]
  },
  {
   "cell_type": "markdown",
   "id": "ccb8e1e3",
   "metadata": {},
   "source": [
    "show `ROC CURVE` to explain strength of model Bagged Decision Trees"
   ]
  },
  {
   "cell_type": "code",
   "execution_count": 180,
   "id": "773158f9",
   "metadata": {},
   "outputs": [],
   "source": [
    "fper4,tper4,_=roc_curve(y_test,y_pred4)\n",
    "fper5,tper5,_=roc_curve(y_test,y_pred5)\n",
    "fper6,tper6,_=roc_curve(y_test,y_pred6)"
   ]
  },
  {
   "cell_type": "code",
   "execution_count": 182,
   "id": "c7736565",
   "metadata": {},
   "outputs": [
    {
     "data": {
      "image/png": "[encoded data removed]",
      "text/plain": [
       "<Figure size 1440x720 with 1 Axes>"
      ]
     },
     "metadata": {
      "needs_background": "light"
     },
     "output_type": "display_data"
    }
   ],
   "source": [
    "plt.figure(figsize=(20,10))\n",
    "plt.title(\"ROC Curve For Three Models with Bagging\",size=20)\n",
    "plt.plot(fper4,tper4,label='bagging_clf1')\n",
    "plt.plot(fper5,tper5,Label='bagging_clf2')\n",
    "plt.plot(fper6,tper6,label='bagging_clf3')\n",
    "plt.legend(prop={'size':20})\n",
    "plt.show()"
   ]
  },
  {
   "cell_type": "markdown",
   "id": "9b5d5e62",
   "metadata": {},
   "source": [
    "Compare analysis with three model we use and three model with bagging"
   ]
  },
  {
   "cell_type": "code",
   "execution_count": 183,
   "id": "75bea124",
   "metadata": {},
   "outputs": [],
   "source": [
    "A_res=pd.concat([results,results2],ignore_index=True)"
   ]
  },
  {
   "cell_type": "code",
   "execution_count": 185,
   "id": "802fc710",
   "metadata": {},
   "outputs": [
    {
     "data": {
      "text/html": [
       "<div>\n",
       "<style scoped>\n",
       "    .dataframe tbody tr th:only-of-type {\n",
       "        vertical-align: middle;\n",
       "    }\n",
       "\n",
       "    .dataframe tbody tr th {\n",
       "        vertical-align: top;\n",
       "    }\n",
       "\n",
       "    .dataframe thead th {\n",
       "        text-align: right;\n",
       "    }\n",
       "</style>\n",
       "<table border=\"1\" class=\"dataframe\">\n",
       "  <thead>\n",
       "    <tr style=\"text-align: right;\">\n",
       "      <th></th>\n",
       "      <th>Train_Accuracy</th>\n",
       "      <th>Test_Accuracy</th>\n",
       "      <th>F1 score</th>\n",
       "      <th>Precision</th>\n",
       "      <th>Recall</th>\n",
       "    </tr>\n",
       "    <tr>\n",
       "      <th>Model</th>\n",
       "      <th></th>\n",
       "      <th></th>\n",
       "      <th></th>\n",
       "      <th></th>\n",
       "      <th></th>\n",
       "    </tr>\n",
       "  </thead>\n",
       "  <tbody>\n",
       "    <tr>\n",
       "      <th>Logistic Regression</th>\n",
       "      <td>80.0 %</td>\n",
       "      <td>80.0 %</td>\n",
       "      <td>86.0 %</td>\n",
       "      <td>82.0 %</td>\n",
       "      <td>90.0 %</td>\n",
       "    </tr>\n",
       "    <tr>\n",
       "      <th>Decision Tree</th>\n",
       "      <td>99.0 %</td>\n",
       "      <td>87.0 %</td>\n",
       "      <td>90.0 %</td>\n",
       "      <td>90.0 %</td>\n",
       "      <td>89.0 %</td>\n",
       "    </tr>\n",
       "    <tr>\n",
       "      <th>SVC</th>\n",
       "      <td>84.0 %</td>\n",
       "      <td>83.0 %</td>\n",
       "      <td>88.0 %</td>\n",
       "      <td>84.0 %</td>\n",
       "      <td>92.0 %</td>\n",
       "    </tr>\n",
       "    <tr>\n",
       "      <th>Bagged Logistic Regression</th>\n",
       "      <td>80.0 %</td>\n",
       "      <td>80.0 %</td>\n",
       "      <td>86.0 %</td>\n",
       "      <td>82.09 %</td>\n",
       "      <td>90.0 %</td>\n",
       "    </tr>\n",
       "    <tr>\n",
       "      <th>Bagged Decision Tree</th>\n",
       "      <td>99.0 %</td>\n",
       "      <td>90.0 %</td>\n",
       "      <td>93.0 %</td>\n",
       "      <td>91.0 %</td>\n",
       "      <td>94.0 %</td>\n",
       "    </tr>\n",
       "    <tr>\n",
       "      <th>Bagged SVC</th>\n",
       "      <td>84.0 %</td>\n",
       "      <td>83.0 %</td>\n",
       "      <td>88.0 %</td>\n",
       "      <td>84.0 %</td>\n",
       "      <td>92.0 %</td>\n",
       "    </tr>\n",
       "  </tbody>\n",
       "</table>\n",
       "</div>"
      ],
      "text/plain": [
       "                           Train_Accuracy Test_Accuracy F1 score Precision  \\\n",
       "Model                                                                        \n",
       "Logistic Regression                80.0 %        80.0 %   86.0 %    82.0 %   \n",
       "Decision Tree                      99.0 %        87.0 %   90.0 %    90.0 %   \n",
       "SVC                                84.0 %        83.0 %   88.0 %    84.0 %   \n",
       "Bagged Logistic Regression         80.0 %        80.0 %   86.0 %   82.09 %   \n",
       "Bagged Decision Tree               99.0 %        90.0 %   93.0 %    91.0 %   \n",
       "Bagged SVC                         84.0 %        83.0 %   88.0 %    84.0 %   \n",
       "\n",
       "                            Recall  \n",
       "Model                               \n",
       "Logistic Regression         90.0 %  \n",
       "Decision Tree               89.0 %  \n",
       "SVC                         92.0 %  \n",
       "Bagged Logistic Regression  90.0 %  \n",
       "Bagged Decision Tree        94.0 %  \n",
       "Bagged SVC                  92.0 %  "
      ]
     },
     "execution_count": 185,
     "metadata": {},
     "output_type": "execute_result"
    }
   ],
   "source": [
    "A_res.set_index('Model')"
   ]
  },
  {
   "cell_type": "markdown",
   "id": "938ef5c4",
   "metadata": {},
   "source": [
    "As we noticed from the above, the decision tree was developed through bagging and made it expect better than the previous one"
   ]
  },
  {
   "cell_type": "markdown",
   "id": "afce60cb",
   "metadata": {},
   "source": [
    "### Second Way: The soft voting rule for Classification with Three model"
   ]
  },
  {
   "cell_type": "code",
   "execution_count": 135,
   "id": "1e7fd69d",
   "metadata": {},
   "outputs": [
    {
     "data": {
      "text/plain": [
       "VotingClassifier(estimators=[('lr', LogisticRegression()),\n",
       "                             ('dtc', DecisionTreeClassifier()),\n",
       "                             ('svc', SVC(probability=True))],\n",
       "                 voting='soft')"
      ]
     },
     "execution_count": 135,
     "metadata": {},
     "output_type": "execute_result"
    }
   ],
   "source": [
    "vot_clf = VotingClassifier(estimators=[('lr',LogisticRegression()), ('dtc',DecisionTreeClassifier()), ('svc',SVC(probability=True))],voting='soft')\n",
    "vot_clf.fit(X_train, y_train)"
   ]
  },
  {
   "cell_type": "markdown",
   "id": "e05afc96",
   "metadata": {},
   "source": [
    "#### Model Predict"
   ]
  },
  {
   "cell_type": "code",
   "execution_count": 136,
   "id": "c686b218",
   "metadata": {},
   "outputs": [
    {
     "name": "stdout",
     "output_type": "stream",
     "text": [
      "Original Output:  [1 1 1 ... 1 0 0]\n",
      "Predict Output:  [1 1 1 ... 1 0 0]\n"
     ]
    }
   ],
   "source": [
    "y_pred5=vot_clf.predict(X_test)\n",
    "print(\"Original Output: \",y_pred5)\n",
    "print(\"Predict Output: \",y_test.values)"
   ]
  },
  {
   "cell_type": "markdown",
   "id": "2d80f5ab",
   "metadata": {},
   "source": [
    "#### Model Evaluation"
   ]
  },
  {
   "cell_type": "code",
   "execution_count": 138,
   "id": "863293bb",
   "metadata": {},
   "outputs": [
    {
     "name": "stdout",
     "output_type": "stream",
     "text": [
      "              precision    recall  f1-score   support\n",
      "\n",
      "           0       0.84      0.76      0.80      3607\n",
      "           1       0.89      0.93      0.91      7276\n",
      "\n",
      "    accuracy                           0.87     10883\n",
      "   macro avg       0.86      0.85      0.85     10883\n",
      "weighted avg       0.87      0.87      0.87     10883\n",
      "\n"
     ]
    }
   ],
   "source": [
    "print(classification_report(y_test,y_pred5))"
   ]
  },
  {
   "cell_type": "code",
   "execution_count": 140,
   "id": "fd143df3",
   "metadata": {},
   "outputs": [
    {
     "name": "stdout",
     "output_type": "stream",
     "text": [
      "Correct Predict :\n",
      "______________________________\n",
      "number of True Positive : 2754\n",
      "number of True Negative : 6748\n",
      "\n",
      "Incorrect Predict :\n",
      "______________________________\n",
      "number of False Positive : 853\n",
      "number of False Negative : 528\n"
     ]
    }
   ],
   "source": [
    "con5=confusion_matrix(y_test,y_pred5)\n",
    "print(\"Correct Predict :\")\n",
    "print(\"_\"*30)\n",
    "print(f\"number of True Positive : {con5[0][0]}\")\n",
    "print(f\"number of True Negative : {con5[1][1]}\")\n",
    "print(\"\\nIncorrect Predict :\")\n",
    "print(\"_\"*30)\n",
    "print(f\"number of False Positive : {con5[0][1]}\")\n",
    "print(f\"number of False Negative : {con5[1][0]}\")"
   ]
  },
  {
   "cell_type": "code",
   "execution_count": 142,
   "id": "626c410e",
   "metadata": {},
   "outputs": [
    {
     "data": {
      "text/html": [
       "<div>\n",
       "<style scoped>\n",
       "    .dataframe tbody tr th:only-of-type {\n",
       "        vertical-align: middle;\n",
       "    }\n",
       "\n",
       "    .dataframe tbody tr th {\n",
       "        vertical-align: top;\n",
       "    }\n",
       "\n",
       "    .dataframe thead th {\n",
       "        text-align: right;\n",
       "    }\n",
       "</style>\n",
       "<table border=\"1\" class=\"dataframe\">\n",
       "  <thead>\n",
       "    <tr style=\"text-align: right;\">\n",
       "      <th></th>\n",
       "      <th>Model</th>\n",
       "      <th>Train_Accuracy</th>\n",
       "      <th>Test_Accuracy</th>\n",
       "      <th>F1 score</th>\n",
       "      <th>Precision</th>\n",
       "      <th>Recall</th>\n",
       "    </tr>\n",
       "  </thead>\n",
       "  <tbody>\n",
       "    <tr>\n",
       "      <th>0</th>\n",
       "      <td>Soft Voting For Classificatiion</td>\n",
       "      <td>99.0 %</td>\n",
       "      <td>87.0 %</td>\n",
       "      <td>91.0 %</td>\n",
       "      <td>89.0 %</td>\n",
       "      <td>93.0 %</td>\n",
       "    </tr>\n",
       "  </tbody>\n",
       "</table>\n",
       "</div>"
      ],
      "text/plain": [
       "                             Model Train_Accuracy Test_Accuracy F1 score  \\\n",
       "0  Soft Voting For Classificatiion         99.0 %        87.0 %   91.0 %   \n",
       "\n",
       "  Precision  Recall  \n",
       "0    89.0 %  93.0 %  "
      ]
     },
     "execution_count": 142,
     "metadata": {},
     "output_type": "execute_result"
    }
   ],
   "source": [
    "train_acc5=f\"{round(bagging_clf.score(X_train,y_train),2)*100} %\"\n",
    "acc5 = f\"{round(accuracy_score(y_test,y_pred5),2)*100} %\"\n",
    "f15 = f\"{round(f1_score(y_test,y_pred5),2)*100} %\"\n",
    "prec5 = f\"{round(precision_score(y_test,y_pred5),2)*100} %\"\n",
    "rec5 =  f\"{round(recall_score(y_test,y_pred5),2)*100} %\"\n",
    "results3 = pd.DataFrame([[\"Soft Voting For Classificatiion\",train_acc5, acc5, f15, prec5, rec5]],\n",
    "                     columns =  ['Model','Train_Accuracy','Test_Accuracy','F1 score','Precision','Recall'])\n",
    "results3"
   ]
  },
  {
   "cell_type": "markdown",
   "id": "32399ff9",
   "metadata": {},
   "source": [
    "show `ROC CURVE` to explain strength of model Soft Voting For Classificatiion"
   ]
  },
  {
   "cell_type": "code",
   "execution_count": 143,
   "id": "aaba7bfd",
   "metadata": {},
   "outputs": [
    {
     "data": {
      "text/plain": [
       "<sklearn.metrics._plot.roc_curve.RocCurveDisplay at 0x2820910e190>"
      ]
     },
     "execution_count": 143,
     "metadata": {},
     "output_type": "execute_result"
    },
    {
     "data": {
      "image/png": "[encoded data removed]",
      "text/plain": [
       "<Figure size 432x288 with 1 Axes>"
      ]
     },
     "metadata": {
      "needs_background": "light"
     },
     "output_type": "display_data"
    }
   ],
   "source": [
    "plot_roc_curve(vot_clf,X_test,y_test)"
   ]
  },
  {
   "cell_type": "markdown",
   "id": "1c9a0b74",
   "metadata": {},
   "source": [
    "Area under curve is 0.96"
   ]
  },
  {
   "cell_type": "markdown",
   "id": "4c68dd50",
   "metadata": {},
   "source": [
    "This model works well but here is a bit of an overfit"
   ]
  },
  {
   "cell_type": "markdown",
   "id": "87f6dc60",
   "metadata": {},
   "source": [
    "#### Comparative analysis of the created ensemble learning algorithms with the single classifiers"
   ]
  },
  {
   "cell_type": "code",
   "execution_count": 186,
   "id": "0a4dabf6",
   "metadata": {},
   "outputs": [],
   "source": [
    "All_Results=pd.concat([results,results2,results3],ignore_index=True)"
   ]
  },
  {
   "cell_type": "code",
   "execution_count": 187,
   "id": "4d3dcb95",
   "metadata": {},
   "outputs": [
    {
     "data": {
      "text/html": [
       "<div>\n",
       "<style scoped>\n",
       "    .dataframe tbody tr th:only-of-type {\n",
       "        vertical-align: middle;\n",
       "    }\n",
       "\n",
       "    .dataframe tbody tr th {\n",
       "        vertical-align: top;\n",
       "    }\n",
       "\n",
       "    .dataframe thead th {\n",
       "        text-align: right;\n",
       "    }\n",
       "</style>\n",
       "<table border=\"1\" class=\"dataframe\">\n",
       "  <thead>\n",
       "    <tr style=\"text-align: right;\">\n",
       "      <th></th>\n",
       "      <th>Model</th>\n",
       "      <th>Train_Accuracy</th>\n",
       "      <th>Test_Accuracy</th>\n",
       "      <th>F1 score</th>\n",
       "      <th>Precision</th>\n",
       "      <th>Recall</th>\n",
       "    </tr>\n",
       "  </thead>\n",
       "  <tbody>\n",
       "    <tr>\n",
       "      <th>0</th>\n",
       "      <td>Logistic Regression</td>\n",
       "      <td>80.0 %</td>\n",
       "      <td>80.0 %</td>\n",
       "      <td>86.0 %</td>\n",
       "      <td>82.0 %</td>\n",
       "      <td>90.0 %</td>\n",
       "    </tr>\n",
       "    <tr>\n",
       "      <th>1</th>\n",
       "      <td>Decision Tree</td>\n",
       "      <td>99.0 %</td>\n",
       "      <td>87.0 %</td>\n",
       "      <td>90.0 %</td>\n",
       "      <td>90.0 %</td>\n",
       "      <td>89.0 %</td>\n",
       "    </tr>\n",
       "    <tr>\n",
       "      <th>2</th>\n",
       "      <td>SVC</td>\n",
       "      <td>84.0 %</td>\n",
       "      <td>83.0 %</td>\n",
       "      <td>88.0 %</td>\n",
       "      <td>84.0 %</td>\n",
       "      <td>92.0 %</td>\n",
       "    </tr>\n",
       "    <tr>\n",
       "      <th>3</th>\n",
       "      <td>Bagged Logistic Regression</td>\n",
       "      <td>80.0 %</td>\n",
       "      <td>80.0 %</td>\n",
       "      <td>86.0 %</td>\n",
       "      <td>82.09 %</td>\n",
       "      <td>90.0 %</td>\n",
       "    </tr>\n",
       "    <tr>\n",
       "      <th>4</th>\n",
       "      <td>Bagged Decision Tree</td>\n",
       "      <td>99.0 %</td>\n",
       "      <td>90.0 %</td>\n",
       "      <td>93.0 %</td>\n",
       "      <td>91.0 %</td>\n",
       "      <td>94.0 %</td>\n",
       "    </tr>\n",
       "    <tr>\n",
       "      <th>5</th>\n",
       "      <td>Bagged SVC</td>\n",
       "      <td>84.0 %</td>\n",
       "      <td>83.0 %</td>\n",
       "      <td>88.0 %</td>\n",
       "      <td>84.0 %</td>\n",
       "      <td>92.0 %</td>\n",
       "    </tr>\n",
       "    <tr>\n",
       "      <th>6</th>\n",
       "      <td>Soft Voting For Classificatiion</td>\n",
       "      <td>99.0 %</td>\n",
       "      <td>87.0 %</td>\n",
       "      <td>91.0 %</td>\n",
       "      <td>89.0 %</td>\n",
       "      <td>93.0 %</td>\n",
       "    </tr>\n",
       "  </tbody>\n",
       "</table>\n",
       "</div>"
      ],
      "text/plain": [
       "                             Model Train_Accuracy Test_Accuracy F1 score  \\\n",
       "0              Logistic Regression         80.0 %        80.0 %   86.0 %   \n",
       "1                    Decision Tree         99.0 %        87.0 %   90.0 %   \n",
       "2                              SVC         84.0 %        83.0 %   88.0 %   \n",
       "3       Bagged Logistic Regression         80.0 %        80.0 %   86.0 %   \n",
       "4             Bagged Decision Tree         99.0 %        90.0 %   93.0 %   \n",
       "5                       Bagged SVC         84.0 %        83.0 %   88.0 %   \n",
       "6  Soft Voting For Classificatiion         99.0 %        87.0 %   91.0 %   \n",
       "\n",
       "  Precision  Recall  \n",
       "0    82.0 %  90.0 %  \n",
       "1    90.0 %  89.0 %  \n",
       "2    84.0 %  92.0 %  \n",
       "3   82.09 %  90.0 %  \n",
       "4    91.0 %  94.0 %  \n",
       "5    84.0 %  92.0 %  \n",
       "6    89.0 %  93.0 %  "
      ]
     },
     "execution_count": 187,
     "metadata": {},
     "output_type": "execute_result"
    }
   ],
   "source": [
    "All_Results"
   ]
  },
  {
   "cell_type": "markdown",
   "id": "8f5d65e6",
   "metadata": {},
   "source": [
    "<a id='con'> </a>\n",
    "# Conclusions"
   ]
  },
  {
   "cell_type": "markdown",
   "id": "dcf32e92",
   "metadata": {},
   "source": [
    "we abled to finish all require like :\n",
    "- choose dataset from kaggle <a href='https://www.kaggle.com/datasets/ahsan81/hotel-reservations-classification-dataset?datasetId=2783627&sortBy=dateRun&tab=profile'>here</a>\n",
    "\n",
    "- cleaning data and remove duplicated \n",
    "\n",
    "- analyzing and visualizaiton my data\n",
    "\n",
    "- prepare data to model and split it to training set and test set\n",
    "\n",
    "- choose three classifiers, there are LogisticRegression, DecisionTreeClassifier and SVC and show accuracy for them.\n",
    "\n",
    "- Then choosed DecisionTreeClassifier to develop it with Bagging and show accuracy for it.\n",
    "\n",
    "- Then applied on three classifiers Soft Voiting Method to develop them and shown accuracy for them \n",
    "\n",
    "- From all Result above, we did comperative analysis for all model we used it.\n",
    "\n",
    "- The Resualt from above we noticed Bagged Decision Trees are best model for our data."
   ]
  }
 ],
 "metadata": {
  "kernelspec": {
   "display_name": "Python 3",
   "language": "python",
   "name": "python3"
  },
  "language_info": {
   "codemirror_mode": {
    "name": "ipython",
    "version": 3
   },
   "file_extension": ".py",
   "mimetype": "text/x-python",
   "name": "python",
   "nbconvert_exporter": "python",
   "pygments_lexer": "ipython3",
   "version": "3.8.8"
  }
 },
 "nbformat": 4,
 "nbformat_minor": 5
}
