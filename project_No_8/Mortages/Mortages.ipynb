{
 "cells": [
  {
   "cell_type": "markdown",
   "id": "b123b5b0",
   "metadata": {},
   "source": [
    "## Project: Evaluation of Student Performance"
   ]
  },
  {
   "cell_type": "markdown",
   "id": "1bf92ecb",
   "metadata": {},
   "source": [
    "## Table of Contents\n",
    "<ul>\n",
    "<li><a href=\"#intro\">Introduction</a></li>\n",
    "<li><a href=\"#wrangling\">Data Wrangling</a></li>\n",
    "<li><a href=\"#eda\">Exploratory Data Analysis</a></li>\n",
    "<li><a href='#split'>Split Data</a></li>\n",
    "<li><a href='#model'>Train Model</a></li>\n",
    "<li><a href=\"#con\">Conclusions</a></li>\n",
    "</ul>"
   ]
  },
  {
   "cell_type": "markdown",
   "id": "8570b0ce",
   "metadata": {},
   "source": [
    "<a id='intro'></a>\n",
    "## Introduction"
   ]
  },
  {
   "cell_type": "markdown",
   "id": "6420b896",
   "metadata": {},
   "source": [
    "### Dataset Description "
   ]
  },
  {
   "cell_type": "markdown",
   "id": "3f059b1e",
   "metadata": {},
   "source": [
    ">This dataset is from Freddie Mac and includes characteristics of mortages that Freddie Mac has\n",
    "purchased in the past from banks. The dataset also includes a binary variable indicating if each mortage\n",
    "entered default at any time during the lifetime of the loan. Freddie Mac would like you to develop a\n",
    "machine learning algorithm to predict the probability of default for future loans. They would like an\n",
    "algorithm or algorithms that will allow them to make decisions about what mortages to buy in the\n",
    "future."
   ]
  },
  {
   "cell_type": "markdown",
   "id": "13535fa5",
   "metadata": {},
   "source": [
    "### Columns Description"
   ]
  },
  {
   "cell_type": "markdown",
   "id": "19dc1380",
   "metadata": {},
   "source": [
    "01- `Credit.Score`: A number, prepared by third parties, summarizing the borrower’s creditworthiness\n",
    "<br>02- `First.Time.Homebuyer.Flag`: Have you ever purchased a home?['N' nan 'Y']\n",
    "<br>03- `Metropolitan.Statistical.Area..MSA..Or.Metropolitan.Division`: This disclosure will be based on the designation of the Metropolitan Statistical Area\n",
    "<br>04- `Number.of.Units`:Denotes whether the mortgage is a one, two, three, or four-unit property\n",
    "<br>05- `Occupancy.Status`:Occupancy Status Units['O' 'I' 'S']\n",
    "<br>06- `Original.Combined.Loan.to.Value..CLTV.`:In the case of a purchase mortgage loan, the ratio is obtained by dividing the original mortgage loan amount\n",
    "<br>07- `Original.Debt.to.Income..DTI..Ratio`:Disclosure of the debt to income ratio\n",
    "<br>08- `Original.UPB`:Original UPB\n",
    "<br>09- `Original.Loan.to.Value..LTV.`:Default is high compared to rest\n",
    "<br>10- `Original.Interest.Rate`:Original Interest Rate\n",
    "<br>11- `Property.State`:Property State\n",
    "<br>12- `Property.Type`:Denotes whether the property type secured by the mortgage is a condominium, leasehold, planned unit development (PUD), cooperative share, manufactured home, or Single-Family home.['SF' 'PU' 'CP' 'CO' 'MH' 'LH' nan]\n",
    "<br>13- `Postal.Code`:Postal Code\n",
    "<br>14- `Loan.Sequence.Number`:Loan Sequence Number\n",
    "<br>15- `Loan.Purpose`:(Indicates whether the mortgage loan is a (C) Cash- out Refinance mortgage, (N)No Cash-out Refinance mortgage, or a (P)Purchase mortgage) ['P' 'N' 'C']\n",
    "<br>16- `Original.Loan.Term`:A calculation of the number of scheduled monthly payments of the mortgage based on the First Payment Date and Maturity Date.\n",
    "<br>17- `Number.of.Borrowers`:The number of Borrower(s) who are obligated to repay the mortgage note secured by the mortgaged property\n",
    "<br>18- `Seller.Name`:Seller Name\n",
    "<br>19- `Servicer.Name`:Servicer Name\n",
    "<br>20- `Program.Indicator`:Program Indicator\n",
    "<br>21- `Property.Valuation.Method`:Property Valuation Method\n",
    "<br>22- `Default`:Target value that contain 0 for Off and 1 for ON"
   ]
  },
  {
   "cell_type": "markdown",
   "id": "3655518f",
   "metadata": {},
   "source": [
    "<a id='wrangling'></a>\n",
    "## Data Wrangling"
   ]
  },
  {
   "cell_type": "markdown",
   "id": "72d74d97",
   "metadata": {},
   "source": [
    "#### Libraries used"
   ]
  },
  {
   "cell_type": "code",
   "execution_count": 3,
   "id": "3ed9ff5a",
   "metadata": {},
   "outputs": [],
   "source": [
    "import numpy as np\n",
    "import pandas as pd\n",
    "from matplotlib import pyplot as plt\n",
    "import seaborn as sns\n",
    "import plotly.express as px"
   ]
  },
  {
   "cell_type": "markdown",
   "id": "a55191c6",
   "metadata": {},
   "source": [
    "#### Read data from HistoricMortages.csv"
   ]
  },
  {
   "cell_type": "code",
   "execution_count": 5,
   "id": "fd753266",
   "metadata": {},
   "outputs": [],
   "source": [
    "data=pd.read_csv('HistoricMortages.csv')"
   ]
  },
  {
   "cell_type": "markdown",
   "id": "5e8cec65",
   "metadata": {},
   "source": [
    "#### Show dataset  "
   ]
  },
  {
   "cell_type": "code",
   "execution_count": 6,
   "id": "f9acfb73",
   "metadata": {},
   "outputs": [
    {
     "data": {
      "text/html": [
       "<div>\n",
       "<style scoped>\n",
       "    .dataframe tbody tr th:only-of-type {\n",
       "        vertical-align: middle;\n",
       "    }\n",
       "\n",
       "    .dataframe tbody tr th {\n",
       "        vertical-align: top;\n",
       "    }\n",
       "\n",
       "    .dataframe thead th {\n",
       "        text-align: right;\n",
       "    }\n",
       "</style>\n",
       "<table border=\"1\" class=\"dataframe\">\n",
       "  <thead>\n",
       "    <tr style=\"text-align: right;\">\n",
       "      <th></th>\n",
       "      <th>Credit.Score</th>\n",
       "      <th>First.Time.Homebuyer.Flag</th>\n",
       "      <th>Metropolitan.Statistical.Area..MSA..Or.Metropolitan.Division</th>\n",
       "      <th>Mortgage.Insurance.Percentage..MI...</th>\n",
       "      <th>Number.of.Units</th>\n",
       "      <th>Occupancy.Status</th>\n",
       "      <th>Original.Combined.Loan.to.Value..CLTV.</th>\n",
       "      <th>Original.Debt.to.Income..DTI..Ratio</th>\n",
       "      <th>Original.UPB</th>\n",
       "      <th>Original.Loan.to.Value..LTV.</th>\n",
       "      <th>...</th>\n",
       "      <th>Postal.Code</th>\n",
       "      <th>Loan.Sequence.Number</th>\n",
       "      <th>Loan.Purpose</th>\n",
       "      <th>Original.Loan.Term</th>\n",
       "      <th>Number.of.Borrowers</th>\n",
       "      <th>Seller.Name</th>\n",
       "      <th>Servicer.Name</th>\n",
       "      <th>Program.Indicator</th>\n",
       "      <th>Property.Valuation.Method</th>\n",
       "      <th>Default</th>\n",
       "    </tr>\n",
       "  </thead>\n",
       "  <tbody>\n",
       "    <tr>\n",
       "      <th>0</th>\n",
       "      <td>778</td>\n",
       "      <td>N</td>\n",
       "      <td>NaN</td>\n",
       "      <td>0</td>\n",
       "      <td>1</td>\n",
       "      <td>P</td>\n",
       "      <td>79</td>\n",
       "      <td>33.0</td>\n",
       "      <td>226000.0</td>\n",
       "      <td>79.0</td>\n",
       "      <td>...</td>\n",
       "      <td>67500.0</td>\n",
       "      <td>F21Q20000001</td>\n",
       "      <td>N</td>\n",
       "      <td>360.0</td>\n",
       "      <td>1.0</td>\n",
       "      <td>Other sellers</td>\n",
       "      <td>Other servicers</td>\n",
       "      <td>9</td>\n",
       "      <td>1.0</td>\n",
       "      <td>0.0</td>\n",
       "    </tr>\n",
       "    <tr>\n",
       "      <th>1</th>\n",
       "      <td>787</td>\n",
       "      <td>N</td>\n",
       "      <td>NaN</td>\n",
       "      <td>0</td>\n",
       "      <td>1</td>\n",
       "      <td>P</td>\n",
       "      <td>80</td>\n",
       "      <td>24.0</td>\n",
       "      <td>277000.0</td>\n",
       "      <td>80.0</td>\n",
       "      <td>...</td>\n",
       "      <td>40400.0</td>\n",
       "      <td>F21Q20000002</td>\n",
       "      <td>C</td>\n",
       "      <td>360.0</td>\n",
       "      <td>2.0</td>\n",
       "      <td>Other sellers</td>\n",
       "      <td>U.S. BANK N.A.</td>\n",
       "      <td>9</td>\n",
       "      <td>2.0</td>\n",
       "      <td>0.0</td>\n",
       "    </tr>\n",
       "    <tr>\n",
       "      <th>2</th>\n",
       "      <td>712</td>\n",
       "      <td>N</td>\n",
       "      <td>NaN</td>\n",
       "      <td>0</td>\n",
       "      <td>1</td>\n",
       "      <td>P</td>\n",
       "      <td>71</td>\n",
       "      <td>42.0</td>\n",
       "      <td>197000.0</td>\n",
       "      <td>71.0</td>\n",
       "      <td>...</td>\n",
       "      <td>67100.0</td>\n",
       "      <td>F21Q20000003</td>\n",
       "      <td>P</td>\n",
       "      <td>360.0</td>\n",
       "      <td>2.0</td>\n",
       "      <td>Other sellers</td>\n",
       "      <td>Other servicers</td>\n",
       "      <td>9</td>\n",
       "      <td>2.0</td>\n",
       "      <td>0.0</td>\n",
       "    </tr>\n",
       "    <tr>\n",
       "      <th>3</th>\n",
       "      <td>790</td>\n",
       "      <td>N</td>\n",
       "      <td>NaN</td>\n",
       "      <td>0</td>\n",
       "      <td>1</td>\n",
       "      <td>P</td>\n",
       "      <td>69</td>\n",
       "      <td>24.0</td>\n",
       "      <td>168000.0</td>\n",
       "      <td>69.0</td>\n",
       "      <td>...</td>\n",
       "      <td>55700.0</td>\n",
       "      <td>F21Q20000004</td>\n",
       "      <td>C</td>\n",
       "      <td>360.0</td>\n",
       "      <td>2.0</td>\n",
       "      <td>Other sellers</td>\n",
       "      <td>Other servicers</td>\n",
       "      <td>9</td>\n",
       "      <td>2.0</td>\n",
       "      <td>0.0</td>\n",
       "    </tr>\n",
       "    <tr>\n",
       "      <th>4</th>\n",
       "      <td>662</td>\n",
       "      <td>N</td>\n",
       "      <td>45780.0</td>\n",
       "      <td>25</td>\n",
       "      <td>1</td>\n",
       "      <td>P</td>\n",
       "      <td>87</td>\n",
       "      <td>34.0</td>\n",
       "      <td>498000.0</td>\n",
       "      <td>87.0</td>\n",
       "      <td>...</td>\n",
       "      <td>43400.0</td>\n",
       "      <td>F21Q20000005</td>\n",
       "      <td>N</td>\n",
       "      <td>360.0</td>\n",
       "      <td>2.0</td>\n",
       "      <td>Other sellers</td>\n",
       "      <td>JPMORGAN CHASE BANK, NATIONAL ASSOCIATION</td>\n",
       "      <td>9</td>\n",
       "      <td>2.0</td>\n",
       "      <td>0.0</td>\n",
       "    </tr>\n",
       "  </tbody>\n",
       "</table>\n",
       "<p>5 rows × 23 columns</p>\n",
       "</div>"
      ],
      "text/plain": [
       "   Credit.Score First.Time.Homebuyer.Flag  \\\n",
       "0           778                         N   \n",
       "1           787                         N   \n",
       "2           712                         N   \n",
       "3           790                         N   \n",
       "4           662                         N   \n",
       "\n",
       "   Metropolitan.Statistical.Area..MSA..Or.Metropolitan.Division  \\\n",
       "0                                                NaN              \n",
       "1                                                NaN              \n",
       "2                                                NaN              \n",
       "3                                                NaN              \n",
       "4                                            45780.0              \n",
       "\n",
       "   Mortgage.Insurance.Percentage..MI...  Number.of.Units Occupancy.Status  \\\n",
       "0                                     0                1                P   \n",
       "1                                     0                1                P   \n",
       "2                                     0                1                P   \n",
       "3                                     0                1                P   \n",
       "4                                    25                1                P   \n",
       "\n",
       "   Original.Combined.Loan.to.Value..CLTV.  \\\n",
       "0                                      79   \n",
       "1                                      80   \n",
       "2                                      71   \n",
       "3                                      69   \n",
       "4                                      87   \n",
       "\n",
       "   Original.Debt.to.Income..DTI..Ratio  Original.UPB  \\\n",
       "0                                 33.0      226000.0   \n",
       "1                                 24.0      277000.0   \n",
       "2                                 42.0      197000.0   \n",
       "3                                 24.0      168000.0   \n",
       "4                                 34.0      498000.0   \n",
       "\n",
       "   Original.Loan.to.Value..LTV.  ...  Postal.Code Loan.Sequence.Number  \\\n",
       "0                          79.0  ...      67500.0         F21Q20000001   \n",
       "1                          80.0  ...      40400.0         F21Q20000002   \n",
       "2                          71.0  ...      67100.0         F21Q20000003   \n",
       "3                          69.0  ...      55700.0         F21Q20000004   \n",
       "4                          87.0  ...      43400.0         F21Q20000005   \n",
       "\n",
       "  Loan.Purpose  Original.Loan.Term Number.of.Borrowers    Seller.Name  \\\n",
       "0            N               360.0                 1.0  Other sellers   \n",
       "1            C               360.0                 2.0  Other sellers   \n",
       "2            P               360.0                 2.0  Other sellers   \n",
       "3            C               360.0                 2.0  Other sellers   \n",
       "4            N               360.0                 2.0  Other sellers   \n",
       "\n",
       "                               Servicer.Name  Program.Indicator  \\\n",
       "0                            Other servicers                  9   \n",
       "1                             U.S. BANK N.A.                  9   \n",
       "2                            Other servicers                  9   \n",
       "3                            Other servicers                  9   \n",
       "4  JPMORGAN CHASE BANK, NATIONAL ASSOCIATION                  9   \n",
       "\n",
       "  Property.Valuation.Method Default  \n",
       "0                       1.0     0.0  \n",
       "1                       2.0     0.0  \n",
       "2                       2.0     0.0  \n",
       "3                       2.0     0.0  \n",
       "4                       2.0     0.0  \n",
       "\n",
       "[5 rows x 23 columns]"
      ]
     },
     "execution_count": 6,
     "metadata": {},
     "output_type": "execute_result"
    }
   ],
   "source": [
    "data.head()"
   ]
  },
  {
   "cell_type": "markdown",
   "id": "be426dc7",
   "metadata": {},
   "source": [
    "#### Data size"
   ]
  },
  {
   "cell_type": "code",
   "execution_count": 7,
   "id": "b57401f4",
   "metadata": {},
   "outputs": [
    {
     "data": {
      "text/plain": [
       "(210681, 23)"
      ]
     },
     "execution_count": 7,
     "metadata": {},
     "output_type": "execute_result"
    }
   ],
   "source": [
    "data.shape"
   ]
  },
  {
   "cell_type": "markdown",
   "id": "ba7d3706",
   "metadata": {},
   "source": [
    "#### Display columns names"
   ]
  },
  {
   "cell_type": "code",
   "execution_count": 14,
   "id": "5acdd4ce",
   "metadata": {},
   "outputs": [
    {
     "name": "stdout",
     "output_type": "stream",
     "text": [
      "Columns names:\n",
      "******************************\n",
      "1 Credit.Score\n",
      "2 First.Time.Homebuyer.Flag\n",
      "3 Metropolitan.Statistical.Area..MSA..Or.Metropolitan.Division\n",
      "4 Mortgage.Insurance.Percentage..MI...\n",
      "5 Number.of.Units\n",
      "6 Occupancy.Status\n",
      "7 Original.Combined.Loan.to.Value..CLTV.\n",
      "8 Original.Debt.to.Income..DTI..Ratio\n",
      "9 Original.UPB\n",
      "10 Original.Loan.to.Value..LTV.\n",
      "11 Original.Interest.Rate\n",
      "12 Property.State\n",
      "13 Property.Type\n",
      "14 Postal.Code\n",
      "15 Loan.Sequence.Number\n",
      "16 Loan.Purpose\n",
      "17 Original.Loan.Term\n",
      "18 Number.of.Borrowers\n",
      "19 Seller.Name\n",
      "20 Servicer.Name\n",
      "21 Program.Indicator\n",
      "22 Property.Valuation.Method\n",
      "23 Default\n"
     ]
    }
   ],
   "source": [
    "def show_columns(dt):\n",
    "    print(\"Columns names:\")\n",
    "    print('*'*30)\n",
    "    for i in range(len(dt.columns)):\n",
    "        print(i+1,dt.columns[i])\n",
    "show_columns(data)"
   ]
  },
  {
   "cell_type": "markdown",
   "id": "96caee07",
   "metadata": {},
   "source": [
    "Display dataset info, datatypes, entries count"
   ]
  },
  {
   "cell_type": "code",
   "execution_count": 12,
   "id": "80b49cd1",
   "metadata": {},
   "outputs": [
    {
     "name": "stdout",
     "output_type": "stream",
     "text": [
      "<class 'pandas.core.frame.DataFrame'>\n",
      "RangeIndex: 210681 entries, 0 to 210680\n",
      "Data columns (total 23 columns):\n",
      " #   Column                                                        Non-Null Count   Dtype  \n",
      "---  ------                                                        --------------   -----  \n",
      " 0   Credit.Score                                                  210681 non-null  int64  \n",
      " 1   First.Time.Homebuyer.Flag                                     210681 non-null  object \n",
      " 2   Metropolitan.Statistical.Area..MSA..Or.Metropolitan.Division  189560 non-null  float64\n",
      " 3   Mortgage.Insurance.Percentage..MI...                          210681 non-null  int64  \n",
      " 4   Number.of.Units                                               210681 non-null  int64  \n",
      " 5   Occupancy.Status                                              210681 non-null  object \n",
      " 6   Original.Combined.Loan.to.Value..CLTV.                        210681 non-null  int64  \n",
      " 7   Original.Debt.to.Income..DTI..Ratio                           210680 non-null  float64\n",
      " 8   Original.UPB                                                  210680 non-null  float64\n",
      " 9   Original.Loan.to.Value..LTV.                                  210680 non-null  float64\n",
      " 10  Original.Interest.Rate                                        210680 non-null  float64\n",
      " 11  Property.State                                                210680 non-null  object \n",
      " 12  Property.Type                                                 210680 non-null  object \n",
      " 13  Postal.Code                                                   210680 non-null  float64\n",
      " 14  Loan.Sequence.Number                                          210680 non-null  object \n",
      " 15  Loan.Purpose                                                  210680 non-null  object \n",
      " 16  Original.Loan.Term                                            210680 non-null  float64\n",
      " 17  Number.of.Borrowers                                           210680 non-null  float64\n",
      " 18  Seller.Name                                                   210680 non-null  object \n",
      " 19  Servicer.Name                                                 210680 non-null  object \n",
      " 20  Program.Indicator                                             210680 non-null  object \n",
      " 21  Property.Valuation.Method                                     210680 non-null  float64\n",
      " 22  Default                                                       210680 non-null  float64\n",
      "dtypes: float64(10), int64(4), object(9)\n",
      "memory usage: 37.0+ MB\n"
     ]
    }
   ],
   "source": [
    "data.info()"
   ]
  },
  {
   "cell_type": "markdown",
   "id": "bf1f2839",
   "metadata": {},
   "source": [
    "## Data Cleaning"
   ]
  },
  {
   "cell_type": "markdown",
   "id": "385ab4b0",
   "metadata": {},
   "source": [
    ">01- Drop irrelevant columns\n",
    "<br>02- Exploring nulls and remove it\n",
    "<br>03- Exploring duplicates and remove it\n",
    "<br>04- change some columns name"
   ]
  },
  {
   "cell_type": "markdown",
   "id": "210d680e",
   "metadata": {},
   "source": [
    "#### 01- Drop irrelevant columns"
   ]
  },
  {
   "cell_type": "markdown",
   "id": "6a765b6f",
   "metadata": {},
   "source": [
    "The dataset used contains information that is unavailable at the time of loan application. We will drop these columns before starting with our analysis. The columns we will drop are:\n",
    "\n",
    "- MORTGAGE_INSURANCE_PERCENTAGE\n",
    "- ORIGINAL_UPB\n",
    "- ORIGINAL_INTEREST_RATE\n",
    "\n",
    "Other columns we will drop are:\n",
    "\n",
    "We will drop `PROPERTY_STATE` as this information is encoded in the MSA column.\n",
    "\n",
    "`LOAN_SEQUENCE_NUMBER`and `Postal.Code` are a unique id assigned to each loan. As it provides no information we will drop this column.\n",
    "\n",
    "`SELLER_NAME` and `SERVICER_NAME` are dependent loan activity and since this information is not available at the time of loan request we will drop these columns."
   ]
  },
  {
   "cell_type": "code",
   "execution_count": 140,
   "id": "fe88282c",
   "metadata": {},
   "outputs": [],
   "source": [
    "new_dt=data.drop(columns=['Mortgage.Insurance.Percentage..MI...','Original.UPB','Original.Interest.Rate','Property.State','Loan.Sequence.Number','Seller.Name','Servicer.Name','Postal.Code'])"
   ]
  },
  {
   "cell_type": "code",
   "execution_count": 141,
   "id": "c71967d0",
   "metadata": {},
   "outputs": [
    {
     "name": "stdout",
     "output_type": "stream",
     "text": [
      "Columns names:\n",
      "******************************\n",
      "1 Credit.Score\n",
      "2 First.Time.Homebuyer.Flag\n",
      "3 Metropolitan.Statistical.Area..MSA..Or.Metropolitan.Division\n",
      "4 Number.of.Units\n",
      "5 Occupancy.Status\n",
      "6 Original.Combined.Loan.to.Value..CLTV.\n",
      "7 Original.Debt.to.Income..DTI..Ratio\n",
      "8 Original.Loan.to.Value..LTV.\n",
      "9 Property.Type\n",
      "10 Loan.Purpose\n",
      "11 Original.Loan.Term\n",
      "12 Number.of.Borrowers\n",
      "13 Program.Indicator\n",
      "14 Property.Valuation.Method\n",
      "15 Default\n"
     ]
    }
   ],
   "source": [
    "show_columns(new_dt)"
   ]
  },
  {
   "cell_type": "markdown",
   "id": "c3b49f83",
   "metadata": {},
   "source": [
    "#### 02- Exploring nulls and Fill it"
   ]
  },
  {
   "cell_type": "code",
   "execution_count": 142,
   "id": "70962167",
   "metadata": {},
   "outputs": [
    {
     "data": {
      "text/plain": [
       "Credit.Score                                                        0\n",
       "First.Time.Homebuyer.Flag                                           0\n",
       "Metropolitan.Statistical.Area..MSA..Or.Metropolitan.Division    21121\n",
       "Number.of.Units                                                     0\n",
       "Occupancy.Status                                                    0\n",
       "Original.Combined.Loan.to.Value..CLTV.                              0\n",
       "Original.Debt.to.Income..DTI..Ratio                                 1\n",
       "Original.Loan.to.Value..LTV.                                        1\n",
       "Property.Type                                                       1\n",
       "Loan.Purpose                                                        1\n",
       "Original.Loan.Term                                                  1\n",
       "Number.of.Borrowers                                                 1\n",
       "Program.Indicator                                                   1\n",
       "Property.Valuation.Method                                           1\n",
       "Default                                                             1\n",
       "dtype: int64"
      ]
     },
     "execution_count": 142,
     "metadata": {},
     "output_type": "execute_result"
    }
   ],
   "source": [
    "new_dt.isnull().sum()"
   ]
  },
  {
   "cell_type": "code",
   "execution_count": 143,
   "id": "bc7d51c1",
   "metadata": {},
   "outputs": [],
   "source": [
    "new_dt['Metropolitan.Statistical.Area..MSA..Or.Metropolitan.Division'].fillna(value=new_dt['Metropolitan.Statistical.Area..MSA..Or.Metropolitan.Division'].median(),inplace=True)"
   ]
  },
  {
   "cell_type": "code",
   "execution_count": 144,
   "id": "5aa4236f",
   "metadata": {},
   "outputs": [
    {
     "data": {
      "text/plain": [
       "Credit.Score                                                    0\n",
       "First.Time.Homebuyer.Flag                                       0\n",
       "Metropolitan.Statistical.Area..MSA..Or.Metropolitan.Division    0\n",
       "Number.of.Units                                                 0\n",
       "Occupancy.Status                                                0\n",
       "Original.Combined.Loan.to.Value..CLTV.                          0\n",
       "Original.Debt.to.Income..DTI..Ratio                             1\n",
       "Original.Loan.to.Value..LTV.                                    1\n",
       "Property.Type                                                   1\n",
       "Loan.Purpose                                                    1\n",
       "Original.Loan.Term                                              1\n",
       "Number.of.Borrowers                                             1\n",
       "Program.Indicator                                               1\n",
       "Property.Valuation.Method                                       1\n",
       "Default                                                         1\n",
       "dtype: int64"
      ]
     },
     "execution_count": 144,
     "metadata": {},
     "output_type": "execute_result"
    }
   ],
   "source": [
    "new_dt.isnull().sum()"
   ]
  },
  {
   "cell_type": "code",
   "execution_count": 145,
   "id": "982e0d23",
   "metadata": {},
   "outputs": [],
   "source": [
    "row_null=new_dt[new_dt['Original.Debt.to.Income..DTI..Ratio'].isnull()].index"
   ]
  },
  {
   "cell_type": "code",
   "execution_count": 146,
   "id": "26035435",
   "metadata": {},
   "outputs": [],
   "source": [
    "new_dt.drop(row_null,inplace=True)"
   ]
  },
  {
   "cell_type": "code",
   "execution_count": 147,
   "id": "761c9596",
   "metadata": {},
   "outputs": [
    {
     "data": {
      "text/plain": [
       "Credit.Score                                                    0\n",
       "First.Time.Homebuyer.Flag                                       0\n",
       "Metropolitan.Statistical.Area..MSA..Or.Metropolitan.Division    0\n",
       "Number.of.Units                                                 0\n",
       "Occupancy.Status                                                0\n",
       "Original.Combined.Loan.to.Value..CLTV.                          0\n",
       "Original.Debt.to.Income..DTI..Ratio                             0\n",
       "Original.Loan.to.Value..LTV.                                    0\n",
       "Property.Type                                                   0\n",
       "Loan.Purpose                                                    0\n",
       "Original.Loan.Term                                              0\n",
       "Number.of.Borrowers                                             0\n",
       "Program.Indicator                                               0\n",
       "Property.Valuation.Method                                       0\n",
       "Default                                                         0\n",
       "dtype: int64"
      ]
     },
     "execution_count": 147,
     "metadata": {},
     "output_type": "execute_result"
    }
   ],
   "source": [
    "new_dt.isnull().sum()"
   ]
  },
  {
   "cell_type": "markdown",
   "id": "13c30a2d",
   "metadata": {},
   "source": [
    "#### 03- Exploring duplicates and remove it"
   ]
  },
  {
   "cell_type": "code",
   "execution_count": 148,
   "id": "5f84d2b6",
   "metadata": {},
   "outputs": [
    {
     "data": {
      "text/plain": [
       "232"
      ]
     },
     "execution_count": 148,
     "metadata": {},
     "output_type": "execute_result"
    }
   ],
   "source": [
    "new_dt.duplicated().sum()"
   ]
  },
  {
   "cell_type": "code",
   "execution_count": 149,
   "id": "08731d89",
   "metadata": {},
   "outputs": [
    {
     "data": {
      "text/plain": [
       "Int64Index([    83,    112,    558,    560,   1007,   1689,   4698,   5281,\n",
       "              5771,   5776,\n",
       "            ...\n",
       "            201087, 201240, 201805, 203958, 204274, 205682, 206388, 206589,\n",
       "            207323, 209900],\n",
       "           dtype='int64', length=232)"
      ]
     },
     "execution_count": 149,
     "metadata": {},
     "output_type": "execute_result"
    }
   ],
   "source": [
    "row_dup=new_dt[new_dt.duplicated()].index\n",
    "row_dup"
   ]
  },
  {
   "cell_type": "code",
   "execution_count": 150,
   "id": "a4c5bf47",
   "metadata": {},
   "outputs": [],
   "source": [
    "new_dt.drop(row_dup,inplace=True)"
   ]
  },
  {
   "cell_type": "code",
   "execution_count": 151,
   "id": "1a99a7af",
   "metadata": {},
   "outputs": [
    {
     "data": {
      "text/plain": [
       "0"
      ]
     },
     "execution_count": 151,
     "metadata": {},
     "output_type": "execute_result"
    }
   ],
   "source": [
    "new_dt.duplicated().sum()"
   ]
  },
  {
   "cell_type": "markdown",
   "id": "4d8fe98a",
   "metadata": {},
   "source": [
    "#### 04- change some columns name"
   ]
  },
  {
   "cell_type": "code",
   "execution_count": 177,
   "id": "676c8c94",
   "metadata": {},
   "outputs": [],
   "source": [
    "new_dt.rename(columns={\n",
    "    'Metropolitan.Statistical.Area..MSA..Or.Metropolitan.Division':'Metropolitan_Statistical_Area'\n",
    "},inplace=True)"
   ]
  },
  {
   "cell_type": "markdown",
   "id": "5d5eaa16",
   "metadata": {},
   "source": [
    "<a id='eda'></a>\n",
    "## Exploratory Data Analysis"
   ]
  },
  {
   "cell_type": "markdown",
   "id": "c7f8e4d6",
   "metadata": {},
   "source": [
    "Company X offers home loans. The customer submits a loan application, and Company X wants to determine if the borrower will default on the loan. If Company X determines the borrower is likely to default on the loan, then Company X will deny the borrower's loan application"
   ]
  },
  {
   "cell_type": "markdown",
   "id": "d4c64211",
   "metadata": {},
   "source": [
    "#### how many loans on and off?"
   ]
  },
  {
   "cell_type": "code",
   "execution_count": 179,
   "id": "efadb93c",
   "metadata": {},
   "outputs": [
    {
     "data": {
      "image/png": "[encoded data removed]",
      "text/plain": [
       "<Figure size 1152x576 with 1 Axes>"
      ]
     },
     "metadata": {},
     "output_type": "display_data"
    }
   ],
   "source": [
    "d_count=new_dt['Default'].value_counts()\n",
    "plt.figure(figsize=(16,8))\n",
    "plt.title('Ratio Default on the loan and off in dataset',size=20)\n",
    "plt.pie(d_count,labels=d_count.index.astype(int),autopct='%0.1f%%')\n",
    "plt.show()"
   ]
  },
  {
   "cell_type": "markdown",
   "id": "a9012071",
   "metadata": {},
   "source": [
    "#### Split columns into numerical and categorical columns"
   ]
  },
  {
   "cell_type": "markdown",
   "id": "ab63aa0c",
   "metadata": {},
   "source": [
    "categorical columns"
   ]
  },
  {
   "cell_type": "code",
   "execution_count": 180,
   "id": "7d5f5f29",
   "metadata": {},
   "outputs": [
    {
     "name": "stdout",
     "output_type": "stream",
     "text": [
      "Columns names:\n",
      "******************************\n",
      "1 First.Time.Homebuyer.Flag\n",
      "2 Occupancy.Status\n",
      "3 Property.Type\n",
      "4 Loan.Purpose\n",
      "5 Program.Indicator\n"
     ]
    }
   ],
   "source": [
    "cat=new_dt.select_dtypes('object')\n",
    "show_columns(cat)"
   ]
  },
  {
   "cell_type": "markdown",
   "id": "a2362a4f",
   "metadata": {},
   "source": [
    "#### Then we will analysis and visualize all columns with target column (default) to define correlation"
   ]
  },
  {
   "cell_type": "code",
   "execution_count": 181,
   "id": "20aa24f6",
   "metadata": {},
   "outputs": [
    {
     "data": {
      "image/png": "[encoded data removed]",
      "text/plain": [
       "<Figure size 1440x1440 with 5 Axes>"
      ]
     },
     "metadata": {
      "needs_background": "light"
     },
     "output_type": "display_data"
    }
   ],
   "source": [
    "plt.figure(figsize=(20,20))\n",
    "plt.suptitle('Describe correlation between Categroical column with Default',size=20)\n",
    "for i in range(len(cat.columns)):\n",
    "    plt.subplot(2,3,i+1)\n",
    "    sns.countplot(x='Default',hue=cat.columns[i],data=new_dt)"
   ]
  },
  {
   "cell_type": "markdown",
   "id": "dd1efd64",
   "metadata": {},
   "source": [
    "1- FIRST_TIME_HOMEBUYER_FLAG , (will reside in the mortgaged property as a primary residence) are not defaulter, (individual who is purchasing the mortgaged property) are found as default\n",
    "\n",
    "2- OCCUPANCY_STATUS , Primary Residence has impact on outcome(default), (Investment Property,Second Home) are no impact on outcome.\n",
    "\n",
    "3- PROPERTY TYPE: Single-Family home has impact on outcome default , other have null(no impact)\n",
    "\n",
    "4- LOAN PURPOSE: All(N,C,P) have same amount/count impact on outcome(default)\n",
    "\n",
    "5- PROGRAM INDICATOR: value 9 has impact on outcomes default and H no impact \n",
    "\n"
   ]
  },
  {
   "cell_type": "markdown",
   "id": "7326e3ed",
   "metadata": {},
   "source": [
    "Numerical Columns"
   ]
  },
  {
   "cell_type": "code",
   "execution_count": 182,
   "id": "b76357e0",
   "metadata": {},
   "outputs": [
    {
     "name": "stdout",
     "output_type": "stream",
     "text": [
      "Columns names:\n",
      "******************************\n",
      "1 Credit.Score\n",
      "2 Metropolitan_Statistical_Area\n",
      "3 Number.of.Units\n",
      "4 Original.Combined.Loan.to.Value..CLTV.\n",
      "5 Original.Debt.to.Income..DTI..Ratio\n",
      "6 Original.Loan.to.Value..LTV.\n",
      "7 Original.Loan.Term\n",
      "8 Number.of.Borrowers\n",
      "9 Property.Valuation.Method\n",
      "10 Default\n"
     ]
    }
   ],
   "source": [
    "num=new_dt.select_dtypes(['int64','float64'])\n",
    "show_columns(num)"
   ]
  },
  {
   "cell_type": "code",
   "execution_count": 183,
   "id": "9e1af106",
   "metadata": {},
   "outputs": [],
   "source": [
    "traget=num['Default']"
   ]
  },
  {
   "cell_type": "code",
   "execution_count": 184,
   "id": "b385d3c7",
   "metadata": {},
   "outputs": [],
   "source": [
    "num1=num.drop(columns='Default')"
   ]
  },
  {
   "cell_type": "code",
   "execution_count": 185,
   "id": "32190564",
   "metadata": {},
   "outputs": [
    {
     "data": {
      "image/png": "[encoded data removed]",
      "text/plain": [
       "<Figure size 1440x1440 with 4 Axes>"
      ]
     },
     "metadata": {
      "needs_background": "light"
     },
     "output_type": "display_data"
    }
   ],
   "source": [
    "plt.figure(figsize=(20,20))\n",
    "plt.suptitle('Describe correlation between numerical column with Default',size=20)\n",
    "for i in range(len(num1.columns)-5):\n",
    "    plt.subplot(2,3,i+1)\n",
    "    sns.boxplot(x='Default',y=num1.columns[i],data=new_dt)"
   ]
  },
  {
   "cell_type": "code",
   "execution_count": 169,
   "id": "70c0cd51",
   "metadata": {},
   "outputs": [
    {
     "data": {
      "image/png": "[encoded data removed]",
      "text/plain": [
       "<Figure size 1440x1440 with 4 Axes>"
      ]
     },
     "metadata": {
      "needs_background": "light"
     },
     "output_type": "display_data"
    }
   ],
   "source": [
    "plt.figure(figsize=(20,20))\n",
    "plt.suptitle('Describe correlation between Categroical column with Default',size=20)\n",
    "for i in range(5,len(num1.columns)):\n",
    "    plt.subplot(2,2,i-5+1)\n",
    "    sns.boxplot(x='Default',y=num1.columns[i],data=new_dt)"
   ]
  },
  {
   "cell_type": "markdown",
   "id": "a98490a8",
   "metadata": {},
   "source": [
    "1- CREDIT_SCORE:has outliers in both cases(default and non-default)\n",
    "<br>2- METROPOLITAN_STATISTICAL_AREA:does not have outliers. Both looks same.\n",
    "<br>3- NUMBER_OF_UNITS: is categorical variable and descrete value like 1,2,3,4\n",
    "<br>4- ORIGINAL_COMBINED_LOAN_TO_VALUE: Default is high compared to rest\n",
    "<br>5- ORIGINAL_DEBT_TO_INCOME_RATIO: Default is high compared to rest\n",
    "<br>6- ORIGINAL_LOAN_TO_VALUE:Default is high compared to rest\n",
    "<br>7- ORIGINAL_LOAN_TREM: Default is high compared to rest\n",
    "<br>8- NUMBER_OF_BORROWERS:Has no impact. Both are same.\n",
    "<br>9- Property.Valuation.Method: Has no impact. Both are same."
   ]
  },
  {
   "cell_type": "markdown",
   "id": "1b1d81ea",
   "metadata": {},
   "source": [
    "#### Summary Correlation with heat map"
   ]
  },
  {
   "cell_type": "code",
   "execution_count": 190,
   "id": "d7632d92",
   "metadata": {},
   "outputs": [
    {
     "data": {
      "image/png": "[encoded data removed]",
      "text/plain": [
       "<Figure size 1440x720 with 2 Axes>"
      ]
     },
     "metadata": {
      "needs_background": "light"
     },
     "output_type": "display_data"
    }
   ],
   "source": [
    "plt.figure(figsize=(20,10))\n",
    "plt.title('Summary Correlation with heat map',size=20)\n",
    "sns.heatmap(new_dt.corr(),annot=True)\n",
    "plt.show()"
   ]
  },
  {
   "cell_type": "code",
   "execution_count": 192,
   "id": "d052b2d8",
   "metadata": {},
   "outputs": [
    {
     "data": {
      "text/plain": [
       "Credit.Score                             -0.021876\n",
       "Number.of.Borrowers                      -0.004664\n",
       "Number.of.Units                           0.000610\n",
       "Metropolitan_Statistical_Area             0.002278\n",
       "Property.Valuation.Method                 0.130367\n",
       "Original.Loan.Term                        0.171414\n",
       "Original.Combined.Loan.to.Value..CLTV.    0.321369\n",
       "Original.Loan.to.Value..LTV.              0.323051\n",
       "Original.Debt.to.Income..DTI..Ratio       0.414952\n",
       "Default                                   1.000000\n",
       "Name: Default, dtype: float64"
      ]
     },
     "execution_count": 192,
     "metadata": {},
     "output_type": "execute_result"
    }
   ],
   "source": [
    "new_dt.corr()['Default'].sort_values()"
   ]
  },
  {
   "cell_type": "markdown",
   "id": "b09ca5cd",
   "metadata": {},
   "source": [
    "we have there some correlation with Default:\n",
    "- Original.Debt.to.Income..DTI..Ratio\n",
    "- Original.Debt.to.Income..DTI..Ratio\n",
    "- Original.Debt.to.Income..DTI..Ratio\n",
    "- Original.Loan.Term\n",
    "- Property.Valuation.Method"
   ]
  },
  {
   "cell_type": "markdown",
   "id": "4168869e",
   "metadata": {},
   "source": [
    "# Preprocessing on data"
   ]
  },
  {
   "cell_type": "markdown",
   "id": "d2658178",
   "metadata": {},
   "source": [
    "#### convert data categorical to numerical"
   ]
  },
  {
   "cell_type": "code",
   "execution_count": 229,
   "id": "134f0420",
   "metadata": {},
   "outputs": [],
   "source": [
    "converted_columns=pd.get_dummies(cat)"
   ]
  },
  {
   "cell_type": "code",
   "execution_count": 230,
   "id": "b4b17934",
   "metadata": {},
   "outputs": [
    {
     "data": {
      "text/html": [
       "<div>\n",
       "<style scoped>\n",
       "    .dataframe tbody tr th:only-of-type {\n",
       "        vertical-align: middle;\n",
       "    }\n",
       "\n",
       "    .dataframe tbody tr th {\n",
       "        vertical-align: top;\n",
       "    }\n",
       "\n",
       "    .dataframe thead th {\n",
       "        text-align: right;\n",
       "    }\n",
       "</style>\n",
       "<table border=\"1\" class=\"dataframe\">\n",
       "  <thead>\n",
       "    <tr style=\"text-align: right;\">\n",
       "      <th></th>\n",
       "      <th>First.Time.Homebuyer.Flag_N</th>\n",
       "      <th>First.Time.Homebuyer.Flag_Y</th>\n",
       "      <th>Occupancy.Status_I</th>\n",
       "      <th>Occupancy.Status_P</th>\n",
       "      <th>Occupancy.Status_S</th>\n",
       "      <th>Property.Type_CO</th>\n",
       "      <th>Property.Type_CP</th>\n",
       "      <th>Property.Type_MH</th>\n",
       "      <th>Property.Type_PU</th>\n",
       "      <th>Property.Type_SF</th>\n",
       "      <th>Loan.Purpose_C</th>\n",
       "      <th>Loan.Purpose_N</th>\n",
       "      <th>Loan.Purpose_P</th>\n",
       "      <th>Program.Indicator_9</th>\n",
       "      <th>Program.Indicator_H</th>\n",
       "    </tr>\n",
       "  </thead>\n",
       "  <tbody>\n",
       "    <tr>\n",
       "      <th>0</th>\n",
       "      <td>1</td>\n",
       "      <td>0</td>\n",
       "      <td>0</td>\n",
       "      <td>1</td>\n",
       "      <td>0</td>\n",
       "      <td>0</td>\n",
       "      <td>0</td>\n",
       "      <td>0</td>\n",
       "      <td>0</td>\n",
       "      <td>1</td>\n",
       "      <td>0</td>\n",
       "      <td>1</td>\n",
       "      <td>0</td>\n",
       "      <td>1</td>\n",
       "      <td>0</td>\n",
       "    </tr>\n",
       "    <tr>\n",
       "      <th>1</th>\n",
       "      <td>1</td>\n",
       "      <td>0</td>\n",
       "      <td>0</td>\n",
       "      <td>1</td>\n",
       "      <td>0</td>\n",
       "      <td>0</td>\n",
       "      <td>0</td>\n",
       "      <td>0</td>\n",
       "      <td>0</td>\n",
       "      <td>1</td>\n",
       "      <td>1</td>\n",
       "      <td>0</td>\n",
       "      <td>0</td>\n",
       "      <td>1</td>\n",
       "      <td>0</td>\n",
       "    </tr>\n",
       "    <tr>\n",
       "      <th>2</th>\n",
       "      <td>1</td>\n",
       "      <td>0</td>\n",
       "      <td>0</td>\n",
       "      <td>1</td>\n",
       "      <td>0</td>\n",
       "      <td>0</td>\n",
       "      <td>0</td>\n",
       "      <td>0</td>\n",
       "      <td>0</td>\n",
       "      <td>1</td>\n",
       "      <td>0</td>\n",
       "      <td>0</td>\n",
       "      <td>1</td>\n",
       "      <td>1</td>\n",
       "      <td>0</td>\n",
       "    </tr>\n",
       "    <tr>\n",
       "      <th>3</th>\n",
       "      <td>1</td>\n",
       "      <td>0</td>\n",
       "      <td>0</td>\n",
       "      <td>1</td>\n",
       "      <td>0</td>\n",
       "      <td>0</td>\n",
       "      <td>0</td>\n",
       "      <td>0</td>\n",
       "      <td>0</td>\n",
       "      <td>1</td>\n",
       "      <td>1</td>\n",
       "      <td>0</td>\n",
       "      <td>0</td>\n",
       "      <td>1</td>\n",
       "      <td>0</td>\n",
       "    </tr>\n",
       "    <tr>\n",
       "      <th>4</th>\n",
       "      <td>1</td>\n",
       "      <td>0</td>\n",
       "      <td>0</td>\n",
       "      <td>1</td>\n",
       "      <td>0</td>\n",
       "      <td>0</td>\n",
       "      <td>0</td>\n",
       "      <td>0</td>\n",
       "      <td>1</td>\n",
       "      <td>0</td>\n",
       "      <td>0</td>\n",
       "      <td>1</td>\n",
       "      <td>0</td>\n",
       "      <td>1</td>\n",
       "      <td>0</td>\n",
       "    </tr>\n",
       "    <tr>\n",
       "      <th>...</th>\n",
       "      <td>...</td>\n",
       "      <td>...</td>\n",
       "      <td>...</td>\n",
       "      <td>...</td>\n",
       "      <td>...</td>\n",
       "      <td>...</td>\n",
       "      <td>...</td>\n",
       "      <td>...</td>\n",
       "      <td>...</td>\n",
       "      <td>...</td>\n",
       "      <td>...</td>\n",
       "      <td>...</td>\n",
       "      <td>...</td>\n",
       "      <td>...</td>\n",
       "      <td>...</td>\n",
       "    </tr>\n",
       "    <tr>\n",
       "      <th>210675</th>\n",
       "      <td>1</td>\n",
       "      <td>0</td>\n",
       "      <td>0</td>\n",
       "      <td>1</td>\n",
       "      <td>0</td>\n",
       "      <td>0</td>\n",
       "      <td>0</td>\n",
       "      <td>0</td>\n",
       "      <td>0</td>\n",
       "      <td>1</td>\n",
       "      <td>0</td>\n",
       "      <td>1</td>\n",
       "      <td>0</td>\n",
       "      <td>1</td>\n",
       "      <td>0</td>\n",
       "    </tr>\n",
       "    <tr>\n",
       "      <th>210676</th>\n",
       "      <td>0</td>\n",
       "      <td>1</td>\n",
       "      <td>0</td>\n",
       "      <td>1</td>\n",
       "      <td>0</td>\n",
       "      <td>1</td>\n",
       "      <td>0</td>\n",
       "      <td>0</td>\n",
       "      <td>0</td>\n",
       "      <td>0</td>\n",
       "      <td>0</td>\n",
       "      <td>0</td>\n",
       "      <td>1</td>\n",
       "      <td>0</td>\n",
       "      <td>1</td>\n",
       "    </tr>\n",
       "    <tr>\n",
       "      <th>210677</th>\n",
       "      <td>1</td>\n",
       "      <td>0</td>\n",
       "      <td>0</td>\n",
       "      <td>1</td>\n",
       "      <td>0</td>\n",
       "      <td>0</td>\n",
       "      <td>0</td>\n",
       "      <td>0</td>\n",
       "      <td>1</td>\n",
       "      <td>0</td>\n",
       "      <td>0</td>\n",
       "      <td>1</td>\n",
       "      <td>0</td>\n",
       "      <td>1</td>\n",
       "      <td>0</td>\n",
       "    </tr>\n",
       "    <tr>\n",
       "      <th>210678</th>\n",
       "      <td>1</td>\n",
       "      <td>0</td>\n",
       "      <td>0</td>\n",
       "      <td>1</td>\n",
       "      <td>0</td>\n",
       "      <td>1</td>\n",
       "      <td>0</td>\n",
       "      <td>0</td>\n",
       "      <td>0</td>\n",
       "      <td>0</td>\n",
       "      <td>1</td>\n",
       "      <td>0</td>\n",
       "      <td>0</td>\n",
       "      <td>1</td>\n",
       "      <td>0</td>\n",
       "    </tr>\n",
       "    <tr>\n",
       "      <th>210679</th>\n",
       "      <td>1</td>\n",
       "      <td>0</td>\n",
       "      <td>0</td>\n",
       "      <td>0</td>\n",
       "      <td>1</td>\n",
       "      <td>0</td>\n",
       "      <td>0</td>\n",
       "      <td>0</td>\n",
       "      <td>0</td>\n",
       "      <td>1</td>\n",
       "      <td>0</td>\n",
       "      <td>0</td>\n",
       "      <td>1</td>\n",
       "      <td>1</td>\n",
       "      <td>0</td>\n",
       "    </tr>\n",
       "  </tbody>\n",
       "</table>\n",
       "<p>210448 rows × 15 columns</p>\n",
       "</div>"
      ],
      "text/plain": [
       "        First.Time.Homebuyer.Flag_N  First.Time.Homebuyer.Flag_Y  \\\n",
       "0                                 1                            0   \n",
       "1                                 1                            0   \n",
       "2                                 1                            0   \n",
       "3                                 1                            0   \n",
       "4                                 1                            0   \n",
       "...                             ...                          ...   \n",
       "210675                            1                            0   \n",
       "210676                            0                            1   \n",
       "210677                            1                            0   \n",
       "210678                            1                            0   \n",
       "210679                            1                            0   \n",
       "\n",
       "        Occupancy.Status_I  Occupancy.Status_P  Occupancy.Status_S  \\\n",
       "0                        0                   1                   0   \n",
       "1                        0                   1                   0   \n",
       "2                        0                   1                   0   \n",
       "3                        0                   1                   0   \n",
       "4                        0                   1                   0   \n",
       "...                    ...                 ...                 ...   \n",
       "210675                   0                   1                   0   \n",
       "210676                   0                   1                   0   \n",
       "210677                   0                   1                   0   \n",
       "210678                   0                   1                   0   \n",
       "210679                   0                   0                   1   \n",
       "\n",
       "        Property.Type_CO  Property.Type_CP  Property.Type_MH  \\\n",
       "0                      0                 0                 0   \n",
       "1                      0                 0                 0   \n",
       "2                      0                 0                 0   \n",
       "3                      0                 0                 0   \n",
       "4                      0                 0                 0   \n",
       "...                  ...               ...               ...   \n",
       "210675                 0                 0                 0   \n",
       "210676                 1                 0                 0   \n",
       "210677                 0                 0                 0   \n",
       "210678                 1                 0                 0   \n",
       "210679                 0                 0                 0   \n",
       "\n",
       "        Property.Type_PU  Property.Type_SF  Loan.Purpose_C  Loan.Purpose_N  \\\n",
       "0                      0                 1               0               1   \n",
       "1                      0                 1               1               0   \n",
       "2                      0                 1               0               0   \n",
       "3                      0                 1               1               0   \n",
       "4                      1                 0               0               1   \n",
       "...                  ...               ...             ...             ...   \n",
       "210675                 0                 1               0               1   \n",
       "210676                 0                 0               0               0   \n",
       "210677                 1                 0               0               1   \n",
       "210678                 0                 0               1               0   \n",
       "210679                 0                 1               0               0   \n",
       "\n",
       "        Loan.Purpose_P  Program.Indicator_9  Program.Indicator_H  \n",
       "0                    0                    1                    0  \n",
       "1                    0                    1                    0  \n",
       "2                    1                    1                    0  \n",
       "3                    0                    1                    0  \n",
       "4                    0                    1                    0  \n",
       "...                ...                  ...                  ...  \n",
       "210675               0                    1                    0  \n",
       "210676               1                    0                    1  \n",
       "210677               0                    1                    0  \n",
       "210678               0                    1                    0  \n",
       "210679               1                    1                    0  \n",
       "\n",
       "[210448 rows x 15 columns]"
      ]
     },
     "execution_count": 230,
     "metadata": {},
     "output_type": "execute_result"
    }
   ],
   "source": [
    "converted_columns"
   ]
  },
  {
   "cell_type": "code",
   "execution_count": 244,
   "id": "ea825c6a",
   "metadata": {},
   "outputs": [],
   "source": [
    "new_dt1=new_dt.drop(columns=cat.columns)"
   ]
  },
  {
   "cell_type": "code",
   "execution_count": 252,
   "id": "5292c706",
   "metadata": {},
   "outputs": [
    {
     "data": {
      "text/html": [
       "<div>\n",
       "<style scoped>\n",
       "    .dataframe tbody tr th:only-of-type {\n",
       "        vertical-align: middle;\n",
       "    }\n",
       "\n",
       "    .dataframe tbody tr th {\n",
       "        vertical-align: top;\n",
       "    }\n",
       "\n",
       "    .dataframe thead th {\n",
       "        text-align: right;\n",
       "    }\n",
       "</style>\n",
       "<table border=\"1\" class=\"dataframe\">\n",
       "  <thead>\n",
       "    <tr style=\"text-align: right;\">\n",
       "      <th></th>\n",
       "      <th>Credit.Score</th>\n",
       "      <th>Metropolitan_Statistical_Area</th>\n",
       "      <th>Number.of.Units</th>\n",
       "      <th>Original.Combined.Loan.to.Value..CLTV.</th>\n",
       "      <th>Original.Debt.to.Income..DTI..Ratio</th>\n",
       "      <th>Original.Loan.to.Value..LTV.</th>\n",
       "      <th>Original.Loan.Term</th>\n",
       "      <th>Number.of.Borrowers</th>\n",
       "      <th>Property.Valuation.Method</th>\n",
       "      <th>Default</th>\n",
       "      <th>...</th>\n",
       "      <th>Property.Type_CO</th>\n",
       "      <th>Property.Type_CP</th>\n",
       "      <th>Property.Type_MH</th>\n",
       "      <th>Property.Type_PU</th>\n",
       "      <th>Property.Type_SF</th>\n",
       "      <th>Loan.Purpose_C</th>\n",
       "      <th>Loan.Purpose_N</th>\n",
       "      <th>Loan.Purpose_P</th>\n",
       "      <th>Program.Indicator_9</th>\n",
       "      <th>Program.Indicator_H</th>\n",
       "    </tr>\n",
       "  </thead>\n",
       "  <tbody>\n",
       "    <tr>\n",
       "      <th>0</th>\n",
       "      <td>778</td>\n",
       "      <td>32820.0</td>\n",
       "      <td>1</td>\n",
       "      <td>79</td>\n",
       "      <td>33.0</td>\n",
       "      <td>79.0</td>\n",
       "      <td>360.0</td>\n",
       "      <td>1.0</td>\n",
       "      <td>1.0</td>\n",
       "      <td>0.0</td>\n",
       "      <td>...</td>\n",
       "      <td>0</td>\n",
       "      <td>0</td>\n",
       "      <td>0</td>\n",
       "      <td>0</td>\n",
       "      <td>1</td>\n",
       "      <td>0</td>\n",
       "      <td>1</td>\n",
       "      <td>0</td>\n",
       "      <td>1</td>\n",
       "      <td>0</td>\n",
       "    </tr>\n",
       "    <tr>\n",
       "      <th>1</th>\n",
       "      <td>787</td>\n",
       "      <td>32820.0</td>\n",
       "      <td>1</td>\n",
       "      <td>80</td>\n",
       "      <td>24.0</td>\n",
       "      <td>80.0</td>\n",
       "      <td>360.0</td>\n",
       "      <td>2.0</td>\n",
       "      <td>2.0</td>\n",
       "      <td>0.0</td>\n",
       "      <td>...</td>\n",
       "      <td>0</td>\n",
       "      <td>0</td>\n",
       "      <td>0</td>\n",
       "      <td>0</td>\n",
       "      <td>1</td>\n",
       "      <td>1</td>\n",
       "      <td>0</td>\n",
       "      <td>0</td>\n",
       "      <td>1</td>\n",
       "      <td>0</td>\n",
       "    </tr>\n",
       "    <tr>\n",
       "      <th>2</th>\n",
       "      <td>712</td>\n",
       "      <td>32820.0</td>\n",
       "      <td>1</td>\n",
       "      <td>71</td>\n",
       "      <td>42.0</td>\n",
       "      <td>71.0</td>\n",
       "      <td>360.0</td>\n",
       "      <td>2.0</td>\n",
       "      <td>2.0</td>\n",
       "      <td>0.0</td>\n",
       "      <td>...</td>\n",
       "      <td>0</td>\n",
       "      <td>0</td>\n",
       "      <td>0</td>\n",
       "      <td>0</td>\n",
       "      <td>1</td>\n",
       "      <td>0</td>\n",
       "      <td>0</td>\n",
       "      <td>1</td>\n",
       "      <td>1</td>\n",
       "      <td>0</td>\n",
       "    </tr>\n",
       "    <tr>\n",
       "      <th>3</th>\n",
       "      <td>790</td>\n",
       "      <td>32820.0</td>\n",
       "      <td>1</td>\n",
       "      <td>69</td>\n",
       "      <td>24.0</td>\n",
       "      <td>69.0</td>\n",
       "      <td>360.0</td>\n",
       "      <td>2.0</td>\n",
       "      <td>2.0</td>\n",
       "      <td>0.0</td>\n",
       "      <td>...</td>\n",
       "      <td>0</td>\n",
       "      <td>0</td>\n",
       "      <td>0</td>\n",
       "      <td>0</td>\n",
       "      <td>1</td>\n",
       "      <td>1</td>\n",
       "      <td>0</td>\n",
       "      <td>0</td>\n",
       "      <td>1</td>\n",
       "      <td>0</td>\n",
       "    </tr>\n",
       "    <tr>\n",
       "      <th>4</th>\n",
       "      <td>662</td>\n",
       "      <td>45780.0</td>\n",
       "      <td>1</td>\n",
       "      <td>87</td>\n",
       "      <td>34.0</td>\n",
       "      <td>87.0</td>\n",
       "      <td>360.0</td>\n",
       "      <td>2.0</td>\n",
       "      <td>2.0</td>\n",
       "      <td>0.0</td>\n",
       "      <td>...</td>\n",
       "      <td>0</td>\n",
       "      <td>0</td>\n",
       "      <td>0</td>\n",
       "      <td>1</td>\n",
       "      <td>0</td>\n",
       "      <td>0</td>\n",
       "      <td>1</td>\n",
       "      <td>0</td>\n",
       "      <td>1</td>\n",
       "      <td>0</td>\n",
       "    </tr>\n",
       "    <tr>\n",
       "      <th>...</th>\n",
       "      <td>...</td>\n",
       "      <td>...</td>\n",
       "      <td>...</td>\n",
       "      <td>...</td>\n",
       "      <td>...</td>\n",
       "      <td>...</td>\n",
       "      <td>...</td>\n",
       "      <td>...</td>\n",
       "      <td>...</td>\n",
       "      <td>...</td>\n",
       "      <td>...</td>\n",
       "      <td>...</td>\n",
       "      <td>...</td>\n",
       "      <td>...</td>\n",
       "      <td>...</td>\n",
       "      <td>...</td>\n",
       "      <td>...</td>\n",
       "      <td>...</td>\n",
       "      <td>...</td>\n",
       "      <td>...</td>\n",
       "      <td>...</td>\n",
       "    </tr>\n",
       "    <tr>\n",
       "      <th>210675</th>\n",
       "      <td>788</td>\n",
       "      <td>33460.0</td>\n",
       "      <td>1</td>\n",
       "      <td>80</td>\n",
       "      <td>26.0</td>\n",
       "      <td>80.0</td>\n",
       "      <td>360.0</td>\n",
       "      <td>2.0</td>\n",
       "      <td>1.0</td>\n",
       "      <td>0.0</td>\n",
       "      <td>...</td>\n",
       "      <td>0</td>\n",
       "      <td>0</td>\n",
       "      <td>0</td>\n",
       "      <td>0</td>\n",
       "      <td>1</td>\n",
       "      <td>0</td>\n",
       "      <td>1</td>\n",
       "      <td>0</td>\n",
       "      <td>1</td>\n",
       "      <td>0</td>\n",
       "    </tr>\n",
       "    <tr>\n",
       "      <th>210676</th>\n",
       "      <td>753</td>\n",
       "      <td>38060.0</td>\n",
       "      <td>1</td>\n",
       "      <td>92</td>\n",
       "      <td>43.0</td>\n",
       "      <td>92.0</td>\n",
       "      <td>360.0</td>\n",
       "      <td>1.0</td>\n",
       "      <td>2.0</td>\n",
       "      <td>1.0</td>\n",
       "      <td>...</td>\n",
       "      <td>1</td>\n",
       "      <td>0</td>\n",
       "      <td>0</td>\n",
       "      <td>0</td>\n",
       "      <td>0</td>\n",
       "      <td>0</td>\n",
       "      <td>0</td>\n",
       "      <td>1</td>\n",
       "      <td>0</td>\n",
       "      <td>1</td>\n",
       "    </tr>\n",
       "    <tr>\n",
       "      <th>210677</th>\n",
       "      <td>786</td>\n",
       "      <td>33460.0</td>\n",
       "      <td>1</td>\n",
       "      <td>80</td>\n",
       "      <td>30.0</td>\n",
       "      <td>80.0</td>\n",
       "      <td>360.0</td>\n",
       "      <td>1.0</td>\n",
       "      <td>1.0</td>\n",
       "      <td>0.0</td>\n",
       "      <td>...</td>\n",
       "      <td>0</td>\n",
       "      <td>0</td>\n",
       "      <td>0</td>\n",
       "      <td>1</td>\n",
       "      <td>0</td>\n",
       "      <td>0</td>\n",
       "      <td>1</td>\n",
       "      <td>0</td>\n",
       "      <td>1</td>\n",
       "      <td>0</td>\n",
       "    </tr>\n",
       "    <tr>\n",
       "      <th>210678</th>\n",
       "      <td>805</td>\n",
       "      <td>47894.0</td>\n",
       "      <td>1</td>\n",
       "      <td>75</td>\n",
       "      <td>28.0</td>\n",
       "      <td>75.0</td>\n",
       "      <td>360.0</td>\n",
       "      <td>1.0</td>\n",
       "      <td>2.0</td>\n",
       "      <td>0.0</td>\n",
       "      <td>...</td>\n",
       "      <td>1</td>\n",
       "      <td>0</td>\n",
       "      <td>0</td>\n",
       "      <td>0</td>\n",
       "      <td>0</td>\n",
       "      <td>1</td>\n",
       "      <td>0</td>\n",
       "      <td>0</td>\n",
       "      <td>1</td>\n",
       "      <td>0</td>\n",
       "    </tr>\n",
       "    <tr>\n",
       "      <th>210679</th>\n",
       "      <td>770</td>\n",
       "      <td>33460.0</td>\n",
       "      <td>1</td>\n",
       "      <td>90</td>\n",
       "      <td>44.0</td>\n",
       "      <td>90.0</td>\n",
       "      <td>360.0</td>\n",
       "      <td>2.0</td>\n",
       "      <td>2.0</td>\n",
       "      <td>0.0</td>\n",
       "      <td>...</td>\n",
       "      <td>0</td>\n",
       "      <td>0</td>\n",
       "      <td>0</td>\n",
       "      <td>0</td>\n",
       "      <td>1</td>\n",
       "      <td>0</td>\n",
       "      <td>0</td>\n",
       "      <td>1</td>\n",
       "      <td>1</td>\n",
       "      <td>0</td>\n",
       "    </tr>\n",
       "  </tbody>\n",
       "</table>\n",
       "<p>210448 rows × 25 columns</p>\n",
       "</div>"
      ],
      "text/plain": [
       "        Credit.Score  Metropolitan_Statistical_Area  Number.of.Units  \\\n",
       "0                778                        32820.0                1   \n",
       "1                787                        32820.0                1   \n",
       "2                712                        32820.0                1   \n",
       "3                790                        32820.0                1   \n",
       "4                662                        45780.0                1   \n",
       "...              ...                            ...              ...   \n",
       "210675           788                        33460.0                1   \n",
       "210676           753                        38060.0                1   \n",
       "210677           786                        33460.0                1   \n",
       "210678           805                        47894.0                1   \n",
       "210679           770                        33460.0                1   \n",
       "\n",
       "        Original.Combined.Loan.to.Value..CLTV.  \\\n",
       "0                                           79   \n",
       "1                                           80   \n",
       "2                                           71   \n",
       "3                                           69   \n",
       "4                                           87   \n",
       "...                                        ...   \n",
       "210675                                      80   \n",
       "210676                                      92   \n",
       "210677                                      80   \n",
       "210678                                      75   \n",
       "210679                                      90   \n",
       "\n",
       "        Original.Debt.to.Income..DTI..Ratio  Original.Loan.to.Value..LTV.  \\\n",
       "0                                      33.0                          79.0   \n",
       "1                                      24.0                          80.0   \n",
       "2                                      42.0                          71.0   \n",
       "3                                      24.0                          69.0   \n",
       "4                                      34.0                          87.0   \n",
       "...                                     ...                           ...   \n",
       "210675                                 26.0                          80.0   \n",
       "210676                                 43.0                          92.0   \n",
       "210677                                 30.0                          80.0   \n",
       "210678                                 28.0                          75.0   \n",
       "210679                                 44.0                          90.0   \n",
       "\n",
       "        Original.Loan.Term  Number.of.Borrowers  Property.Valuation.Method  \\\n",
       "0                    360.0                  1.0                        1.0   \n",
       "1                    360.0                  2.0                        2.0   \n",
       "2                    360.0                  2.0                        2.0   \n",
       "3                    360.0                  2.0                        2.0   \n",
       "4                    360.0                  2.0                        2.0   \n",
       "...                    ...                  ...                        ...   \n",
       "210675               360.0                  2.0                        1.0   \n",
       "210676               360.0                  1.0                        2.0   \n",
       "210677               360.0                  1.0                        1.0   \n",
       "210678               360.0                  1.0                        2.0   \n",
       "210679               360.0                  2.0                        2.0   \n",
       "\n",
       "        Default  ...  Property.Type_CO  Property.Type_CP  Property.Type_MH  \\\n",
       "0           0.0  ...                 0                 0                 0   \n",
       "1           0.0  ...                 0                 0                 0   \n",
       "2           0.0  ...                 0                 0                 0   \n",
       "3           0.0  ...                 0                 0                 0   \n",
       "4           0.0  ...                 0                 0                 0   \n",
       "...         ...  ...               ...               ...               ...   \n",
       "210675      0.0  ...                 0                 0                 0   \n",
       "210676      1.0  ...                 1                 0                 0   \n",
       "210677      0.0  ...                 0                 0                 0   \n",
       "210678      0.0  ...                 1                 0                 0   \n",
       "210679      0.0  ...                 0                 0                 0   \n",
       "\n",
       "        Property.Type_PU  Property.Type_SF  Loan.Purpose_C  Loan.Purpose_N  \\\n",
       "0                      0                 1               0               1   \n",
       "1                      0                 1               1               0   \n",
       "2                      0                 1               0               0   \n",
       "3                      0                 1               1               0   \n",
       "4                      1                 0               0               1   \n",
       "...                  ...               ...             ...             ...   \n",
       "210675                 0                 1               0               1   \n",
       "210676                 0                 0               0               0   \n",
       "210677                 1                 0               0               1   \n",
       "210678                 0                 0               1               0   \n",
       "210679                 0                 1               0               0   \n",
       "\n",
       "        Loan.Purpose_P  Program.Indicator_9  Program.Indicator_H  \n",
       "0                    0                    1                    0  \n",
       "1                    0                    1                    0  \n",
       "2                    1                    1                    0  \n",
       "3                    0                    1                    0  \n",
       "4                    0                    1                    0  \n",
       "...                ...                  ...                  ...  \n",
       "210675               0                    1                    0  \n",
       "210676               1                    0                    1  \n",
       "210677               0                    1                    0  \n",
       "210678               0                    1                    0  \n",
       "210679               1                    1                    0  \n",
       "\n",
       "[210448 rows x 25 columns]"
      ]
     },
     "execution_count": 252,
     "metadata": {},
     "output_type": "execute_result"
    }
   ],
   "source": [
    "new_dt2=pd.concat([new_dt1,converted_columns],axis=1)\n",
    "new_dt2"
   ]
  },
  {
   "cell_type": "code",
   "execution_count": 253,
   "id": "a1c145a4",
   "metadata": {},
   "outputs": [
    {
     "name": "stdout",
     "output_type": "stream",
     "text": [
      "Columns names:\n",
      "******************************\n",
      "1 Credit.Score\n",
      "2 Metropolitan_Statistical_Area\n",
      "3 Number.of.Units\n",
      "4 Original.Combined.Loan.to.Value..CLTV.\n",
      "5 Original.Debt.to.Income..DTI..Ratio\n",
      "6 Original.Loan.to.Value..LTV.\n",
      "7 Original.Loan.Term\n",
      "8 Number.of.Borrowers\n",
      "9 Property.Valuation.Method\n",
      "10 Default\n",
      "11 First.Time.Homebuyer.Flag_N\n",
      "12 First.Time.Homebuyer.Flag_Y\n",
      "13 Occupancy.Status_I\n",
      "14 Occupancy.Status_P\n",
      "15 Occupancy.Status_S\n",
      "16 Property.Type_CO\n",
      "17 Property.Type_CP\n",
      "18 Property.Type_MH\n",
      "19 Property.Type_PU\n",
      "20 Property.Type_SF\n",
      "21 Loan.Purpose_C\n",
      "22 Loan.Purpose_N\n",
      "23 Loan.Purpose_P\n",
      "24 Program.Indicator_9\n",
      "25 Program.Indicator_H\n"
     ]
    }
   ],
   "source": [
    "show_columns(new_dt2)"
   ]
  },
  {
   "cell_type": "code",
   "execution_count": 356,
   "id": "d5d6be5e",
   "metadata": {},
   "outputs": [],
   "source": [
    "new_dt2.drop(columns='Default',inplace=True)"
   ]
  },
  {
   "cell_type": "markdown",
   "id": "76d4ba37",
   "metadata": {},
   "source": [
    "#### Normalize features by scalling "
   ]
  },
  {
   "cell_type": "code",
   "execution_count": 341,
   "id": "95ca8034",
   "metadata": {},
   "outputs": [],
   "source": [
    "from sklearn.preprocessing import StandardScaler "
   ]
  },
  {
   "cell_type": "code",
   "execution_count": 342,
   "id": "6fab221c",
   "metadata": {},
   "outputs": [],
   "source": [
    "scaler=StandardScaler()"
   ]
  },
  {
   "cell_type": "code",
   "execution_count": 357,
   "id": "0b718317",
   "metadata": {},
   "outputs": [],
   "source": [
    "new_dt3=scaler.fit_transform(new_dt2)"
   ]
  },
  {
   "cell_type": "code",
   "execution_count": 358,
   "id": "47f7f9c9",
   "metadata": {},
   "outputs": [
    {
     "data": {
      "text/plain": [
       "array([[ 0.19614218,  0.20270136, -0.11949225, ..., -0.65443592,\n",
       "         0.19889042, -0.19889042],\n",
       "       [ 0.26762832,  0.20270136, -0.11949225, ..., -0.65443592,\n",
       "         0.19889042, -0.19889042],\n",
       "       [-0.32808956,  0.20270136, -0.11949225, ...,  1.52803347,\n",
       "         0.19889042, -0.19889042],\n",
       "       ...,\n",
       "       [ 0.25968542,  0.26221294, -0.11949225, ..., -0.65443592,\n",
       "         0.19889042, -0.19889042],\n",
       "       [ 0.41060062,  1.60438511, -0.11949225, ..., -0.65443592,\n",
       "         0.19889042, -0.19889042],\n",
       "       [ 0.13259894,  0.26221294, -0.11949225, ...,  1.52803347,\n",
       "         0.19889042, -0.19889042]])"
      ]
     },
     "execution_count": 358,
     "metadata": {},
     "output_type": "execute_result"
    }
   ],
   "source": [
    "new_dt3"
   ]
  },
  {
   "cell_type": "code",
   "execution_count": 359,
   "id": "d592e3d5",
   "metadata": {},
   "outputs": [],
   "source": [
    "X=new_dt3\n",
    "y=traget.astype(int)"
   ]
  },
  {
   "cell_type": "markdown",
   "id": "d2db6a9d",
   "metadata": {},
   "source": [
    "<a id='split'></a>\n",
    "# Split data into train and Valid sets for model"
   ]
  },
  {
   "cell_type": "code",
   "execution_count": 360,
   "id": "77872483",
   "metadata": {},
   "outputs": [],
   "source": [
    "from sklearn.model_selection import train_test_split"
   ]
  },
  {
   "cell_type": "code",
   "execution_count": 361,
   "id": "52df3664",
   "metadata": {},
   "outputs": [],
   "source": [
    "X_train,X_valid,y_train,y_valid = train_test_split(X,y,test_size=0.2,random_state=42)"
   ]
  },
  {
   "cell_type": "code",
   "execution_count": 362,
   "id": "6c1d89d5",
   "metadata": {},
   "outputs": [
    {
     "name": "stdout",
     "output_type": "stream",
     "text": [
      "Train set Size : (168358, 24)\n",
      "Valid set Size : (42090, 24)\n"
     ]
    }
   ],
   "source": [
    "print(f\"Train set Size : {X_train.shape}\")\n",
    "print(f\"Valid set Size : {X_valid.shape}\")"
   ]
  },
  {
   "cell_type": "markdown",
   "id": "2860ffec",
   "metadata": {},
   "source": [
    "<a id='model'></a>\n",
    "# Train the Model"
   ]
  },
  {
   "cell_type": "code",
   "execution_count": 349,
   "id": "e212c8e1",
   "metadata": {},
   "outputs": [],
   "source": [
    "from sklearn.linear_model import LogisticRegression\n",
    "from sklearn.tree import DecisionTreeClassifier\n",
    "\n",
    "from sklearn.metrics import confusion_matrix\n",
    "from sklearn.metrics import accuracy_score\n",
    "from sklearn.metrics import classification_report\n",
    "from sklearn.metrics import roc_curve,auc\n",
    "from sklearn.metrics import log_loss"
   ]
  },
  {
   "cell_type": "markdown",
   "id": "5bc7da28",
   "metadata": {},
   "source": [
    "### linear model: LogisticRegression"
   ]
  },
  {
   "cell_type": "code",
   "execution_count": 350,
   "id": "19ae0770",
   "metadata": {},
   "outputs": [],
   "source": [
    "model1=LogisticRegression()"
   ]
  },
  {
   "cell_type": "code",
   "execution_count": 363,
   "id": "ca4edefb",
   "metadata": {},
   "outputs": [
    {
     "data": {
      "text/plain": [
       "LogisticRegression()"
      ]
     },
     "execution_count": 363,
     "metadata": {},
     "output_type": "execute_result"
    }
   ],
   "source": [
    "model1.fit(X_train,y_train)"
   ]
  },
  {
   "cell_type": "markdown",
   "id": "38037291",
   "metadata": {},
   "source": [
    "#### Model Predict"
   ]
  },
  {
   "cell_type": "code",
   "execution_count": 364,
   "id": "a4227f7e",
   "metadata": {},
   "outputs": [],
   "source": [
    "y_valid_pred1=model1.predict(X_valid)"
   ]
  },
  {
   "cell_type": "code",
   "execution_count": 365,
   "id": "40ef51b4",
   "metadata": {},
   "outputs": [
    {
     "data": {
      "text/plain": [
       "array([0, 0, 0, ..., 0, 0, 0])"
      ]
     },
     "execution_count": 365,
     "metadata": {},
     "output_type": "execute_result"
    }
   ],
   "source": [
    "y_valid_pred1"
   ]
  },
  {
   "cell_type": "code",
   "execution_count": 366,
   "id": "2a005ae9",
   "metadata": {},
   "outputs": [
    {
     "data": {
      "text/plain": [
       "array([0, 1, 0, ..., 0, 1, 0])"
      ]
     },
     "execution_count": 366,
     "metadata": {},
     "output_type": "execute_result"
    }
   ],
   "source": [
    "y_valid.values"
   ]
  },
  {
   "cell_type": "markdown",
   "id": "e07db7d0",
   "metadata": {},
   "source": [
    "#### Model Evaluation"
   ]
  },
  {
   "cell_type": "code",
   "execution_count": 367,
   "id": "dddd1ee8",
   "metadata": {},
   "outputs": [
    {
     "name": "stdout",
     "output_type": "stream",
     "text": [
      "Train Accuracy = 90.0 %\n",
      "Valid Accuracy = 89.0 %\n"
     ]
    }
   ],
   "source": [
    "print(f\"Train Accuracy = {round(model1.score(X_train,y_train),2)*100} %\")\n",
    "print(f\"Valid Accuracy = {round(accuracy_score(y_valid,y_valid_pred1),2)*100} %\")"
   ]
  },
  {
   "cell_type": "code",
   "execution_count": 368,
   "id": "a6d0f348",
   "metadata": {},
   "outputs": [
    {
     "name": "stdout",
     "output_type": "stream",
     "text": [
      "              precision    recall  f1-score   support\n",
      "\n",
      "           0       0.92      0.95      0.94     34262\n",
      "           1       0.74      0.66      0.70      7828\n",
      "\n",
      "    accuracy                           0.89     42090\n",
      "   macro avg       0.83      0.81      0.82     42090\n",
      "weighted avg       0.89      0.89      0.89     42090\n",
      "\n"
     ]
    }
   ],
   "source": [
    "print(classification_report(y_valid,y_valid_pred1))"
   ]
  },
  {
   "cell_type": "code",
   "execution_count": 369,
   "id": "65c6b8af",
   "metadata": {},
   "outputs": [
    {
     "name": "stdout",
     "output_type": "stream",
     "text": [
      "[[32475  1787]\n",
      " [ 2635  5193]]\n"
     ]
    }
   ],
   "source": [
    "print(confusion_matrix(y_valid,y_valid_pred1))"
   ]
  },
  {
   "cell_type": "markdown",
   "id": "800def1e",
   "metadata": {},
   "source": [
    "### DecisionTree Classifier Model"
   ]
  },
  {
   "cell_type": "code",
   "execution_count": 370,
   "id": "711db0a9",
   "metadata": {},
   "outputs": [
    {
     "data": {
      "text/plain": [
       "DecisionTreeClassifier()"
      ]
     },
     "execution_count": 370,
     "metadata": {},
     "output_type": "execute_result"
    }
   ],
   "source": [
    "model2=DecisionTreeClassifier()\n",
    "model2.fit(X_train,y_train)"
   ]
  },
  {
   "cell_type": "markdown",
   "id": "f7b6e9b7",
   "metadata": {},
   "source": [
    "#### Model Predict"
   ]
  },
  {
   "cell_type": "code",
   "execution_count": 371,
   "id": "1af79bb4",
   "metadata": {},
   "outputs": [],
   "source": [
    "y_valid_pred2=model2.predict(X_valid)"
   ]
  },
  {
   "cell_type": "code",
   "execution_count": 372,
   "id": "6b601800",
   "metadata": {},
   "outputs": [
    {
     "data": {
      "text/plain": [
       "array([0, 0, 0, ..., 0, 1, 0])"
      ]
     },
     "execution_count": 372,
     "metadata": {},
     "output_type": "execute_result"
    }
   ],
   "source": [
    "y_valid_pred2"
   ]
  },
  {
   "cell_type": "code",
   "execution_count": 373,
   "id": "299b5928",
   "metadata": {},
   "outputs": [
    {
     "data": {
      "text/plain": [
       "array([0, 1, 0, ..., 0, 1, 0])"
      ]
     },
     "execution_count": 373,
     "metadata": {},
     "output_type": "execute_result"
    }
   ],
   "source": [
    "y_valid.values"
   ]
  },
  {
   "cell_type": "markdown",
   "id": "63f21635",
   "metadata": {},
   "source": [
    "#### Model Evaluation"
   ]
  },
  {
   "cell_type": "code",
   "execution_count": 374,
   "id": "f6b7c6eb",
   "metadata": {},
   "outputs": [
    {
     "name": "stdout",
     "output_type": "stream",
     "text": [
      "Train Accuracy = 100.0 %\n",
      "Valid Accuracy = 85.0 %\n"
     ]
    }
   ],
   "source": [
    "print(f\"Train Accuracy = {round(model2.score(X_train,y_train),2)*100} %\")\n",
    "print(f\"Valid Accuracy = {round(accuracy_score(y_valid,y_valid_pred2),2)*100} %\")"
   ]
  },
  {
   "cell_type": "code",
   "execution_count": 375,
   "id": "369f78ab",
   "metadata": {},
   "outputs": [
    {
     "name": "stdout",
     "output_type": "stream",
     "text": [
      "              precision    recall  f1-score   support\n",
      "\n",
      "           0       0.91      0.91      0.91     34262\n",
      "           1       0.60      0.62      0.61      7828\n",
      "\n",
      "    accuracy                           0.85     42090\n",
      "   macro avg       0.76      0.76      0.76     42090\n",
      "weighted avg       0.85      0.85      0.85     42090\n",
      "\n"
     ]
    }
   ],
   "source": [
    "print(classification_report(y_valid,y_valid_pred2))"
   ]
  },
  {
   "cell_type": "code",
   "execution_count": 376,
   "id": "ad126a4b",
   "metadata": {},
   "outputs": [
    {
     "name": "stdout",
     "output_type": "stream",
     "text": [
      "[[32475  1787]\n",
      " [ 2635  5193]]\n"
     ]
    }
   ],
   "source": [
    "print(confusion_matrix(y_valid,y_valid_pred1))"
   ]
  },
  {
   "cell_type": "markdown",
   "id": "ace88f77",
   "metadata": {},
   "source": [
    "<a id='con'> </a>\n",
    "# Conclusions"
   ]
  },
  {
   "cell_type": "markdown",
   "id": "aabed18e",
   "metadata": {},
   "source": [
    "- The data is displayed entirely from a file\n",
    "\n",
    "- The data has been cleaned of duplicate data and the empty data has been filled\n",
    "\n",
    "- Data were analyzed and visualized\n",
    "\n",
    "- The relationship between the columns has been concluded\n",
    "\n",
    "- The data is processed for training\n",
    "\n",
    "- The data was divided into training data and validation data\n",
    "\n",
    "- Two linear and non-linear models that are logisticRegression and Desicion trees were trained\n",
    "\n",
    "- Then it was concluded that the best model was created from these two models, which is logistic regression, as shown in the previous results"
   ]
  },
  {
   "cell_type": "markdown",
   "id": "4462338d",
   "metadata": {},
   "source": [
    "#### Save Model"
   ]
  },
  {
   "cell_type": "code",
   "execution_count": 402,
   "id": "fc5e13f0",
   "metadata": {},
   "outputs": [],
   "source": [
    "import joblib"
   ]
  },
  {
   "cell_type": "code",
   "execution_count": 403,
   "id": "4ee6afe6",
   "metadata": {},
   "outputs": [
    {
     "data": {
      "text/plain": [
       "['LogisticRegression']"
      ]
     },
     "execution_count": 403,
     "metadata": {},
     "output_type": "execute_result"
    }
   ],
   "source": [
    "joblib.dump(model1,'LogisticRegression')"
   ]
  },
  {
   "cell_type": "markdown",
   "id": "85a882de",
   "metadata": {},
   "source": [
    "### Using model To predict in Genaral "
   ]
  },
  {
   "cell_type": "markdown",
   "id": "2b517a99",
   "metadata": {},
   "source": [
    "In the NewMortages.csv dataset, you will find unlabeled data, that is, you will find variables that define characteristics of new mortages that Freddie Mac is considering purchasing, but, because these are new loans, they do not have data on default. Using your models, answer the following questions to help Freddie Mac know what loans to purchase and which loans to not purchase."
   ]
  },
  {
   "cell_type": "code",
   "execution_count": 377,
   "id": "b3bf2471",
   "metadata": {},
   "outputs": [],
   "source": [
    "loan=pd.read_csv('NewMortages.csv')"
   ]
  },
  {
   "cell_type": "code",
   "execution_count": 378,
   "id": "7275aed0",
   "metadata": {},
   "outputs": [
    {
     "data": {
      "text/html": [
       "<div>\n",
       "<style scoped>\n",
       "    .dataframe tbody tr th:only-of-type {\n",
       "        vertical-align: middle;\n",
       "    }\n",
       "\n",
       "    .dataframe tbody tr th {\n",
       "        vertical-align: top;\n",
       "    }\n",
       "\n",
       "    .dataframe thead th {\n",
       "        text-align: right;\n",
       "    }\n",
       "</style>\n",
       "<table border=\"1\" class=\"dataframe\">\n",
       "  <thead>\n",
       "    <tr style=\"text-align: right;\">\n",
       "      <th></th>\n",
       "      <th>Credit.Score</th>\n",
       "      <th>First.Payment.Date</th>\n",
       "      <th>First.Time.Homebuyer.Flag</th>\n",
       "      <th>Maturity.Date</th>\n",
       "      <th>Metropolitan.Statistical.Area..MSA..Or.Metropolitan.Division</th>\n",
       "      <th>Mortgage.Insurance.Percentage..MI...</th>\n",
       "      <th>Number.of.Units</th>\n",
       "      <th>Occupancy.Status</th>\n",
       "      <th>Original.Combined.Loan.to.Value..CLTV.</th>\n",
       "      <th>Original.Debt.to.Income..DTI..Ratio</th>\n",
       "      <th>...</th>\n",
       "      <th>Property.Type</th>\n",
       "      <th>Postal.Code</th>\n",
       "      <th>Loan.Sequence.Number</th>\n",
       "      <th>Loan.Purpose</th>\n",
       "      <th>Original.Loan.Term</th>\n",
       "      <th>Number.of.Borrowers</th>\n",
       "      <th>Seller.Name</th>\n",
       "      <th>Servicer.Name</th>\n",
       "      <th>Program.Indicator</th>\n",
       "      <th>Property.Valuation.Method</th>\n",
       "    </tr>\n",
       "  </thead>\n",
       "  <tbody>\n",
       "    <tr>\n",
       "      <th>0</th>\n",
       "      <td>787</td>\n",
       "      <td>202106</td>\n",
       "      <td>N</td>\n",
       "      <td>205105</td>\n",
       "      <td>15764.0</td>\n",
       "      <td>0</td>\n",
       "      <td>1</td>\n",
       "      <td>P</td>\n",
       "      <td>80</td>\n",
       "      <td>46</td>\n",
       "      <td>...</td>\n",
       "      <td>CO</td>\n",
       "      <td>1800</td>\n",
       "      <td>F21Q20000010</td>\n",
       "      <td>N</td>\n",
       "      <td>360</td>\n",
       "      <td>1</td>\n",
       "      <td>Other sellers</td>\n",
       "      <td>Other servicers</td>\n",
       "      <td>9</td>\n",
       "      <td>2</td>\n",
       "    </tr>\n",
       "    <tr>\n",
       "      <th>1</th>\n",
       "      <td>771</td>\n",
       "      <td>202106</td>\n",
       "      <td>N</td>\n",
       "      <td>203309</td>\n",
       "      <td>NaN</td>\n",
       "      <td>0</td>\n",
       "      <td>1</td>\n",
       "      <td>S</td>\n",
       "      <td>63</td>\n",
       "      <td>20</td>\n",
       "      <td>...</td>\n",
       "      <td>SF</td>\n",
       "      <td>54500</td>\n",
       "      <td>F21Q20000023</td>\n",
       "      <td>N</td>\n",
       "      <td>148</td>\n",
       "      <td>1</td>\n",
       "      <td>Other sellers</td>\n",
       "      <td>Other servicers</td>\n",
       "      <td>9</td>\n",
       "      <td>1</td>\n",
       "    </tr>\n",
       "    <tr>\n",
       "      <th>2</th>\n",
       "      <td>820</td>\n",
       "      <td>202106</td>\n",
       "      <td>N</td>\n",
       "      <td>205105</td>\n",
       "      <td>40484.0</td>\n",
       "      <td>0</td>\n",
       "      <td>1</td>\n",
       "      <td>P</td>\n",
       "      <td>59</td>\n",
       "      <td>15</td>\n",
       "      <td>...</td>\n",
       "      <td>CO</td>\n",
       "      <td>3800</td>\n",
       "      <td>F21Q20000068</td>\n",
       "      <td>N</td>\n",
       "      <td>360</td>\n",
       "      <td>1</td>\n",
       "      <td>Other sellers</td>\n",
       "      <td>Other servicers</td>\n",
       "      <td>9</td>\n",
       "      <td>1</td>\n",
       "    </tr>\n",
       "    <tr>\n",
       "      <th>3</th>\n",
       "      <td>781</td>\n",
       "      <td>202106</td>\n",
       "      <td>N</td>\n",
       "      <td>205105</td>\n",
       "      <td>44100.0</td>\n",
       "      <td>0</td>\n",
       "      <td>1</td>\n",
       "      <td>P</td>\n",
       "      <td>73</td>\n",
       "      <td>28</td>\n",
       "      <td>...</td>\n",
       "      <td>SF</td>\n",
       "      <td>62600</td>\n",
       "      <td>F21Q20000084</td>\n",
       "      <td>N</td>\n",
       "      <td>360</td>\n",
       "      <td>1</td>\n",
       "      <td>Other sellers</td>\n",
       "      <td>Other servicers</td>\n",
       "      <td>9</td>\n",
       "      <td>2</td>\n",
       "    </tr>\n",
       "    <tr>\n",
       "      <th>4</th>\n",
       "      <td>801</td>\n",
       "      <td>202106</td>\n",
       "      <td>N</td>\n",
       "      <td>205105</td>\n",
       "      <td>14454.0</td>\n",
       "      <td>0</td>\n",
       "      <td>1</td>\n",
       "      <td>P</td>\n",
       "      <td>80</td>\n",
       "      <td>40</td>\n",
       "      <td>...</td>\n",
       "      <td>CO</td>\n",
       "      <td>2100</td>\n",
       "      <td>F21Q20000088</td>\n",
       "      <td>P</td>\n",
       "      <td>360</td>\n",
       "      <td>1</td>\n",
       "      <td>Other sellers</td>\n",
       "      <td>FIFTH THIRD BANK, NATIONAL ASSOCIATION</td>\n",
       "      <td>9</td>\n",
       "      <td>2</td>\n",
       "    </tr>\n",
       "  </tbody>\n",
       "</table>\n",
       "<p>5 rows × 24 columns</p>\n",
       "</div>"
      ],
      "text/plain": [
       "   Credit.Score  First.Payment.Date First.Time.Homebuyer.Flag  Maturity.Date  \\\n",
       "0           787              202106                         N         205105   \n",
       "1           771              202106                         N         203309   \n",
       "2           820              202106                         N         205105   \n",
       "3           781              202106                         N         205105   \n",
       "4           801              202106                         N         205105   \n",
       "\n",
       "   Metropolitan.Statistical.Area..MSA..Or.Metropolitan.Division  \\\n",
       "0                                            15764.0              \n",
       "1                                                NaN              \n",
       "2                                            40484.0              \n",
       "3                                            44100.0              \n",
       "4                                            14454.0              \n",
       "\n",
       "   Mortgage.Insurance.Percentage..MI...  Number.of.Units Occupancy.Status  \\\n",
       "0                                     0                1                P   \n",
       "1                                     0                1                S   \n",
       "2                                     0                1                P   \n",
       "3                                     0                1                P   \n",
       "4                                     0                1                P   \n",
       "\n",
       "   Original.Combined.Loan.to.Value..CLTV.  \\\n",
       "0                                      80   \n",
       "1                                      63   \n",
       "2                                      59   \n",
       "3                                      73   \n",
       "4                                      80   \n",
       "\n",
       "   Original.Debt.to.Income..DTI..Ratio  ...  Property.Type  Postal.Code  \\\n",
       "0                                   46  ...             CO         1800   \n",
       "1                                   20  ...             SF        54500   \n",
       "2                                   15  ...             CO         3800   \n",
       "3                                   28  ...             SF        62600   \n",
       "4                                   40  ...             CO         2100   \n",
       "\n",
       "   Loan.Sequence.Number Loan.Purpose Original.Loan.Term  Number.of.Borrowers  \\\n",
       "0          F21Q20000010            N                360                    1   \n",
       "1          F21Q20000023            N                148                    1   \n",
       "2          F21Q20000068            N                360                    1   \n",
       "3          F21Q20000084            N                360                    1   \n",
       "4          F21Q20000088            P                360                    1   \n",
       "\n",
       "     Seller.Name                           Servicer.Name  Program.Indicator  \\\n",
       "0  Other sellers                         Other servicers                  9   \n",
       "1  Other sellers                         Other servicers                  9   \n",
       "2  Other sellers                         Other servicers                  9   \n",
       "3  Other sellers                         Other servicers                  9   \n",
       "4  Other sellers  FIFTH THIRD BANK, NATIONAL ASSOCIATION                  9   \n",
       "\n",
       "   Property.Valuation.Method  \n",
       "0                          2  \n",
       "1                          1  \n",
       "2                          1  \n",
       "3                          2  \n",
       "4                          2  \n",
       "\n",
       "[5 rows x 24 columns]"
      ]
     },
     "execution_count": 378,
     "metadata": {},
     "output_type": "execute_result"
    }
   ],
   "source": [
    "loan.head()"
   ]
  },
  {
   "cell_type": "code",
   "execution_count": 379,
   "id": "dd256eee",
   "metadata": {},
   "outputs": [
    {
     "name": "stdout",
     "output_type": "stream",
     "text": [
      "Columns names:\n",
      "******************************\n",
      "1 Credit.Score\n",
      "2 First.Payment.Date\n",
      "3 First.Time.Homebuyer.Flag\n",
      "4 Maturity.Date\n",
      "5 Metropolitan.Statistical.Area..MSA..Or.Metropolitan.Division\n",
      "6 Mortgage.Insurance.Percentage..MI...\n",
      "7 Number.of.Units\n",
      "8 Occupancy.Status\n",
      "9 Original.Combined.Loan.to.Value..CLTV.\n",
      "10 Original.Debt.to.Income..DTI..Ratio\n",
      "11 Original.UPB\n",
      "12 Original.Loan.to.Value..LTV.\n",
      "13 Original.Interest.Rate\n",
      "14 Property.State\n",
      "15 Property.Type\n",
      "16 Postal.Code\n",
      "17 Loan.Sequence.Number\n",
      "18 Loan.Purpose\n",
      "19 Original.Loan.Term\n",
      "20 Number.of.Borrowers\n",
      "21 Seller.Name\n",
      "22 Servicer.Name\n",
      "23 Program.Indicator\n",
      "24 Property.Valuation.Method\n"
     ]
    }
   ],
   "source": [
    "show_columns(loan)"
   ]
  },
  {
   "cell_type": "code",
   "execution_count": 380,
   "id": "f930810a",
   "metadata": {},
   "outputs": [],
   "source": [
    "loan1=loan.drop(columns=['Mortgage.Insurance.Percentage..MI...','Original.UPB','Original.Interest.Rate','Property.State','Loan.Sequence.Number','Seller.Name','Servicer.Name','Postal.Code','First.Payment.Date','Maturity.Date'])"
   ]
  },
  {
   "cell_type": "code",
   "execution_count": 381,
   "id": "f63e27c8",
   "metadata": {},
   "outputs": [
    {
     "name": "stdout",
     "output_type": "stream",
     "text": [
      "Columns names:\n",
      "******************************\n",
      "1 Credit.Score\n",
      "2 First.Time.Homebuyer.Flag\n",
      "3 Metropolitan.Statistical.Area..MSA..Or.Metropolitan.Division\n",
      "4 Number.of.Units\n",
      "5 Occupancy.Status\n",
      "6 Original.Combined.Loan.to.Value..CLTV.\n",
      "7 Original.Debt.to.Income..DTI..Ratio\n",
      "8 Original.Loan.to.Value..LTV.\n",
      "9 Property.Type\n",
      "10 Loan.Purpose\n",
      "11 Original.Loan.Term\n",
      "12 Number.of.Borrowers\n",
      "13 Program.Indicator\n",
      "14 Property.Valuation.Method\n"
     ]
    }
   ],
   "source": [
    "show_columns(loan1)"
   ]
  },
  {
   "cell_type": "code",
   "execution_count": 382,
   "id": "b8acde80",
   "metadata": {},
   "outputs": [
    {
     "data": {
      "text/plain": [
       "Credit.Score                                                       0\n",
       "First.Time.Homebuyer.Flag                                          0\n",
       "Metropolitan.Statistical.Area..MSA..Or.Metropolitan.Division    4133\n",
       "Number.of.Units                                                    0\n",
       "Occupancy.Status                                                   0\n",
       "Original.Combined.Loan.to.Value..CLTV.                             0\n",
       "Original.Debt.to.Income..DTI..Ratio                                0\n",
       "Original.Loan.to.Value..LTV.                                       0\n",
       "Property.Type                                                      0\n",
       "Loan.Purpose                                                       0\n",
       "Original.Loan.Term                                                 0\n",
       "Number.of.Borrowers                                                0\n",
       "Program.Indicator                                                  0\n",
       "Property.Valuation.Method                                          0\n",
       "dtype: int64"
      ]
     },
     "execution_count": 382,
     "metadata": {},
     "output_type": "execute_result"
    }
   ],
   "source": [
    "loan1.isnull().sum()"
   ]
  },
  {
   "cell_type": "code",
   "execution_count": 383,
   "id": "25deb426",
   "metadata": {},
   "outputs": [],
   "source": [
    "loan1['Metropolitan.Statistical.Area..MSA..Or.Metropolitan.Division'].fillna(value=loan1['Metropolitan.Statistical.Area..MSA..Or.Metropolitan.Division'].median(),inplace=True)"
   ]
  },
  {
   "cell_type": "code",
   "execution_count": 384,
   "id": "d080da97",
   "metadata": {},
   "outputs": [
    {
     "data": {
      "text/plain": [
       "Credit.Score                                                    0\n",
       "First.Time.Homebuyer.Flag                                       0\n",
       "Metropolitan.Statistical.Area..MSA..Or.Metropolitan.Division    0\n",
       "Number.of.Units                                                 0\n",
       "Occupancy.Status                                                0\n",
       "Original.Combined.Loan.to.Value..CLTV.                          0\n",
       "Original.Debt.to.Income..DTI..Ratio                             0\n",
       "Original.Loan.to.Value..LTV.                                    0\n",
       "Property.Type                                                   0\n",
       "Loan.Purpose                                                    0\n",
       "Original.Loan.Term                                              0\n",
       "Number.of.Borrowers                                             0\n",
       "Program.Indicator                                               0\n",
       "Property.Valuation.Method                                       0\n",
       "dtype: int64"
      ]
     },
     "execution_count": 384,
     "metadata": {},
     "output_type": "execute_result"
    }
   ],
   "source": [
    "loan1.isnull().sum()"
   ]
  },
  {
   "cell_type": "code",
   "execution_count": 385,
   "id": "2399bcb3",
   "metadata": {},
   "outputs": [],
   "source": [
    "cat1=loan1.select_dtypes('object')"
   ]
  },
  {
   "cell_type": "code",
   "execution_count": 386,
   "id": "8fcdb03a",
   "metadata": {},
   "outputs": [],
   "source": [
    "converted_columns1=pd.get_dummies(cat1)"
   ]
  },
  {
   "cell_type": "code",
   "execution_count": 387,
   "id": "03d86614",
   "metadata": {},
   "outputs": [],
   "source": [
    "loan2=loan1.drop(columns=cat1.columns)"
   ]
  },
  {
   "cell_type": "code",
   "execution_count": 388,
   "id": "f87e8fed",
   "metadata": {},
   "outputs": [
    {
     "name": "stdout",
     "output_type": "stream",
     "text": [
      "Columns names:\n",
      "******************************\n",
      "1 Credit.Score\n",
      "2 Metropolitan.Statistical.Area..MSA..Or.Metropolitan.Division\n",
      "3 Number.of.Units\n",
      "4 Original.Combined.Loan.to.Value..CLTV.\n",
      "5 Original.Debt.to.Income..DTI..Ratio\n",
      "6 Original.Loan.to.Value..LTV.\n",
      "7 Original.Loan.Term\n",
      "8 Number.of.Borrowers\n",
      "9 Property.Valuation.Method\n",
      "10 First.Time.Homebuyer.Flag_N\n",
      "11 First.Time.Homebuyer.Flag_Y\n",
      "12 Occupancy.Status_I\n",
      "13 Occupancy.Status_P\n",
      "14 Occupancy.Status_S\n",
      "15 Property.Type_CO\n",
      "16 Property.Type_CP\n",
      "17 Property.Type_MH\n",
      "18 Property.Type_PU\n",
      "19 Property.Type_SF\n",
      "20 Loan.Purpose_C\n",
      "21 Loan.Purpose_N\n",
      "22 Loan.Purpose_P\n",
      "23 Program.Indicator_9\n",
      "24 Program.Indicator_H\n"
     ]
    }
   ],
   "source": [
    "loan3=pd.concat([loan2,converted_columns1],axis=1)\n",
    "show_columns(loan3)"
   ]
  },
  {
   "cell_type": "code",
   "execution_count": 389,
   "id": "bd033393",
   "metadata": {},
   "outputs": [],
   "source": [
    "loan4=scaler.fit_transform(loan3)"
   ]
  },
  {
   "cell_type": "markdown",
   "id": "b90e108f",
   "metadata": {},
   "source": [
    "#### Predict new file by Logistic Regression models "
   ]
  },
  {
   "cell_type": "code",
   "execution_count": 390,
   "id": "cb4ce2df",
   "metadata": {},
   "outputs": [],
   "source": [
    "y_pred1=model1.predict(loan4)"
   ]
  },
  {
   "cell_type": "code",
   "execution_count": 392,
   "id": "ffbd11d2",
   "metadata": {},
   "outputs": [
    {
     "data": {
      "text/plain": [
       "array([1, 0, 0, ..., 0, 0, 1])"
      ]
     },
     "execution_count": 392,
     "metadata": {},
     "output_type": "execute_result"
    }
   ],
   "source": [
    "y_pred1"
   ]
  },
  {
   "cell_type": "markdown",
   "id": "edb88c75",
   "metadata": {},
   "source": [
    "then we need to store all predictions in file "
   ]
  },
  {
   "cell_type": "code",
   "execution_count": 394,
   "id": "d139ba53",
   "metadata": {},
   "outputs": [
    {
     "data": {
      "text/html": [
       "<div>\n",
       "<style scoped>\n",
       "    .dataframe tbody tr th:only-of-type {\n",
       "        vertical-align: middle;\n",
       "    }\n",
       "\n",
       "    .dataframe tbody tr th {\n",
       "        vertical-align: top;\n",
       "    }\n",
       "\n",
       "    .dataframe thead th {\n",
       "        text-align: right;\n",
       "    }\n",
       "</style>\n",
       "<table border=\"1\" class=\"dataframe\">\n",
       "  <thead>\n",
       "    <tr style=\"text-align: right;\">\n",
       "      <th></th>\n",
       "      <th>Credit.Score</th>\n",
       "      <th>First.Payment.Date</th>\n",
       "      <th>First.Time.Homebuyer.Flag</th>\n",
       "      <th>Maturity.Date</th>\n",
       "      <th>Metropolitan.Statistical.Area..MSA..Or.Metropolitan.Division</th>\n",
       "      <th>Mortgage.Insurance.Percentage..MI...</th>\n",
       "      <th>Number.of.Units</th>\n",
       "      <th>Occupancy.Status</th>\n",
       "      <th>Original.Combined.Loan.to.Value..CLTV.</th>\n",
       "      <th>Original.Debt.to.Income..DTI..Ratio</th>\n",
       "      <th>...</th>\n",
       "      <th>Property.Type</th>\n",
       "      <th>Postal.Code</th>\n",
       "      <th>Loan.Sequence.Number</th>\n",
       "      <th>Loan.Purpose</th>\n",
       "      <th>Original.Loan.Term</th>\n",
       "      <th>Number.of.Borrowers</th>\n",
       "      <th>Seller.Name</th>\n",
       "      <th>Servicer.Name</th>\n",
       "      <th>Program.Indicator</th>\n",
       "      <th>Property.Valuation.Method</th>\n",
       "    </tr>\n",
       "  </thead>\n",
       "  <tbody>\n",
       "    <tr>\n",
       "      <th>0</th>\n",
       "      <td>787</td>\n",
       "      <td>202106</td>\n",
       "      <td>N</td>\n",
       "      <td>205105</td>\n",
       "      <td>15764.0</td>\n",
       "      <td>0</td>\n",
       "      <td>1</td>\n",
       "      <td>P</td>\n",
       "      <td>80</td>\n",
       "      <td>46</td>\n",
       "      <td>...</td>\n",
       "      <td>CO</td>\n",
       "      <td>1800</td>\n",
       "      <td>F21Q20000010</td>\n",
       "      <td>N</td>\n",
       "      <td>360</td>\n",
       "      <td>1</td>\n",
       "      <td>Other sellers</td>\n",
       "      <td>Other servicers</td>\n",
       "      <td>9</td>\n",
       "      <td>2</td>\n",
       "    </tr>\n",
       "    <tr>\n",
       "      <th>1</th>\n",
       "      <td>771</td>\n",
       "      <td>202106</td>\n",
       "      <td>N</td>\n",
       "      <td>203309</td>\n",
       "      <td>NaN</td>\n",
       "      <td>0</td>\n",
       "      <td>1</td>\n",
       "      <td>S</td>\n",
       "      <td>63</td>\n",
       "      <td>20</td>\n",
       "      <td>...</td>\n",
       "      <td>SF</td>\n",
       "      <td>54500</td>\n",
       "      <td>F21Q20000023</td>\n",
       "      <td>N</td>\n",
       "      <td>148</td>\n",
       "      <td>1</td>\n",
       "      <td>Other sellers</td>\n",
       "      <td>Other servicers</td>\n",
       "      <td>9</td>\n",
       "      <td>1</td>\n",
       "    </tr>\n",
       "    <tr>\n",
       "      <th>2</th>\n",
       "      <td>820</td>\n",
       "      <td>202106</td>\n",
       "      <td>N</td>\n",
       "      <td>205105</td>\n",
       "      <td>40484.0</td>\n",
       "      <td>0</td>\n",
       "      <td>1</td>\n",
       "      <td>P</td>\n",
       "      <td>59</td>\n",
       "      <td>15</td>\n",
       "      <td>...</td>\n",
       "      <td>CO</td>\n",
       "      <td>3800</td>\n",
       "      <td>F21Q20000068</td>\n",
       "      <td>N</td>\n",
       "      <td>360</td>\n",
       "      <td>1</td>\n",
       "      <td>Other sellers</td>\n",
       "      <td>Other servicers</td>\n",
       "      <td>9</td>\n",
       "      <td>1</td>\n",
       "    </tr>\n",
       "    <tr>\n",
       "      <th>3</th>\n",
       "      <td>781</td>\n",
       "      <td>202106</td>\n",
       "      <td>N</td>\n",
       "      <td>205105</td>\n",
       "      <td>44100.0</td>\n",
       "      <td>0</td>\n",
       "      <td>1</td>\n",
       "      <td>P</td>\n",
       "      <td>73</td>\n",
       "      <td>28</td>\n",
       "      <td>...</td>\n",
       "      <td>SF</td>\n",
       "      <td>62600</td>\n",
       "      <td>F21Q20000084</td>\n",
       "      <td>N</td>\n",
       "      <td>360</td>\n",
       "      <td>1</td>\n",
       "      <td>Other sellers</td>\n",
       "      <td>Other servicers</td>\n",
       "      <td>9</td>\n",
       "      <td>2</td>\n",
       "    </tr>\n",
       "    <tr>\n",
       "      <th>4</th>\n",
       "      <td>801</td>\n",
       "      <td>202106</td>\n",
       "      <td>N</td>\n",
       "      <td>205105</td>\n",
       "      <td>14454.0</td>\n",
       "      <td>0</td>\n",
       "      <td>1</td>\n",
       "      <td>P</td>\n",
       "      <td>80</td>\n",
       "      <td>40</td>\n",
       "      <td>...</td>\n",
       "      <td>CO</td>\n",
       "      <td>2100</td>\n",
       "      <td>F21Q20000088</td>\n",
       "      <td>P</td>\n",
       "      <td>360</td>\n",
       "      <td>1</td>\n",
       "      <td>Other sellers</td>\n",
       "      <td>FIFTH THIRD BANK, NATIONAL ASSOCIATION</td>\n",
       "      <td>9</td>\n",
       "      <td>2</td>\n",
       "    </tr>\n",
       "    <tr>\n",
       "      <th>...</th>\n",
       "      <td>...</td>\n",
       "      <td>...</td>\n",
       "      <td>...</td>\n",
       "      <td>...</td>\n",
       "      <td>...</td>\n",
       "      <td>...</td>\n",
       "      <td>...</td>\n",
       "      <td>...</td>\n",
       "      <td>...</td>\n",
       "      <td>...</td>\n",
       "      <td>...</td>\n",
       "      <td>...</td>\n",
       "      <td>...</td>\n",
       "      <td>...</td>\n",
       "      <td>...</td>\n",
       "      <td>...</td>\n",
       "      <td>...</td>\n",
       "      <td>...</td>\n",
       "      <td>...</td>\n",
       "      <td>...</td>\n",
       "      <td>...</td>\n",
       "    </tr>\n",
       "    <tr>\n",
       "      <th>48020</th>\n",
       "      <td>804</td>\n",
       "      <td>202106</td>\n",
       "      <td>N</td>\n",
       "      <td>205105</td>\n",
       "      <td>20260.0</td>\n",
       "      <td>0</td>\n",
       "      <td>3</td>\n",
       "      <td>P</td>\n",
       "      <td>80</td>\n",
       "      <td>38</td>\n",
       "      <td>...</td>\n",
       "      <td>SF</td>\n",
       "      <td>55800</td>\n",
       "      <td>F21Q20963836</td>\n",
       "      <td>P</td>\n",
       "      <td>360</td>\n",
       "      <td>2</td>\n",
       "      <td>Other sellers</td>\n",
       "      <td>Other servicers</td>\n",
       "      <td>9</td>\n",
       "      <td>2</td>\n",
       "    </tr>\n",
       "    <tr>\n",
       "      <th>48021</th>\n",
       "      <td>791</td>\n",
       "      <td>202108</td>\n",
       "      <td>N</td>\n",
       "      <td>203607</td>\n",
       "      <td>48864.0</td>\n",
       "      <td>0</td>\n",
       "      <td>1</td>\n",
       "      <td>I</td>\n",
       "      <td>75</td>\n",
       "      <td>21</td>\n",
       "      <td>...</td>\n",
       "      <td>CO</td>\n",
       "      <td>19700</td>\n",
       "      <td>F21Q20963901</td>\n",
       "      <td>P</td>\n",
       "      <td>180</td>\n",
       "      <td>1</td>\n",
       "      <td>Other sellers</td>\n",
       "      <td>LAKEVIEW LOAN SERVICING, LLC</td>\n",
       "      <td>9</td>\n",
       "      <td>2</td>\n",
       "    </tr>\n",
       "    <tr>\n",
       "      <th>48022</th>\n",
       "      <td>731</td>\n",
       "      <td>202108</td>\n",
       "      <td>N</td>\n",
       "      <td>203607</td>\n",
       "      <td>NaN</td>\n",
       "      <td>0</td>\n",
       "      <td>1</td>\n",
       "      <td>P</td>\n",
       "      <td>75</td>\n",
       "      <td>31</td>\n",
       "      <td>...</td>\n",
       "      <td>SF</td>\n",
       "      <td>71700</td>\n",
       "      <td>F21Q20963934</td>\n",
       "      <td>N</td>\n",
       "      <td>180</td>\n",
       "      <td>2</td>\n",
       "      <td>CALIBER HOME LOANS, INC.</td>\n",
       "      <td>CALIBER HOME LOANS, INC.</td>\n",
       "      <td>9</td>\n",
       "      <td>2</td>\n",
       "    </tr>\n",
       "    <tr>\n",
       "      <th>48023</th>\n",
       "      <td>748</td>\n",
       "      <td>202108</td>\n",
       "      <td>N</td>\n",
       "      <td>205107</td>\n",
       "      <td>33460.0</td>\n",
       "      <td>0</td>\n",
       "      <td>1</td>\n",
       "      <td>P</td>\n",
       "      <td>71</td>\n",
       "      <td>16</td>\n",
       "      <td>...</td>\n",
       "      <td>MH</td>\n",
       "      <td>55300</td>\n",
       "      <td>F21Q20963968</td>\n",
       "      <td>N</td>\n",
       "      <td>360</td>\n",
       "      <td>2</td>\n",
       "      <td>PRIMELENDING A PLAINS CAPITAL CO</td>\n",
       "      <td>Other servicers</td>\n",
       "      <td>9</td>\n",
       "      <td>2</td>\n",
       "    </tr>\n",
       "    <tr>\n",
       "      <th>48024</th>\n",
       "      <td>788</td>\n",
       "      <td>202106</td>\n",
       "      <td>N</td>\n",
       "      <td>205105</td>\n",
       "      <td>20260.0</td>\n",
       "      <td>0</td>\n",
       "      <td>1</td>\n",
       "      <td>P</td>\n",
       "      <td>80</td>\n",
       "      <td>46</td>\n",
       "      <td>...</td>\n",
       "      <td>CO</td>\n",
       "      <td>55800</td>\n",
       "      <td>F21Q20964235</td>\n",
       "      <td>P</td>\n",
       "      <td>360</td>\n",
       "      <td>2</td>\n",
       "      <td>Other sellers</td>\n",
       "      <td>Other servicers</td>\n",
       "      <td>9</td>\n",
       "      <td>1</td>\n",
       "    </tr>\n",
       "  </tbody>\n",
       "</table>\n",
       "<p>48025 rows × 24 columns</p>\n",
       "</div>"
      ],
      "text/plain": [
       "       Credit.Score  First.Payment.Date First.Time.Homebuyer.Flag  \\\n",
       "0               787              202106                         N   \n",
       "1               771              202106                         N   \n",
       "2               820              202106                         N   \n",
       "3               781              202106                         N   \n",
       "4               801              202106                         N   \n",
       "...             ...                 ...                       ...   \n",
       "48020           804              202106                         N   \n",
       "48021           791              202108                         N   \n",
       "48022           731              202108                         N   \n",
       "48023           748              202108                         N   \n",
       "48024           788              202106                         N   \n",
       "\n",
       "       Maturity.Date  \\\n",
       "0             205105   \n",
       "1             203309   \n",
       "2             205105   \n",
       "3             205105   \n",
       "4             205105   \n",
       "...              ...   \n",
       "48020         205105   \n",
       "48021         203607   \n",
       "48022         203607   \n",
       "48023         205107   \n",
       "48024         205105   \n",
       "\n",
       "       Metropolitan.Statistical.Area..MSA..Or.Metropolitan.Division  \\\n",
       "0                                                15764.0              \n",
       "1                                                    NaN              \n",
       "2                                                40484.0              \n",
       "3                                                44100.0              \n",
       "4                                                14454.0              \n",
       "...                                                  ...              \n",
       "48020                                            20260.0              \n",
       "48021                                            48864.0              \n",
       "48022                                                NaN              \n",
       "48023                                            33460.0              \n",
       "48024                                            20260.0              \n",
       "\n",
       "       Mortgage.Insurance.Percentage..MI...  Number.of.Units Occupancy.Status  \\\n",
       "0                                         0                1                P   \n",
       "1                                         0                1                S   \n",
       "2                                         0                1                P   \n",
       "3                                         0                1                P   \n",
       "4                                         0                1                P   \n",
       "...                                     ...              ...              ...   \n",
       "48020                                     0                3                P   \n",
       "48021                                     0                1                I   \n",
       "48022                                     0                1                P   \n",
       "48023                                     0                1                P   \n",
       "48024                                     0                1                P   \n",
       "\n",
       "       Original.Combined.Loan.to.Value..CLTV.  \\\n",
       "0                                          80   \n",
       "1                                          63   \n",
       "2                                          59   \n",
       "3                                          73   \n",
       "4                                          80   \n",
       "...                                       ...   \n",
       "48020                                      80   \n",
       "48021                                      75   \n",
       "48022                                      75   \n",
       "48023                                      71   \n",
       "48024                                      80   \n",
       "\n",
       "       Original.Debt.to.Income..DTI..Ratio  ...  Property.Type  Postal.Code  \\\n",
       "0                                       46  ...             CO         1800   \n",
       "1                                       20  ...             SF        54500   \n",
       "2                                       15  ...             CO         3800   \n",
       "3                                       28  ...             SF        62600   \n",
       "4                                       40  ...             CO         2100   \n",
       "...                                    ...  ...            ...          ...   \n",
       "48020                                   38  ...             SF        55800   \n",
       "48021                                   21  ...             CO        19700   \n",
       "48022                                   31  ...             SF        71700   \n",
       "48023                                   16  ...             MH        55300   \n",
       "48024                                   46  ...             CO        55800   \n",
       "\n",
       "       Loan.Sequence.Number Loan.Purpose Original.Loan.Term  \\\n",
       "0              F21Q20000010            N                360   \n",
       "1              F21Q20000023            N                148   \n",
       "2              F21Q20000068            N                360   \n",
       "3              F21Q20000084            N                360   \n",
       "4              F21Q20000088            P                360   \n",
       "...                     ...          ...                ...   \n",
       "48020          F21Q20963836            P                360   \n",
       "48021          F21Q20963901            P                180   \n",
       "48022          F21Q20963934            N                180   \n",
       "48023          F21Q20963968            N                360   \n",
       "48024          F21Q20964235            P                360   \n",
       "\n",
       "       Number.of.Borrowers                       Seller.Name  \\\n",
       "0                        1                     Other sellers   \n",
       "1                        1                     Other sellers   \n",
       "2                        1                     Other sellers   \n",
       "3                        1                     Other sellers   \n",
       "4                        1                     Other sellers   \n",
       "...                    ...                               ...   \n",
       "48020                    2                     Other sellers   \n",
       "48021                    1                     Other sellers   \n",
       "48022                    2          CALIBER HOME LOANS, INC.   \n",
       "48023                    2  PRIMELENDING A PLAINS CAPITAL CO   \n",
       "48024                    2                     Other sellers   \n",
       "\n",
       "                                Servicer.Name  Program.Indicator  \\\n",
       "0                             Other servicers                  9   \n",
       "1                             Other servicers                  9   \n",
       "2                             Other servicers                  9   \n",
       "3                             Other servicers                  9   \n",
       "4      FIFTH THIRD BANK, NATIONAL ASSOCIATION                  9   \n",
       "...                                       ...                ...   \n",
       "48020                         Other servicers                  9   \n",
       "48021            LAKEVIEW LOAN SERVICING, LLC                  9   \n",
       "48022                CALIBER HOME LOANS, INC.                  9   \n",
       "48023                         Other servicers                  9   \n",
       "48024                         Other servicers                  9   \n",
       "\n",
       "       Property.Valuation.Method  \n",
       "0                              2  \n",
       "1                              1  \n",
       "2                              1  \n",
       "3                              2  \n",
       "4                              2  \n",
       "...                          ...  \n",
       "48020                          2  \n",
       "48021                          2  \n",
       "48022                          2  \n",
       "48023                          2  \n",
       "48024                          1  \n",
       "\n",
       "[48025 rows x 24 columns]"
      ]
     },
     "execution_count": 394,
     "metadata": {},
     "output_type": "execute_result"
    }
   ],
   "source": [
    "loan"
   ]
  },
  {
   "cell_type": "code",
   "execution_count": 397,
   "id": "c3b604f8",
   "metadata": {},
   "outputs": [],
   "source": [
    "loan['Default']=y_pred1"
   ]
  },
  {
   "cell_type": "code",
   "execution_count": 400,
   "id": "161edcbb",
   "metadata": {},
   "outputs": [
    {
     "data": {
      "text/html": [
       "<div>\n",
       "<style scoped>\n",
       "    .dataframe tbody tr th:only-of-type {\n",
       "        vertical-align: middle;\n",
       "    }\n",
       "\n",
       "    .dataframe tbody tr th {\n",
       "        vertical-align: top;\n",
       "    }\n",
       "\n",
       "    .dataframe thead th {\n",
       "        text-align: right;\n",
       "    }\n",
       "</style>\n",
       "<table border=\"1\" class=\"dataframe\">\n",
       "  <thead>\n",
       "    <tr style=\"text-align: right;\">\n",
       "      <th></th>\n",
       "      <th>Credit.Score</th>\n",
       "      <th>First.Payment.Date</th>\n",
       "      <th>First.Time.Homebuyer.Flag</th>\n",
       "      <th>Maturity.Date</th>\n",
       "      <th>Metropolitan.Statistical.Area..MSA..Or.Metropolitan.Division</th>\n",
       "      <th>Mortgage.Insurance.Percentage..MI...</th>\n",
       "      <th>Number.of.Units</th>\n",
       "      <th>Occupancy.Status</th>\n",
       "      <th>Original.Combined.Loan.to.Value..CLTV.</th>\n",
       "      <th>Original.Debt.to.Income..DTI..Ratio</th>\n",
       "      <th>...</th>\n",
       "      <th>Postal.Code</th>\n",
       "      <th>Loan.Sequence.Number</th>\n",
       "      <th>Loan.Purpose</th>\n",
       "      <th>Original.Loan.Term</th>\n",
       "      <th>Number.of.Borrowers</th>\n",
       "      <th>Seller.Name</th>\n",
       "      <th>Servicer.Name</th>\n",
       "      <th>Program.Indicator</th>\n",
       "      <th>Property.Valuation.Method</th>\n",
       "      <th>Default</th>\n",
       "    </tr>\n",
       "  </thead>\n",
       "  <tbody>\n",
       "    <tr>\n",
       "      <th>0</th>\n",
       "      <td>787</td>\n",
       "      <td>202106</td>\n",
       "      <td>N</td>\n",
       "      <td>205105</td>\n",
       "      <td>15764.0</td>\n",
       "      <td>0</td>\n",
       "      <td>1</td>\n",
       "      <td>P</td>\n",
       "      <td>80</td>\n",
       "      <td>46</td>\n",
       "      <td>...</td>\n",
       "      <td>1800</td>\n",
       "      <td>F21Q20000010</td>\n",
       "      <td>N</td>\n",
       "      <td>360</td>\n",
       "      <td>1</td>\n",
       "      <td>Other sellers</td>\n",
       "      <td>Other servicers</td>\n",
       "      <td>9</td>\n",
       "      <td>2</td>\n",
       "      <td>1</td>\n",
       "    </tr>\n",
       "    <tr>\n",
       "      <th>1</th>\n",
       "      <td>771</td>\n",
       "      <td>202106</td>\n",
       "      <td>N</td>\n",
       "      <td>203309</td>\n",
       "      <td>NaN</td>\n",
       "      <td>0</td>\n",
       "      <td>1</td>\n",
       "      <td>S</td>\n",
       "      <td>63</td>\n",
       "      <td>20</td>\n",
       "      <td>...</td>\n",
       "      <td>54500</td>\n",
       "      <td>F21Q20000023</td>\n",
       "      <td>N</td>\n",
       "      <td>148</td>\n",
       "      <td>1</td>\n",
       "      <td>Other sellers</td>\n",
       "      <td>Other servicers</td>\n",
       "      <td>9</td>\n",
       "      <td>1</td>\n",
       "      <td>0</td>\n",
       "    </tr>\n",
       "    <tr>\n",
       "      <th>2</th>\n",
       "      <td>820</td>\n",
       "      <td>202106</td>\n",
       "      <td>N</td>\n",
       "      <td>205105</td>\n",
       "      <td>40484.0</td>\n",
       "      <td>0</td>\n",
       "      <td>1</td>\n",
       "      <td>P</td>\n",
       "      <td>59</td>\n",
       "      <td>15</td>\n",
       "      <td>...</td>\n",
       "      <td>3800</td>\n",
       "      <td>F21Q20000068</td>\n",
       "      <td>N</td>\n",
       "      <td>360</td>\n",
       "      <td>1</td>\n",
       "      <td>Other sellers</td>\n",
       "      <td>Other servicers</td>\n",
       "      <td>9</td>\n",
       "      <td>1</td>\n",
       "      <td>0</td>\n",
       "    </tr>\n",
       "    <tr>\n",
       "      <th>3</th>\n",
       "      <td>781</td>\n",
       "      <td>202106</td>\n",
       "      <td>N</td>\n",
       "      <td>205105</td>\n",
       "      <td>44100.0</td>\n",
       "      <td>0</td>\n",
       "      <td>1</td>\n",
       "      <td>P</td>\n",
       "      <td>73</td>\n",
       "      <td>28</td>\n",
       "      <td>...</td>\n",
       "      <td>62600</td>\n",
       "      <td>F21Q20000084</td>\n",
       "      <td>N</td>\n",
       "      <td>360</td>\n",
       "      <td>1</td>\n",
       "      <td>Other sellers</td>\n",
       "      <td>Other servicers</td>\n",
       "      <td>9</td>\n",
       "      <td>2</td>\n",
       "      <td>0</td>\n",
       "    </tr>\n",
       "    <tr>\n",
       "      <th>4</th>\n",
       "      <td>801</td>\n",
       "      <td>202106</td>\n",
       "      <td>N</td>\n",
       "      <td>205105</td>\n",
       "      <td>14454.0</td>\n",
       "      <td>0</td>\n",
       "      <td>1</td>\n",
       "      <td>P</td>\n",
       "      <td>80</td>\n",
       "      <td>40</td>\n",
       "      <td>...</td>\n",
       "      <td>2100</td>\n",
       "      <td>F21Q20000088</td>\n",
       "      <td>P</td>\n",
       "      <td>360</td>\n",
       "      <td>1</td>\n",
       "      <td>Other sellers</td>\n",
       "      <td>FIFTH THIRD BANK, NATIONAL ASSOCIATION</td>\n",
       "      <td>9</td>\n",
       "      <td>2</td>\n",
       "      <td>0</td>\n",
       "    </tr>\n",
       "    <tr>\n",
       "      <th>...</th>\n",
       "      <td>...</td>\n",
       "      <td>...</td>\n",
       "      <td>...</td>\n",
       "      <td>...</td>\n",
       "      <td>...</td>\n",
       "      <td>...</td>\n",
       "      <td>...</td>\n",
       "      <td>...</td>\n",
       "      <td>...</td>\n",
       "      <td>...</td>\n",
       "      <td>...</td>\n",
       "      <td>...</td>\n",
       "      <td>...</td>\n",
       "      <td>...</td>\n",
       "      <td>...</td>\n",
       "      <td>...</td>\n",
       "      <td>...</td>\n",
       "      <td>...</td>\n",
       "      <td>...</td>\n",
       "      <td>...</td>\n",
       "      <td>...</td>\n",
       "    </tr>\n",
       "    <tr>\n",
       "      <th>48020</th>\n",
       "      <td>804</td>\n",
       "      <td>202106</td>\n",
       "      <td>N</td>\n",
       "      <td>205105</td>\n",
       "      <td>20260.0</td>\n",
       "      <td>0</td>\n",
       "      <td>3</td>\n",
       "      <td>P</td>\n",
       "      <td>80</td>\n",
       "      <td>38</td>\n",
       "      <td>...</td>\n",
       "      <td>55800</td>\n",
       "      <td>F21Q20963836</td>\n",
       "      <td>P</td>\n",
       "      <td>360</td>\n",
       "      <td>2</td>\n",
       "      <td>Other sellers</td>\n",
       "      <td>Other servicers</td>\n",
       "      <td>9</td>\n",
       "      <td>2</td>\n",
       "      <td>0</td>\n",
       "    </tr>\n",
       "    <tr>\n",
       "      <th>48021</th>\n",
       "      <td>791</td>\n",
       "      <td>202108</td>\n",
       "      <td>N</td>\n",
       "      <td>203607</td>\n",
       "      <td>48864.0</td>\n",
       "      <td>0</td>\n",
       "      <td>1</td>\n",
       "      <td>I</td>\n",
       "      <td>75</td>\n",
       "      <td>21</td>\n",
       "      <td>...</td>\n",
       "      <td>19700</td>\n",
       "      <td>F21Q20963901</td>\n",
       "      <td>P</td>\n",
       "      <td>180</td>\n",
       "      <td>1</td>\n",
       "      <td>Other sellers</td>\n",
       "      <td>LAKEVIEW LOAN SERVICING, LLC</td>\n",
       "      <td>9</td>\n",
       "      <td>2</td>\n",
       "      <td>0</td>\n",
       "    </tr>\n",
       "    <tr>\n",
       "      <th>48022</th>\n",
       "      <td>731</td>\n",
       "      <td>202108</td>\n",
       "      <td>N</td>\n",
       "      <td>203607</td>\n",
       "      <td>NaN</td>\n",
       "      <td>0</td>\n",
       "      <td>1</td>\n",
       "      <td>P</td>\n",
       "      <td>75</td>\n",
       "      <td>31</td>\n",
       "      <td>...</td>\n",
       "      <td>71700</td>\n",
       "      <td>F21Q20963934</td>\n",
       "      <td>N</td>\n",
       "      <td>180</td>\n",
       "      <td>2</td>\n",
       "      <td>CALIBER HOME LOANS, INC.</td>\n",
       "      <td>CALIBER HOME LOANS, INC.</td>\n",
       "      <td>9</td>\n",
       "      <td>2</td>\n",
       "      <td>0</td>\n",
       "    </tr>\n",
       "    <tr>\n",
       "      <th>48023</th>\n",
       "      <td>748</td>\n",
       "      <td>202108</td>\n",
       "      <td>N</td>\n",
       "      <td>205107</td>\n",
       "      <td>33460.0</td>\n",
       "      <td>0</td>\n",
       "      <td>1</td>\n",
       "      <td>P</td>\n",
       "      <td>71</td>\n",
       "      <td>16</td>\n",
       "      <td>...</td>\n",
       "      <td>55300</td>\n",
       "      <td>F21Q20963968</td>\n",
       "      <td>N</td>\n",
       "      <td>360</td>\n",
       "      <td>2</td>\n",
       "      <td>PRIMELENDING A PLAINS CAPITAL CO</td>\n",
       "      <td>Other servicers</td>\n",
       "      <td>9</td>\n",
       "      <td>2</td>\n",
       "      <td>0</td>\n",
       "    </tr>\n",
       "    <tr>\n",
       "      <th>48024</th>\n",
       "      <td>788</td>\n",
       "      <td>202106</td>\n",
       "      <td>N</td>\n",
       "      <td>205105</td>\n",
       "      <td>20260.0</td>\n",
       "      <td>0</td>\n",
       "      <td>1</td>\n",
       "      <td>P</td>\n",
       "      <td>80</td>\n",
       "      <td>46</td>\n",
       "      <td>...</td>\n",
       "      <td>55800</td>\n",
       "      <td>F21Q20964235</td>\n",
       "      <td>P</td>\n",
       "      <td>360</td>\n",
       "      <td>2</td>\n",
       "      <td>Other sellers</td>\n",
       "      <td>Other servicers</td>\n",
       "      <td>9</td>\n",
       "      <td>1</td>\n",
       "      <td>1</td>\n",
       "    </tr>\n",
       "  </tbody>\n",
       "</table>\n",
       "<p>48025 rows × 25 columns</p>\n",
       "</div>"
      ],
      "text/plain": [
       "       Credit.Score  First.Payment.Date First.Time.Homebuyer.Flag  \\\n",
       "0               787              202106                         N   \n",
       "1               771              202106                         N   \n",
       "2               820              202106                         N   \n",
       "3               781              202106                         N   \n",
       "4               801              202106                         N   \n",
       "...             ...                 ...                       ...   \n",
       "48020           804              202106                         N   \n",
       "48021           791              202108                         N   \n",
       "48022           731              202108                         N   \n",
       "48023           748              202108                         N   \n",
       "48024           788              202106                         N   \n",
       "\n",
       "       Maturity.Date  \\\n",
       "0             205105   \n",
       "1             203309   \n",
       "2             205105   \n",
       "3             205105   \n",
       "4             205105   \n",
       "...              ...   \n",
       "48020         205105   \n",
       "48021         203607   \n",
       "48022         203607   \n",
       "48023         205107   \n",
       "48024         205105   \n",
       "\n",
       "       Metropolitan.Statistical.Area..MSA..Or.Metropolitan.Division  \\\n",
       "0                                                15764.0              \n",
       "1                                                    NaN              \n",
       "2                                                40484.0              \n",
       "3                                                44100.0              \n",
       "4                                                14454.0              \n",
       "...                                                  ...              \n",
       "48020                                            20260.0              \n",
       "48021                                            48864.0              \n",
       "48022                                                NaN              \n",
       "48023                                            33460.0              \n",
       "48024                                            20260.0              \n",
       "\n",
       "       Mortgage.Insurance.Percentage..MI...  Number.of.Units Occupancy.Status  \\\n",
       "0                                         0                1                P   \n",
       "1                                         0                1                S   \n",
       "2                                         0                1                P   \n",
       "3                                         0                1                P   \n",
       "4                                         0                1                P   \n",
       "...                                     ...              ...              ...   \n",
       "48020                                     0                3                P   \n",
       "48021                                     0                1                I   \n",
       "48022                                     0                1                P   \n",
       "48023                                     0                1                P   \n",
       "48024                                     0                1                P   \n",
       "\n",
       "       Original.Combined.Loan.to.Value..CLTV.  \\\n",
       "0                                          80   \n",
       "1                                          63   \n",
       "2                                          59   \n",
       "3                                          73   \n",
       "4                                          80   \n",
       "...                                       ...   \n",
       "48020                                      80   \n",
       "48021                                      75   \n",
       "48022                                      75   \n",
       "48023                                      71   \n",
       "48024                                      80   \n",
       "\n",
       "       Original.Debt.to.Income..DTI..Ratio  ...  Postal.Code  \\\n",
       "0                                       46  ...         1800   \n",
       "1                                       20  ...        54500   \n",
       "2                                       15  ...         3800   \n",
       "3                                       28  ...        62600   \n",
       "4                                       40  ...         2100   \n",
       "...                                    ...  ...          ...   \n",
       "48020                                   38  ...        55800   \n",
       "48021                                   21  ...        19700   \n",
       "48022                                   31  ...        71700   \n",
       "48023                                   16  ...        55300   \n",
       "48024                                   46  ...        55800   \n",
       "\n",
       "       Loan.Sequence.Number  Loan.Purpose Original.Loan.Term  \\\n",
       "0              F21Q20000010             N                360   \n",
       "1              F21Q20000023             N                148   \n",
       "2              F21Q20000068             N                360   \n",
       "3              F21Q20000084             N                360   \n",
       "4              F21Q20000088             P                360   \n",
       "...                     ...           ...                ...   \n",
       "48020          F21Q20963836             P                360   \n",
       "48021          F21Q20963901             P                180   \n",
       "48022          F21Q20963934             N                180   \n",
       "48023          F21Q20963968             N                360   \n",
       "48024          F21Q20964235             P                360   \n",
       "\n",
       "      Number.of.Borrowers                       Seller.Name  \\\n",
       "0                       1                     Other sellers   \n",
       "1                       1                     Other sellers   \n",
       "2                       1                     Other sellers   \n",
       "3                       1                     Other sellers   \n",
       "4                       1                     Other sellers   \n",
       "...                   ...                               ...   \n",
       "48020                   2                     Other sellers   \n",
       "48021                   1                     Other sellers   \n",
       "48022                   2          CALIBER HOME LOANS, INC.   \n",
       "48023                   2  PRIMELENDING A PLAINS CAPITAL CO   \n",
       "48024                   2                     Other sellers   \n",
       "\n",
       "                                Servicer.Name Program.Indicator  \\\n",
       "0                             Other servicers                 9   \n",
       "1                             Other servicers                 9   \n",
       "2                             Other servicers                 9   \n",
       "3                             Other servicers                 9   \n",
       "4      FIFTH THIRD BANK, NATIONAL ASSOCIATION                 9   \n",
       "...                                       ...               ...   \n",
       "48020                         Other servicers                 9   \n",
       "48021            LAKEVIEW LOAN SERVICING, LLC                 9   \n",
       "48022                CALIBER HOME LOANS, INC.                 9   \n",
       "48023                         Other servicers                 9   \n",
       "48024                         Other servicers                 9   \n",
       "\n",
       "       Property.Valuation.Method  Default  \n",
       "0                              2        1  \n",
       "1                              1        0  \n",
       "2                              1        0  \n",
       "3                              2        0  \n",
       "4                              2        0  \n",
       "...                          ...      ...  \n",
       "48020                          2        0  \n",
       "48021                          2        0  \n",
       "48022                          2        0  \n",
       "48023                          2        0  \n",
       "48024                          1        1  \n",
       "\n",
       "[48025 rows x 25 columns]"
      ]
     },
     "execution_count": 400,
     "metadata": {},
     "output_type": "execute_result"
    }
   ],
   "source": [
    "loan"
   ]
  },
  {
   "cell_type": "markdown",
   "id": "c834ef17",
   "metadata": {},
   "source": [
    "#### Save resualt in new File "
   ]
  },
  {
   "cell_type": "code",
   "execution_count": 401,
   "id": "770d1436",
   "metadata": {},
   "outputs": [],
   "source": [
    "loan.to_csv('Predict_file.csv')"
   ]
  },
  {
   "cell_type": "code",
   "execution_count": 405,
   "id": "71d39685",
   "metadata": {},
   "outputs": [],
   "source": [
    "df=pd.read_csv('Predict_file.csv')"
   ]
  },
  {
   "cell_type": "markdown",
   "id": "36d0bdc6",
   "metadata": {},
   "source": [
    "What do you predict will be the overall default rate if you buy all the mortages (Report the mean of the predicted default probability for this)?"
   ]
  },
  {
   "cell_type": "code",
   "execution_count": 410,
   "id": "1fa50b10",
   "metadata": {},
   "outputs": [],
   "source": [
    "res=df['Default'].value_counts()"
   ]
  },
  {
   "cell_type": "code",
   "execution_count": 416,
   "id": "0f4d17ad",
   "metadata": {},
   "outputs": [
    {
     "data": {
      "image/png": "[encoded data removed]",
      "text/plain": [
       "<Figure size 1440x720 with 1 Axes>"
      ]
     },
     "metadata": {},
     "output_type": "display_data"
    }
   ],
   "source": [
    "plt.figure(figsize=(20,10))\n",
    "plt.title('The expected proportions based on the model that we built',size=18)\n",
    "plt.pie(res,labels=res.index,autopct='%.01f%%')\n",
    "plt.show()"
   ]
  },
  {
   "cell_type": "markdown",
   "id": "d5557eff",
   "metadata": {},
   "source": [
    "#### Overall default rate if you buy all the mortages through predict model 85.1%"
   ]
  },
  {
   "cell_type": "code",
   "execution_count": null,
   "id": "e8789e55",
   "metadata": {},
   "outputs": [],
   "source": []
  }
 ],
 "metadata": {
  "kernelspec": {
   "display_name": "Python 3",
   "language": "python",
   "name": "python3"
  },
  "language_info": {
   "codemirror_mode": {
    "name": "ipython",
    "version": 3
   },
   "file_extension": ".py",
   "mimetype": "text/x-python",
   "name": "python",
   "nbconvert_exporter": "python",
   "pygments_lexer": "ipython3",
   "version": "3.8.8"
  }
 },
 "nbformat": 4,
 "nbformat_minor": 5
}
