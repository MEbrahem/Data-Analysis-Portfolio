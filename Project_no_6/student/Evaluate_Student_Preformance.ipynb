{
 "cells": [
  {
   "cell_type": "markdown",
   "id": "293c8243",
   "metadata": {},
   "source": [
    "## Project: Evaluation of Student Performance"
   ]
  },
  {
   "cell_type": "markdown",
   "id": "66c7ff3c",
   "metadata": {},
   "source": [
    "## Table of Contents\n",
    "<ul>\n",
    "<li><a href=\"#intro\">Introduction</a></li>\n",
    "<li><a href=\"#wrangling\">Data Wrangling</a></li>\n",
    "<li><a href=\"#eda\">Exploratory Data Analysis</a></li>\n",
    "<li><a href='#split'>Split Data</a></li>\n",
    "<li><a href='#model'>Train Model</a></li>\n",
    "<li><a href=\"#con\">Conclusions</a></li>\n",
    "</ul>"
   ]
  },
  {
   "cell_type": "markdown",
   "id": "3ba0caa0",
   "metadata": {},
   "source": [
    "<a id='intro'></a>\n",
    "## Introduction"
   ]
  },
  {
   "cell_type": "markdown",
   "id": "1c50d856",
   "metadata": {},
   "source": [
    "### Dataset Description "
   ]
  },
  {
   "cell_type": "markdown",
   "id": "7a7cfc87",
   "metadata": {},
   "source": [
    ">This data approach student achievement in secondary education of two Portuguese schools. The data attributes include student grades, demographic, social and school related features) and it was collected by using school reports and questionnaires. Two datasets are provided regarding the performance in two distinct subjects: Mathematics (mat) and Portuguese language (por). In [Cortez and Silva, 2008], the two datasets were modeled under binary/five-level classification and regression tasks. Important note: the target attribute G3 has a strong correlation with attributes G2 and G1. This occurs because G3 is the final year grade (issued at the 3rd period), while G1 and G2 correspond to the 1st and 2nd period grades. It is more difficult to predict G3 without G2 and G1, but such prediction is much more useful (see paper source for more details)."
   ]
  },
  {
   "cell_type": "markdown",
   "id": "788d8b49",
   "metadata": {},
   "source": [
    "### Columns Description"
   ]
  },
  {
   "cell_type": "markdown",
   "id": "0a90ac45",
   "metadata": {},
   "source": [
    "#### Attributes for both student-mat.csv (Math course) and student-por.csv (Portuguese language course) datasets:\n",
    "1 school - student's school (binary: \"GP\" - Gabriel Pereira or \"MS\" - Mousinho da Silveira)\n",
    "<br>\n",
    "2 sex - student's sex (binary: \"F\" - female or \"M\" - male)\n",
    "<br>\n",
    "3 age - student's age (numeric: from 15 to 22)\n",
    "<br>\n",
    "4 address - student's home address type (binary: \"U\" - urban or \"R\" - rural)\n",
    "<br>\n",
    "5 famsize - family size (binary: \"LE3\" - less or equal to 3 or \"GT3\" - greater than 3)\n",
    "<br>\n",
    "6 Pstatus - parent's cohabitation status (binary: \"T\" - living together or \"A\" - apart)\n",
    "<br>\n",
    "7 Medu - mother's education (numeric: 0 - none,  1 - primary education (4th grade), 2 – 5th to 9th grade, 3 – secondary education or 4 – higher education)\n",
    "<br>\n",
    "8 Fedu - father's education (numeric: 0 - none,  1 - primary education (4th grade), 2 – 5th to 9th grade, 3 – secondary education or 4 – higher education)\n",
    "<br>\n",
    "9 Mjob - mother's job (nominal: \"teacher\", \"health\" care related, civil \"services\" (e.g. administrative or police), \"at_home\" or \"other\")\n",
    "<br>\n",
    "10 Fjob - father's job (nominal: \"teacher\", \"health\" care related, civil \"services\" (e.g. administrative or police), \"at_home\" or \"other\")\n",
    "<br>\n",
    "11 reason - reason to choose this school (nominal: close to \"home\", school \"reputation\", \"course\" preference or \"other\")\n",
    "<br>\n",
    "12 guardian - student's guardian (nominal: \"mother\", \"father\" or \"other\")\n",
    "<br>\n",
    "13 traveltime - home to school travel time (numeric: 1 - <15 min., 2 - 15 to 30 min., 3 - 30 min. to 1 hour, or 4 - >1 hour)\n",
    "<br>\n",
    "14 studytime - weekly study time (numeric: 1 - <2 hours, 2 - 2 to 5 hours, 3 - 5 to 10 hours, or 4 - >10 hours)\n",
    "<br>\n",
    "15 failures - number of past class failures (numeric: n if 1<=n<3, else 4)\n",
    "<br>\n",
    "16 schoolsup - extra educational support (binary: yes or no)\n",
    "<br>\n",
    "17 famsup - family educational support (binary: yes or no)\n",
    "<br>\n",
    "18 paid - extra paid classes within the course subject (Math or Portuguese) (binary: yes or no)\n",
    "<br>\n",
    "19 activities - extra-curricular activities (binary: yes or no)\n",
    "<br>\n",
    "20 nursery - attended nursery school (binary: yes or no)\n",
    "<br>\n",
    "21 higher - wants to take higher education (binary: yes or no)\n",
    "<br>\n",
    "22 internet - Internet access at home (binary: yes or no)\n",
    "<br>\n",
    "23 romantic - with a romantic relationship (binary: yes or no)\n",
    "<br>\n",
    "24 famrel - quality of family relationships (numeric: from 1 - very bad to 5 - excellent)\n",
    "<br>\n",
    "25 freetime - free time after school (numeric: from 1 - very low to 5 - very high)\n",
    "<br>\n",
    "26 goout - going out with friends (numeric: from 1 - very low to 5 - very high)\n",
    "<br>\n",
    "27 Dalc - workday alcohol consumption (numeric: from 1 - very low to 5 - very high)\n",
    "<br>\n",
    "28 Walc - weekend alcohol consumption (numeric: from 1 - very low to 5 - very high)\n",
    "<br>\n",
    "29 health - current health status (numeric: from 1 - very bad to 5 - very good)\n",
    "<br>\n",
    "30 absences - number of school absences (numeric: from 0 to 93)\n",
    "\n",
    "#### these grades are related with the course subject, Math or Portuguese:\n",
    "31 G1 - first period grade (numeric: from 0 to 20)\n",
    "<br>\n",
    "31 G2 - second period grade (numeric: from 0 to 20)\n",
    "<br>\n",
    "32 G3 - final grade (numeric: from 0 to 20, output target)\n",
    "\n",
    "Additional note: there are several (382) students that belong to both datasets . \n",
    "These students can be identified by searching for identical attributes\n",
    "that characterize each student, as shown in the annexed R file."
   ]
  },
  {
   "cell_type": "markdown",
   "id": "24650b2b",
   "metadata": {},
   "source": [
    "<a id='wrangling'></a>\n",
    "## Data Wrangling"
   ]
  },
  {
   "cell_type": "markdown",
   "id": "f765f3f7",
   "metadata": {},
   "source": [
    "#### Libraries used"
   ]
  },
  {
   "cell_type": "code",
   "execution_count": 3,
   "id": "30bbd9ed",
   "metadata": {},
   "outputs": [],
   "source": [
    "import numpy as np\n",
    "import pandas as pd\n",
    "from matplotlib import pyplot as plt\n",
    "import seaborn as sns"
   ]
  },
  {
   "cell_type": "markdown",
   "id": "95c3786d",
   "metadata": {},
   "source": [
    "#### Read data from csv file Math, Por"
   ]
  },
  {
   "cell_type": "code",
   "execution_count": 492,
   "id": "af57411e",
   "metadata": {},
   "outputs": [],
   "source": [
    "stud_mat=pd.read_csv(\"student-mat.csv\",sep=';')\n",
    "stud_por=pd.read_csv(\"student-por.csv\",sep=';')"
   ]
  },
  {
   "cell_type": "markdown",
   "id": "9b72c6aa",
   "metadata": {},
   "source": [
    "#### Show dataset  "
   ]
  },
  {
   "cell_type": "code",
   "execution_count": 6,
   "id": "04e73bbc",
   "metadata": {},
   "outputs": [
    {
     "data": {
      "text/html": [
       "<div>\n",
       "<style scoped>\n",
       "    .dataframe tbody tr th:only-of-type {\n",
       "        vertical-align: middle;\n",
       "    }\n",
       "\n",
       "    .dataframe tbody tr th {\n",
       "        vertical-align: top;\n",
       "    }\n",
       "\n",
       "    .dataframe thead th {\n",
       "        text-align: right;\n",
       "    }\n",
       "</style>\n",
       "<table border=\"1\" class=\"dataframe\">\n",
       "  <thead>\n",
       "    <tr style=\"text-align: right;\">\n",
       "      <th></th>\n",
       "      <th>school</th>\n",
       "      <th>sex</th>\n",
       "      <th>age</th>\n",
       "      <th>address</th>\n",
       "      <th>famsize</th>\n",
       "      <th>Pstatus</th>\n",
       "      <th>Medu</th>\n",
       "      <th>Fedu</th>\n",
       "      <th>Mjob</th>\n",
       "      <th>Fjob</th>\n",
       "      <th>...</th>\n",
       "      <th>famrel</th>\n",
       "      <th>freetime</th>\n",
       "      <th>goout</th>\n",
       "      <th>Dalc</th>\n",
       "      <th>Walc</th>\n",
       "      <th>health</th>\n",
       "      <th>absences</th>\n",
       "      <th>G1</th>\n",
       "      <th>G2</th>\n",
       "      <th>G3</th>\n",
       "    </tr>\n",
       "  </thead>\n",
       "  <tbody>\n",
       "    <tr>\n",
       "      <th>0</th>\n",
       "      <td>GP</td>\n",
       "      <td>F</td>\n",
       "      <td>18</td>\n",
       "      <td>U</td>\n",
       "      <td>GT3</td>\n",
       "      <td>A</td>\n",
       "      <td>4</td>\n",
       "      <td>4</td>\n",
       "      <td>at_home</td>\n",
       "      <td>teacher</td>\n",
       "      <td>...</td>\n",
       "      <td>4</td>\n",
       "      <td>3</td>\n",
       "      <td>4</td>\n",
       "      <td>1</td>\n",
       "      <td>1</td>\n",
       "      <td>3</td>\n",
       "      <td>6</td>\n",
       "      <td>5</td>\n",
       "      <td>6</td>\n",
       "      <td>6</td>\n",
       "    </tr>\n",
       "    <tr>\n",
       "      <th>1</th>\n",
       "      <td>GP</td>\n",
       "      <td>F</td>\n",
       "      <td>17</td>\n",
       "      <td>U</td>\n",
       "      <td>GT3</td>\n",
       "      <td>T</td>\n",
       "      <td>1</td>\n",
       "      <td>1</td>\n",
       "      <td>at_home</td>\n",
       "      <td>other</td>\n",
       "      <td>...</td>\n",
       "      <td>5</td>\n",
       "      <td>3</td>\n",
       "      <td>3</td>\n",
       "      <td>1</td>\n",
       "      <td>1</td>\n",
       "      <td>3</td>\n",
       "      <td>4</td>\n",
       "      <td>5</td>\n",
       "      <td>5</td>\n",
       "      <td>6</td>\n",
       "    </tr>\n",
       "    <tr>\n",
       "      <th>2</th>\n",
       "      <td>GP</td>\n",
       "      <td>F</td>\n",
       "      <td>15</td>\n",
       "      <td>U</td>\n",
       "      <td>LE3</td>\n",
       "      <td>T</td>\n",
       "      <td>1</td>\n",
       "      <td>1</td>\n",
       "      <td>at_home</td>\n",
       "      <td>other</td>\n",
       "      <td>...</td>\n",
       "      <td>4</td>\n",
       "      <td>3</td>\n",
       "      <td>2</td>\n",
       "      <td>2</td>\n",
       "      <td>3</td>\n",
       "      <td>3</td>\n",
       "      <td>10</td>\n",
       "      <td>7</td>\n",
       "      <td>8</td>\n",
       "      <td>10</td>\n",
       "    </tr>\n",
       "    <tr>\n",
       "      <th>3</th>\n",
       "      <td>GP</td>\n",
       "      <td>F</td>\n",
       "      <td>15</td>\n",
       "      <td>U</td>\n",
       "      <td>GT3</td>\n",
       "      <td>T</td>\n",
       "      <td>4</td>\n",
       "      <td>2</td>\n",
       "      <td>health</td>\n",
       "      <td>services</td>\n",
       "      <td>...</td>\n",
       "      <td>3</td>\n",
       "      <td>2</td>\n",
       "      <td>2</td>\n",
       "      <td>1</td>\n",
       "      <td>1</td>\n",
       "      <td>5</td>\n",
       "      <td>2</td>\n",
       "      <td>15</td>\n",
       "      <td>14</td>\n",
       "      <td>15</td>\n",
       "    </tr>\n",
       "    <tr>\n",
       "      <th>4</th>\n",
       "      <td>GP</td>\n",
       "      <td>F</td>\n",
       "      <td>16</td>\n",
       "      <td>U</td>\n",
       "      <td>GT3</td>\n",
       "      <td>T</td>\n",
       "      <td>3</td>\n",
       "      <td>3</td>\n",
       "      <td>other</td>\n",
       "      <td>other</td>\n",
       "      <td>...</td>\n",
       "      <td>4</td>\n",
       "      <td>3</td>\n",
       "      <td>2</td>\n",
       "      <td>1</td>\n",
       "      <td>2</td>\n",
       "      <td>5</td>\n",
       "      <td>4</td>\n",
       "      <td>6</td>\n",
       "      <td>10</td>\n",
       "      <td>10</td>\n",
       "    </tr>\n",
       "  </tbody>\n",
       "</table>\n",
       "<p>5 rows × 33 columns</p>\n",
       "</div>"
      ],
      "text/plain": [
       "  school sex  age address famsize Pstatus  Medu  Fedu     Mjob      Fjob  ...  \\\n",
       "0     GP   F   18       U     GT3       A     4     4  at_home   teacher  ...   \n",
       "1     GP   F   17       U     GT3       T     1     1  at_home     other  ...   \n",
       "2     GP   F   15       U     LE3       T     1     1  at_home     other  ...   \n",
       "3     GP   F   15       U     GT3       T     4     2   health  services  ...   \n",
       "4     GP   F   16       U     GT3       T     3     3    other     other  ...   \n",
       "\n",
       "  famrel freetime  goout  Dalc  Walc health absences  G1  G2  G3  \n",
       "0      4        3      4     1     1      3        6   5   6   6  \n",
       "1      5        3      3     1     1      3        4   5   5   6  \n",
       "2      4        3      2     2     3      3       10   7   8  10  \n",
       "3      3        2      2     1     1      5        2  15  14  15  \n",
       "4      4        3      2     1     2      5        4   6  10  10  \n",
       "\n",
       "[5 rows x 33 columns]"
      ]
     },
     "execution_count": 6,
     "metadata": {},
     "output_type": "execute_result"
    }
   ],
   "source": [
    "stud_mat.head()"
   ]
  },
  {
   "cell_type": "code",
   "execution_count": 13,
   "id": "7b2c6c1e",
   "metadata": {},
   "outputs": [
    {
     "data": {
      "text/plain": [
       "(395, 33)"
      ]
     },
     "execution_count": 13,
     "metadata": {},
     "output_type": "execute_result"
    }
   ],
   "source": [
    "stud_mat.shape"
   ]
  },
  {
   "cell_type": "code",
   "execution_count": 7,
   "id": "c352e49f",
   "metadata": {},
   "outputs": [
    {
     "data": {
      "text/html": [
       "<div>\n",
       "<style scoped>\n",
       "    .dataframe tbody tr th:only-of-type {\n",
       "        vertical-align: middle;\n",
       "    }\n",
       "\n",
       "    .dataframe tbody tr th {\n",
       "        vertical-align: top;\n",
       "    }\n",
       "\n",
       "    .dataframe thead th {\n",
       "        text-align: right;\n",
       "    }\n",
       "</style>\n",
       "<table border=\"1\" class=\"dataframe\">\n",
       "  <thead>\n",
       "    <tr style=\"text-align: right;\">\n",
       "      <th></th>\n",
       "      <th>school</th>\n",
       "      <th>sex</th>\n",
       "      <th>age</th>\n",
       "      <th>address</th>\n",
       "      <th>famsize</th>\n",
       "      <th>Pstatus</th>\n",
       "      <th>Medu</th>\n",
       "      <th>Fedu</th>\n",
       "      <th>Mjob</th>\n",
       "      <th>Fjob</th>\n",
       "      <th>...</th>\n",
       "      <th>famrel</th>\n",
       "      <th>freetime</th>\n",
       "      <th>goout</th>\n",
       "      <th>Dalc</th>\n",
       "      <th>Walc</th>\n",
       "      <th>health</th>\n",
       "      <th>absences</th>\n",
       "      <th>G1</th>\n",
       "      <th>G2</th>\n",
       "      <th>G3</th>\n",
       "    </tr>\n",
       "  </thead>\n",
       "  <tbody>\n",
       "    <tr>\n",
       "      <th>0</th>\n",
       "      <td>GP</td>\n",
       "      <td>F</td>\n",
       "      <td>18</td>\n",
       "      <td>U</td>\n",
       "      <td>GT3</td>\n",
       "      <td>A</td>\n",
       "      <td>4</td>\n",
       "      <td>4</td>\n",
       "      <td>at_home</td>\n",
       "      <td>teacher</td>\n",
       "      <td>...</td>\n",
       "      <td>4</td>\n",
       "      <td>3</td>\n",
       "      <td>4</td>\n",
       "      <td>1</td>\n",
       "      <td>1</td>\n",
       "      <td>3</td>\n",
       "      <td>4</td>\n",
       "      <td>0</td>\n",
       "      <td>11</td>\n",
       "      <td>11</td>\n",
       "    </tr>\n",
       "    <tr>\n",
       "      <th>1</th>\n",
       "      <td>GP</td>\n",
       "      <td>F</td>\n",
       "      <td>17</td>\n",
       "      <td>U</td>\n",
       "      <td>GT3</td>\n",
       "      <td>T</td>\n",
       "      <td>1</td>\n",
       "      <td>1</td>\n",
       "      <td>at_home</td>\n",
       "      <td>other</td>\n",
       "      <td>...</td>\n",
       "      <td>5</td>\n",
       "      <td>3</td>\n",
       "      <td>3</td>\n",
       "      <td>1</td>\n",
       "      <td>1</td>\n",
       "      <td>3</td>\n",
       "      <td>2</td>\n",
       "      <td>9</td>\n",
       "      <td>11</td>\n",
       "      <td>11</td>\n",
       "    </tr>\n",
       "    <tr>\n",
       "      <th>2</th>\n",
       "      <td>GP</td>\n",
       "      <td>F</td>\n",
       "      <td>15</td>\n",
       "      <td>U</td>\n",
       "      <td>LE3</td>\n",
       "      <td>T</td>\n",
       "      <td>1</td>\n",
       "      <td>1</td>\n",
       "      <td>at_home</td>\n",
       "      <td>other</td>\n",
       "      <td>...</td>\n",
       "      <td>4</td>\n",
       "      <td>3</td>\n",
       "      <td>2</td>\n",
       "      <td>2</td>\n",
       "      <td>3</td>\n",
       "      <td>3</td>\n",
       "      <td>6</td>\n",
       "      <td>12</td>\n",
       "      <td>13</td>\n",
       "      <td>12</td>\n",
       "    </tr>\n",
       "    <tr>\n",
       "      <th>3</th>\n",
       "      <td>GP</td>\n",
       "      <td>F</td>\n",
       "      <td>15</td>\n",
       "      <td>U</td>\n",
       "      <td>GT3</td>\n",
       "      <td>T</td>\n",
       "      <td>4</td>\n",
       "      <td>2</td>\n",
       "      <td>health</td>\n",
       "      <td>services</td>\n",
       "      <td>...</td>\n",
       "      <td>3</td>\n",
       "      <td>2</td>\n",
       "      <td>2</td>\n",
       "      <td>1</td>\n",
       "      <td>1</td>\n",
       "      <td>5</td>\n",
       "      <td>0</td>\n",
       "      <td>14</td>\n",
       "      <td>14</td>\n",
       "      <td>14</td>\n",
       "    </tr>\n",
       "    <tr>\n",
       "      <th>4</th>\n",
       "      <td>GP</td>\n",
       "      <td>F</td>\n",
       "      <td>16</td>\n",
       "      <td>U</td>\n",
       "      <td>GT3</td>\n",
       "      <td>T</td>\n",
       "      <td>3</td>\n",
       "      <td>3</td>\n",
       "      <td>other</td>\n",
       "      <td>other</td>\n",
       "      <td>...</td>\n",
       "      <td>4</td>\n",
       "      <td>3</td>\n",
       "      <td>2</td>\n",
       "      <td>1</td>\n",
       "      <td>2</td>\n",
       "      <td>5</td>\n",
       "      <td>0</td>\n",
       "      <td>11</td>\n",
       "      <td>13</td>\n",
       "      <td>13</td>\n",
       "    </tr>\n",
       "  </tbody>\n",
       "</table>\n",
       "<p>5 rows × 33 columns</p>\n",
       "</div>"
      ],
      "text/plain": [
       "  school sex  age address famsize Pstatus  Medu  Fedu     Mjob      Fjob  ...  \\\n",
       "0     GP   F   18       U     GT3       A     4     4  at_home   teacher  ...   \n",
       "1     GP   F   17       U     GT3       T     1     1  at_home     other  ...   \n",
       "2     GP   F   15       U     LE3       T     1     1  at_home     other  ...   \n",
       "3     GP   F   15       U     GT3       T     4     2   health  services  ...   \n",
       "4     GP   F   16       U     GT3       T     3     3    other     other  ...   \n",
       "\n",
       "  famrel freetime  goout  Dalc  Walc health absences  G1  G2  G3  \n",
       "0      4        3      4     1     1      3        4   0  11  11  \n",
       "1      5        3      3     1     1      3        2   9  11  11  \n",
       "2      4        3      2     2     3      3        6  12  13  12  \n",
       "3      3        2      2     1     1      5        0  14  14  14  \n",
       "4      4        3      2     1     2      5        0  11  13  13  \n",
       "\n",
       "[5 rows x 33 columns]"
      ]
     },
     "execution_count": 7,
     "metadata": {},
     "output_type": "execute_result"
    }
   ],
   "source": [
    "stud_por.head()"
   ]
  },
  {
   "cell_type": "code",
   "execution_count": 14,
   "id": "47a39a81",
   "metadata": {},
   "outputs": [
    {
     "data": {
      "text/plain": [
       "(649, 33)"
      ]
     },
     "execution_count": 14,
     "metadata": {},
     "output_type": "execute_result"
    }
   ],
   "source": [
    "stud_por.shape"
   ]
  },
  {
   "cell_type": "markdown",
   "id": "4375cdf7",
   "metadata": {},
   "source": [
    "#### Check if columns of both files are matched "
   ]
  },
  {
   "cell_type": "code",
   "execution_count": 11,
   "id": "1447da8c",
   "metadata": {},
   "outputs": [
    {
     "name": "stdout",
     "output_type": "stream",
     "text": [
      "Are all columns of both files matched :True\n"
     ]
    }
   ],
   "source": [
    "print(f\"Are all columns of both files matched :{all(stud_mat.columns==stud_por.columns)}\") "
   ]
  },
  {
   "cell_type": "markdown",
   "id": "58db5a56",
   "metadata": {},
   "source": [
    "#### Combine the separate data files for the Mathematics and Portuguese language subjects"
   ]
  },
  {
   "cell_type": "code",
   "execution_count": 493,
   "id": "28b71103",
   "metadata": {},
   "outputs": [
    {
     "data": {
      "text/html": [
       "<div>\n",
       "<style scoped>\n",
       "    .dataframe tbody tr th:only-of-type {\n",
       "        vertical-align: middle;\n",
       "    }\n",
       "\n",
       "    .dataframe tbody tr th {\n",
       "        vertical-align: top;\n",
       "    }\n",
       "\n",
       "    .dataframe thead th {\n",
       "        text-align: right;\n",
       "    }\n",
       "</style>\n",
       "<table border=\"1\" class=\"dataframe\">\n",
       "  <thead>\n",
       "    <tr style=\"text-align: right;\">\n",
       "      <th></th>\n",
       "      <th>school</th>\n",
       "      <th>sex</th>\n",
       "      <th>age</th>\n",
       "      <th>address</th>\n",
       "      <th>famsize</th>\n",
       "      <th>Pstatus</th>\n",
       "      <th>Medu</th>\n",
       "      <th>Fedu</th>\n",
       "      <th>Mjob</th>\n",
       "      <th>Fjob</th>\n",
       "      <th>...</th>\n",
       "      <th>famrel</th>\n",
       "      <th>freetime</th>\n",
       "      <th>goout</th>\n",
       "      <th>Dalc</th>\n",
       "      <th>Walc</th>\n",
       "      <th>health</th>\n",
       "      <th>absences</th>\n",
       "      <th>G1</th>\n",
       "      <th>G2</th>\n",
       "      <th>G3</th>\n",
       "    </tr>\n",
       "  </thead>\n",
       "  <tbody>\n",
       "    <tr>\n",
       "      <th>0</th>\n",
       "      <td>GP</td>\n",
       "      <td>F</td>\n",
       "      <td>18</td>\n",
       "      <td>U</td>\n",
       "      <td>GT3</td>\n",
       "      <td>A</td>\n",
       "      <td>4</td>\n",
       "      <td>4</td>\n",
       "      <td>at_home</td>\n",
       "      <td>teacher</td>\n",
       "      <td>...</td>\n",
       "      <td>4</td>\n",
       "      <td>3</td>\n",
       "      <td>4</td>\n",
       "      <td>1</td>\n",
       "      <td>1</td>\n",
       "      <td>3</td>\n",
       "      <td>6</td>\n",
       "      <td>5</td>\n",
       "      <td>6</td>\n",
       "      <td>6</td>\n",
       "    </tr>\n",
       "    <tr>\n",
       "      <th>1</th>\n",
       "      <td>GP</td>\n",
       "      <td>F</td>\n",
       "      <td>17</td>\n",
       "      <td>U</td>\n",
       "      <td>GT3</td>\n",
       "      <td>T</td>\n",
       "      <td>1</td>\n",
       "      <td>1</td>\n",
       "      <td>at_home</td>\n",
       "      <td>other</td>\n",
       "      <td>...</td>\n",
       "      <td>5</td>\n",
       "      <td>3</td>\n",
       "      <td>3</td>\n",
       "      <td>1</td>\n",
       "      <td>1</td>\n",
       "      <td>3</td>\n",
       "      <td>4</td>\n",
       "      <td>5</td>\n",
       "      <td>5</td>\n",
       "      <td>6</td>\n",
       "    </tr>\n",
       "    <tr>\n",
       "      <th>2</th>\n",
       "      <td>GP</td>\n",
       "      <td>F</td>\n",
       "      <td>15</td>\n",
       "      <td>U</td>\n",
       "      <td>LE3</td>\n",
       "      <td>T</td>\n",
       "      <td>1</td>\n",
       "      <td>1</td>\n",
       "      <td>at_home</td>\n",
       "      <td>other</td>\n",
       "      <td>...</td>\n",
       "      <td>4</td>\n",
       "      <td>3</td>\n",
       "      <td>2</td>\n",
       "      <td>2</td>\n",
       "      <td>3</td>\n",
       "      <td>3</td>\n",
       "      <td>10</td>\n",
       "      <td>7</td>\n",
       "      <td>8</td>\n",
       "      <td>10</td>\n",
       "    </tr>\n",
       "    <tr>\n",
       "      <th>3</th>\n",
       "      <td>GP</td>\n",
       "      <td>F</td>\n",
       "      <td>15</td>\n",
       "      <td>U</td>\n",
       "      <td>GT3</td>\n",
       "      <td>T</td>\n",
       "      <td>4</td>\n",
       "      <td>2</td>\n",
       "      <td>health</td>\n",
       "      <td>services</td>\n",
       "      <td>...</td>\n",
       "      <td>3</td>\n",
       "      <td>2</td>\n",
       "      <td>2</td>\n",
       "      <td>1</td>\n",
       "      <td>1</td>\n",
       "      <td>5</td>\n",
       "      <td>2</td>\n",
       "      <td>15</td>\n",
       "      <td>14</td>\n",
       "      <td>15</td>\n",
       "    </tr>\n",
       "    <tr>\n",
       "      <th>4</th>\n",
       "      <td>GP</td>\n",
       "      <td>F</td>\n",
       "      <td>16</td>\n",
       "      <td>U</td>\n",
       "      <td>GT3</td>\n",
       "      <td>T</td>\n",
       "      <td>3</td>\n",
       "      <td>3</td>\n",
       "      <td>other</td>\n",
       "      <td>other</td>\n",
       "      <td>...</td>\n",
       "      <td>4</td>\n",
       "      <td>3</td>\n",
       "      <td>2</td>\n",
       "      <td>1</td>\n",
       "      <td>2</td>\n",
       "      <td>5</td>\n",
       "      <td>4</td>\n",
       "      <td>6</td>\n",
       "      <td>10</td>\n",
       "      <td>10</td>\n",
       "    </tr>\n",
       "    <tr>\n",
       "      <th>...</th>\n",
       "      <td>...</td>\n",
       "      <td>...</td>\n",
       "      <td>...</td>\n",
       "      <td>...</td>\n",
       "      <td>...</td>\n",
       "      <td>...</td>\n",
       "      <td>...</td>\n",
       "      <td>...</td>\n",
       "      <td>...</td>\n",
       "      <td>...</td>\n",
       "      <td>...</td>\n",
       "      <td>...</td>\n",
       "      <td>...</td>\n",
       "      <td>...</td>\n",
       "      <td>...</td>\n",
       "      <td>...</td>\n",
       "      <td>...</td>\n",
       "      <td>...</td>\n",
       "      <td>...</td>\n",
       "      <td>...</td>\n",
       "      <td>...</td>\n",
       "    </tr>\n",
       "    <tr>\n",
       "      <th>1039</th>\n",
       "      <td>MS</td>\n",
       "      <td>F</td>\n",
       "      <td>19</td>\n",
       "      <td>R</td>\n",
       "      <td>GT3</td>\n",
       "      <td>T</td>\n",
       "      <td>2</td>\n",
       "      <td>3</td>\n",
       "      <td>services</td>\n",
       "      <td>other</td>\n",
       "      <td>...</td>\n",
       "      <td>5</td>\n",
       "      <td>4</td>\n",
       "      <td>2</td>\n",
       "      <td>1</td>\n",
       "      <td>2</td>\n",
       "      <td>5</td>\n",
       "      <td>4</td>\n",
       "      <td>10</td>\n",
       "      <td>11</td>\n",
       "      <td>10</td>\n",
       "    </tr>\n",
       "    <tr>\n",
       "      <th>1040</th>\n",
       "      <td>MS</td>\n",
       "      <td>F</td>\n",
       "      <td>18</td>\n",
       "      <td>U</td>\n",
       "      <td>LE3</td>\n",
       "      <td>T</td>\n",
       "      <td>3</td>\n",
       "      <td>1</td>\n",
       "      <td>teacher</td>\n",
       "      <td>services</td>\n",
       "      <td>...</td>\n",
       "      <td>4</td>\n",
       "      <td>3</td>\n",
       "      <td>4</td>\n",
       "      <td>1</td>\n",
       "      <td>1</td>\n",
       "      <td>1</td>\n",
       "      <td>4</td>\n",
       "      <td>15</td>\n",
       "      <td>15</td>\n",
       "      <td>16</td>\n",
       "    </tr>\n",
       "    <tr>\n",
       "      <th>1041</th>\n",
       "      <td>MS</td>\n",
       "      <td>F</td>\n",
       "      <td>18</td>\n",
       "      <td>U</td>\n",
       "      <td>GT3</td>\n",
       "      <td>T</td>\n",
       "      <td>1</td>\n",
       "      <td>1</td>\n",
       "      <td>other</td>\n",
       "      <td>other</td>\n",
       "      <td>...</td>\n",
       "      <td>1</td>\n",
       "      <td>1</td>\n",
       "      <td>1</td>\n",
       "      <td>1</td>\n",
       "      <td>1</td>\n",
       "      <td>5</td>\n",
       "      <td>6</td>\n",
       "      <td>11</td>\n",
       "      <td>12</td>\n",
       "      <td>9</td>\n",
       "    </tr>\n",
       "    <tr>\n",
       "      <th>1042</th>\n",
       "      <td>MS</td>\n",
       "      <td>M</td>\n",
       "      <td>17</td>\n",
       "      <td>U</td>\n",
       "      <td>LE3</td>\n",
       "      <td>T</td>\n",
       "      <td>3</td>\n",
       "      <td>1</td>\n",
       "      <td>services</td>\n",
       "      <td>services</td>\n",
       "      <td>...</td>\n",
       "      <td>2</td>\n",
       "      <td>4</td>\n",
       "      <td>5</td>\n",
       "      <td>3</td>\n",
       "      <td>4</td>\n",
       "      <td>2</td>\n",
       "      <td>6</td>\n",
       "      <td>10</td>\n",
       "      <td>10</td>\n",
       "      <td>10</td>\n",
       "    </tr>\n",
       "    <tr>\n",
       "      <th>1043</th>\n",
       "      <td>MS</td>\n",
       "      <td>M</td>\n",
       "      <td>18</td>\n",
       "      <td>R</td>\n",
       "      <td>LE3</td>\n",
       "      <td>T</td>\n",
       "      <td>3</td>\n",
       "      <td>2</td>\n",
       "      <td>services</td>\n",
       "      <td>other</td>\n",
       "      <td>...</td>\n",
       "      <td>4</td>\n",
       "      <td>4</td>\n",
       "      <td>1</td>\n",
       "      <td>3</td>\n",
       "      <td>4</td>\n",
       "      <td>5</td>\n",
       "      <td>4</td>\n",
       "      <td>10</td>\n",
       "      <td>11</td>\n",
       "      <td>11</td>\n",
       "    </tr>\n",
       "  </tbody>\n",
       "</table>\n",
       "<p>1044 rows × 33 columns</p>\n",
       "</div>"
      ],
      "text/plain": [
       "     school sex  age address famsize Pstatus  Medu  Fedu      Mjob      Fjob  \\\n",
       "0        GP   F   18       U     GT3       A     4     4   at_home   teacher   \n",
       "1        GP   F   17       U     GT3       T     1     1   at_home     other   \n",
       "2        GP   F   15       U     LE3       T     1     1   at_home     other   \n",
       "3        GP   F   15       U     GT3       T     4     2    health  services   \n",
       "4        GP   F   16       U     GT3       T     3     3     other     other   \n",
       "...     ...  ..  ...     ...     ...     ...   ...   ...       ...       ...   \n",
       "1039     MS   F   19       R     GT3       T     2     3  services     other   \n",
       "1040     MS   F   18       U     LE3       T     3     1   teacher  services   \n",
       "1041     MS   F   18       U     GT3       T     1     1     other     other   \n",
       "1042     MS   M   17       U     LE3       T     3     1  services  services   \n",
       "1043     MS   M   18       R     LE3       T     3     2  services     other   \n",
       "\n",
       "      ... famrel freetime  goout  Dalc  Walc health absences  G1  G2  G3  \n",
       "0     ...      4        3      4     1     1      3        6   5   6   6  \n",
       "1     ...      5        3      3     1     1      3        4   5   5   6  \n",
       "2     ...      4        3      2     2     3      3       10   7   8  10  \n",
       "3     ...      3        2      2     1     1      5        2  15  14  15  \n",
       "4     ...      4        3      2     1     2      5        4   6  10  10  \n",
       "...   ...    ...      ...    ...   ...   ...    ...      ...  ..  ..  ..  \n",
       "1039  ...      5        4      2     1     2      5        4  10  11  10  \n",
       "1040  ...      4        3      4     1     1      1        4  15  15  16  \n",
       "1041  ...      1        1      1     1     1      5        6  11  12   9  \n",
       "1042  ...      2        4      5     3     4      2        6  10  10  10  \n",
       "1043  ...      4        4      1     3     4      5        4  10  11  11  \n",
       "\n",
       "[1044 rows x 33 columns]"
      ]
     },
     "execution_count": 493,
     "metadata": {},
     "output_type": "execute_result"
    }
   ],
   "source": [
    "All_df=pd.concat([stud_mat,stud_por],ignore_index=True)\n",
    "All_df"
   ]
  },
  {
   "cell_type": "markdown",
   "id": "1160ddc1",
   "metadata": {},
   "source": [
    "#### Check null values"
   ]
  },
  {
   "cell_type": "code",
   "execution_count": 24,
   "id": "d3ca5cff",
   "metadata": {},
   "outputs": [
    {
     "data": {
      "text/plain": [
       "school        0\n",
       "sex           0\n",
       "age           0\n",
       "address       0\n",
       "famsize       0\n",
       "Pstatus       0\n",
       "Medu          0\n",
       "Fedu          0\n",
       "Mjob          0\n",
       "Fjob          0\n",
       "reason        0\n",
       "guardian      0\n",
       "traveltime    0\n",
       "studytime     0\n",
       "failures      0\n",
       "schoolsup     0\n",
       "famsup        0\n",
       "paid          0\n",
       "activities    0\n",
       "nursery       0\n",
       "higher        0\n",
       "internet      0\n",
       "romantic      0\n",
       "famrel        0\n",
       "freetime      0\n",
       "goout         0\n",
       "Dalc          0\n",
       "Walc          0\n",
       "health        0\n",
       "absences      0\n",
       "G1            0\n",
       "G2            0\n",
       "G3            0\n",
       "dtype: int64"
      ]
     },
     "execution_count": 24,
     "metadata": {},
     "output_type": "execute_result"
    }
   ],
   "source": [
    "All_df.isnull().sum()"
   ]
  },
  {
   "cell_type": "markdown",
   "id": "4207b548",
   "metadata": {},
   "source": [
    "#### Info about data"
   ]
  },
  {
   "cell_type": "code",
   "execution_count": 25,
   "id": "a9eeb888",
   "metadata": {},
   "outputs": [
    {
     "name": "stdout",
     "output_type": "stream",
     "text": [
      "<class 'pandas.core.frame.DataFrame'>\n",
      "RangeIndex: 1044 entries, 0 to 1043\n",
      "Data columns (total 33 columns):\n",
      " #   Column      Non-Null Count  Dtype \n",
      "---  ------      --------------  ----- \n",
      " 0   school      1044 non-null   object\n",
      " 1   sex         1044 non-null   object\n",
      " 2   age         1044 non-null   int64 \n",
      " 3   address     1044 non-null   object\n",
      " 4   famsize     1044 non-null   object\n",
      " 5   Pstatus     1044 non-null   object\n",
      " 6   Medu        1044 non-null   int64 \n",
      " 7   Fedu        1044 non-null   int64 \n",
      " 8   Mjob        1044 non-null   object\n",
      " 9   Fjob        1044 non-null   object\n",
      " 10  reason      1044 non-null   object\n",
      " 11  guardian    1044 non-null   object\n",
      " 12  traveltime  1044 non-null   int64 \n",
      " 13  studytime   1044 non-null   int64 \n",
      " 14  failures    1044 non-null   int64 \n",
      " 15  schoolsup   1044 non-null   object\n",
      " 16  famsup      1044 non-null   object\n",
      " 17  paid        1044 non-null   object\n",
      " 18  activities  1044 non-null   object\n",
      " 19  nursery     1044 non-null   object\n",
      " 20  higher      1044 non-null   object\n",
      " 21  internet    1044 non-null   object\n",
      " 22  romantic    1044 non-null   object\n",
      " 23  famrel      1044 non-null   int64 \n",
      " 24  freetime    1044 non-null   int64 \n",
      " 25  goout       1044 non-null   int64 \n",
      " 26  Dalc        1044 non-null   int64 \n",
      " 27  Walc        1044 non-null   int64 \n",
      " 28  health      1044 non-null   int64 \n",
      " 29  absences    1044 non-null   int64 \n",
      " 30  G1          1044 non-null   int64 \n",
      " 31  G2          1044 non-null   int64 \n",
      " 32  G3          1044 non-null   int64 \n",
      "dtypes: int64(16), object(17)\n",
      "memory usage: 269.3+ KB\n"
     ]
    }
   ],
   "source": [
    "All_df.info()"
   ]
  },
  {
   "cell_type": "markdown",
   "id": "79306611",
   "metadata": {},
   "source": [
    "#### Correlation between All columns with each others range [-1 , 1]"
   ]
  },
  {
   "cell_type": "code",
   "execution_count": 43,
   "id": "ae7bb500",
   "metadata": {},
   "outputs": [
    {
     "data": {
      "text/plain": [
       "<AxesSubplot:>"
      ]
     },
     "execution_count": 43,
     "metadata": {},
     "output_type": "execute_result"
    },
    {
     "data": {
      "image/png": "[encoded data removed]",
      "text/plain": [
       "<Figure size 1080x504 with 2 Axes>"
      ]
     },
     "metadata": {
      "needs_background": "light"
     },
     "output_type": "display_data"
    }
   ],
   "source": [
    "plt.figure(figsize=(15,7))\n",
    "sns.heatmap(All_df.corr(),cmap='YlGnBu',linewidths=0.5)"
   ]
  },
  {
   "cell_type": "markdown",
   "id": "94895de8",
   "metadata": {},
   "source": [
    "#### Correlation Between Final Grade with all cols"
   ]
  },
  {
   "cell_type": "code",
   "execution_count": 45,
   "id": "5ee32fb7",
   "metadata": {},
   "outputs": [
    {
     "data": {
      "text/plain": [
       "failures     -0.383145\n",
       "Dalc         -0.129642\n",
       "age          -0.125282\n",
       "Walc         -0.115740\n",
       "traveltime   -0.102627\n",
       "goout        -0.097877\n",
       "health       -0.080079\n",
       "freetime     -0.064890\n",
       "absences     -0.045671\n",
       "famrel        0.054461\n",
       "Fedu          0.159796\n",
       "studytime     0.161629\n",
       "Medu          0.201472\n",
       "G1            0.809142\n",
       "G2            0.910743\n",
       "G3            1.000000\n",
       "Name: G3, dtype: float64"
      ]
     },
     "execution_count": 45,
     "metadata": {},
     "output_type": "execute_result"
    }
   ],
   "source": [
    "All_df.corr()['G3'].sort_values()"
   ]
  },
  {
   "cell_type": "markdown",
   "id": "3f33911c",
   "metadata": {},
   "source": [
    "#### Convert All Columns to Binary Col [0 - 1] "
   ]
  },
  {
   "cell_type": "code",
   "execution_count": 496,
   "id": "ace4e28f",
   "metadata": {},
   "outputs": [],
   "source": [
    "binary_cols=['school',\n",
    "             'sex',\n",
    "             'address',\n",
    "             'famsize',\n",
    "             'Pstatus',\n",
    "             'schoolsup',\n",
    "             'famsup',\n",
    "             'paid',\n",
    "             'activities',\n",
    "             'nursery',\n",
    "             'higher',\n",
    "             'internet',\n",
    "             'romantic'\n",
    "]"
   ]
  },
  {
   "cell_type": "markdown",
   "id": "646861be",
   "metadata": {},
   "source": [
    "#### Convert Binary_cols to 0 - 1 Using LabelEncoder"
   ]
  },
  {
   "cell_type": "code",
   "execution_count": 497,
   "id": "0c70477e",
   "metadata": {},
   "outputs": [
    {
     "data": {
      "text/html": [
       "<div>\n",
       "<style scoped>\n",
       "    .dataframe tbody tr th:only-of-type {\n",
       "        vertical-align: middle;\n",
       "    }\n",
       "\n",
       "    .dataframe tbody tr th {\n",
       "        vertical-align: top;\n",
       "    }\n",
       "\n",
       "    .dataframe thead th {\n",
       "        text-align: right;\n",
       "    }\n",
       "</style>\n",
       "<table border=\"1\" class=\"dataframe\">\n",
       "  <thead>\n",
       "    <tr style=\"text-align: right;\">\n",
       "      <th></th>\n",
       "      <th>school</th>\n",
       "      <th>sex</th>\n",
       "      <th>age</th>\n",
       "      <th>address</th>\n",
       "      <th>famsize</th>\n",
       "      <th>Pstatus</th>\n",
       "      <th>Medu</th>\n",
       "      <th>Fedu</th>\n",
       "      <th>Mjob</th>\n",
       "      <th>Fjob</th>\n",
       "      <th>...</th>\n",
       "      <th>famrel</th>\n",
       "      <th>freetime</th>\n",
       "      <th>goout</th>\n",
       "      <th>Dalc</th>\n",
       "      <th>Walc</th>\n",
       "      <th>health</th>\n",
       "      <th>absences</th>\n",
       "      <th>G1</th>\n",
       "      <th>G2</th>\n",
       "      <th>G3</th>\n",
       "    </tr>\n",
       "  </thead>\n",
       "  <tbody>\n",
       "    <tr>\n",
       "      <th>0</th>\n",
       "      <td>0</td>\n",
       "      <td>0</td>\n",
       "      <td>18</td>\n",
       "      <td>1</td>\n",
       "      <td>0</td>\n",
       "      <td>0</td>\n",
       "      <td>4</td>\n",
       "      <td>4</td>\n",
       "      <td>at_home</td>\n",
       "      <td>teacher</td>\n",
       "      <td>...</td>\n",
       "      <td>4</td>\n",
       "      <td>3</td>\n",
       "      <td>4</td>\n",
       "      <td>1</td>\n",
       "      <td>1</td>\n",
       "      <td>3</td>\n",
       "      <td>6</td>\n",
       "      <td>5</td>\n",
       "      <td>6</td>\n",
       "      <td>6</td>\n",
       "    </tr>\n",
       "    <tr>\n",
       "      <th>1</th>\n",
       "      <td>0</td>\n",
       "      <td>0</td>\n",
       "      <td>17</td>\n",
       "      <td>1</td>\n",
       "      <td>0</td>\n",
       "      <td>1</td>\n",
       "      <td>1</td>\n",
       "      <td>1</td>\n",
       "      <td>at_home</td>\n",
       "      <td>other</td>\n",
       "      <td>...</td>\n",
       "      <td>5</td>\n",
       "      <td>3</td>\n",
       "      <td>3</td>\n",
       "      <td>1</td>\n",
       "      <td>1</td>\n",
       "      <td>3</td>\n",
       "      <td>4</td>\n",
       "      <td>5</td>\n",
       "      <td>5</td>\n",
       "      <td>6</td>\n",
       "    </tr>\n",
       "    <tr>\n",
       "      <th>2</th>\n",
       "      <td>0</td>\n",
       "      <td>0</td>\n",
       "      <td>15</td>\n",
       "      <td>1</td>\n",
       "      <td>1</td>\n",
       "      <td>1</td>\n",
       "      <td>1</td>\n",
       "      <td>1</td>\n",
       "      <td>at_home</td>\n",
       "      <td>other</td>\n",
       "      <td>...</td>\n",
       "      <td>4</td>\n",
       "      <td>3</td>\n",
       "      <td>2</td>\n",
       "      <td>2</td>\n",
       "      <td>3</td>\n",
       "      <td>3</td>\n",
       "      <td>10</td>\n",
       "      <td>7</td>\n",
       "      <td>8</td>\n",
       "      <td>10</td>\n",
       "    </tr>\n",
       "    <tr>\n",
       "      <th>3</th>\n",
       "      <td>0</td>\n",
       "      <td>0</td>\n",
       "      <td>15</td>\n",
       "      <td>1</td>\n",
       "      <td>0</td>\n",
       "      <td>1</td>\n",
       "      <td>4</td>\n",
       "      <td>2</td>\n",
       "      <td>health</td>\n",
       "      <td>services</td>\n",
       "      <td>...</td>\n",
       "      <td>3</td>\n",
       "      <td>2</td>\n",
       "      <td>2</td>\n",
       "      <td>1</td>\n",
       "      <td>1</td>\n",
       "      <td>5</td>\n",
       "      <td>2</td>\n",
       "      <td>15</td>\n",
       "      <td>14</td>\n",
       "      <td>15</td>\n",
       "    </tr>\n",
       "    <tr>\n",
       "      <th>4</th>\n",
       "      <td>0</td>\n",
       "      <td>0</td>\n",
       "      <td>16</td>\n",
       "      <td>1</td>\n",
       "      <td>0</td>\n",
       "      <td>1</td>\n",
       "      <td>3</td>\n",
       "      <td>3</td>\n",
       "      <td>other</td>\n",
       "      <td>other</td>\n",
       "      <td>...</td>\n",
       "      <td>4</td>\n",
       "      <td>3</td>\n",
       "      <td>2</td>\n",
       "      <td>1</td>\n",
       "      <td>2</td>\n",
       "      <td>5</td>\n",
       "      <td>4</td>\n",
       "      <td>6</td>\n",
       "      <td>10</td>\n",
       "      <td>10</td>\n",
       "    </tr>\n",
       "  </tbody>\n",
       "</table>\n",
       "<p>5 rows × 33 columns</p>\n",
       "</div>"
      ],
      "text/plain": [
       "   school  sex  age  address  famsize  Pstatus  Medu  Fedu     Mjob      Fjob  \\\n",
       "0       0    0   18        1        0        0     4     4  at_home   teacher   \n",
       "1       0    0   17        1        0        1     1     1  at_home     other   \n",
       "2       0    0   15        1        1        1     1     1  at_home     other   \n",
       "3       0    0   15        1        0        1     4     2   health  services   \n",
       "4       0    0   16        1        0        1     3     3    other     other   \n",
       "\n",
       "   ... famrel freetime  goout  Dalc  Walc  health  absences  G1  G2  G3  \n",
       "0  ...      4        3      4     1     1       3         6   5   6   6  \n",
       "1  ...      5        3      3     1     1       3         4   5   5   6  \n",
       "2  ...      4        3      2     2     3       3        10   7   8  10  \n",
       "3  ...      3        2      2     1     1       5         2  15  14  15  \n",
       "4  ...      4        3      2     1     2       5         4   6  10  10  \n",
       "\n",
       "[5 rows x 33 columns]"
      ]
     },
     "execution_count": 497,
     "metadata": {},
     "output_type": "execute_result"
    }
   ],
   "source": [
    "from sklearn.preprocessing import LabelEncoder\n",
    "for i in binary_cols:\n",
    "    All_df[i]=LabelEncoder().fit_transform(All_df[i])\n",
    "\n",
    "All_df.head()"
   ]
  },
  {
   "cell_type": "markdown",
   "id": "b1fe67f4",
   "metadata": {},
   "source": [
    "#### Check if there are columns with dtype object"
   ]
  },
  {
   "cell_type": "code",
   "execution_count": 498,
   "id": "16a90541",
   "metadata": {},
   "outputs": [
    {
     "data": {
      "text/plain": [
       "Index(['Mjob', 'Fjob', 'reason', 'guardian'], dtype='object')"
      ]
     },
     "execution_count": 498,
     "metadata": {},
     "output_type": "execute_result"
    }
   ],
   "source": [
    "All_df.select_dtypes(include='object').columns"
   ]
  },
  {
   "cell_type": "code",
   "execution_count": 499,
   "id": "d7e48871",
   "metadata": {},
   "outputs": [
    {
     "data": {
      "text/html": [
       "<div>\n",
       "<style scoped>\n",
       "    .dataframe tbody tr th:only-of-type {\n",
       "        vertical-align: middle;\n",
       "    }\n",
       "\n",
       "    .dataframe tbody tr th {\n",
       "        vertical-align: top;\n",
       "    }\n",
       "\n",
       "    .dataframe thead th {\n",
       "        text-align: right;\n",
       "    }\n",
       "</style>\n",
       "<table border=\"1\" class=\"dataframe\">\n",
       "  <thead>\n",
       "    <tr style=\"text-align: right;\">\n",
       "      <th></th>\n",
       "      <th>school</th>\n",
       "      <th>sex</th>\n",
       "      <th>age</th>\n",
       "      <th>address</th>\n",
       "      <th>famsize</th>\n",
       "      <th>Pstatus</th>\n",
       "      <th>Medu</th>\n",
       "      <th>Fedu</th>\n",
       "      <th>traveltime</th>\n",
       "      <th>studytime</th>\n",
       "      <th>...</th>\n",
       "      <th>Fjob_other</th>\n",
       "      <th>Fjob_services</th>\n",
       "      <th>Fjob_teacher</th>\n",
       "      <th>reason_course</th>\n",
       "      <th>reason_home</th>\n",
       "      <th>reason_other</th>\n",
       "      <th>reason_reputation</th>\n",
       "      <th>guardian_father</th>\n",
       "      <th>guardian_mother</th>\n",
       "      <th>guardian_other</th>\n",
       "    </tr>\n",
       "  </thead>\n",
       "  <tbody>\n",
       "    <tr>\n",
       "      <th>0</th>\n",
       "      <td>0</td>\n",
       "      <td>0</td>\n",
       "      <td>18</td>\n",
       "      <td>1</td>\n",
       "      <td>0</td>\n",
       "      <td>0</td>\n",
       "      <td>4</td>\n",
       "      <td>4</td>\n",
       "      <td>2</td>\n",
       "      <td>2</td>\n",
       "      <td>...</td>\n",
       "      <td>0</td>\n",
       "      <td>0</td>\n",
       "      <td>1</td>\n",
       "      <td>1</td>\n",
       "      <td>0</td>\n",
       "      <td>0</td>\n",
       "      <td>0</td>\n",
       "      <td>0</td>\n",
       "      <td>1</td>\n",
       "      <td>0</td>\n",
       "    </tr>\n",
       "    <tr>\n",
       "      <th>1</th>\n",
       "      <td>0</td>\n",
       "      <td>0</td>\n",
       "      <td>17</td>\n",
       "      <td>1</td>\n",
       "      <td>0</td>\n",
       "      <td>1</td>\n",
       "      <td>1</td>\n",
       "      <td>1</td>\n",
       "      <td>1</td>\n",
       "      <td>2</td>\n",
       "      <td>...</td>\n",
       "      <td>1</td>\n",
       "      <td>0</td>\n",
       "      <td>0</td>\n",
       "      <td>1</td>\n",
       "      <td>0</td>\n",
       "      <td>0</td>\n",
       "      <td>0</td>\n",
       "      <td>1</td>\n",
       "      <td>0</td>\n",
       "      <td>0</td>\n",
       "    </tr>\n",
       "    <tr>\n",
       "      <th>2</th>\n",
       "      <td>0</td>\n",
       "      <td>0</td>\n",
       "      <td>15</td>\n",
       "      <td>1</td>\n",
       "      <td>1</td>\n",
       "      <td>1</td>\n",
       "      <td>1</td>\n",
       "      <td>1</td>\n",
       "      <td>1</td>\n",
       "      <td>2</td>\n",
       "      <td>...</td>\n",
       "      <td>1</td>\n",
       "      <td>0</td>\n",
       "      <td>0</td>\n",
       "      <td>0</td>\n",
       "      <td>0</td>\n",
       "      <td>1</td>\n",
       "      <td>0</td>\n",
       "      <td>0</td>\n",
       "      <td>1</td>\n",
       "      <td>0</td>\n",
       "    </tr>\n",
       "    <tr>\n",
       "      <th>3</th>\n",
       "      <td>0</td>\n",
       "      <td>0</td>\n",
       "      <td>15</td>\n",
       "      <td>1</td>\n",
       "      <td>0</td>\n",
       "      <td>1</td>\n",
       "      <td>4</td>\n",
       "      <td>2</td>\n",
       "      <td>1</td>\n",
       "      <td>3</td>\n",
       "      <td>...</td>\n",
       "      <td>0</td>\n",
       "      <td>1</td>\n",
       "      <td>0</td>\n",
       "      <td>0</td>\n",
       "      <td>1</td>\n",
       "      <td>0</td>\n",
       "      <td>0</td>\n",
       "      <td>0</td>\n",
       "      <td>1</td>\n",
       "      <td>0</td>\n",
       "    </tr>\n",
       "    <tr>\n",
       "      <th>4</th>\n",
       "      <td>0</td>\n",
       "      <td>0</td>\n",
       "      <td>16</td>\n",
       "      <td>1</td>\n",
       "      <td>0</td>\n",
       "      <td>1</td>\n",
       "      <td>3</td>\n",
       "      <td>3</td>\n",
       "      <td>1</td>\n",
       "      <td>2</td>\n",
       "      <td>...</td>\n",
       "      <td>1</td>\n",
       "      <td>0</td>\n",
       "      <td>0</td>\n",
       "      <td>0</td>\n",
       "      <td>1</td>\n",
       "      <td>0</td>\n",
       "      <td>0</td>\n",
       "      <td>1</td>\n",
       "      <td>0</td>\n",
       "      <td>0</td>\n",
       "    </tr>\n",
       "    <tr>\n",
       "      <th>...</th>\n",
       "      <td>...</td>\n",
       "      <td>...</td>\n",
       "      <td>...</td>\n",
       "      <td>...</td>\n",
       "      <td>...</td>\n",
       "      <td>...</td>\n",
       "      <td>...</td>\n",
       "      <td>...</td>\n",
       "      <td>...</td>\n",
       "      <td>...</td>\n",
       "      <td>...</td>\n",
       "      <td>...</td>\n",
       "      <td>...</td>\n",
       "      <td>...</td>\n",
       "      <td>...</td>\n",
       "      <td>...</td>\n",
       "      <td>...</td>\n",
       "      <td>...</td>\n",
       "      <td>...</td>\n",
       "      <td>...</td>\n",
       "      <td>...</td>\n",
       "    </tr>\n",
       "    <tr>\n",
       "      <th>1039</th>\n",
       "      <td>1</td>\n",
       "      <td>0</td>\n",
       "      <td>19</td>\n",
       "      <td>0</td>\n",
       "      <td>0</td>\n",
       "      <td>1</td>\n",
       "      <td>2</td>\n",
       "      <td>3</td>\n",
       "      <td>1</td>\n",
       "      <td>3</td>\n",
       "      <td>...</td>\n",
       "      <td>1</td>\n",
       "      <td>0</td>\n",
       "      <td>0</td>\n",
       "      <td>1</td>\n",
       "      <td>0</td>\n",
       "      <td>0</td>\n",
       "      <td>0</td>\n",
       "      <td>0</td>\n",
       "      <td>1</td>\n",
       "      <td>0</td>\n",
       "    </tr>\n",
       "    <tr>\n",
       "      <th>1040</th>\n",
       "      <td>1</td>\n",
       "      <td>0</td>\n",
       "      <td>18</td>\n",
       "      <td>1</td>\n",
       "      <td>1</td>\n",
       "      <td>1</td>\n",
       "      <td>3</td>\n",
       "      <td>1</td>\n",
       "      <td>1</td>\n",
       "      <td>2</td>\n",
       "      <td>...</td>\n",
       "      <td>0</td>\n",
       "      <td>1</td>\n",
       "      <td>0</td>\n",
       "      <td>1</td>\n",
       "      <td>0</td>\n",
       "      <td>0</td>\n",
       "      <td>0</td>\n",
       "      <td>0</td>\n",
       "      <td>1</td>\n",
       "      <td>0</td>\n",
       "    </tr>\n",
       "    <tr>\n",
       "      <th>1041</th>\n",
       "      <td>1</td>\n",
       "      <td>0</td>\n",
       "      <td>18</td>\n",
       "      <td>1</td>\n",
       "      <td>0</td>\n",
       "      <td>1</td>\n",
       "      <td>1</td>\n",
       "      <td>1</td>\n",
       "      <td>2</td>\n",
       "      <td>2</td>\n",
       "      <td>...</td>\n",
       "      <td>1</td>\n",
       "      <td>0</td>\n",
       "      <td>0</td>\n",
       "      <td>1</td>\n",
       "      <td>0</td>\n",
       "      <td>0</td>\n",
       "      <td>0</td>\n",
       "      <td>0</td>\n",
       "      <td>1</td>\n",
       "      <td>0</td>\n",
       "    </tr>\n",
       "    <tr>\n",
       "      <th>1042</th>\n",
       "      <td>1</td>\n",
       "      <td>1</td>\n",
       "      <td>17</td>\n",
       "      <td>1</td>\n",
       "      <td>1</td>\n",
       "      <td>1</td>\n",
       "      <td>3</td>\n",
       "      <td>1</td>\n",
       "      <td>2</td>\n",
       "      <td>1</td>\n",
       "      <td>...</td>\n",
       "      <td>0</td>\n",
       "      <td>1</td>\n",
       "      <td>0</td>\n",
       "      <td>1</td>\n",
       "      <td>0</td>\n",
       "      <td>0</td>\n",
       "      <td>0</td>\n",
       "      <td>0</td>\n",
       "      <td>1</td>\n",
       "      <td>0</td>\n",
       "    </tr>\n",
       "    <tr>\n",
       "      <th>1043</th>\n",
       "      <td>1</td>\n",
       "      <td>1</td>\n",
       "      <td>18</td>\n",
       "      <td>0</td>\n",
       "      <td>1</td>\n",
       "      <td>1</td>\n",
       "      <td>3</td>\n",
       "      <td>2</td>\n",
       "      <td>3</td>\n",
       "      <td>1</td>\n",
       "      <td>...</td>\n",
       "      <td>1</td>\n",
       "      <td>0</td>\n",
       "      <td>0</td>\n",
       "      <td>1</td>\n",
       "      <td>0</td>\n",
       "      <td>0</td>\n",
       "      <td>0</td>\n",
       "      <td>0</td>\n",
       "      <td>1</td>\n",
       "      <td>0</td>\n",
       "    </tr>\n",
       "  </tbody>\n",
       "</table>\n",
       "<p>1044 rows × 46 columns</p>\n",
       "</div>"
      ],
      "text/plain": [
       "      school  sex  age  address  famsize  Pstatus  Medu  Fedu  traveltime  \\\n",
       "0          0    0   18        1        0        0     4     4           2   \n",
       "1          0    0   17        1        0        1     1     1           1   \n",
       "2          0    0   15        1        1        1     1     1           1   \n",
       "3          0    0   15        1        0        1     4     2           1   \n",
       "4          0    0   16        1        0        1     3     3           1   \n",
       "...      ...  ...  ...      ...      ...      ...   ...   ...         ...   \n",
       "1039       1    0   19        0        0        1     2     3           1   \n",
       "1040       1    0   18        1        1        1     3     1           1   \n",
       "1041       1    0   18        1        0        1     1     1           2   \n",
       "1042       1    1   17        1        1        1     3     1           2   \n",
       "1043       1    1   18        0        1        1     3     2           3   \n",
       "\n",
       "      studytime  ...  Fjob_other  Fjob_services  Fjob_teacher  reason_course  \\\n",
       "0             2  ...           0              0             1              1   \n",
       "1             2  ...           1              0             0              1   \n",
       "2             2  ...           1              0             0              0   \n",
       "3             3  ...           0              1             0              0   \n",
       "4             2  ...           1              0             0              0   \n",
       "...         ...  ...         ...            ...           ...            ...   \n",
       "1039          3  ...           1              0             0              1   \n",
       "1040          2  ...           0              1             0              1   \n",
       "1041          2  ...           1              0             0              1   \n",
       "1042          1  ...           0              1             0              1   \n",
       "1043          1  ...           1              0             0              1   \n",
       "\n",
       "      reason_home  reason_other  reason_reputation  guardian_father  \\\n",
       "0               0             0                  0                0   \n",
       "1               0             0                  0                1   \n",
       "2               0             1                  0                0   \n",
       "3               1             0                  0                0   \n",
       "4               1             0                  0                1   \n",
       "...           ...           ...                ...              ...   \n",
       "1039            0             0                  0                0   \n",
       "1040            0             0                  0                0   \n",
       "1041            0             0                  0                0   \n",
       "1042            0             0                  0                0   \n",
       "1043            0             0                  0                0   \n",
       "\n",
       "      guardian_mother  guardian_other  \n",
       "0                   1               0  \n",
       "1                   0               0  \n",
       "2                   1               0  \n",
       "3                   1               0  \n",
       "4                   0               0  \n",
       "...               ...             ...  \n",
       "1039                1               0  \n",
       "1040                1               0  \n",
       "1041                1               0  \n",
       "1042                1               0  \n",
       "1043                1               0  \n",
       "\n",
       "[1044 rows x 46 columns]"
      ]
     },
     "execution_count": 499,
     "metadata": {},
     "output_type": "execute_result"
    }
   ],
   "source": [
    "All_df2=pd.get_dummies(All_df,columns=[\"Mjob\",'Fjob','reason','guardian'])\n",
    "All_df2"
   ]
  },
  {
   "cell_type": "code",
   "execution_count": 500,
   "id": "56ea0114",
   "metadata": {},
   "outputs": [
    {
     "data": {
      "text/plain": [
       "Index([], dtype='object')"
      ]
     },
     "execution_count": 500,
     "metadata": {},
     "output_type": "execute_result"
    }
   ],
   "source": [
    "All_df2.select_dtypes(include='object').columns"
   ]
  },
  {
   "cell_type": "markdown",
   "id": "b3e47b0e",
   "metadata": {},
   "source": [
    "#### All data is became binary and ready to analyze it "
   ]
  },
  {
   "cell_type": "markdown",
   "id": "b88959e6",
   "metadata": {},
   "source": [
    "<a id='eda'></a>\n",
    "## Exploratory Data Analysis"
   ]
  },
  {
   "cell_type": "code",
   "execution_count": 91,
   "id": "ad3acd3b",
   "metadata": {},
   "outputs": [],
   "source": [
    "import warnings\n",
    "warnings.filterwarnings(\"ignore\")"
   ]
  },
  {
   "cell_type": "markdown",
   "id": "d5c7afe7",
   "metadata": {},
   "source": [
    "#### Summary Statistical Descriptive"
   ]
  },
  {
   "cell_type": "code",
   "execution_count": 80,
   "id": "6430a31f",
   "metadata": {},
   "outputs": [
    {
     "data": {
      "text/html": [
       "<div>\n",
       "<style scoped>\n",
       "    .dataframe tbody tr th:only-of-type {\n",
       "        vertical-align: middle;\n",
       "    }\n",
       "\n",
       "    .dataframe tbody tr th {\n",
       "        vertical-align: top;\n",
       "    }\n",
       "\n",
       "    .dataframe thead th {\n",
       "        text-align: right;\n",
       "    }\n",
       "</style>\n",
       "<table border=\"1\" class=\"dataframe\">\n",
       "  <thead>\n",
       "    <tr style=\"text-align: right;\">\n",
       "      <th></th>\n",
       "      <th>school</th>\n",
       "      <th>sex</th>\n",
       "      <th>age</th>\n",
       "      <th>address</th>\n",
       "      <th>famsize</th>\n",
       "      <th>Pstatus</th>\n",
       "      <th>Medu</th>\n",
       "      <th>Fedu</th>\n",
       "      <th>traveltime</th>\n",
       "      <th>studytime</th>\n",
       "      <th>...</th>\n",
       "      <th>famrel</th>\n",
       "      <th>freetime</th>\n",
       "      <th>goout</th>\n",
       "      <th>Dalc</th>\n",
       "      <th>Walc</th>\n",
       "      <th>health</th>\n",
       "      <th>absences</th>\n",
       "      <th>G1</th>\n",
       "      <th>G2</th>\n",
       "      <th>G3</th>\n",
       "    </tr>\n",
       "  </thead>\n",
       "  <tbody>\n",
       "    <tr>\n",
       "      <th>count</th>\n",
       "      <td>1044.000000</td>\n",
       "      <td>1044.000000</td>\n",
       "      <td>1044.000000</td>\n",
       "      <td>1044.000000</td>\n",
       "      <td>1044.000000</td>\n",
       "      <td>1044.000000</td>\n",
       "      <td>1044.000000</td>\n",
       "      <td>1044.000000</td>\n",
       "      <td>1044.000000</td>\n",
       "      <td>1044.000000</td>\n",
       "      <td>...</td>\n",
       "      <td>1044.000000</td>\n",
       "      <td>1044.000000</td>\n",
       "      <td>1044.000000</td>\n",
       "      <td>1044.000000</td>\n",
       "      <td>1044.000000</td>\n",
       "      <td>1044.000000</td>\n",
       "      <td>1044.000000</td>\n",
       "      <td>1044.000000</td>\n",
       "      <td>1044.000000</td>\n",
       "      <td>1044.000000</td>\n",
       "    </tr>\n",
       "    <tr>\n",
       "      <th>mean</th>\n",
       "      <td>0.260536</td>\n",
       "      <td>0.433908</td>\n",
       "      <td>16.726054</td>\n",
       "      <td>0.727011</td>\n",
       "      <td>0.293103</td>\n",
       "      <td>0.884100</td>\n",
       "      <td>2.603448</td>\n",
       "      <td>2.387931</td>\n",
       "      <td>1.522989</td>\n",
       "      <td>1.970307</td>\n",
       "      <td>...</td>\n",
       "      <td>3.935824</td>\n",
       "      <td>3.201149</td>\n",
       "      <td>3.156130</td>\n",
       "      <td>1.494253</td>\n",
       "      <td>2.284483</td>\n",
       "      <td>3.543103</td>\n",
       "      <td>4.434866</td>\n",
       "      <td>11.213602</td>\n",
       "      <td>11.246169</td>\n",
       "      <td>11.341954</td>\n",
       "    </tr>\n",
       "    <tr>\n",
       "      <th>std</th>\n",
       "      <td>0.439138</td>\n",
       "      <td>0.495850</td>\n",
       "      <td>1.239975</td>\n",
       "      <td>0.445708</td>\n",
       "      <td>0.455404</td>\n",
       "      <td>0.320259</td>\n",
       "      <td>1.124907</td>\n",
       "      <td>1.099938</td>\n",
       "      <td>0.731727</td>\n",
       "      <td>0.834353</td>\n",
       "      <td>...</td>\n",
       "      <td>0.933401</td>\n",
       "      <td>1.031507</td>\n",
       "      <td>1.152575</td>\n",
       "      <td>0.911714</td>\n",
       "      <td>1.285105</td>\n",
       "      <td>1.424703</td>\n",
       "      <td>6.210017</td>\n",
       "      <td>2.983394</td>\n",
       "      <td>3.285071</td>\n",
       "      <td>3.864796</td>\n",
       "    </tr>\n",
       "    <tr>\n",
       "      <th>min</th>\n",
       "      <td>0.000000</td>\n",
       "      <td>0.000000</td>\n",
       "      <td>15.000000</td>\n",
       "      <td>0.000000</td>\n",
       "      <td>0.000000</td>\n",
       "      <td>0.000000</td>\n",
       "      <td>0.000000</td>\n",
       "      <td>0.000000</td>\n",
       "      <td>1.000000</td>\n",
       "      <td>1.000000</td>\n",
       "      <td>...</td>\n",
       "      <td>1.000000</td>\n",
       "      <td>1.000000</td>\n",
       "      <td>1.000000</td>\n",
       "      <td>1.000000</td>\n",
       "      <td>1.000000</td>\n",
       "      <td>1.000000</td>\n",
       "      <td>0.000000</td>\n",
       "      <td>0.000000</td>\n",
       "      <td>0.000000</td>\n",
       "      <td>0.000000</td>\n",
       "    </tr>\n",
       "    <tr>\n",
       "      <th>25%</th>\n",
       "      <td>0.000000</td>\n",
       "      <td>0.000000</td>\n",
       "      <td>16.000000</td>\n",
       "      <td>0.000000</td>\n",
       "      <td>0.000000</td>\n",
       "      <td>1.000000</td>\n",
       "      <td>2.000000</td>\n",
       "      <td>1.000000</td>\n",
       "      <td>1.000000</td>\n",
       "      <td>1.000000</td>\n",
       "      <td>...</td>\n",
       "      <td>4.000000</td>\n",
       "      <td>3.000000</td>\n",
       "      <td>2.000000</td>\n",
       "      <td>1.000000</td>\n",
       "      <td>1.000000</td>\n",
       "      <td>3.000000</td>\n",
       "      <td>0.000000</td>\n",
       "      <td>9.000000</td>\n",
       "      <td>9.000000</td>\n",
       "      <td>10.000000</td>\n",
       "    </tr>\n",
       "    <tr>\n",
       "      <th>50%</th>\n",
       "      <td>0.000000</td>\n",
       "      <td>0.000000</td>\n",
       "      <td>17.000000</td>\n",
       "      <td>1.000000</td>\n",
       "      <td>0.000000</td>\n",
       "      <td>1.000000</td>\n",
       "      <td>3.000000</td>\n",
       "      <td>2.000000</td>\n",
       "      <td>1.000000</td>\n",
       "      <td>2.000000</td>\n",
       "      <td>...</td>\n",
       "      <td>4.000000</td>\n",
       "      <td>3.000000</td>\n",
       "      <td>3.000000</td>\n",
       "      <td>1.000000</td>\n",
       "      <td>2.000000</td>\n",
       "      <td>4.000000</td>\n",
       "      <td>2.000000</td>\n",
       "      <td>11.000000</td>\n",
       "      <td>11.000000</td>\n",
       "      <td>11.000000</td>\n",
       "    </tr>\n",
       "    <tr>\n",
       "      <th>75%</th>\n",
       "      <td>1.000000</td>\n",
       "      <td>1.000000</td>\n",
       "      <td>18.000000</td>\n",
       "      <td>1.000000</td>\n",
       "      <td>1.000000</td>\n",
       "      <td>1.000000</td>\n",
       "      <td>4.000000</td>\n",
       "      <td>3.000000</td>\n",
       "      <td>2.000000</td>\n",
       "      <td>2.000000</td>\n",
       "      <td>...</td>\n",
       "      <td>5.000000</td>\n",
       "      <td>4.000000</td>\n",
       "      <td>4.000000</td>\n",
       "      <td>2.000000</td>\n",
       "      <td>3.000000</td>\n",
       "      <td>5.000000</td>\n",
       "      <td>6.000000</td>\n",
       "      <td>13.000000</td>\n",
       "      <td>13.000000</td>\n",
       "      <td>14.000000</td>\n",
       "    </tr>\n",
       "    <tr>\n",
       "      <th>max</th>\n",
       "      <td>1.000000</td>\n",
       "      <td>1.000000</td>\n",
       "      <td>22.000000</td>\n",
       "      <td>1.000000</td>\n",
       "      <td>1.000000</td>\n",
       "      <td>1.000000</td>\n",
       "      <td>4.000000</td>\n",
       "      <td>4.000000</td>\n",
       "      <td>4.000000</td>\n",
       "      <td>4.000000</td>\n",
       "      <td>...</td>\n",
       "      <td>5.000000</td>\n",
       "      <td>5.000000</td>\n",
       "      <td>5.000000</td>\n",
       "      <td>5.000000</td>\n",
       "      <td>5.000000</td>\n",
       "      <td>5.000000</td>\n",
       "      <td>75.000000</td>\n",
       "      <td>19.000000</td>\n",
       "      <td>19.000000</td>\n",
       "      <td>20.000000</td>\n",
       "    </tr>\n",
       "  </tbody>\n",
       "</table>\n",
       "<p>8 rows × 29 columns</p>\n",
       "</div>"
      ],
      "text/plain": [
       "            school          sex          age      address      famsize  \\\n",
       "count  1044.000000  1044.000000  1044.000000  1044.000000  1044.000000   \n",
       "mean      0.260536     0.433908    16.726054     0.727011     0.293103   \n",
       "std       0.439138     0.495850     1.239975     0.445708     0.455404   \n",
       "min       0.000000     0.000000    15.000000     0.000000     0.000000   \n",
       "25%       0.000000     0.000000    16.000000     0.000000     0.000000   \n",
       "50%       0.000000     0.000000    17.000000     1.000000     0.000000   \n",
       "75%       1.000000     1.000000    18.000000     1.000000     1.000000   \n",
       "max       1.000000     1.000000    22.000000     1.000000     1.000000   \n",
       "\n",
       "           Pstatus         Medu         Fedu   traveltime    studytime  ...  \\\n",
       "count  1044.000000  1044.000000  1044.000000  1044.000000  1044.000000  ...   \n",
       "mean      0.884100     2.603448     2.387931     1.522989     1.970307  ...   \n",
       "std       0.320259     1.124907     1.099938     0.731727     0.834353  ...   \n",
       "min       0.000000     0.000000     0.000000     1.000000     1.000000  ...   \n",
       "25%       1.000000     2.000000     1.000000     1.000000     1.000000  ...   \n",
       "50%       1.000000     3.000000     2.000000     1.000000     2.000000  ...   \n",
       "75%       1.000000     4.000000     3.000000     2.000000     2.000000  ...   \n",
       "max       1.000000     4.000000     4.000000     4.000000     4.000000  ...   \n",
       "\n",
       "            famrel     freetime        goout         Dalc         Walc  \\\n",
       "count  1044.000000  1044.000000  1044.000000  1044.000000  1044.000000   \n",
       "mean      3.935824     3.201149     3.156130     1.494253     2.284483   \n",
       "std       0.933401     1.031507     1.152575     0.911714     1.285105   \n",
       "min       1.000000     1.000000     1.000000     1.000000     1.000000   \n",
       "25%       4.000000     3.000000     2.000000     1.000000     1.000000   \n",
       "50%       4.000000     3.000000     3.000000     1.000000     2.000000   \n",
       "75%       5.000000     4.000000     4.000000     2.000000     3.000000   \n",
       "max       5.000000     5.000000     5.000000     5.000000     5.000000   \n",
       "\n",
       "            health     absences           G1           G2           G3  \n",
       "count  1044.000000  1044.000000  1044.000000  1044.000000  1044.000000  \n",
       "mean      3.543103     4.434866    11.213602    11.246169    11.341954  \n",
       "std       1.424703     6.210017     2.983394     3.285071     3.864796  \n",
       "min       1.000000     0.000000     0.000000     0.000000     0.000000  \n",
       "25%       3.000000     0.000000     9.000000     9.000000    10.000000  \n",
       "50%       4.000000     2.000000    11.000000    11.000000    11.000000  \n",
       "75%       5.000000     6.000000    13.000000    13.000000    14.000000  \n",
       "max       5.000000    75.000000    19.000000    19.000000    20.000000  \n",
       "\n",
       "[8 rows x 29 columns]"
      ]
     },
     "execution_count": 80,
     "metadata": {},
     "output_type": "execute_result"
    }
   ],
   "source": [
    "All_df.describe()"
   ]
  },
  {
   "cell_type": "markdown",
   "id": "81c12d11",
   "metadata": {},
   "source": [
    "#### Statistical Analysis For All Cols in Data"
   ]
  },
  {
   "cell_type": "code",
   "execution_count": 121,
   "id": "30284a0d",
   "metadata": {},
   "outputs": [],
   "source": [
    "school_count=All_df['school'].value_counts()\n",
    "sex_count=All_df['sex'].value_counts()\n",
    "address_count=All_df['address'].value_counts().sort_values(ascending=True)\n",
    "famsize_count=All_df['famsize'].value_counts()"
   ]
  },
  {
   "cell_type": "code",
   "execution_count": 127,
   "id": "fc86ecc4",
   "metadata": {},
   "outputs": [
    {
     "data": {
      "image/png": "[encoded data removed]",
      "text/plain": [
       "<Figure size 1440x720 with 4 Axes>"
      ]
     },
     "metadata": {
      "needs_background": "light"
     },
     "output_type": "display_data"
    }
   ],
   "source": [
    "plt.figure(figsize=(20,10))\n",
    "plt.suptitle(\"Statistical Analysis For All Cols in Data\",size=20)\n",
    "\n",
    "plt.subplot(2,2,1)\n",
    "plt.title('Count Student for every School')\n",
    "plt.bar(['GP','MS'],school_count)\n",
    "for i in range(2):\n",
    "    plt.text(i-0.02,school_count[i]+5,str(round(school_count[i])))\n",
    "    \n",
    "    \n",
    "#########################################################################\n",
    "plt.subplot(2,2,2)\n",
    "plt.title('Count Gender of Student')\n",
    "plt.bar(['F','M'],sex_count)\n",
    "for i in range(2):\n",
    "    plt.text(i-0.02,sex_count[i]+5,str(round(sex_count[i])))\n",
    "\n",
    "    \n",
    "#########################################################################\n",
    "plt.subplot(2,2,3)\n",
    "plt.title('Count Students have T and U address')\n",
    "plt.bar(['R','U'],address_count)\n",
    "for i in range(2):\n",
    "    plt.text(i-0.02,address_count[i]+5,str(address_count[i]))\n",
    "    \n",
    "    \n",
    "#########################################################################\n",
    "plt.subplot(2,2,4)\n",
    "plt.title('Count Students have T and U address')\n",
    "plt.bar(['GT3','LT3'],famsize_count)\n",
    "for i in range(2):\n",
    "    plt.text(i-0.02,famsize_count[i]+5,str(famsize_count[i]))\n",
    "\n",
    "    \n",
    "\n",
    "plt.show()"
   ]
  },
  {
   "cell_type": "code",
   "execution_count": 168,
   "id": "0eed10b4",
   "metadata": {},
   "outputs": [],
   "source": [
    "Pstatus_count=All_df['Pstatus'].value_counts().sort_values(ascending=True)\n",
    "Medu_count=All_df['Medu'].value_counts()\n",
    "Fedu_count=All_df['Fedu'].value_counts()\n",
    "traveltime_count=All_df['traveltime'].value_counts()"
   ]
  },
  {
   "cell_type": "code",
   "execution_count": 179,
   "id": "e9f45cb2",
   "metadata": {},
   "outputs": [
    {
     "data": {
      "image/png": "[encoded data removed]",
      "text/plain": [
       "<Figure size 1440x720 with 4 Axes>"
      ]
     },
     "metadata": {
      "needs_background": "light"
     },
     "output_type": "display_data"
    }
   ],
   "source": [
    "plt.figure(figsize=(20,10))\n",
    "plt.suptitle(\"Statistical Analysis For All Cols in Data\",size=20)\n",
    "\n",
    "plt.subplot(2,2,1)\n",
    "plt.title('Count Pstatus for every Student')\n",
    "plt.bar(['Apart','living together'],Pstatus_count)\n",
    "for i in range(2):\n",
    "    plt.text(i-0.02,Pstatus_count[i]+5,str(Pstatus_count[i]))\n",
    "    \n",
    "    \n",
    "#########################################################################\n",
    "plt.subplot(2,2,2)\n",
    "plt.title('Count Medu for each Student')\n",
    "plt.bar(Medu_count.index,Medu_count)\n",
    "for i in range(len(Fedu_count)):\n",
    "    plt.text(i-0.02,Medu_count[i]+5,str(Medu_count[i]))\n",
    "    \n",
    "\n",
    "# numeric: 0 - none,  1 - primary education (4th grade), 2 – 5th to 9th grade, 3 – secondary education or 4 – higher education    \n",
    "#########################################################################\n",
    "plt.subplot(2,2,3)\n",
    "plt.title('Count Fedu for each Student')\n",
    "plt.bar(Fedu_count.index,Fedu_count)\n",
    "for i in range(len(Fedu_count)):\n",
    "    plt.text(i-0.02,Fedu_count[i]+5,str(Fedu_count[i]))\n",
    "    \n",
    "# numeric: 0 - none,  1 - primary education (4th grade), 2 – 5th to 9th grade, 3 – secondary education or 4 – higher education        \n",
    "#########################################################################\n",
    "plt.subplot(2,2,4)\n",
    "plt.title('Count Students have traveltime')\n",
    "plt.bar(traveltime_count.index,traveltime_count)\n",
    "for i in range(1,5):\n",
    "    plt.text(i-0.02,traveltime_count[i]+5,str(traveltime_count[i]))\n",
    "\n",
    "    \n",
    "\n",
    "plt.show()"
   ]
  },
  {
   "cell_type": "markdown",
   "id": "5954a6d1",
   "metadata": {},
   "source": [
    "<a id='split'></a>\n",
    "# Split data into train and test sets for model"
   ]
  },
  {
   "cell_type": "code",
   "execution_count": 501,
   "id": "1b453f09",
   "metadata": {},
   "outputs": [],
   "source": [
    "x=np.array(All_df2.drop(columns='G3'))\n",
    "y=np.array(All_df2['G3'])"
   ]
  },
  {
   "cell_type": "code",
   "execution_count": 502,
   "id": "dd3e11fe",
   "metadata": {},
   "outputs": [],
   "source": [
    "from sklearn.model_selection import train_test_split\n",
    "from sklearn.tree import DecisionTreeRegressor , DecisionTreeClassifier\n",
    "from sklearn.svm import SVR ,SVC\n",
    "from sklearn.metrics import accuracy_score, f1_score\n",
    "from sklearn.model_selection import GridSearchCV\n",
    "from sklearn.metrics import make_scorer"
   ]
  },
  {
   "cell_type": "code",
   "execution_count": 503,
   "id": "15cc6037",
   "metadata": {},
   "outputs": [],
   "source": [
    "X_train,X_test,y_train,y_test=train_test_split(x,y,test_size=0.2)"
   ]
  },
  {
   "cell_type": "code",
   "execution_count": 504,
   "id": "bee592ae",
   "metadata": {},
   "outputs": [
    {
     "name": "stdout",
     "output_type": "stream",
     "text": [
      "Train set Size : 835\n",
      "Test set Size : 209\n"
     ]
    }
   ],
   "source": [
    "print(f\"Train set Size : {len(X_train)}\")\n",
    "print(f\"Test set Size : {len(X_test)}\")"
   ]
  },
  {
   "cell_type": "markdown",
   "id": "8dc43f6c",
   "metadata": {},
   "source": [
    "<a id='model'></a>\n",
    "# Train the Model"
   ]
  },
  {
   "cell_type": "markdown",
   "id": "9ef1a148",
   "metadata": {},
   "source": [
    "### Regression model"
   ]
  },
  {
   "cell_type": "markdown",
   "id": "e002d74b",
   "metadata": {},
   "source": [
    "#### Grid Search to choose best paramerars"
   ]
  },
  {
   "cell_type": "code",
   "execution_count": 507,
   "id": "9d7b9828",
   "metadata": {},
   "outputs": [
    {
     "data": {
      "text/plain": [
       "DecisionTreeRegressor(max_depth=4)"
      ]
     },
     "execution_count": 507,
     "metadata": {},
     "output_type": "execute_result"
    }
   ],
   "source": [
    "scorer=make_scorer(f1_score)\n",
    "params={'max_depth':range(1,10)}\n",
    "Clf2=GridSearchCV(DecisionTreeRegressor(),params)\n",
    "grid_fit2=Clf2.fit(X_train,y_train)\n",
    "grid_fit2.best_estimator_"
   ]
  },
  {
   "cell_type": "code",
   "execution_count": 506,
   "id": "aa8550e9",
   "metadata": {},
   "outputs": [
    {
     "data": {
      "text/plain": [
       "SVR(C=9)"
      ]
     },
     "execution_count": 506,
     "metadata": {},
     "output_type": "execute_result"
    }
   ],
   "source": [
    "scorer=make_scorer(accuracy_score)\n",
    "params={'kernel':('linear','rbf'),\n",
    "       'C':range(1,10)}\n",
    "Clf=GridSearchCV(SVR(),params)\n",
    "grid_fit=Clf.fit(X_train,y_train)\n",
    "grid_fit.best_estimator_"
   ]
  },
  {
   "cell_type": "code",
   "execution_count": 508,
   "id": "2256cb18",
   "metadata": {},
   "outputs": [],
   "source": [
    "model1=DecisionTreeRegressor(max_depth=4)\n",
    "model2=SVR(kernel='rbf',C=9)"
   ]
  },
  {
   "cell_type": "code",
   "execution_count": 509,
   "id": "f7c6da73",
   "metadata": {},
   "outputs": [
    {
     "data": {
      "text/plain": [
       "SVR(C=9)"
      ]
     },
     "execution_count": 509,
     "metadata": {},
     "output_type": "execute_result"
    }
   ],
   "source": [
    "model1.fit(X_train,y_train)\n",
    "model2.fit(X_train,y_train)"
   ]
  },
  {
   "cell_type": "code",
   "execution_count": 510,
   "id": "df27f69f",
   "metadata": {},
   "outputs": [],
   "source": [
    "y_pred1=model1.predict(X_test)\n",
    "y_pred2=model2.predict(X_test)"
   ]
  },
  {
   "cell_type": "code",
   "execution_count": 511,
   "id": "1930a9e8",
   "metadata": {},
   "outputs": [
    {
     "name": "stdout",
     "output_type": "stream",
     "text": [
      "Accuracy Score for Model 1 through training set is 87.0%\n",
      "Accuracy Score for Model 2 through training set is 86.0%\n"
     ]
    }
   ],
   "source": [
    "print(f\"Accuracy Score for Model 1 through training set is {round(model1.score(X_train , y_train),2)*100}%\")\n",
    "print(f\"Accuracy Score for Model 2 through training set is {round(model2.score(X_train , y_train),2)*100}%\")\n"
   ]
  },
  {
   "cell_type": "code",
   "execution_count": 512,
   "id": "0fa63dfc",
   "metadata": {},
   "outputs": [
    {
     "name": "stdout",
     "output_type": "stream",
     "text": [
      "Accuracy Score for Model 1 through test set is 44.0%\n",
      "Accuracy Score for Model 2 through test set is 38.0%\n"
     ]
    }
   ],
   "source": [
    "print(f\"Accuracy Score for Model 1 through test set is {round(accuracy_score(y_test,np.round(y_pred1).astype(int)),2)*100}%\")\n",
    "print(f\"Accuracy Score for Model 2 through test set is {round(accuracy_score(y_test,np.round(y_pred2).astype(int)),2)*100}%\")"
   ]
  },
  {
   "cell_type": "code",
   "execution_count": 514,
   "id": "36ffb4e9",
   "metadata": {},
   "outputs": [
    {
     "name": "stdout",
     "output_type": "stream",
     "text": [
      "when best param C=9 with Decision Tree Regressor model Accuracy is 44.0%\n",
      "when best param C=9 with SVR model Accuracy is 38.0%\n"
     ]
    }
   ],
   "source": [
    "print(f\"when best param C=9 with Decision Tree Regressor model Accuracy is {round(accuracy_score(y_test,np.round(y_pred1).astype(int)),2)*100}%\")\n",
    "print(f\"when best param C=9 with SVR model Accuracy is {round(accuracy_score(y_test,np.round(y_pred2).astype(int)),2)*100}%\")"
   ]
  },
  {
   "cell_type": "markdown",
   "id": "0ba3787e",
   "metadata": {},
   "source": [
    "### Try Classification output"
   ]
  },
  {
   "cell_type": "code",
   "execution_count": null,
   "id": "bce4bb62",
   "metadata": {},
   "outputs": [],
   "source": [
    "#### G3 < 10 =>F , G3 < 12 =>D , G3 < 14 =>C , G3 < 16 =>B ,G3 > 16 =>A "
   ]
  },
  {
   "cell_type": "code",
   "execution_count": 515,
   "id": "88fee6ce",
   "metadata": {},
   "outputs": [],
   "source": [
    "All_df2['class']=All_df2['G3'].map(lambda x:'F' if x<10 \n",
    "                                   else( 'D' if x<12 \n",
    "                                   else( 'C' if x<14 \n",
    "                                   else( 'B' if x<16 else 'A'))))\n"
   ]
  },
  {
   "cell_type": "code",
   "execution_count": 516,
   "id": "9823b41d",
   "metadata": {},
   "outputs": [],
   "source": [
    "class_count=All_df2['class'].value_counts()"
   ]
  },
  {
   "cell_type": "code",
   "execution_count": 517,
   "id": "0e23b449",
   "metadata": {},
   "outputs": [],
   "source": [
    "All_df2.drop(columns='G3',inplace=True)"
   ]
  },
  {
   "cell_type": "code",
   "execution_count": 518,
   "id": "a9439a60",
   "metadata": {},
   "outputs": [
    {
     "data": {
      "text/plain": [
       "Index(['school', 'sex', 'age', 'address', 'famsize', 'Pstatus', 'Medu', 'Fedu',\n",
       "       'traveltime', 'studytime', 'failures', 'schoolsup', 'famsup', 'paid',\n",
       "       'activities', 'nursery', 'higher', 'internet', 'romantic', 'famrel',\n",
       "       'freetime', 'goout', 'Dalc', 'Walc', 'health', 'absences', 'G1', 'G2',\n",
       "       'Mjob_at_home', 'Mjob_health', 'Mjob_other', 'Mjob_services',\n",
       "       'Mjob_teacher', 'Fjob_at_home', 'Fjob_health', 'Fjob_other',\n",
       "       'Fjob_services', 'Fjob_teacher', 'reason_course', 'reason_home',\n",
       "       'reason_other', 'reason_reputation', 'guardian_father',\n",
       "       'guardian_mother', 'guardian_other', 'class'],\n",
       "      dtype='object')"
      ]
     },
     "execution_count": 518,
     "metadata": {},
     "output_type": "execute_result"
    }
   ],
   "source": [
    "All_df2.columns"
   ]
  },
  {
   "cell_type": "code",
   "execution_count": 519,
   "id": "7a523e73",
   "metadata": {},
   "outputs": [
    {
     "data": {
      "image/png": "[encoded data removed]",
      "text/plain": [
       "<Figure size 1152x576 with 1 Axes>"
      ]
     },
     "metadata": {
      "needs_background": "light"
     },
     "output_type": "display_data"
    }
   ],
   "source": [
    "plt.figure(figsize=(16,8))\n",
    "plt.title(\"Grade Classes\",size=20)\n",
    "plt.bar(class_count.index,class_count.values)\n",
    "for i in range(len(class_count)):\n",
    "    plt.text(i-0.02,class_count[i]+5,str(class_count[i]))\n",
    "\n",
    "plt.show()"
   ]
  },
  {
   "cell_type": "markdown",
   "id": "4f99e48d",
   "metadata": {},
   "source": [
    "#### Split Data to classification"
   ]
  },
  {
   "cell_type": "code",
   "execution_count": 520,
   "id": "d67326ec",
   "metadata": {},
   "outputs": [],
   "source": [
    "X1=np.array(All_df2.drop(columns='class'))\n",
    "y1=np.array(All_df2['class'])"
   ]
  },
  {
   "cell_type": "code",
   "execution_count": 521,
   "id": "2295f0bb",
   "metadata": {},
   "outputs": [],
   "source": [
    "X1_train, X1_test, y1_train, y1_test = train_test_split(X1,y1,test_size=0.2)"
   ]
  },
  {
   "cell_type": "code",
   "execution_count": 522,
   "id": "c734f759",
   "metadata": {},
   "outputs": [
    {
     "name": "stdout",
     "output_type": "stream",
     "text": [
      "Train set Size : 835\n",
      "Test set Size : 209\n"
     ]
    }
   ],
   "source": [
    "print(f\"Train set Size : {len(X1_train)}\")\n",
    "print(f\"Test set Size : {len(X1_test)}\")"
   ]
  },
  {
   "cell_type": "markdown",
   "id": "4f9c72c7",
   "metadata": {},
   "source": [
    "### Train model"
   ]
  },
  {
   "cell_type": "markdown",
   "id": "209cd7d2",
   "metadata": {},
   "source": [
    "#### Grid Search to choose best paramerars"
   ]
  },
  {
   "cell_type": "code",
   "execution_count": 523,
   "id": "e3118978",
   "metadata": {},
   "outputs": [
    {
     "data": {
      "text/plain": [
       "SVC(C=9)"
      ]
     },
     "execution_count": 523,
     "metadata": {},
     "output_type": "execute_result"
    }
   ],
   "source": [
    "scorer=make_scorer(accuracy_score)\n",
    "params={'kernel':('linear','rbf'),\n",
    "       'C':range(1,10)}\n",
    "Clf=GridSearchCV(SVC(),params)\n",
    "grid_fit=Clf.fit(X1_train,y1_train)\n",
    "grid_fit.best_estimator_"
   ]
  },
  {
   "cell_type": "code",
   "execution_count": 524,
   "id": "a9e04f24",
   "metadata": {},
   "outputs": [
    {
     "data": {
      "text/plain": [
       "DecisionTreeClassifier(max_depth=3)"
      ]
     },
     "execution_count": 524,
     "metadata": {},
     "output_type": "execute_result"
    }
   ],
   "source": [
    "scorer=make_scorer(accuracy_score)\n",
    "params={'max_depth':range(1,10)}\n",
    "Clf=GridSearchCV(DecisionTreeClassifier(),params)\n",
    "grid_fit=Clf.fit(X1_train,y1_train)\n",
    "grid_fit.best_estimator_"
   ]
  },
  {
   "cell_type": "code",
   "execution_count": 484,
   "id": "c2eb19ad",
   "metadata": {},
   "outputs": [],
   "source": [
    "model3=SVC(kernel='rbf',C=9)\n",
    "model4=DecisionTreeClassifier(max_depth=3)"
   ]
  },
  {
   "cell_type": "code",
   "execution_count": 525,
   "id": "ce625357",
   "metadata": {},
   "outputs": [
    {
     "data": {
      "text/plain": [
       "DecisionTreeClassifier(max_depth=3)"
      ]
     },
     "execution_count": 525,
     "metadata": {},
     "output_type": "execute_result"
    }
   ],
   "source": [
    "model3.fit(X1_train,y1_train)\n",
    "model4.fit(X1_train,y1_train)"
   ]
  },
  {
   "cell_type": "code",
   "execution_count": 526,
   "id": "0e4b511c",
   "metadata": {},
   "outputs": [],
   "source": [
    "y_pred3=model3.predict(X1_test)\n",
    "y_pred4=model4.predict(X1_test)"
   ]
  },
  {
   "cell_type": "code",
   "execution_count": 527,
   "id": "10ddf0e9",
   "metadata": {},
   "outputs": [
    {
     "name": "stdout",
     "output_type": "stream",
     "text": [
      "Accuracy Score for Model 1 through training set is 82.0%\n",
      "Accuracy Score for Model 2 through training set is 77.0%\n"
     ]
    }
   ],
   "source": [
    "print(f\"Accuracy Score for Model 1 through training set is {round(model3.score(X1_train , y1_train),2)*100}%\")\n",
    "print(f\"Accuracy Score for Model 2 through training set is {round(model4.score(X1_train , y1_train),2)*100}%\")"
   ]
  },
  {
   "cell_type": "code",
   "execution_count": 528,
   "id": "a0f04781",
   "metadata": {},
   "outputs": [
    {
     "name": "stdout",
     "output_type": "stream",
     "text": [
      "test accuracy model3 SVC  is 71.0%\n",
      "test accuracy model4 DTC  is 72.0%\n"
     ]
    }
   ],
   "source": [
    "print(f\"test accuracy model3 SVC  is {round(accuracy_score(y1_test,y_pred3),2)*100}%\")\n",
    "print(f\"test accuracy model4 DTC  is {round(accuracy_score(y1_test,y_pred4),2)*100}%\")"
   ]
  },
  {
   "cell_type": "markdown",
   "id": "483bc34c",
   "metadata": {},
   "source": [
    "### Test Predict Model "
   ]
  },
  {
   "cell_type": "code",
   "execution_count": 532,
   "id": "8515cded",
   "metadata": {},
   "outputs": [
    {
     "name": "stdout",
     "output_type": "stream",
     "text": [
      "Correct output for 10 rows in data :\n",
      "['C' 'F' 'A' 'F' 'A' 'F' 'C' 'D' 'F' 'B']\n",
      "__________________________________________________\n",
      "\n",
      "Data is predict by Model SVC:\n",
      "['C' 'F' 'A' 'F' 'A' 'F' 'C' 'D' 'D' 'B']\n"
     ]
    }
   ],
   "source": [
    "print(f\"Correct output for 10 rows in data :\")\n",
    "print(y1_test[0:10])\n",
    "print(\"_\"*50)\n",
    "print(f\"\\nData is predict by Model SVC:\")\n",
    "y_pred_test=model3.predict(X1_test[0:10])\n",
    "print(y_pred_test)"
   ]
  },
  {
   "cell_type": "code",
   "execution_count": 534,
   "id": "8989d41f",
   "metadata": {},
   "outputs": [
    {
     "name": "stdout",
     "output_type": "stream",
     "text": [
      "Correct output for 10 rows in data :\n",
      "['C' 'F' 'A' 'F' 'A' 'F' 'C' 'D' 'F' 'B']\n",
      "__________________________________________________\n",
      "\n",
      "Data is predict by Model DecisionTreeClassifier:\n",
      "['C' 'D' 'A' 'F' 'A' 'F' 'C' 'D' 'D' 'B']\n"
     ]
    }
   ],
   "source": [
    "print(f\"Correct output for 10 rows in data :\")\n",
    "\n",
    "print(y1_test[0:10])\n",
    "print(\"_\"*50)\n",
    "print(f\"\\nData is predict by Model DecisionTreeClassifier:\")\n",
    "y_pred_test=model4.predict(X1_test[0:10])\n",
    "print(y_pred_test)"
   ]
  },
  {
   "cell_type": "markdown",
   "id": "c944b1e8",
   "metadata": {},
   "source": [
    "<a id='con'> </a>\n",
    "# Conclusions"
   ]
  },
  {
   "cell_type": "markdown",
   "id": "094b9a9c",
   "metadata": {},
   "source": [
    "- No `missing` data.\n",
    "- No `duplicate` data\n",
    "- `Marge` two files done\n",
    "- Modify `data type` for all cols done\n",
    "- define `correlation` between `G3` and all columns others done.\n",
    "- `convert` columns to binary cols done\n",
    "- applied `summary statistical descriptive` done\n",
    "- `visualization` some main columns \n",
    "- split data to `train-set` and `test-set`\n",
    "- check some model like `SVM`, `DecisionTree` as regression model to predict `G3`  \n",
    "- check some model like `SVM`, `DecisionTree` as classification model to predict `G3` \n",
    "- This data works best in the case of classification rather than regression with `SVC` \n"
   ]
  },
  {
   "cell_type": "code",
   "execution_count": null,
   "id": "5f770cbf",
   "metadata": {},
   "outputs": [],
   "source": []
  }
 ],
 "metadata": {
  "kernelspec": {
   "display_name": "Python 3",
   "language": "python",
   "name": "python3"
  },
  "language_info": {
   "codemirror_mode": {
    "name": "ipython",
    "version": 3
   },
   "file_extension": ".py",
   "mimetype": "text/x-python",
   "name": "python",
   "nbconvert_exporter": "python",
   "pygments_lexer": "ipython3",
   "version": "3.8.8"
  }
 },
 "nbformat": 4,
 "nbformat_minor": 5
}
