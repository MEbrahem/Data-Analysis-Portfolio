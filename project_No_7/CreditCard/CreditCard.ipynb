{
 "cells": [
  {
   "cell_type": "markdown",
   "id": "b123b5b0",
   "metadata": {},
   "source": [
    "## Project: Evaluation of Student Performance"
   ]
  },
  {
   "cell_type": "markdown",
   "id": "1bf92ecb",
   "metadata": {},
   "source": [
    "## Table of Contents\n",
    "<ul>\n",
    "<li><a href=\"#intro\">Introduction</a></li>\n",
    "<li><a href=\"#wrangling\">Data Wrangling</a></li>\n",
    "<li><a href=\"#eda\">Exploratory Data Analysis</a></li>\n",
    "<li><a href='#split'>Split Data</a></li>\n",
    "<li><a href='#model'>Train Model</a></li>\n",
    "<li><a href=\"#con\">Conclusions</a></li>\n",
    "</ul>"
   ]
  },
  {
   "cell_type": "markdown",
   "id": "8570b0ce",
   "metadata": {},
   "source": [
    "<a id='intro'></a>\n",
    "## Introduction"
   ]
  },
  {
   "cell_type": "markdown",
   "id": "6420b896",
   "metadata": {},
   "source": [
    "### Dataset Description "
   ]
  },
  {
   "cell_type": "markdown",
   "id": "3f059b1e",
   "metadata": {},
   "source": [
    ">In this dataset, you will find information related to credit card use for a sample of 300 credit card holders."
   ]
  },
  {
   "cell_type": "markdown",
   "id": "13535fa5",
   "metadata": {},
   "source": [
    "### Columns Description"
   ]
  },
  {
   "cell_type": "markdown",
   "id": "1190dd90",
   "metadata": {},
   "source": [
    "`ID`: Identification of Credit Card holder (Categorical).\n",
    "<br>`Income (1000)`: Credit card income in thousands\n",
    "<br>`Limit`: Limit of Credit Card for user\n",
    "<br>`Rating`: Customer evaluation\n",
    "<br>`Cards`: type of card\n",
    "<br>`Age`: the age \n",
    "<br>`Education (years completed)`: how many years completed in education?\n",
    "<br>`Gender`: Gender F , M\n",
    "<br>`Student`:does the person a student or not?\n",
    "<br>`Married`: does the person married or not?\n",
    "<br>`Ethnicity`: The ethnic origins of the card holder\n",
    "<br>`Balance`: Balance amount left in their account to make purchases\n",
    "<br>`Missed`: Did you get the card or not?"
   ]
  },
  {
   "cell_type": "markdown",
   "id": "3655518f",
   "metadata": {},
   "source": [
    "<a id='wrangling'></a>\n",
    "## Data Wrangling"
   ]
  },
  {
   "cell_type": "code",
   "execution_count": 21,
   "id": "d44a672c",
   "metadata": {},
   "outputs": [],
   "source": [
    "import pandas as pd\n",
    "import numpy as np\n",
    "from matplotlib import pyplot as plt\n",
    "import seaborn as sns\n",
    "import warnings\n",
    "warnings.filterwarnings(\"ignore\")"
   ]
  },
  {
   "cell_type": "code",
   "execution_count": 3,
   "id": "3ed9ff5a",
   "metadata": {},
   "outputs": [],
   "source": [
    "data=pd.read_csv('CreditCard.csv')"
   ]
  },
  {
   "cell_type": "code",
   "execution_count": 4,
   "id": "fd753266",
   "metadata": {},
   "outputs": [
    {
     "data": {
      "text/html": [
       "<div>\n",
       "<style scoped>\n",
       "    .dataframe tbody tr th:only-of-type {\n",
       "        vertical-align: middle;\n",
       "    }\n",
       "\n",
       "    .dataframe tbody tr th {\n",
       "        vertical-align: top;\n",
       "    }\n",
       "\n",
       "    .dataframe thead th {\n",
       "        text-align: right;\n",
       "    }\n",
       "</style>\n",
       "<table border=\"1\" class=\"dataframe\">\n",
       "  <thead>\n",
       "    <tr style=\"text-align: right;\">\n",
       "      <th></th>\n",
       "      <th>ID</th>\n",
       "      <th>Income ($1000)</th>\n",
       "      <th>Limit</th>\n",
       "      <th>Rating</th>\n",
       "      <th>Cards</th>\n",
       "      <th>Age</th>\n",
       "      <th>Education (years completed)</th>\n",
       "      <th>Gender</th>\n",
       "      <th>Student</th>\n",
       "      <th>Married</th>\n",
       "      <th>Ethnicity</th>\n",
       "      <th>Balance</th>\n",
       "      <th>Missed</th>\n",
       "    </tr>\n",
       "  </thead>\n",
       "  <tbody>\n",
       "    <tr>\n",
       "      <th>0</th>\n",
       "      <td>1</td>\n",
       "      <td>14.891</td>\n",
       "      <td>3606</td>\n",
       "      <td>283</td>\n",
       "      <td>2</td>\n",
       "      <td>34</td>\n",
       "      <td>11</td>\n",
       "      <td>Male</td>\n",
       "      <td>No</td>\n",
       "      <td>Yes</td>\n",
       "      <td>Caucasian</td>\n",
       "      <td>333</td>\n",
       "      <td>1</td>\n",
       "    </tr>\n",
       "    <tr>\n",
       "      <th>1</th>\n",
       "      <td>2</td>\n",
       "      <td>106.025</td>\n",
       "      <td>6645</td>\n",
       "      <td>483</td>\n",
       "      <td>3</td>\n",
       "      <td>82</td>\n",
       "      <td>15</td>\n",
       "      <td>Female</td>\n",
       "      <td>Yes</td>\n",
       "      <td>Yes</td>\n",
       "      <td>Asian</td>\n",
       "      <td>903</td>\n",
       "      <td>0</td>\n",
       "    </tr>\n",
       "    <tr>\n",
       "      <th>2</th>\n",
       "      <td>3</td>\n",
       "      <td>104.593</td>\n",
       "      <td>7075</td>\n",
       "      <td>514</td>\n",
       "      <td>4</td>\n",
       "      <td>71</td>\n",
       "      <td>11</td>\n",
       "      <td>Male</td>\n",
       "      <td>No</td>\n",
       "      <td>No</td>\n",
       "      <td>Asian</td>\n",
       "      <td>580</td>\n",
       "      <td>0</td>\n",
       "    </tr>\n",
       "    <tr>\n",
       "      <th>3</th>\n",
       "      <td>4</td>\n",
       "      <td>148.924</td>\n",
       "      <td>9504</td>\n",
       "      <td>681</td>\n",
       "      <td>3</td>\n",
       "      <td>36</td>\n",
       "      <td>11</td>\n",
       "      <td>Female</td>\n",
       "      <td>No</td>\n",
       "      <td>No</td>\n",
       "      <td>Asian</td>\n",
       "      <td>964</td>\n",
       "      <td>0</td>\n",
       "    </tr>\n",
       "    <tr>\n",
       "      <th>4</th>\n",
       "      <td>5</td>\n",
       "      <td>55.882</td>\n",
       "      <td>4897</td>\n",
       "      <td>357</td>\n",
       "      <td>2</td>\n",
       "      <td>68</td>\n",
       "      <td>16</td>\n",
       "      <td>Male</td>\n",
       "      <td>No</td>\n",
       "      <td>Yes</td>\n",
       "      <td>Caucasian</td>\n",
       "      <td>331</td>\n",
       "      <td>0</td>\n",
       "    </tr>\n",
       "  </tbody>\n",
       "</table>\n",
       "</div>"
      ],
      "text/plain": [
       "   ID  Income ($1000)  Limit  Rating  Cards  Age  Education (years completed)  \\\n",
       "0   1          14.891   3606     283      2   34                           11   \n",
       "1   2         106.025   6645     483      3   82                           15   \n",
       "2   3         104.593   7075     514      4   71                           11   \n",
       "3   4         148.924   9504     681      3   36                           11   \n",
       "4   5          55.882   4897     357      2   68                           16   \n",
       "\n",
       "   Gender Student Married  Ethnicity  Balance  Missed  \n",
       "0    Male      No     Yes  Caucasian      333       1  \n",
       "1  Female     Yes     Yes      Asian      903       0  \n",
       "2    Male      No      No      Asian      580       0  \n",
       "3  Female      No      No      Asian      964       0  \n",
       "4    Male      No     Yes  Caucasian      331       0  "
      ]
     },
     "execution_count": 4,
     "metadata": {},
     "output_type": "execute_result"
    }
   ],
   "source": [
    "data.head()"
   ]
  },
  {
   "cell_type": "code",
   "execution_count": 5,
   "id": "3a66de1e",
   "metadata": {},
   "outputs": [
    {
     "name": "stdout",
     "output_type": "stream",
     "text": [
      "ID\n",
      "Income ($1000)\n",
      "Limit\n",
      "Rating\n",
      "Cards\n",
      "Age\n",
      "Education (years completed)\n",
      "Gender\n",
      "Student\n",
      "Married\n",
      "Ethnicity\n",
      "Balance\n",
      "Missed\n"
     ]
    }
   ],
   "source": [
    "def show_columns(df):\n",
    "    for i in df.columns:\n",
    "        print(i)\n",
    "show_columns(data)"
   ]
  },
  {
   "cell_type": "code",
   "execution_count": 6,
   "id": "e8536682",
   "metadata": {},
   "outputs": [
    {
     "name": "stdout",
     "output_type": "stream",
     "text": [
      "<class 'pandas.core.frame.DataFrame'>\n",
      "RangeIndex: 299 entries, 0 to 298\n",
      "Data columns (total 13 columns):\n",
      " #   Column                       Non-Null Count  Dtype  \n",
      "---  ------                       --------------  -----  \n",
      " 0   ID                           299 non-null    int64  \n",
      " 1   Income ($1000)               299 non-null    float64\n",
      " 2   Limit                        299 non-null    int64  \n",
      " 3   Rating                       299 non-null    int64  \n",
      " 4   Cards                        299 non-null    int64  \n",
      " 5   Age                          299 non-null    int64  \n",
      " 6   Education (years completed)  299 non-null    int64  \n",
      " 7   Gender                       299 non-null    object \n",
      " 8   Student                      299 non-null    object \n",
      " 9   Married                      299 non-null    object \n",
      " 10  Ethnicity                    299 non-null    object \n",
      " 11  Balance                      299 non-null    int64  \n",
      " 12  Missed                       299 non-null    int64  \n",
      "dtypes: float64(1), int64(8), object(4)\n",
      "memory usage: 30.5+ KB\n"
     ]
    }
   ],
   "source": [
    "data.info()"
   ]
  },
  {
   "cell_type": "code",
   "execution_count": 7,
   "id": "c0514d6e",
   "metadata": {},
   "outputs": [
    {
     "data": {
      "text/html": [
       "<div>\n",
       "<style scoped>\n",
       "    .dataframe tbody tr th:only-of-type {\n",
       "        vertical-align: middle;\n",
       "    }\n",
       "\n",
       "    .dataframe tbody tr th {\n",
       "        vertical-align: top;\n",
       "    }\n",
       "\n",
       "    .dataframe thead th {\n",
       "        text-align: right;\n",
       "    }\n",
       "</style>\n",
       "<table border=\"1\" class=\"dataframe\">\n",
       "  <thead>\n",
       "    <tr style=\"text-align: right;\">\n",
       "      <th></th>\n",
       "      <th>ID</th>\n",
       "      <th>Income ($1000)</th>\n",
       "      <th>Limit</th>\n",
       "      <th>Rating</th>\n",
       "      <th>Cards</th>\n",
       "      <th>Age</th>\n",
       "      <th>Education (years completed)</th>\n",
       "      <th>Balance</th>\n",
       "      <th>Missed</th>\n",
       "    </tr>\n",
       "  </thead>\n",
       "  <tbody>\n",
       "    <tr>\n",
       "      <th>count</th>\n",
       "      <td>299.000000</td>\n",
       "      <td>299.000000</td>\n",
       "      <td>299.000000</td>\n",
       "      <td>299.000000</td>\n",
       "      <td>299.000000</td>\n",
       "      <td>299.000000</td>\n",
       "      <td>299.000000</td>\n",
       "      <td>299.000000</td>\n",
       "      <td>299.000000</td>\n",
       "    </tr>\n",
       "    <tr>\n",
       "      <th>mean</th>\n",
       "      <td>150.000000</td>\n",
       "      <td>44.118391</td>\n",
       "      <td>4626.561873</td>\n",
       "      <td>348.036789</td>\n",
       "      <td>3.026756</td>\n",
       "      <td>54.913043</td>\n",
       "      <td>13.401338</td>\n",
       "      <td>501.989967</td>\n",
       "      <td>0.705686</td>\n",
       "    </tr>\n",
       "    <tr>\n",
       "      <th>std</th>\n",
       "      <td>86.458082</td>\n",
       "      <td>33.901658</td>\n",
       "      <td>2244.384602</td>\n",
       "      <td>151.118121</td>\n",
       "      <td>1.353328</td>\n",
       "      <td>17.202675</td>\n",
       "      <td>3.077216</td>\n",
       "      <td>467.618136</td>\n",
       "      <td>0.456498</td>\n",
       "    </tr>\n",
       "    <tr>\n",
       "      <th>min</th>\n",
       "      <td>1.000000</td>\n",
       "      <td>10.354000</td>\n",
       "      <td>855.000000</td>\n",
       "      <td>93.000000</td>\n",
       "      <td>1.000000</td>\n",
       "      <td>24.000000</td>\n",
       "      <td>5.000000</td>\n",
       "      <td>0.000000</td>\n",
       "      <td>0.000000</td>\n",
       "    </tr>\n",
       "    <tr>\n",
       "      <th>25%</th>\n",
       "      <td>75.500000</td>\n",
       "      <td>21.017000</td>\n",
       "      <td>2961.000000</td>\n",
       "      <td>235.000000</td>\n",
       "      <td>2.000000</td>\n",
       "      <td>41.000000</td>\n",
       "      <td>11.000000</td>\n",
       "      <td>15.500000</td>\n",
       "      <td>0.000000</td>\n",
       "    </tr>\n",
       "    <tr>\n",
       "      <th>50%</th>\n",
       "      <td>150.000000</td>\n",
       "      <td>33.214000</td>\n",
       "      <td>4433.000000</td>\n",
       "      <td>339.000000</td>\n",
       "      <td>3.000000</td>\n",
       "      <td>55.000000</td>\n",
       "      <td>14.000000</td>\n",
       "      <td>431.000000</td>\n",
       "      <td>1.000000</td>\n",
       "    </tr>\n",
       "    <tr>\n",
       "      <th>75%</th>\n",
       "      <td>224.500000</td>\n",
       "      <td>56.069000</td>\n",
       "      <td>5798.000000</td>\n",
       "      <td>433.000000</td>\n",
       "      <td>4.000000</td>\n",
       "      <td>69.000000</td>\n",
       "      <td>16.000000</td>\n",
       "      <td>859.500000</td>\n",
       "      <td>1.000000</td>\n",
       "    </tr>\n",
       "    <tr>\n",
       "      <th>max</th>\n",
       "      <td>299.000000</td>\n",
       "      <td>186.634000</td>\n",
       "      <td>13414.000000</td>\n",
       "      <td>949.000000</td>\n",
       "      <td>8.000000</td>\n",
       "      <td>91.000000</td>\n",
       "      <td>20.000000</td>\n",
       "      <td>1809.000000</td>\n",
       "      <td>1.000000</td>\n",
       "    </tr>\n",
       "  </tbody>\n",
       "</table>\n",
       "</div>"
      ],
      "text/plain": [
       "               ID  Income ($1000)         Limit      Rating       Cards  \\\n",
       "count  299.000000      299.000000    299.000000  299.000000  299.000000   \n",
       "mean   150.000000       44.118391   4626.561873  348.036789    3.026756   \n",
       "std     86.458082       33.901658   2244.384602  151.118121    1.353328   \n",
       "min      1.000000       10.354000    855.000000   93.000000    1.000000   \n",
       "25%     75.500000       21.017000   2961.000000  235.000000    2.000000   \n",
       "50%    150.000000       33.214000   4433.000000  339.000000    3.000000   \n",
       "75%    224.500000       56.069000   5798.000000  433.000000    4.000000   \n",
       "max    299.000000      186.634000  13414.000000  949.000000    8.000000   \n",
       "\n",
       "              Age  Education (years completed)      Balance      Missed  \n",
       "count  299.000000                   299.000000   299.000000  299.000000  \n",
       "mean    54.913043                    13.401338   501.989967    0.705686  \n",
       "std     17.202675                     3.077216   467.618136    0.456498  \n",
       "min     24.000000                     5.000000     0.000000    0.000000  \n",
       "25%     41.000000                    11.000000    15.500000    0.000000  \n",
       "50%     55.000000                    14.000000   431.000000    1.000000  \n",
       "75%     69.000000                    16.000000   859.500000    1.000000  \n",
       "max     91.000000                    20.000000  1809.000000    1.000000  "
      ]
     },
     "execution_count": 7,
     "metadata": {},
     "output_type": "execute_result"
    }
   ],
   "source": [
    "data.describe()"
   ]
  },
  {
   "cell_type": "markdown",
   "id": "bf1f2839",
   "metadata": {},
   "source": [
    "## Data Cleaning"
   ]
  },
  {
   "cell_type": "markdown",
   "id": "385ab4b0",
   "metadata": {},
   "source": [
    ">01- Exploring nulls and remove it\n",
    "<br>02- Exploring duplicates and remove it\n",
    "<br>03- drop data that don't have any impact on output"
   ]
  },
  {
   "cell_type": "markdown",
   "id": "ee6325c4",
   "metadata": {},
   "source": [
    "#### 01- Exploring nulls and remove it"
   ]
  },
  {
   "cell_type": "code",
   "execution_count": 8,
   "id": "4d3ee34e",
   "metadata": {},
   "outputs": [
    {
     "data": {
      "text/plain": [
       "ID                             0\n",
       "Income ($1000)                 0\n",
       "Limit                          0\n",
       "Rating                         0\n",
       "Cards                          0\n",
       "Age                            0\n",
       "Education (years completed)    0\n",
       "Gender                         0\n",
       "Student                        0\n",
       "Married                        0\n",
       "Ethnicity                      0\n",
       "Balance                        0\n",
       "Missed                         0\n",
       "dtype: int64"
      ]
     },
     "execution_count": 8,
     "metadata": {},
     "output_type": "execute_result"
    }
   ],
   "source": [
    "data.isnull().sum()"
   ]
  },
  {
   "cell_type": "markdown",
   "id": "2fa28346",
   "metadata": {},
   "source": [
    "The data we have it don't have nulls value"
   ]
  },
  {
   "cell_type": "markdown",
   "id": "6059c267",
   "metadata": {},
   "source": [
    "#### 02- Exploring duplicates and remove it"
   ]
  },
  {
   "cell_type": "code",
   "execution_count": 9,
   "id": "24f22c77",
   "metadata": {},
   "outputs": [
    {
     "data": {
      "text/plain": [
       "0"
      ]
     },
     "execution_count": 9,
     "metadata": {},
     "output_type": "execute_result"
    }
   ],
   "source": [
    "data.duplicated().sum()"
   ]
  },
  {
   "cell_type": "markdown",
   "id": "a47c4050",
   "metadata": {},
   "source": [
    "The data we have it don't have duplicate data"
   ]
  },
  {
   "cell_type": "markdown",
   "id": "8e7a11a8",
   "metadata": {},
   "source": [
    "#### 03- drop data that don't have any impact on output"
   ]
  },
  {
   "cell_type": "code",
   "execution_count": 10,
   "id": "fe544aae",
   "metadata": {},
   "outputs": [],
   "source": [
    "new_dt=data.drop(columns='ID')"
   ]
  },
  {
   "cell_type": "markdown",
   "id": "5d5eaa16",
   "metadata": {},
   "source": [
    "<a id='eda'></a>\n",
    "## Exploratory Data Analysis"
   ]
  },
  {
   "cell_type": "markdown",
   "id": "6743c4b2",
   "metadata": {},
   "source": [
    "how many clients are missing cards?"
   ]
  },
  {
   "cell_type": "code",
   "execution_count": 11,
   "id": "056f17d4",
   "metadata": {},
   "outputs": [],
   "source": [
    "miss_count=new_dt['Missed'].value_counts()"
   ]
  },
  {
   "cell_type": "code",
   "execution_count": 18,
   "id": "7d5f5f29",
   "metadata": {},
   "outputs": [
    {
     "data": {
      "image/png": "[encoded data removed]",
      "text/plain": [
       "<Figure size 1152x576 with 1 Axes>"
      ]
     },
     "metadata": {},
     "output_type": "display_data"
    }
   ],
   "source": [
    "plt.figure(figsize=(16,8))\n",
    "plt.title('The number of clients who missed the card',size=15)\n",
    "plt.pie(miss_count,labels=['Missed', 'Got'],autopct='%.01f%%')\n",
    "plt.show()"
   ]
  },
  {
   "cell_type": "markdown",
   "id": "1e1e18ac",
   "metadata": {},
   "source": [
    "descripative statistics for balance "
   ]
  },
  {
   "cell_type": "code",
   "execution_count": 37,
   "id": "b76357e0",
   "metadata": {
    "scrolled": true
   },
   "outputs": [
    {
     "data": {
      "image/png": "[encoded data removed]",
      "text/plain": [
       "<Figure size 432x288 with 1 Axes>"
      ]
     },
     "metadata": {
      "needs_background": "light"
     },
     "output_type": "display_data"
    }
   ],
   "source": [
    "plt.figure(figsize=(6,4))\n",
    "plt.title('Box Plot for Balance values',size=18)\n",
    "sns.boxplot(x='Missed',y='Balance',data=new_dt)\n",
    "plt.show()"
   ]
  },
  {
   "cell_type": "markdown",
   "id": "4da1c4b5",
   "metadata": {},
   "source": [
    "from above there is strong correlation between Missed and Balance in credit card"
   ]
  },
  {
   "cell_type": "code",
   "execution_count": null,
   "id": "fda4b613",
   "metadata": {},
   "outputs": [],
   "source": [
    "Income ($1000)\n",
    "Limit\n",
    "Rating\n",
    "Cards\n",
    "Age\n",
    "Education (years completed)\n",
    "Gender\n",
    "Student\n",
    "Married\n",
    "Ethnicity\n",
    "Balance\n",
    "Missed"
   ]
  },
  {
   "cell_type": "markdown",
   "id": "2d35e2c2",
   "metadata": {},
   "source": [
    "#### Split data into categorical and numerical data "
   ]
  },
  {
   "cell_type": "markdown",
   "id": "0f602c01",
   "metadata": {},
   "source": [
    "Categorical Columns"
   ]
  },
  {
   "cell_type": "code",
   "execution_count": 38,
   "id": "3bffad96",
   "metadata": {},
   "outputs": [
    {
     "name": "stdout",
     "output_type": "stream",
     "text": [
      "Gender\n",
      "Student\n",
      "Married\n",
      "Ethnicity\n"
     ]
    }
   ],
   "source": [
    "cat=new_dt.select_dtypes('object')\n",
    "show_columns(cat)"
   ]
  },
  {
   "cell_type": "markdown",
   "id": "03ded6c5",
   "metadata": {},
   "source": [
    "#### Then we will analysis and visualize all columns with Missed columns to define correlation"
   ]
  },
  {
   "cell_type": "code",
   "execution_count": 40,
   "id": "7e549945",
   "metadata": {},
   "outputs": [
    {
     "data": {
      "image/png": "[encoded data removed]",
      "text/plain": [
       "<Figure size 1440x1440 with 4 Axes>"
      ]
     },
     "metadata": {
      "needs_background": "light"
     },
     "output_type": "display_data"
    }
   ],
   "source": [
    "plt.figure(figsize=(20,20))\n",
    "plt.suptitle('Describe correlation between Categroical column with Missed',size=20)\n",
    "for i in range(len(cat.columns)):\n",
    "    plt.subplot(2,2,i+1)\n",
    "    sns.countplot(x='Missed',hue=cat.columns[i],data=new_dt)"
   ]
  },
  {
   "cell_type": "markdown",
   "id": "adc9a7e7",
   "metadata": {},
   "source": [
    "`Gender`: if was female maybe miss credit more than men\n",
    "<br>`Student`: it has no impact on missed vales\n",
    "<br>`Married`: it has no impact on missed values \n",
    "<br>`Ethnicity`: when it is African American maybe miss credit more than others"
   ]
  },
  {
   "cell_type": "markdown",
   "id": "aa76bfd7",
   "metadata": {},
   "source": [
    "Numerical columns"
   ]
  },
  {
   "cell_type": "code",
   "execution_count": 41,
   "id": "d5c50a9f",
   "metadata": {},
   "outputs": [
    {
     "name": "stdout",
     "output_type": "stream",
     "text": [
      "Income ($1000)\n",
      "Limit\n",
      "Rating\n",
      "Cards\n",
      "Age\n",
      "Education (years completed)\n",
      "Balance\n",
      "Missed\n"
     ]
    }
   ],
   "source": [
    "num=new_dt.select_dtypes(['int64','float64'])\n",
    "show_columns(num)"
   ]
  },
  {
   "cell_type": "code",
   "execution_count": 42,
   "id": "828fee88",
   "metadata": {},
   "outputs": [],
   "source": [
    "num.drop(columns=['Balance','Missed'],inplace=True)"
   ]
  },
  {
   "cell_type": "code",
   "execution_count": 43,
   "id": "441c9f79",
   "metadata": {},
   "outputs": [
    {
     "name": "stdout",
     "output_type": "stream",
     "text": [
      "Income ($1000)\n",
      "Limit\n",
      "Rating\n",
      "Cards\n",
      "Age\n",
      "Education (years completed)\n"
     ]
    }
   ],
   "source": [
    "show_columns(num)"
   ]
  },
  {
   "cell_type": "code",
   "execution_count": 44,
   "id": "a1e04d19",
   "metadata": {},
   "outputs": [
    {
     "data": {
      "image/png": "[encoded data removed]",
      "text/plain": [
       "<Figure size 1440x1440 with 6 Axes>"
      ]
     },
     "metadata": {
      "needs_background": "light"
     },
     "output_type": "display_data"
    }
   ],
   "source": [
    "plt.figure(figsize=(20,20))\n",
    "plt.suptitle('Describe correlation between numerical column with Missed',size=20)\n",
    "for i in range(len(num.columns)):\n",
    "    plt.subplot(2,3,i+1)\n",
    "    sns.boxplot(x='Missed',y=num.columns[i],data=new_dt)"
   ]
  },
  {
   "cell_type": "markdown",
   "id": "0abef2a9",
   "metadata": {},
   "source": [
    "`Income`: The higher your income, the more you will get the card\n",
    "<br>`Limit`:the higher your card limit, the more you will get the card\n",
    "<br>`Rating`:the higher your rating, the more you will get the card\n",
    "<br>`Cards`: it has any impact on missing card\n",
    "<br>`Age`: it has any impact on missing card\n",
    "<br>`Education (years completed)`:it has any impact on missing card"
   ]
  },
  {
   "cell_type": "markdown",
   "id": "48052503",
   "metadata": {},
   "source": [
    "#### Summary Correlation with heat map"
   ]
  },
  {
   "cell_type": "code",
   "execution_count": 45,
   "id": "740cbdd0",
   "metadata": {},
   "outputs": [
    {
     "data": {
      "image/png": "[encoded data removed]",
      "text/plain": [
       "<Figure size 1440x720 with 2 Axes>"
      ]
     },
     "metadata": {
      "needs_background": "light"
     },
     "output_type": "display_data"
    }
   ],
   "source": [
    "plt.figure(figsize=(20,10))\n",
    "plt.title('Summary Correlation with heat map',size=20)\n",
    "sns.heatmap(new_dt.corr(),annot=True)\n",
    "plt.show()"
   ]
  },
  {
   "cell_type": "code",
   "execution_count": 52,
   "id": "d0b81f62",
   "metadata": {},
   "outputs": [
    {
     "data": {
      "text/plain": [
       "Rating                        -0.519262\n",
       "Limit                         -0.519018\n",
       "Balance                       -0.457608\n",
       "Income ($1000)                -0.434583\n",
       "Age                           -0.068649\n",
       "Education (years completed)   -0.056573\n",
       "Cards                         -0.014370\n",
       "Missed                         1.000000\n",
       "Name: Missed, dtype: float64"
      ]
     },
     "execution_count": 52,
     "metadata": {},
     "output_type": "execute_result"
    }
   ],
   "source": [
    "new_dt.corr()['Missed'].sort_values()"
   ]
  },
  {
   "cell_type": "markdown",
   "id": "4e3ccad1",
   "metadata": {},
   "source": [
    "we have there negative correlation with Missed:\n",
    "- Rating\n",
    "- Limit                         \n",
    "- Balance                       \n",
    "- Income "
   ]
  },
  {
   "cell_type": "markdown",
   "id": "b79845c2",
   "metadata": {},
   "source": [
    "# Preprocessing on data"
   ]
  },
  {
   "cell_type": "markdown",
   "id": "065b1951",
   "metadata": {},
   "source": [
    "#### convert data categorical to numerical"
   ]
  },
  {
   "cell_type": "code",
   "execution_count": 54,
   "id": "8659dfe8",
   "metadata": {},
   "outputs": [],
   "source": [
    "converted_columns=pd.get_dummies(cat)"
   ]
  },
  {
   "cell_type": "code",
   "execution_count": 55,
   "id": "ab150b55",
   "metadata": {},
   "outputs": [
    {
     "data": {
      "text/html": [
       "<div>\n",
       "<style scoped>\n",
       "    .dataframe tbody tr th:only-of-type {\n",
       "        vertical-align: middle;\n",
       "    }\n",
       "\n",
       "    .dataframe tbody tr th {\n",
       "        vertical-align: top;\n",
       "    }\n",
       "\n",
       "    .dataframe thead th {\n",
       "        text-align: right;\n",
       "    }\n",
       "</style>\n",
       "<table border=\"1\" class=\"dataframe\">\n",
       "  <thead>\n",
       "    <tr style=\"text-align: right;\">\n",
       "      <th></th>\n",
       "      <th>Gender_ Male</th>\n",
       "      <th>Gender_Female</th>\n",
       "      <th>Student_No</th>\n",
       "      <th>Student_Yes</th>\n",
       "      <th>Married_No</th>\n",
       "      <th>Married_Yes</th>\n",
       "      <th>Ethnicity_African American</th>\n",
       "      <th>Ethnicity_Asian</th>\n",
       "      <th>Ethnicity_Caucasian</th>\n",
       "    </tr>\n",
       "  </thead>\n",
       "  <tbody>\n",
       "    <tr>\n",
       "      <th>0</th>\n",
       "      <td>1</td>\n",
       "      <td>0</td>\n",
       "      <td>1</td>\n",
       "      <td>0</td>\n",
       "      <td>0</td>\n",
       "      <td>1</td>\n",
       "      <td>0</td>\n",
       "      <td>0</td>\n",
       "      <td>1</td>\n",
       "    </tr>\n",
       "    <tr>\n",
       "      <th>1</th>\n",
       "      <td>0</td>\n",
       "      <td>1</td>\n",
       "      <td>0</td>\n",
       "      <td>1</td>\n",
       "      <td>0</td>\n",
       "      <td>1</td>\n",
       "      <td>0</td>\n",
       "      <td>1</td>\n",
       "      <td>0</td>\n",
       "    </tr>\n",
       "    <tr>\n",
       "      <th>2</th>\n",
       "      <td>1</td>\n",
       "      <td>0</td>\n",
       "      <td>1</td>\n",
       "      <td>0</td>\n",
       "      <td>1</td>\n",
       "      <td>0</td>\n",
       "      <td>0</td>\n",
       "      <td>1</td>\n",
       "      <td>0</td>\n",
       "    </tr>\n",
       "    <tr>\n",
       "      <th>3</th>\n",
       "      <td>0</td>\n",
       "      <td>1</td>\n",
       "      <td>1</td>\n",
       "      <td>0</td>\n",
       "      <td>1</td>\n",
       "      <td>0</td>\n",
       "      <td>0</td>\n",
       "      <td>1</td>\n",
       "      <td>0</td>\n",
       "    </tr>\n",
       "    <tr>\n",
       "      <th>4</th>\n",
       "      <td>1</td>\n",
       "      <td>0</td>\n",
       "      <td>1</td>\n",
       "      <td>0</td>\n",
       "      <td>0</td>\n",
       "      <td>1</td>\n",
       "      <td>0</td>\n",
       "      <td>0</td>\n",
       "      <td>1</td>\n",
       "    </tr>\n",
       "    <tr>\n",
       "      <th>...</th>\n",
       "      <td>...</td>\n",
       "      <td>...</td>\n",
       "      <td>...</td>\n",
       "      <td>...</td>\n",
       "      <td>...</td>\n",
       "      <td>...</td>\n",
       "      <td>...</td>\n",
       "      <td>...</td>\n",
       "      <td>...</td>\n",
       "    </tr>\n",
       "    <tr>\n",
       "      <th>294</th>\n",
       "      <td>1</td>\n",
       "      <td>0</td>\n",
       "      <td>1</td>\n",
       "      <td>0</td>\n",
       "      <td>0</td>\n",
       "      <td>1</td>\n",
       "      <td>0</td>\n",
       "      <td>1</td>\n",
       "      <td>0</td>\n",
       "    </tr>\n",
       "    <tr>\n",
       "      <th>295</th>\n",
       "      <td>0</td>\n",
       "      <td>1</td>\n",
       "      <td>1</td>\n",
       "      <td>0</td>\n",
       "      <td>0</td>\n",
       "      <td>1</td>\n",
       "      <td>0</td>\n",
       "      <td>0</td>\n",
       "      <td>1</td>\n",
       "    </tr>\n",
       "    <tr>\n",
       "      <th>296</th>\n",
       "      <td>0</td>\n",
       "      <td>1</td>\n",
       "      <td>1</td>\n",
       "      <td>0</td>\n",
       "      <td>0</td>\n",
       "      <td>1</td>\n",
       "      <td>0</td>\n",
       "      <td>0</td>\n",
       "      <td>1</td>\n",
       "    </tr>\n",
       "    <tr>\n",
       "      <th>297</th>\n",
       "      <td>1</td>\n",
       "      <td>0</td>\n",
       "      <td>1</td>\n",
       "      <td>0</td>\n",
       "      <td>0</td>\n",
       "      <td>1</td>\n",
       "      <td>0</td>\n",
       "      <td>1</td>\n",
       "      <td>0</td>\n",
       "    </tr>\n",
       "    <tr>\n",
       "      <th>298</th>\n",
       "      <td>0</td>\n",
       "      <td>1</td>\n",
       "      <td>1</td>\n",
       "      <td>0</td>\n",
       "      <td>1</td>\n",
       "      <td>0</td>\n",
       "      <td>1</td>\n",
       "      <td>0</td>\n",
       "      <td>0</td>\n",
       "    </tr>\n",
       "  </tbody>\n",
       "</table>\n",
       "<p>299 rows × 9 columns</p>\n",
       "</div>"
      ],
      "text/plain": [
       "     Gender_ Male  Gender_Female  Student_No  Student_Yes  Married_No  \\\n",
       "0               1              0           1            0           0   \n",
       "1               0              1           0            1           0   \n",
       "2               1              0           1            0           1   \n",
       "3               0              1           1            0           1   \n",
       "4               1              0           1            0           0   \n",
       "..            ...            ...         ...          ...         ...   \n",
       "294             1              0           1            0           0   \n",
       "295             0              1           1            0           0   \n",
       "296             0              1           1            0           0   \n",
       "297             1              0           1            0           0   \n",
       "298             0              1           1            0           1   \n",
       "\n",
       "     Married_Yes  Ethnicity_African American  Ethnicity_Asian  \\\n",
       "0              1                           0                0   \n",
       "1              1                           0                1   \n",
       "2              0                           0                1   \n",
       "3              0                           0                1   \n",
       "4              1                           0                0   \n",
       "..           ...                         ...              ...   \n",
       "294            1                           0                1   \n",
       "295            1                           0                0   \n",
       "296            1                           0                0   \n",
       "297            1                           0                1   \n",
       "298            0                           1                0   \n",
       "\n",
       "     Ethnicity_Caucasian  \n",
       "0                      1  \n",
       "1                      0  \n",
       "2                      0  \n",
       "3                      0  \n",
       "4                      1  \n",
       "..                   ...  \n",
       "294                    0  \n",
       "295                    1  \n",
       "296                    1  \n",
       "297                    0  \n",
       "298                    0  \n",
       "\n",
       "[299 rows x 9 columns]"
      ]
     },
     "execution_count": 55,
     "metadata": {},
     "output_type": "execute_result"
    }
   ],
   "source": [
    "converted_columns"
   ]
  },
  {
   "cell_type": "code",
   "execution_count": 56,
   "id": "42ff9f3d",
   "metadata": {},
   "outputs": [],
   "source": [
    "new_dt1=new_dt.drop(columns=cat.columns)"
   ]
  },
  {
   "cell_type": "code",
   "execution_count": 57,
   "id": "06728e0c",
   "metadata": {},
   "outputs": [
    {
     "data": {
      "text/html": [
       "<div>\n",
       "<style scoped>\n",
       "    .dataframe tbody tr th:only-of-type {\n",
       "        vertical-align: middle;\n",
       "    }\n",
       "\n",
       "    .dataframe tbody tr th {\n",
       "        vertical-align: top;\n",
       "    }\n",
       "\n",
       "    .dataframe thead th {\n",
       "        text-align: right;\n",
       "    }\n",
       "</style>\n",
       "<table border=\"1\" class=\"dataframe\">\n",
       "  <thead>\n",
       "    <tr style=\"text-align: right;\">\n",
       "      <th></th>\n",
       "      <th>Income ($1000)</th>\n",
       "      <th>Limit</th>\n",
       "      <th>Rating</th>\n",
       "      <th>Cards</th>\n",
       "      <th>Age</th>\n",
       "      <th>Education (years completed)</th>\n",
       "      <th>Balance</th>\n",
       "      <th>Missed</th>\n",
       "      <th>Gender_ Male</th>\n",
       "      <th>Gender_Female</th>\n",
       "      <th>Student_No</th>\n",
       "      <th>Student_Yes</th>\n",
       "      <th>Married_No</th>\n",
       "      <th>Married_Yes</th>\n",
       "      <th>Ethnicity_African American</th>\n",
       "      <th>Ethnicity_Asian</th>\n",
       "      <th>Ethnicity_Caucasian</th>\n",
       "    </tr>\n",
       "  </thead>\n",
       "  <tbody>\n",
       "    <tr>\n",
       "      <th>0</th>\n",
       "      <td>14.891</td>\n",
       "      <td>3606</td>\n",
       "      <td>283</td>\n",
       "      <td>2</td>\n",
       "      <td>34</td>\n",
       "      <td>11</td>\n",
       "      <td>333</td>\n",
       "      <td>1</td>\n",
       "      <td>1</td>\n",
       "      <td>0</td>\n",
       "      <td>1</td>\n",
       "      <td>0</td>\n",
       "      <td>0</td>\n",
       "      <td>1</td>\n",
       "      <td>0</td>\n",
       "      <td>0</td>\n",
       "      <td>1</td>\n",
       "    </tr>\n",
       "    <tr>\n",
       "      <th>1</th>\n",
       "      <td>106.025</td>\n",
       "      <td>6645</td>\n",
       "      <td>483</td>\n",
       "      <td>3</td>\n",
       "      <td>82</td>\n",
       "      <td>15</td>\n",
       "      <td>903</td>\n",
       "      <td>0</td>\n",
       "      <td>0</td>\n",
       "      <td>1</td>\n",
       "      <td>0</td>\n",
       "      <td>1</td>\n",
       "      <td>0</td>\n",
       "      <td>1</td>\n",
       "      <td>0</td>\n",
       "      <td>1</td>\n",
       "      <td>0</td>\n",
       "    </tr>\n",
       "    <tr>\n",
       "      <th>2</th>\n",
       "      <td>104.593</td>\n",
       "      <td>7075</td>\n",
       "      <td>514</td>\n",
       "      <td>4</td>\n",
       "      <td>71</td>\n",
       "      <td>11</td>\n",
       "      <td>580</td>\n",
       "      <td>0</td>\n",
       "      <td>1</td>\n",
       "      <td>0</td>\n",
       "      <td>1</td>\n",
       "      <td>0</td>\n",
       "      <td>1</td>\n",
       "      <td>0</td>\n",
       "      <td>0</td>\n",
       "      <td>1</td>\n",
       "      <td>0</td>\n",
       "    </tr>\n",
       "    <tr>\n",
       "      <th>3</th>\n",
       "      <td>148.924</td>\n",
       "      <td>9504</td>\n",
       "      <td>681</td>\n",
       "      <td>3</td>\n",
       "      <td>36</td>\n",
       "      <td>11</td>\n",
       "      <td>964</td>\n",
       "      <td>0</td>\n",
       "      <td>0</td>\n",
       "      <td>1</td>\n",
       "      <td>1</td>\n",
       "      <td>0</td>\n",
       "      <td>1</td>\n",
       "      <td>0</td>\n",
       "      <td>0</td>\n",
       "      <td>1</td>\n",
       "      <td>0</td>\n",
       "    </tr>\n",
       "    <tr>\n",
       "      <th>4</th>\n",
       "      <td>55.882</td>\n",
       "      <td>4897</td>\n",
       "      <td>357</td>\n",
       "      <td>2</td>\n",
       "      <td>68</td>\n",
       "      <td>16</td>\n",
       "      <td>331</td>\n",
       "      <td>0</td>\n",
       "      <td>1</td>\n",
       "      <td>0</td>\n",
       "      <td>1</td>\n",
       "      <td>0</td>\n",
       "      <td>0</td>\n",
       "      <td>1</td>\n",
       "      <td>0</td>\n",
       "      <td>0</td>\n",
       "      <td>1</td>\n",
       "    </tr>\n",
       "    <tr>\n",
       "      <th>...</th>\n",
       "      <td>...</td>\n",
       "      <td>...</td>\n",
       "      <td>...</td>\n",
       "      <td>...</td>\n",
       "      <td>...</td>\n",
       "      <td>...</td>\n",
       "      <td>...</td>\n",
       "      <td>...</td>\n",
       "      <td>...</td>\n",
       "      <td>...</td>\n",
       "      <td>...</td>\n",
       "      <td>...</td>\n",
       "      <td>...</td>\n",
       "      <td>...</td>\n",
       "      <td>...</td>\n",
       "      <td>...</td>\n",
       "      <td>...</td>\n",
       "    </tr>\n",
       "    <tr>\n",
       "      <th>294</th>\n",
       "      <td>42.915</td>\n",
       "      <td>2532</td>\n",
       "      <td>205</td>\n",
       "      <td>4</td>\n",
       "      <td>42</td>\n",
       "      <td>13</td>\n",
       "      <td>0</td>\n",
       "      <td>1</td>\n",
       "      <td>1</td>\n",
       "      <td>0</td>\n",
       "      <td>1</td>\n",
       "      <td>0</td>\n",
       "      <td>0</td>\n",
       "      <td>1</td>\n",
       "      <td>0</td>\n",
       "      <td>1</td>\n",
       "      <td>0</td>\n",
       "    </tr>\n",
       "    <tr>\n",
       "      <th>295</th>\n",
       "      <td>27.272</td>\n",
       "      <td>1389</td>\n",
       "      <td>149</td>\n",
       "      <td>5</td>\n",
       "      <td>67</td>\n",
       "      <td>10</td>\n",
       "      <td>0</td>\n",
       "      <td>1</td>\n",
       "      <td>0</td>\n",
       "      <td>1</td>\n",
       "      <td>1</td>\n",
       "      <td>0</td>\n",
       "      <td>0</td>\n",
       "      <td>1</td>\n",
       "      <td>0</td>\n",
       "      <td>0</td>\n",
       "      <td>1</td>\n",
       "    </tr>\n",
       "    <tr>\n",
       "      <th>296</th>\n",
       "      <td>65.896</td>\n",
       "      <td>5140</td>\n",
       "      <td>370</td>\n",
       "      <td>1</td>\n",
       "      <td>49</td>\n",
       "      <td>17</td>\n",
       "      <td>293</td>\n",
       "      <td>1</td>\n",
       "      <td>0</td>\n",
       "      <td>1</td>\n",
       "      <td>1</td>\n",
       "      <td>0</td>\n",
       "      <td>0</td>\n",
       "      <td>1</td>\n",
       "      <td>0</td>\n",
       "      <td>0</td>\n",
       "      <td>1</td>\n",
       "    </tr>\n",
       "    <tr>\n",
       "      <th>297</th>\n",
       "      <td>55.054</td>\n",
       "      <td>4381</td>\n",
       "      <td>321</td>\n",
       "      <td>3</td>\n",
       "      <td>74</td>\n",
       "      <td>17</td>\n",
       "      <td>188</td>\n",
       "      <td>0</td>\n",
       "      <td>1</td>\n",
       "      <td>0</td>\n",
       "      <td>1</td>\n",
       "      <td>0</td>\n",
       "      <td>0</td>\n",
       "      <td>1</td>\n",
       "      <td>0</td>\n",
       "      <td>1</td>\n",
       "      <td>0</td>\n",
       "    </tr>\n",
       "    <tr>\n",
       "      <th>298</th>\n",
       "      <td>20.791</td>\n",
       "      <td>2672</td>\n",
       "      <td>204</td>\n",
       "      <td>1</td>\n",
       "      <td>70</td>\n",
       "      <td>18</td>\n",
       "      <td>0</td>\n",
       "      <td>1</td>\n",
       "      <td>0</td>\n",
       "      <td>1</td>\n",
       "      <td>1</td>\n",
       "      <td>0</td>\n",
       "      <td>1</td>\n",
       "      <td>0</td>\n",
       "      <td>1</td>\n",
       "      <td>0</td>\n",
       "      <td>0</td>\n",
       "    </tr>\n",
       "  </tbody>\n",
       "</table>\n",
       "<p>299 rows × 17 columns</p>\n",
       "</div>"
      ],
      "text/plain": [
       "     Income ($1000)  Limit  Rating  Cards  Age  Education (years completed)  \\\n",
       "0            14.891   3606     283      2   34                           11   \n",
       "1           106.025   6645     483      3   82                           15   \n",
       "2           104.593   7075     514      4   71                           11   \n",
       "3           148.924   9504     681      3   36                           11   \n",
       "4            55.882   4897     357      2   68                           16   \n",
       "..              ...    ...     ...    ...  ...                          ...   \n",
       "294          42.915   2532     205      4   42                           13   \n",
       "295          27.272   1389     149      5   67                           10   \n",
       "296          65.896   5140     370      1   49                           17   \n",
       "297          55.054   4381     321      3   74                           17   \n",
       "298          20.791   2672     204      1   70                           18   \n",
       "\n",
       "     Balance  Missed  Gender_ Male  Gender_Female  Student_No  Student_Yes  \\\n",
       "0        333       1             1              0           1            0   \n",
       "1        903       0             0              1           0            1   \n",
       "2        580       0             1              0           1            0   \n",
       "3        964       0             0              1           1            0   \n",
       "4        331       0             1              0           1            0   \n",
       "..       ...     ...           ...            ...         ...          ...   \n",
       "294        0       1             1              0           1            0   \n",
       "295        0       1             0              1           1            0   \n",
       "296      293       1             0              1           1            0   \n",
       "297      188       0             1              0           1            0   \n",
       "298        0       1             0              1           1            0   \n",
       "\n",
       "     Married_No  Married_Yes  Ethnicity_African American  Ethnicity_Asian  \\\n",
       "0             0            1                           0                0   \n",
       "1             0            1                           0                1   \n",
       "2             1            0                           0                1   \n",
       "3             1            0                           0                1   \n",
       "4             0            1                           0                0   \n",
       "..          ...          ...                         ...              ...   \n",
       "294           0            1                           0                1   \n",
       "295           0            1                           0                0   \n",
       "296           0            1                           0                0   \n",
       "297           0            1                           0                1   \n",
       "298           1            0                           1                0   \n",
       "\n",
       "     Ethnicity_Caucasian  \n",
       "0                      1  \n",
       "1                      0  \n",
       "2                      0  \n",
       "3                      0  \n",
       "4                      1  \n",
       "..                   ...  \n",
       "294                    0  \n",
       "295                    1  \n",
       "296                    1  \n",
       "297                    0  \n",
       "298                    0  \n",
       "\n",
       "[299 rows x 17 columns]"
      ]
     },
     "execution_count": 57,
     "metadata": {},
     "output_type": "execute_result"
    }
   ],
   "source": [
    "new_dt2=pd.concat([new_dt1,converted_columns],axis=1)\n",
    "new_dt2"
   ]
  },
  {
   "cell_type": "code",
   "execution_count": 58,
   "id": "13ebc853",
   "metadata": {},
   "outputs": [
    {
     "name": "stdout",
     "output_type": "stream",
     "text": [
      "Income ($1000)\n",
      "Limit\n",
      "Rating\n",
      "Cards\n",
      "Age\n",
      "Education (years completed)\n",
      "Balance\n",
      "Missed\n",
      "Gender_ Male\n",
      "Gender_Female\n",
      "Student_No\n",
      "Student_Yes\n",
      "Married_No\n",
      "Married_Yes\n",
      "Ethnicity_African American\n",
      "Ethnicity_Asian\n",
      "Ethnicity_Caucasian\n"
     ]
    }
   ],
   "source": [
    "show_columns(new_dt2)"
   ]
  },
  {
   "cell_type": "code",
   "execution_count": 59,
   "id": "466936ae",
   "metadata": {},
   "outputs": [],
   "source": [
    "new_dt2.drop(columns=['Missed','Balance'],inplace=True)"
   ]
  },
  {
   "cell_type": "markdown",
   "id": "8aec76bb",
   "metadata": {},
   "source": [
    "#### Normalize features by scalling "
   ]
  },
  {
   "cell_type": "code",
   "execution_count": 61,
   "id": "7ffc17e1",
   "metadata": {},
   "outputs": [],
   "source": [
    "from sklearn.preprocessing import StandardScaler"
   ]
  },
  {
   "cell_type": "code",
   "execution_count": 62,
   "id": "718b8318",
   "metadata": {},
   "outputs": [],
   "source": [
    "Scaler=StandardScaler()"
   ]
  },
  {
   "cell_type": "code",
   "execution_count": 64,
   "id": "27c0f459",
   "metadata": {},
   "outputs": [
    {
     "data": {
      "text/plain": [
       "array([[-0.86356807, -0.45548022, -0.43109205, ..., -0.58893705,\n",
       "        -0.60955692,  1.05856855],\n",
       "       [ 1.82912563,  0.90083577,  0.89459469, ..., -0.58893705,\n",
       "         1.6405359 , -0.94467193],\n",
       "       [ 1.78681499,  1.09274623,  1.10007614, ..., -0.58893705,\n",
       "         1.6405359 , -0.94467193],\n",
       "       ...,\n",
       "       [ 0.64345282,  0.22914917,  0.14558169, ..., -0.58893705,\n",
       "        -0.60955692,  1.05856855],\n",
       "       [ 0.32310932, -0.1095951 , -0.17921157, ..., -0.58893705,\n",
       "         1.6405359 , -0.94467193],\n",
       "       [-0.68924353, -0.87232758, -0.95473831, ...,  1.69797435,\n",
       "        -0.60955692, -0.94467193]])"
      ]
     },
     "execution_count": 64,
     "metadata": {},
     "output_type": "execute_result"
    }
   ],
   "source": [
    "new_dt3=Scaler.fit_transform(new_dt2)\n",
    "new_dt3"
   ]
  },
  {
   "cell_type": "code",
   "execution_count": 67,
   "id": "e90d936b",
   "metadata": {},
   "outputs": [],
   "source": [
    "X=new_dt3\n",
    "y=new_dt[['Balance']]"
   ]
  },
  {
   "cell_type": "markdown",
   "id": "d2db6a9d",
   "metadata": {},
   "source": [
    "<a id='split'></a>\n",
    "# Split data into train and test sets for model"
   ]
  },
  {
   "cell_type": "code",
   "execution_count": 73,
   "id": "77872483",
   "metadata": {},
   "outputs": [],
   "source": [
    "from sklearn.model_selection import train_test_split"
   ]
  },
  {
   "cell_type": "code",
   "execution_count": 74,
   "id": "52df3664",
   "metadata": {},
   "outputs": [],
   "source": [
    "X_train,X_valid,y_train,y_valid=train_test_split(X,y,test_size=0.2,random_state=42)"
   ]
  },
  {
   "cell_type": "code",
   "execution_count": 75,
   "id": "6c1d89d5",
   "metadata": {},
   "outputs": [
    {
     "name": "stdout",
     "output_type": "stream",
     "text": [
      "Train set Size : (239, 15)\n",
      "Valid set Size : (60, 15)\n"
     ]
    }
   ],
   "source": [
    "print(f\"Train set Size : {X_train.shape}\")\n",
    "print(f\"Valid set Size : {X_valid.shape}\")"
   ]
  },
  {
   "cell_type": "markdown",
   "id": "2860ffec",
   "metadata": {},
   "source": [
    "<a id='model'></a>\n",
    "# Train the Model"
   ]
  },
  {
   "cell_type": "code",
   "execution_count": 106,
   "id": "1a3dbb62",
   "metadata": {},
   "outputs": [],
   "source": [
    "from sklearn.linear_model import LinearRegression\n",
    "from sklearn.svm import SVR\n",
    "from sklearn.metrics import mean_squared_error,mean_absolute_error\n",
    "from sklearn.metrics import r2_score"
   ]
  },
  {
   "cell_type": "markdown",
   "id": "c40d5212",
   "metadata": {},
   "source": [
    "### linear model: LinearRegression"
   ]
  },
  {
   "cell_type": "code",
   "execution_count": 85,
   "id": "ca4edefb",
   "metadata": {},
   "outputs": [
    {
     "data": {
      "text/plain": [
       "LinearRegression()"
      ]
     },
     "execution_count": 85,
     "metadata": {},
     "output_type": "execute_result"
    }
   ],
   "source": [
    "model1=LinearRegression()\n",
    "model1.fit(X_train,y_train)"
   ]
  },
  {
   "cell_type": "markdown",
   "id": "05006b00",
   "metadata": {},
   "source": [
    "#### Model Predict"
   ]
  },
  {
   "cell_type": "code",
   "execution_count": 104,
   "id": "898a884a",
   "metadata": {},
   "outputs": [],
   "source": [
    "y_valid_pred1=model1.predict(X_valid)\n",
    "y_valid_pred1=np.round(y_valid_pred1).astype(int)"
   ]
  },
  {
   "cell_type": "code",
   "execution_count": 105,
   "id": "7824eca3",
   "metadata": {},
   "outputs": [
    {
     "data": {
      "text/plain": [
       "array([[-202],\n",
       "       [ 588],\n",
       "       [ 588],\n",
       "       [1237],\n",
       "       [ 248],\n",
       "       [ 411],\n",
       "       [ 870],\n",
       "       [ 409],\n",
       "       [1107],\n",
       "       [ 698],\n",
       "       [ 253],\n",
       "       [ 779],\n",
       "       [1363],\n",
       "       [ -68],\n",
       "       [ 258],\n",
       "       [ 635],\n",
       "       [-216],\n",
       "       [ 351],\n",
       "       [ 279],\n",
       "       [1327],\n",
       "       [-171],\n",
       "       [ 754],\n",
       "       [-136],\n",
       "       [1170],\n",
       "       [ 468],\n",
       "       [ 638],\n",
       "       [ 548],\n",
       "       [-156],\n",
       "       [ 629],\n",
       "       [ 575],\n",
       "       [ 456],\n",
       "       [ 258],\n",
       "       [-158],\n",
       "       [ -61],\n",
       "       [1018],\n",
       "       [ 904],\n",
       "       [ 783],\n",
       "       [-148],\n",
       "       [  96],\n",
       "       [ 135],\n",
       "       [ 100],\n",
       "       [ 591],\n",
       "       [ -93],\n",
       "       [ 577],\n",
       "       [ 354],\n",
       "       [ 176],\n",
       "       [ 191],\n",
       "       [ 853],\n",
       "       [ 640],\n",
       "       [ 498],\n",
       "       [ 184],\n",
       "       [ 303],\n",
       "       [  15],\n",
       "       [  62],\n",
       "       [ 543],\n",
       "       [ 620],\n",
       "       [-152],\n",
       "       [ 644],\n",
       "       [ 764],\n",
       "       [ 566]])"
      ]
     },
     "execution_count": 105,
     "metadata": {},
     "output_type": "execute_result"
    }
   ],
   "source": [
    "y_valid_pred1"
   ]
  },
  {
   "cell_type": "code",
   "execution_count": 87,
   "id": "711db0a9",
   "metadata": {},
   "outputs": [
    {
     "data": {
      "text/plain": [
       "array([[   0],\n",
       "       [ 549],\n",
       "       [ 548],\n",
       "       [1350],\n",
       "       [ 145],\n",
       "       [ 250],\n",
       "       [ 937],\n",
       "       [ 297],\n",
       "       [1151],\n",
       "       [ 724],\n",
       "       [ 155],\n",
       "       [ 802],\n",
       "       [1448],\n",
       "       [   0],\n",
       "       [ 133],\n",
       "       [ 631],\n",
       "       [   0],\n",
       "       [ 227],\n",
       "       [ 133],\n",
       "       [1425],\n",
       "       [   0],\n",
       "       [ 745],\n",
       "       [   0],\n",
       "       [1241],\n",
       "       [ 385],\n",
       "       [ 529],\n",
       "       [ 541],\n",
       "       [   0],\n",
       "       [ 637],\n",
       "       [ 489],\n",
       "       [ 368],\n",
       "       [ 163],\n",
       "       [   0],\n",
       "       [   0],\n",
       "       [ 997],\n",
       "       [ 872],\n",
       "       [ 768],\n",
       "       [   0],\n",
       "       [   0],\n",
       "       [   0],\n",
       "       [  29],\n",
       "       [ 503],\n",
       "       [   0],\n",
       "       [ 532],\n",
       "       [ 255],\n",
       "       [  69],\n",
       "       [  95],\n",
       "       [ 863],\n",
       "       [ 653],\n",
       "       [ 453],\n",
       "       [  68],\n",
       "       [ 188],\n",
       "       [   0],\n",
       "       [   0],\n",
       "       [ 531],\n",
       "       [ 601],\n",
       "       [   0],\n",
       "       [ 671],\n",
       "       [ 732],\n",
       "       [ 531]], dtype=int64)"
      ]
     },
     "execution_count": 87,
     "metadata": {},
     "output_type": "execute_result"
    }
   ],
   "source": [
    "y_valid.values"
   ]
  },
  {
   "cell_type": "markdown",
   "id": "b60b977c",
   "metadata": {},
   "source": [
    "#### Model Evaluation"
   ]
  },
  {
   "cell_type": "code",
   "execution_count": 98,
   "id": "f10a2496",
   "metadata": {},
   "outputs": [
    {
     "name": "stdout",
     "output_type": "stream",
     "text": [
      "Train Accuracy = 96.0 %\n",
      "Valid Accuracy = 94.28 %\n"
     ]
    }
   ],
   "source": [
    "print(f\"Train Accuracy = {round(model1.score(X_train,y_train),2)*100} %\")\n",
    "print(f\"Valid Accuracy = {round(r2_score(y_valid,y_valid_pred1)*100,2)} %\")"
   ]
  },
  {
   "cell_type": "code",
   "execution_count": 110,
   "id": "f4c53e85",
   "metadata": {},
   "outputs": [
    {
     "name": "stdout",
     "output_type": "stream",
     "text": [
      "Mean Absolute Error = 80.51666666666667\n"
     ]
    }
   ],
   "source": [
    "print(f\"Mean Absolute Error = {mean_absolute_error(y_valid,y_valid_pred1)}\")"
   ]
  },
  {
   "cell_type": "markdown",
   "id": "00d79324",
   "metadata": {},
   "source": [
    "_______"
   ]
  },
  {
   "cell_type": "markdown",
   "id": "88957be8",
   "metadata": {},
   "source": [
    "### Polymodel: SVR"
   ]
  },
  {
   "cell_type": "code",
   "execution_count": 131,
   "id": "e402562b",
   "metadata": {},
   "outputs": [],
   "source": [
    "from sklearn.preprocessing import PolynomialFeatures\n",
    "poly_features = PolynomialFeatures(degree=2)\n",
    "X_train_poly = poly_features.fit_transform(X_train)\n",
    "X_valid_poly = poly_features.fit_transform(X_valid)"
   ]
  },
  {
   "cell_type": "code",
   "execution_count": 132,
   "id": "ee06db22",
   "metadata": {},
   "outputs": [
    {
     "data": {
      "text/plain": [
       "LinearRegression()"
      ]
     },
     "execution_count": 132,
     "metadata": {},
     "output_type": "execute_result"
    }
   ],
   "source": [
    "model2=LinearRegression()\n",
    "model2.fit(X_train_poly,y_train)"
   ]
  },
  {
   "cell_type": "markdown",
   "id": "2f7cc8b5",
   "metadata": {},
   "source": [
    "#### Model Predict"
   ]
  },
  {
   "cell_type": "code",
   "execution_count": 133,
   "id": "7232bf6d",
   "metadata": {},
   "outputs": [],
   "source": [
    "y_valid_pred2=model2.predict(X_valid_poly)\n",
    "y_valid_pred2=np.round(y_valid_pred2).astype(int)"
   ]
  },
  {
   "cell_type": "code",
   "execution_count": 181,
   "id": "0787071c",
   "metadata": {},
   "outputs": [
    {
     "data": {
      "text/plain": [
       "array([[   5],\n",
       "       [ 522],\n",
       "       [ 460],\n",
       "       [1339],\n",
       "       [ 224],\n",
       "       [ 332],\n",
       "       [ 943],\n",
       "       [ 298],\n",
       "       [1125],\n",
       "       [ 718],\n",
       "       [ 199],\n",
       "       [ 807],\n",
       "       [1426],\n",
       "       [ -48],\n",
       "       [ 206],\n",
       "       [ 497],\n",
       "       [ -57],\n",
       "       [ 286],\n",
       "       [ 210],\n",
       "       [1532],\n",
       "       [ -42],\n",
       "       [ 725],\n",
       "       [ -56],\n",
       "       [1254],\n",
       "       [ 379],\n",
       "       [ 526],\n",
       "       [ 433],\n",
       "       [ -35],\n",
       "       [ 549],\n",
       "       [ 500],\n",
       "       [ 349],\n",
       "       [ 215],\n",
       "       [ -46],\n",
       "       [  -6],\n",
       "       [ 983],\n",
       "       [ 831],\n",
       "       [ 672],\n",
       "       [  12],\n",
       "       [  83],\n",
       "       [ 134],\n",
       "       [  48],\n",
       "       [ 467],\n",
       "       [ -51],\n",
       "       [ 460],\n",
       "       [ 337],\n",
       "       [  93],\n",
       "       [ 162],\n",
       "       [ 850],\n",
       "       [ 602],\n",
       "       [ 466],\n",
       "       [ 156],\n",
       "       [ 272],\n",
       "       [  51],\n",
       "       [  70],\n",
       "       [ 479],\n",
       "       [ 551],\n",
       "       [ -59],\n",
       "       [ 612],\n",
       "       [ 588],\n",
       "       [ 486]])"
      ]
     },
     "execution_count": 181,
     "metadata": {},
     "output_type": "execute_result"
    }
   ],
   "source": [
    "y_valid_pred2"
   ]
  },
  {
   "cell_type": "code",
   "execution_count": 135,
   "id": "beab77a7",
   "metadata": {},
   "outputs": [
    {
     "data": {
      "text/plain": [
       "array([[   0],\n",
       "       [ 549],\n",
       "       [ 548],\n",
       "       [1350],\n",
       "       [ 145],\n",
       "       [ 250],\n",
       "       [ 937],\n",
       "       [ 297],\n",
       "       [1151],\n",
       "       [ 724],\n",
       "       [ 155],\n",
       "       [ 802],\n",
       "       [1448],\n",
       "       [   0],\n",
       "       [ 133],\n",
       "       [ 631],\n",
       "       [   0],\n",
       "       [ 227],\n",
       "       [ 133],\n",
       "       [1425],\n",
       "       [   0],\n",
       "       [ 745],\n",
       "       [   0],\n",
       "       [1241],\n",
       "       [ 385],\n",
       "       [ 529],\n",
       "       [ 541],\n",
       "       [   0],\n",
       "       [ 637],\n",
       "       [ 489],\n",
       "       [ 368],\n",
       "       [ 163],\n",
       "       [   0],\n",
       "       [   0],\n",
       "       [ 997],\n",
       "       [ 872],\n",
       "       [ 768],\n",
       "       [   0],\n",
       "       [   0],\n",
       "       [   0],\n",
       "       [  29],\n",
       "       [ 503],\n",
       "       [   0],\n",
       "       [ 532],\n",
       "       [ 255],\n",
       "       [  69],\n",
       "       [  95],\n",
       "       [ 863],\n",
       "       [ 653],\n",
       "       [ 453],\n",
       "       [  68],\n",
       "       [ 188],\n",
       "       [   0],\n",
       "       [   0],\n",
       "       [ 531],\n",
       "       [ 601],\n",
       "       [   0],\n",
       "       [ 671],\n",
       "       [ 732],\n",
       "       [ 531]], dtype=int64)"
      ]
     },
     "execution_count": 135,
     "metadata": {},
     "output_type": "execute_result"
    }
   ],
   "source": [
    "y_valid.values"
   ]
  },
  {
   "cell_type": "markdown",
   "id": "c735b66d",
   "metadata": {},
   "source": [
    "#### Model Evaluation"
   ]
  },
  {
   "cell_type": "code",
   "execution_count": 137,
   "id": "dc2e7290",
   "metadata": {},
   "outputs": [
    {
     "name": "stdout",
     "output_type": "stream",
     "text": [
      "Train Accuracy = 99.0 %\n",
      "Valid Accuracy = 97.71 %\n"
     ]
    }
   ],
   "source": [
    "print(f\"Train Accuracy = {round(model2.score(X_train_poly,y_train),2)*100} %\")\n",
    "print(f\"Valid Accuracy = {round(r2_score(y_valid,y_valid_pred2)*100,2)} %\")"
   ]
  },
  {
   "cell_type": "code",
   "execution_count": 138,
   "id": "70f2f648",
   "metadata": {},
   "outputs": [
    {
     "name": "stdout",
     "output_type": "stream",
     "text": [
      "Mean Absolute Error = 49.53333333333333\n"
     ]
    }
   ],
   "source": [
    "print(f\"Mean Absolute Error = {mean_absolute_error(y_valid,y_valid_pred2)}\")"
   ]
  },
  {
   "cell_type": "markdown",
   "id": "4d7c2550",
   "metadata": {},
   "source": [
    "<a id='con'> </a>\n",
    "# Conclusions"
   ]
  },
  {
   "cell_type": "markdown",
   "id": "89f7c8ad",
   "metadata": {},
   "source": [
    "- The data is displayed entirely from a file\n",
    "\n",
    "- no missing data and no duplicated data\n",
    "\n",
    "- Data were analyzed and visualized\n",
    "\n",
    "- The relationship between the columns has been concluded\n",
    "\n",
    "- The data is processed for training\n",
    "\n",
    "- The data was divided into training data and validation data\n",
    "\n",
    "- Two linear and non-linear models that are LinearRegression and polynomial regression were trained\n",
    "\n",
    "- Then it was concluded that the best model was created from these two models, which are two models, as shown in the previous results"
   ]
  },
  {
   "cell_type": "markdown",
   "id": "da50631b",
   "metadata": {},
   "source": [
    "So we will save it Linear Regression model for predicting results of CreditCardApplications.csv"
   ]
  },
  {
   "cell_type": "code",
   "execution_count": 188,
   "id": "889ba2d0",
   "metadata": {},
   "outputs": [
    {
     "data": {
      "text/plain": [
       "['LinearRegression']"
      ]
     },
     "execution_count": 188,
     "metadata": {},
     "output_type": "execute_result"
    }
   ],
   "source": [
    "import joblib\n",
    "joblib.dump(model1,'LinearRegression')"
   ]
  },
  {
   "cell_type": "markdown",
   "id": "bda17ba8",
   "metadata": {},
   "source": [
    "Devise some rule that will allow you to choose who should or should not be approved for a new credit card based on what you have observed in your analysis. Be sure that your rule includes the individuals' balance."
   ]
  },
  {
   "cell_type": "markdown",
   "id": "e8aab598",
   "metadata": {},
   "source": [
    "from above analysis we found that there are negative correlation with Missed:\n",
    "- Rating\n",
    "- Limit                         \n",
    "- Balance                       \n",
    "- Income "
   ]
  },
  {
   "cell_type": "markdown",
   "id": "e7904898",
   "metadata": {},
   "source": [
    "Missed column has two value 0 for got and 1 for missed"
   ]
  },
  {
   "cell_type": "markdown",
   "id": "e22fd46e",
   "metadata": {},
   "source": [
    "Rules for Got a card.\n",
    "- if income with thouthand is greater than or equal 50\n",
    "- if limit is greater than or equal 5000\n",
    "- if Rating is greater than or equal 450\n",
    "- if Balance is greater than or equal 750"
   ]
  },
  {
   "cell_type": "markdown",
   "id": "85a882de",
   "metadata": {},
   "source": [
    "### Using model To predict in Genaral "
   ]
  },
  {
   "cell_type": "markdown",
   "id": "2bd441f8",
   "metadata": {},
   "source": [
    "In this dataset, you will find individual characteristcs but you will not find data on their outstanding balance. This dataset represents information for 50 people who are applying for a credit from a company with which they have not had a credit card before."
   ]
  },
  {
   "cell_type": "code",
   "execution_count": 193,
   "id": "f63e27c8",
   "metadata": {},
   "outputs": [],
   "source": [
    "data2=pd.read_csv('CreditCardApplications.csv')"
   ]
  },
  {
   "cell_type": "code",
   "execution_count": 173,
   "id": "03d86614",
   "metadata": {},
   "outputs": [
    {
     "data": {
      "text/html": [
       "<div>\n",
       "<style scoped>\n",
       "    .dataframe tbody tr th:only-of-type {\n",
       "        vertical-align: middle;\n",
       "    }\n",
       "\n",
       "    .dataframe tbody tr th {\n",
       "        vertical-align: top;\n",
       "    }\n",
       "\n",
       "    .dataframe thead th {\n",
       "        text-align: right;\n",
       "    }\n",
       "</style>\n",
       "<table border=\"1\" class=\"dataframe\">\n",
       "  <thead>\n",
       "    <tr style=\"text-align: right;\">\n",
       "      <th></th>\n",
       "      <th>ID</th>\n",
       "      <th>Income ($1000)</th>\n",
       "      <th>Limit</th>\n",
       "      <th>Rating</th>\n",
       "      <th>Cards</th>\n",
       "      <th>Age</th>\n",
       "      <th>Education (years completed)</th>\n",
       "      <th>Gender</th>\n",
       "      <th>Student</th>\n",
       "      <th>Married</th>\n",
       "      <th>Ethnicity</th>\n",
       "    </tr>\n",
       "  </thead>\n",
       "  <tbody>\n",
       "    <tr>\n",
       "      <th>0</th>\n",
       "      <td>300</td>\n",
       "      <td>24.919</td>\n",
       "      <td>5051</td>\n",
       "      <td>372</td>\n",
       "      <td>3</td>\n",
       "      <td>76</td>\n",
       "      <td>11</td>\n",
       "      <td>Female</td>\n",
       "      <td>No</td>\n",
       "      <td>Yes</td>\n",
       "      <td>African American</td>\n",
       "    </tr>\n",
       "    <tr>\n",
       "      <th>1</th>\n",
       "      <td>301</td>\n",
       "      <td>21.786</td>\n",
       "      <td>4632</td>\n",
       "      <td>355</td>\n",
       "      <td>1</td>\n",
       "      <td>50</td>\n",
       "      <td>17</td>\n",
       "      <td>Male</td>\n",
       "      <td>No</td>\n",
       "      <td>Yes</td>\n",
       "      <td>Caucasian</td>\n",
       "    </tr>\n",
       "    <tr>\n",
       "      <th>2</th>\n",
       "      <td>302</td>\n",
       "      <td>31.335</td>\n",
       "      <td>3526</td>\n",
       "      <td>289</td>\n",
       "      <td>3</td>\n",
       "      <td>38</td>\n",
       "      <td>7</td>\n",
       "      <td>Female</td>\n",
       "      <td>No</td>\n",
       "      <td>No</td>\n",
       "      <td>Caucasian</td>\n",
       "    </tr>\n",
       "    <tr>\n",
       "      <th>3</th>\n",
       "      <td>303</td>\n",
       "      <td>59.855</td>\n",
       "      <td>4964</td>\n",
       "      <td>365</td>\n",
       "      <td>1</td>\n",
       "      <td>46</td>\n",
       "      <td>13</td>\n",
       "      <td>Female</td>\n",
       "      <td>No</td>\n",
       "      <td>Yes</td>\n",
       "      <td>Caucasian</td>\n",
       "    </tr>\n",
       "    <tr>\n",
       "      <th>4</th>\n",
       "      <td>304</td>\n",
       "      <td>44.061</td>\n",
       "      <td>4970</td>\n",
       "      <td>352</td>\n",
       "      <td>1</td>\n",
       "      <td>79</td>\n",
       "      <td>11</td>\n",
       "      <td>Male</td>\n",
       "      <td>No</td>\n",
       "      <td>Yes</td>\n",
       "      <td>African American</td>\n",
       "    </tr>\n",
       "  </tbody>\n",
       "</table>\n",
       "</div>"
      ],
      "text/plain": [
       "    ID  Income ($1000)  Limit  Rating  Cards  Age  \\\n",
       "0  300          24.919   5051     372      3   76   \n",
       "1  301          21.786   4632     355      1   50   \n",
       "2  302          31.335   3526     289      3   38   \n",
       "3  303          59.855   4964     365      1   46   \n",
       "4  304          44.061   4970     352      1   79   \n",
       "\n",
       "   Education (years completed)  Gender Student Married         Ethnicity  \n",
       "0                           11  Female      No     Yes  African American  \n",
       "1                           17    Male      No     Yes         Caucasian  \n",
       "2                            7  Female      No      No         Caucasian  \n",
       "3                           13  Female      No     Yes         Caucasian  \n",
       "4                           11    Male      No     Yes  African American  "
      ]
     },
     "execution_count": 173,
     "metadata": {},
     "output_type": "execute_result"
    }
   ],
   "source": [
    "data2.head()"
   ]
  },
  {
   "cell_type": "code",
   "execution_count": 147,
   "id": "bd033393",
   "metadata": {},
   "outputs": [
    {
     "data": {
      "text/plain": [
       "(50, 11)"
      ]
     },
     "execution_count": 147,
     "metadata": {},
     "output_type": "execute_result"
    }
   ],
   "source": [
    "data2.shape"
   ]
  },
  {
   "cell_type": "code",
   "execution_count": 149,
   "id": "1487cdc0",
   "metadata": {},
   "outputs": [],
   "source": [
    "dt2=data2.drop(columns='ID')"
   ]
  },
  {
   "cell_type": "code",
   "execution_count": 153,
   "id": "29d22a52",
   "metadata": {},
   "outputs": [],
   "source": [
    "cat1=dt2.select_dtypes('object')"
   ]
  },
  {
   "cell_type": "code",
   "execution_count": 154,
   "id": "f89ae9c7",
   "metadata": {},
   "outputs": [],
   "source": [
    "converted_columns=pd.get_dummies(cat1)"
   ]
  },
  {
   "cell_type": "code",
   "execution_count": 155,
   "id": "2d2769b9",
   "metadata": {},
   "outputs": [],
   "source": [
    "dt3=dt2.drop(columns=cat1.columns)"
   ]
  },
  {
   "cell_type": "code",
   "execution_count": 156,
   "id": "fc044a4c",
   "metadata": {},
   "outputs": [
    {
     "name": "stdout",
     "output_type": "stream",
     "text": [
      "Income ($1000)\n",
      "Limit\n",
      "Rating\n",
      "Cards\n",
      "Age\n",
      "Education (years completed)\n",
      "Gender_ Male\n",
      "Gender_Female\n",
      "Student_No\n",
      "Student_Yes\n",
      "Married_No\n",
      "Married_Yes\n",
      "Ethnicity_African American\n",
      "Ethnicity_Asian\n",
      "Ethnicity_Caucasian\n"
     ]
    }
   ],
   "source": [
    "dt4=pd.concat([dt3,converted_columns],axis=1)\n",
    "show_columns(dt4)"
   ]
  },
  {
   "cell_type": "code",
   "execution_count": 174,
   "id": "d36bd76e",
   "metadata": {},
   "outputs": [
    {
     "data": {
      "text/plain": [
       "(50, 15)"
      ]
     },
     "execution_count": 174,
     "metadata": {},
     "output_type": "execute_result"
    }
   ],
   "source": [
    "dt4.shape"
   ]
  },
  {
   "cell_type": "code",
   "execution_count": 158,
   "id": "a0dbe9f8",
   "metadata": {},
   "outputs": [],
   "source": [
    "dt5=Scaler.fit_transform(dt4)"
   ]
  },
  {
   "cell_type": "markdown",
   "id": "e6fe6bd5",
   "metadata": {},
   "source": [
    "#### Predict new file by Logistic Regression models "
   ]
  },
  {
   "cell_type": "code",
   "execution_count": 189,
   "id": "2db12fd2",
   "metadata": {},
   "outputs": [],
   "source": [
    "LinearRegression=joblib.load('LinearRegression')"
   ]
  },
  {
   "cell_type": "code",
   "execution_count": 190,
   "id": "befae6bf",
   "metadata": {},
   "outputs": [],
   "source": [
    "y_pred1=LinearRegression.predict(dt5)\n",
    "y_pred1=np.round(y_pred1).astype(int)"
   ]
  },
  {
   "cell_type": "code",
   "execution_count": 191,
   "id": "bc941c3a",
   "metadata": {},
   "outputs": [
    {
     "data": {
      "text/plain": [
       "array([[ 615],\n",
       "       [ 536],\n",
       "       [ 277],\n",
       "       [ 341],\n",
       "       [ 421],\n",
       "       [ 804],\n",
       "       [-106],\n",
       "       [ 199],\n",
       "       [  32],\n",
       "       [ 617],\n",
       "       [ 737],\n",
       "       [ 991],\n",
       "       [ 722],\n",
       "       [ 716],\n",
       "       [ 746],\n",
       "       [ 988],\n",
       "       [ 441],\n",
       "       [ 977],\n",
       "       [ 221],\n",
       "       [-184],\n",
       "       [  88],\n",
       "       [ 264],\n",
       "       [ 155],\n",
       "       [ 335],\n",
       "       [1662],\n",
       "       [ 543],\n",
       "       [ 634],\n",
       "       [1159],\n",
       "       [ 885],\n",
       "       [ 211],\n",
       "       [ 718],\n",
       "       [1002],\n",
       "       [ 438],\n",
       "       [ 404],\n",
       "       [ 236],\n",
       "       [ 538],\n",
       "       [ 270],\n",
       "       [ 809],\n",
       "       [-223],\n",
       "       [ 544],\n",
       "       [ 947],\n",
       "       [ 362],\n",
       "       [ 410],\n",
       "       [ 295],\n",
       "       [ 393],\n",
       "       [ 634],\n",
       "       [-241],\n",
       "       [ 808],\n",
       "       [1033],\n",
       "       [-211]])"
      ]
     },
     "execution_count": 191,
     "metadata": {},
     "output_type": "execute_result"
    }
   ],
   "source": [
    "y_pred1"
   ]
  },
  {
   "cell_type": "markdown",
   "id": "d755cfda",
   "metadata": {},
   "source": [
    "Store predict value as columns called Balance with new file"
   ]
  },
  {
   "cell_type": "code",
   "execution_count": 194,
   "id": "9a8199fb",
   "metadata": {},
   "outputs": [
    {
     "data": {
      "text/html": [
       "<div>\n",
       "<style scoped>\n",
       "    .dataframe tbody tr th:only-of-type {\n",
       "        vertical-align: middle;\n",
       "    }\n",
       "\n",
       "    .dataframe tbody tr th {\n",
       "        vertical-align: top;\n",
       "    }\n",
       "\n",
       "    .dataframe thead th {\n",
       "        text-align: right;\n",
       "    }\n",
       "</style>\n",
       "<table border=\"1\" class=\"dataframe\">\n",
       "  <thead>\n",
       "    <tr style=\"text-align: right;\">\n",
       "      <th></th>\n",
       "      <th>ID</th>\n",
       "      <th>Income ($1000)</th>\n",
       "      <th>Limit</th>\n",
       "      <th>Rating</th>\n",
       "      <th>Cards</th>\n",
       "      <th>Age</th>\n",
       "      <th>Education (years completed)</th>\n",
       "      <th>Gender</th>\n",
       "      <th>Student</th>\n",
       "      <th>Married</th>\n",
       "      <th>Ethnicity</th>\n",
       "    </tr>\n",
       "  </thead>\n",
       "  <tbody>\n",
       "    <tr>\n",
       "      <th>0</th>\n",
       "      <td>300</td>\n",
       "      <td>24.919</td>\n",
       "      <td>5051</td>\n",
       "      <td>372</td>\n",
       "      <td>3</td>\n",
       "      <td>76</td>\n",
       "      <td>11</td>\n",
       "      <td>Female</td>\n",
       "      <td>No</td>\n",
       "      <td>Yes</td>\n",
       "      <td>African American</td>\n",
       "    </tr>\n",
       "    <tr>\n",
       "      <th>1</th>\n",
       "      <td>301</td>\n",
       "      <td>21.786</td>\n",
       "      <td>4632</td>\n",
       "      <td>355</td>\n",
       "      <td>1</td>\n",
       "      <td>50</td>\n",
       "      <td>17</td>\n",
       "      <td>Male</td>\n",
       "      <td>No</td>\n",
       "      <td>Yes</td>\n",
       "      <td>Caucasian</td>\n",
       "    </tr>\n",
       "    <tr>\n",
       "      <th>2</th>\n",
       "      <td>302</td>\n",
       "      <td>31.335</td>\n",
       "      <td>3526</td>\n",
       "      <td>289</td>\n",
       "      <td>3</td>\n",
       "      <td>38</td>\n",
       "      <td>7</td>\n",
       "      <td>Female</td>\n",
       "      <td>No</td>\n",
       "      <td>No</td>\n",
       "      <td>Caucasian</td>\n",
       "    </tr>\n",
       "    <tr>\n",
       "      <th>3</th>\n",
       "      <td>303</td>\n",
       "      <td>59.855</td>\n",
       "      <td>4964</td>\n",
       "      <td>365</td>\n",
       "      <td>1</td>\n",
       "      <td>46</td>\n",
       "      <td>13</td>\n",
       "      <td>Female</td>\n",
       "      <td>No</td>\n",
       "      <td>Yes</td>\n",
       "      <td>Caucasian</td>\n",
       "    </tr>\n",
       "    <tr>\n",
       "      <th>4</th>\n",
       "      <td>304</td>\n",
       "      <td>44.061</td>\n",
       "      <td>4970</td>\n",
       "      <td>352</td>\n",
       "      <td>1</td>\n",
       "      <td>79</td>\n",
       "      <td>11</td>\n",
       "      <td>Male</td>\n",
       "      <td>No</td>\n",
       "      <td>Yes</td>\n",
       "      <td>African American</td>\n",
       "    </tr>\n",
       "  </tbody>\n",
       "</table>\n",
       "</div>"
      ],
      "text/plain": [
       "    ID  Income ($1000)  Limit  Rating  Cards  Age  \\\n",
       "0  300          24.919   5051     372      3   76   \n",
       "1  301          21.786   4632     355      1   50   \n",
       "2  302          31.335   3526     289      3   38   \n",
       "3  303          59.855   4964     365      1   46   \n",
       "4  304          44.061   4970     352      1   79   \n",
       "\n",
       "   Education (years completed)  Gender Student Married         Ethnicity  \n",
       "0                           11  Female      No     Yes  African American  \n",
       "1                           17    Male      No     Yes         Caucasian  \n",
       "2                            7  Female      No      No         Caucasian  \n",
       "3                           13  Female      No     Yes         Caucasian  \n",
       "4                           11    Male      No     Yes  African American  "
      ]
     },
     "execution_count": 194,
     "metadata": {},
     "output_type": "execute_result"
    }
   ],
   "source": [
    "data2.head()"
   ]
  },
  {
   "cell_type": "markdown",
   "id": "9fb21476",
   "metadata": {},
   "source": [
    "#### Deploy your model to generate predicted card balance"
   ]
  },
  {
   "cell_type": "code",
   "execution_count": 195,
   "id": "aa7e8e43",
   "metadata": {},
   "outputs": [],
   "source": [
    "data2['Balance']=y_pred1"
   ]
  },
  {
   "cell_type": "code",
   "execution_count": 199,
   "id": "da5c4130",
   "metadata": {},
   "outputs": [
    {
     "data": {
      "text/html": [
       "<div>\n",
       "<style scoped>\n",
       "    .dataframe tbody tr th:only-of-type {\n",
       "        vertical-align: middle;\n",
       "    }\n",
       "\n",
       "    .dataframe tbody tr th {\n",
       "        vertical-align: top;\n",
       "    }\n",
       "\n",
       "    .dataframe thead th {\n",
       "        text-align: right;\n",
       "    }\n",
       "</style>\n",
       "<table border=\"1\" class=\"dataframe\">\n",
       "  <thead>\n",
       "    <tr style=\"text-align: right;\">\n",
       "      <th></th>\n",
       "      <th>ID</th>\n",
       "      <th>Income ($1000)</th>\n",
       "      <th>Limit</th>\n",
       "      <th>Rating</th>\n",
       "      <th>Cards</th>\n",
       "      <th>Age</th>\n",
       "      <th>Education (years completed)</th>\n",
       "      <th>Gender</th>\n",
       "      <th>Student</th>\n",
       "      <th>Married</th>\n",
       "      <th>Ethnicity</th>\n",
       "      <th>Balance</th>\n",
       "    </tr>\n",
       "  </thead>\n",
       "  <tbody>\n",
       "    <tr>\n",
       "      <th>0</th>\n",
       "      <td>300</td>\n",
       "      <td>24.919</td>\n",
       "      <td>5051</td>\n",
       "      <td>372</td>\n",
       "      <td>3</td>\n",
       "      <td>76</td>\n",
       "      <td>11</td>\n",
       "      <td>Female</td>\n",
       "      <td>No</td>\n",
       "      <td>Yes</td>\n",
       "      <td>African American</td>\n",
       "      <td>615</td>\n",
       "    </tr>\n",
       "    <tr>\n",
       "      <th>1</th>\n",
       "      <td>301</td>\n",
       "      <td>21.786</td>\n",
       "      <td>4632</td>\n",
       "      <td>355</td>\n",
       "      <td>1</td>\n",
       "      <td>50</td>\n",
       "      <td>17</td>\n",
       "      <td>Male</td>\n",
       "      <td>No</td>\n",
       "      <td>Yes</td>\n",
       "      <td>Caucasian</td>\n",
       "      <td>536</td>\n",
       "    </tr>\n",
       "    <tr>\n",
       "      <th>2</th>\n",
       "      <td>302</td>\n",
       "      <td>31.335</td>\n",
       "      <td>3526</td>\n",
       "      <td>289</td>\n",
       "      <td>3</td>\n",
       "      <td>38</td>\n",
       "      <td>7</td>\n",
       "      <td>Female</td>\n",
       "      <td>No</td>\n",
       "      <td>No</td>\n",
       "      <td>Caucasian</td>\n",
       "      <td>277</td>\n",
       "    </tr>\n",
       "    <tr>\n",
       "      <th>3</th>\n",
       "      <td>303</td>\n",
       "      <td>59.855</td>\n",
       "      <td>4964</td>\n",
       "      <td>365</td>\n",
       "      <td>1</td>\n",
       "      <td>46</td>\n",
       "      <td>13</td>\n",
       "      <td>Female</td>\n",
       "      <td>No</td>\n",
       "      <td>Yes</td>\n",
       "      <td>Caucasian</td>\n",
       "      <td>341</td>\n",
       "    </tr>\n",
       "    <tr>\n",
       "      <th>4</th>\n",
       "      <td>304</td>\n",
       "      <td>44.061</td>\n",
       "      <td>4970</td>\n",
       "      <td>352</td>\n",
       "      <td>1</td>\n",
       "      <td>79</td>\n",
       "      <td>11</td>\n",
       "      <td>Male</td>\n",
       "      <td>No</td>\n",
       "      <td>Yes</td>\n",
       "      <td>African American</td>\n",
       "      <td>421</td>\n",
       "    </tr>\n",
       "  </tbody>\n",
       "</table>\n",
       "</div>"
      ],
      "text/plain": [
       "    ID  Income ($1000)  Limit  Rating  Cards  Age  \\\n",
       "0  300          24.919   5051     372      3   76   \n",
       "1  301          21.786   4632     355      1   50   \n",
       "2  302          31.335   3526     289      3   38   \n",
       "3  303          59.855   4964     365      1   46   \n",
       "4  304          44.061   4970     352      1   79   \n",
       "\n",
       "   Education (years completed)  Gender Student Married         Ethnicity  \\\n",
       "0                           11  Female      No     Yes  African American   \n",
       "1                           17    Male      No     Yes         Caucasian   \n",
       "2                            7  Female      No      No         Caucasian   \n",
       "3                           13  Female      No     Yes         Caucasian   \n",
       "4                           11    Male      No     Yes  African American   \n",
       "\n",
       "   Balance  \n",
       "0      615  \n",
       "1      536  \n",
       "2      277  \n",
       "3      341  \n",
       "4      421  "
      ]
     },
     "execution_count": 199,
     "metadata": {},
     "output_type": "execute_result"
    }
   ],
   "source": [
    "data2.head()"
   ]
  },
  {
   "cell_type": "markdown",
   "id": "5382e3af",
   "metadata": {},
   "source": [
    "Apply your rule that you gave in question 3.2 and label who would be approved for a new credit card and who wouldnt. Report a dataset with these labels. What percentage of the applicants will you approve?"
   ]
  },
  {
   "cell_type": "markdown",
   "id": "1bbadc13",
   "metadata": {},
   "source": [
    "Rules for Got a card.\n",
    "- if income with thouthand is greater than or equal 50\n",
    "- if limit is greater than or equal 5000\n",
    "- if Rating is greater than or equal 450\n",
    "- if Balance is greater than or equal 750"
   ]
  },
  {
   "cell_type": "markdown",
   "id": "1ab1bc8b",
   "metadata": {},
   "source": [
    "Missed column has two value 0 for got and 1 for missed"
   ]
  },
  {
   "cell_type": "code",
   "execution_count": 208,
   "id": "64b47da7",
   "metadata": {},
   "outputs": [],
   "source": [
    "Missed=[]\n",
    "\n",
    "for i in range(len(data2)):\n",
    "    if data2['Income ($1000)'][i]>=50 or data2['Limit'][i]>=5000 or data2['Rating'][i]>=450 or data2['Balance'][i]>=750:\n",
    "        Missed.append(0)\n",
    "    else:\n",
    "        Missed.append(1)"
   ]
  },
  {
   "cell_type": "code",
   "execution_count": 210,
   "id": "ff4dff3b",
   "metadata": {},
   "outputs": [],
   "source": [
    "data2['Missed']=Missed"
   ]
  },
  {
   "cell_type": "code",
   "execution_count": 212,
   "id": "93d69cbd",
   "metadata": {},
   "outputs": [
    {
     "data": {
      "text/html": [
       "<div>\n",
       "<style scoped>\n",
       "    .dataframe tbody tr th:only-of-type {\n",
       "        vertical-align: middle;\n",
       "    }\n",
       "\n",
       "    .dataframe tbody tr th {\n",
       "        vertical-align: top;\n",
       "    }\n",
       "\n",
       "    .dataframe thead th {\n",
       "        text-align: right;\n",
       "    }\n",
       "</style>\n",
       "<table border=\"1\" class=\"dataframe\">\n",
       "  <thead>\n",
       "    <tr style=\"text-align: right;\">\n",
       "      <th></th>\n",
       "      <th>ID</th>\n",
       "      <th>Income ($1000)</th>\n",
       "      <th>Limit</th>\n",
       "      <th>Rating</th>\n",
       "      <th>Cards</th>\n",
       "      <th>Age</th>\n",
       "      <th>Education (years completed)</th>\n",
       "      <th>Gender</th>\n",
       "      <th>Student</th>\n",
       "      <th>Married</th>\n",
       "      <th>Ethnicity</th>\n",
       "      <th>Balance</th>\n",
       "      <th>Missed</th>\n",
       "    </tr>\n",
       "  </thead>\n",
       "  <tbody>\n",
       "    <tr>\n",
       "      <th>0</th>\n",
       "      <td>300</td>\n",
       "      <td>24.919</td>\n",
       "      <td>5051</td>\n",
       "      <td>372</td>\n",
       "      <td>3</td>\n",
       "      <td>76</td>\n",
       "      <td>11</td>\n",
       "      <td>Female</td>\n",
       "      <td>No</td>\n",
       "      <td>Yes</td>\n",
       "      <td>African American</td>\n",
       "      <td>615</td>\n",
       "      <td>0</td>\n",
       "    </tr>\n",
       "    <tr>\n",
       "      <th>1</th>\n",
       "      <td>301</td>\n",
       "      <td>21.786</td>\n",
       "      <td>4632</td>\n",
       "      <td>355</td>\n",
       "      <td>1</td>\n",
       "      <td>50</td>\n",
       "      <td>17</td>\n",
       "      <td>Male</td>\n",
       "      <td>No</td>\n",
       "      <td>Yes</td>\n",
       "      <td>Caucasian</td>\n",
       "      <td>536</td>\n",
       "      <td>1</td>\n",
       "    </tr>\n",
       "    <tr>\n",
       "      <th>2</th>\n",
       "      <td>302</td>\n",
       "      <td>31.335</td>\n",
       "      <td>3526</td>\n",
       "      <td>289</td>\n",
       "      <td>3</td>\n",
       "      <td>38</td>\n",
       "      <td>7</td>\n",
       "      <td>Female</td>\n",
       "      <td>No</td>\n",
       "      <td>No</td>\n",
       "      <td>Caucasian</td>\n",
       "      <td>277</td>\n",
       "      <td>1</td>\n",
       "    </tr>\n",
       "    <tr>\n",
       "      <th>3</th>\n",
       "      <td>303</td>\n",
       "      <td>59.855</td>\n",
       "      <td>4964</td>\n",
       "      <td>365</td>\n",
       "      <td>1</td>\n",
       "      <td>46</td>\n",
       "      <td>13</td>\n",
       "      <td>Female</td>\n",
       "      <td>No</td>\n",
       "      <td>Yes</td>\n",
       "      <td>Caucasian</td>\n",
       "      <td>341</td>\n",
       "      <td>0</td>\n",
       "    </tr>\n",
       "    <tr>\n",
       "      <th>4</th>\n",
       "      <td>304</td>\n",
       "      <td>44.061</td>\n",
       "      <td>4970</td>\n",
       "      <td>352</td>\n",
       "      <td>1</td>\n",
       "      <td>79</td>\n",
       "      <td>11</td>\n",
       "      <td>Male</td>\n",
       "      <td>No</td>\n",
       "      <td>Yes</td>\n",
       "      <td>African American</td>\n",
       "      <td>421</td>\n",
       "      <td>1</td>\n",
       "    </tr>\n",
       "  </tbody>\n",
       "</table>\n",
       "</div>"
      ],
      "text/plain": [
       "    ID  Income ($1000)  Limit  Rating  Cards  Age  \\\n",
       "0  300          24.919   5051     372      3   76   \n",
       "1  301          21.786   4632     355      1   50   \n",
       "2  302          31.335   3526     289      3   38   \n",
       "3  303          59.855   4964     365      1   46   \n",
       "4  304          44.061   4970     352      1   79   \n",
       "\n",
       "   Education (years completed)  Gender Student Married         Ethnicity  \\\n",
       "0                           11  Female      No     Yes  African American   \n",
       "1                           17    Male      No     Yes         Caucasian   \n",
       "2                            7  Female      No      No         Caucasian   \n",
       "3                           13  Female      No     Yes         Caucasian   \n",
       "4                           11    Male      No     Yes  African American   \n",
       "\n",
       "   Balance  Missed  \n",
       "0      615       0  \n",
       "1      536       1  \n",
       "2      277       1  \n",
       "3      341       0  \n",
       "4      421       1  "
      ]
     },
     "execution_count": 212,
     "metadata": {},
     "output_type": "execute_result"
    }
   ],
   "source": [
    "data2.head()"
   ]
  },
  {
   "cell_type": "markdown",
   "id": "31bbb985",
   "metadata": {},
   "source": [
    "What percentage of the applicants will you approve?"
   ]
  },
  {
   "cell_type": "code",
   "execution_count": 213,
   "id": "945fbc6e",
   "metadata": {},
   "outputs": [],
   "source": [
    "miss_count1=data2['Missed'].value_counts()"
   ]
  },
  {
   "cell_type": "code",
   "execution_count": 217,
   "id": "b549c6e2",
   "metadata": {},
   "outputs": [
    {
     "data": {
      "image/png": "[encoded data removed]",
      "text/plain": [
       "<Figure size 1152x576 with 1 Axes>"
      ]
     },
     "metadata": {},
     "output_type": "display_data"
    }
   ],
   "source": [
    "plt.figure(figsize=(16,8))\n",
    "plt.title('What percentage of the applicants will you approve?',size=15)\n",
    "plt.pie(miss_count1,labels=['Got','Missed'],autopct='%.01f%%')\n",
    "plt.show()"
   ]
  },
  {
   "cell_type": "markdown",
   "id": "c02abd8e",
   "metadata": {},
   "source": [
    "Save new file with all predictions results "
   ]
  },
  {
   "cell_type": "code",
   "execution_count": 218,
   "id": "0b693eac",
   "metadata": {},
   "outputs": [],
   "source": [
    "data2.to_csv('PredicatFile.csv')"
   ]
  }
 ],
 "metadata": {
  "kernelspec": {
   "display_name": "Python 3",
   "language": "python",
   "name": "python3"
  },
  "language_info": {
   "codemirror_mode": {
    "name": "ipython",
    "version": 3
   },
   "file_extension": ".py",
   "mimetype": "text/x-python",
   "name": "python",
   "nbconvert_exporter": "python",
   "pygments_lexer": "ipython3",
   "version": "3.8.8"
  }
 },
 "nbformat": 4,
 "nbformat_minor": 5
}
